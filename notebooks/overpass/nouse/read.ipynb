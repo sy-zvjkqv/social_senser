{
 "cells": [
  {
   "cell_type": "code",
   "execution_count": 41,
   "metadata": {},
   "outputs": [],
   "source": [
    "import pandas as pd\n",
    "import json"
   ]
  },
  {
   "cell_type": "code",
   "execution_count": 45,
   "metadata": {},
   "outputs": [],
   "source": [
    "file_PATH = '/home/is/shuntaro-o/dev/compare_population_and_tweet_number/data/overpass/'"
   ]
  },
  {
   "cell_type": "code",
   "execution_count": 46,
   "metadata": {},
   "outputs": [],
   "source": [
    "list_key = [\n",
    "    \"Tokyostation\",\n",
    "    \"Arashiyama\",\n",
    "    \"Nakazyouku\",\n",
    "    \"Kinkaku\",\n",
    "    \"Kiyomizu\",\n",
    "    \"Gakusei\",\n",
    "    \"Nizyo\",\n",
    "    \"Touzi\",\n",
    "    \"Kyotostation\"\n",
    "]"
   ]
  },
  {
   "cell_type": "code",
   "execution_count": 58,
   "metadata": {},
   "outputs": [],
   "source": [
    "data = []\n",
    "for file_name in list_key:\n",
    "    tmp = []\n",
    "    full_PATH = file_PATH + file_name + '.geojson'\n",
    "    with open(full_PATH, encoding='utf-8') as f:\n",
    "        d = json.load(f)\n",
    "        df=pd.json_normalize(d['features'])\n",
    "        try:\n",
    "            tmp.append(len(df[df['properties.shop']=='convenience']))\n",
    "        except KeyError:\n",
    "            tmp.append(0)\n",
    "        try:\n",
    "            tmp.append(len(df[df['properties.amenity']=='restaurant']))\n",
    "        except KeyError:\n",
    "            tmp.append(0)\n",
    "        try:\n",
    "            tmp.append(len(df[df['properties.amenity']=='school']))\n",
    "        except KeyError:\n",
    "            tmp.append(0)\n",
    "        try:\n",
    "            tmp.append(len(df[df['properties.highway']=='bus_stop']))\n",
    "        except KeyError:\n",
    "            tmp.append(0)\n",
    "        try:\n",
    "            tmp.append(len(df[df['properties.tourism']=='hotel']))\n",
    "        except KeyError:\n",
    "            tmp.append(0)\n",
    "        data.append(tmp)"
   ]
  },
  {
   "cell_type": "code",
   "execution_count": 64,
   "metadata": {},
   "outputs": [],
   "source": [
    "index = [\n",
    "    \"東京駅\",\n",
    "    \"嵐山\",\n",
    "    \"中京区\",\n",
    "    \"金閣寺\",\n",
    "    \"清水寺\",\n",
    "    \"学生街\",\n",
    "    \"二条城\",\n",
    "    \"東寺\",\n",
    "    \"京都駅\",\n",
    "]"
   ]
  },
  {
   "cell_type": "code",
   "execution_count": 60,
   "metadata": {},
   "outputs": [],
   "source": [
    "df = pd.DataFrame(data, index=index, columns=['convenience','restaurant','school','bus_stop','hotel'])"
   ]
  },
  {
   "cell_type": "code",
   "execution_count": 63,
   "metadata": {},
   "outputs": [],
   "source": [
    "df.to_csv('/home/is/shuntaro-o/dev/compare_population_and_tweet_number/data/overpass/facility_numbers.csv')"
   ]
  }
 ],
 "metadata": {
  "kernelspec": {
   "display_name": ".venv",
   "language": "python",
   "name": "python3"
  },
  "language_info": {
   "codemirror_mode": {
    "name": "ipython",
    "version": 3
   },
   "file_extension": ".py",
   "mimetype": "text/x-python",
   "name": "python",
   "nbconvert_exporter": "python",
   "pygments_lexer": "ipython3",
   "version": "3.10.10"
  },
  "orig_nbformat": 4
 },
 "nbformat": 4,
 "nbformat_minor": 2
}
