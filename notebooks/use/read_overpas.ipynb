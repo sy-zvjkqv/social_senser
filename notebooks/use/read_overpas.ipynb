{
 "cells": [
  {
   "cell_type": "code",
   "execution_count": 1,
   "metadata": {},
   "outputs": [],
   "source": [
    "import pandas as pd\n",
    "import json"
   ]
  },
  {
   "cell_type": "code",
   "execution_count": 21,
   "metadata": {},
   "outputs": [],
   "source": [
    "file_PATH = '/home/is/shuntaro-o/dev/compare_population_and_tweet_number/data/social_corr/overpass/'"
   ]
  },
  {
   "cell_type": "code",
   "execution_count": 22,
   "metadata": {},
   "outputs": [],
   "source": [
    "list_key = [\n",
    "    \"Tokyostation\",\n",
    "    \"Arashiyama\",\n",
    "    \"Nakagyou\",\n",
    "    \"Kinkaku\",\n",
    "    \"Kiyomizu\",\n",
    "    \"gakusei\",\n",
    "    \"Nizyou\",\n",
    "    \"Touzi\",\n",
    "    \"Kyotostation\"\n",
    "]"
   ]
  },
  {
   "cell_type": "code",
   "execution_count": 23,
   "metadata": {},
   "outputs": [],
   "source": [
    "data = []\n",
    "for file_name in list_key:\n",
    "    tmp = []\n",
    "    full_PATH = file_PATH + file_name + '.geojson'\n",
    "    with open(full_PATH, encoding='utf-8') as f:\n",
    "        d = json.load(f)\n",
    "        df=pd.json_normalize(d['features'])\n",
    "        try:\n",
    "            tmp.append(len(df[df['properties.shop']=='convenience']))\n",
    "        except KeyError:\n",
    "            tmp.append(0)\n",
    "        try:\n",
    "            tmp.append(len(df[df['properties.amenity']=='restaurant']))\n",
    "        except KeyError:\n",
    "            tmp.append(0)\n",
    "        try:\n",
    "            tmp.append(len(df[df['properties.amenity']=='school']))\n",
    "        except KeyError:\n",
    "            tmp.append(0)\n",
    "        try:\n",
    "            tmp.append(len(df[df['properties.highway']=='bus_stop']))\n",
    "        except KeyError:\n",
    "            tmp.append(0)\n",
    "        try:\n",
    "            tmp.append(len(df[df['properties.tourism']=='hotel']))\n",
    "        except KeyError:\n",
    "            tmp.append(0)\n",
    "        data.append(tmp)"
   ]
  },
  {
   "cell_type": "code",
   "execution_count": 24,
   "metadata": {},
   "outputs": [],
   "source": [
    "index = [\n",
    "    \"東京駅\",\n",
    "    \"嵐山\",\n",
    "    \"中京区\",\n",
    "    \"金閣寺\",\n",
    "    \"清水寺\",\n",
    "    \"学生街\",\n",
    "    \"二条城\",\n",
    "    \"東寺\",\n",
    "    \"京都駅\",\n",
    "]"
   ]
  },
  {
   "cell_type": "code",
   "execution_count": 25,
   "metadata": {},
   "outputs": [],
   "source": [
    "df = pd.DataFrame(data, index=index, columns=['convenience','restaurant','school','bus_stop','hotel'])"
   ]
  },
  {
   "cell_type": "code",
   "execution_count": 26,
   "metadata": {},
   "outputs": [
    {
     "data": {
      "text/html": [
       "<div>\n",
       "<style scoped>\n",
       "    .dataframe tbody tr th:only-of-type {\n",
       "        vertical-align: middle;\n",
       "    }\n",
       "\n",
       "    .dataframe tbody tr th {\n",
       "        vertical-align: top;\n",
       "    }\n",
       "\n",
       "    .dataframe thead th {\n",
       "        text-align: right;\n",
       "    }\n",
       "</style>\n",
       "<table border=\"1\" class=\"dataframe\">\n",
       "  <thead>\n",
       "    <tr style=\"text-align: right;\">\n",
       "      <th></th>\n",
       "      <th>convenience</th>\n",
       "      <th>restaurant</th>\n",
       "      <th>school</th>\n",
       "      <th>bus_stop</th>\n",
       "      <th>hotel</th>\n",
       "    </tr>\n",
       "  </thead>\n",
       "  <tbody>\n",
       "    <tr>\n",
       "      <th>東京駅</th>\n",
       "      <td>22</td>\n",
       "      <td>88</td>\n",
       "      <td>1</td>\n",
       "      <td>49</td>\n",
       "      <td>8</td>\n",
       "    </tr>\n",
       "    <tr>\n",
       "      <th>嵐山</th>\n",
       "      <td>0</td>\n",
       "      <td>7</td>\n",
       "      <td>0</td>\n",
       "      <td>0</td>\n",
       "      <td>0</td>\n",
       "    </tr>\n",
       "    <tr>\n",
       "      <th>中京区</th>\n",
       "      <td>17</td>\n",
       "      <td>58</td>\n",
       "      <td>1</td>\n",
       "      <td>17</td>\n",
       "      <td>6</td>\n",
       "    </tr>\n",
       "    <tr>\n",
       "      <th>金閣寺</th>\n",
       "      <td>4</td>\n",
       "      <td>9</td>\n",
       "      <td>0</td>\n",
       "      <td>17</td>\n",
       "      <td>0</td>\n",
       "    </tr>\n",
       "    <tr>\n",
       "      <th>清水寺</th>\n",
       "      <td>3</td>\n",
       "      <td>24</td>\n",
       "      <td>1</td>\n",
       "      <td>8</td>\n",
       "      <td>2</td>\n",
       "    </tr>\n",
       "    <tr>\n",
       "      <th>学生街</th>\n",
       "      <td>4</td>\n",
       "      <td>1</td>\n",
       "      <td>0</td>\n",
       "      <td>21</td>\n",
       "      <td>0</td>\n",
       "    </tr>\n",
       "    <tr>\n",
       "      <th>二条城</th>\n",
       "      <td>7</td>\n",
       "      <td>23</td>\n",
       "      <td>1</td>\n",
       "      <td>11</td>\n",
       "      <td>1</td>\n",
       "    </tr>\n",
       "    <tr>\n",
       "      <th>東寺</th>\n",
       "      <td>3</td>\n",
       "      <td>3</td>\n",
       "      <td>0</td>\n",
       "      <td>24</td>\n",
       "      <td>0</td>\n",
       "    </tr>\n",
       "    <tr>\n",
       "      <th>京都駅</th>\n",
       "      <td>21</td>\n",
       "      <td>83</td>\n",
       "      <td>1</td>\n",
       "      <td>60</td>\n",
       "      <td>37</td>\n",
       "    </tr>\n",
       "  </tbody>\n",
       "</table>\n",
       "</div>"
      ],
      "text/plain": [
       "     convenience  restaurant  school  bus_stop  hotel\n",
       "東京駅           22          88       1        49      8\n",
       "嵐山             0           7       0         0      0\n",
       "中京区           17          58       1        17      6\n",
       "金閣寺            4           9       0        17      0\n",
       "清水寺            3          24       1         8      2\n",
       "学生街            4           1       0        21      0\n",
       "二条城            7          23       1        11      1\n",
       "東寺             3           3       0        24      0\n",
       "京都駅           21          83       1        60     37"
      ]
     },
     "execution_count": 26,
     "metadata": {},
     "output_type": "execute_result"
    }
   ],
   "source": [
    "df"
   ]
  },
  {
   "cell_type": "code",
   "execution_count": 63,
   "metadata": {},
   "outputs": [],
   "source": [
    "df.to_csv('/home/is/shuntaro-o/dev/compare_population_and_tweet_number/data/social_corr/overpass/facility_numbers.csv')"
   ]
  }
 ],
 "metadata": {
  "kernelspec": {
   "display_name": ".venv",
   "language": "python",
   "name": "python3"
  },
  "language_info": {
   "codemirror_mode": {
    "name": "ipython",
    "version": 3
   },
   "file_extension": ".py",
   "mimetype": "text/x-python",
   "name": "python",
   "nbconvert_exporter": "python",
   "pygments_lexer": "ipython3",
   "version": "3.10.12"
  },
  "orig_nbformat": 4
 },
 "nbformat": 4,
 "nbformat_minor": 2
}
