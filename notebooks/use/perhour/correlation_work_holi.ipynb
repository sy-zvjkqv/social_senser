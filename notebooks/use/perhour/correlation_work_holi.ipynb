{
 "cells": [
  {
   "cell_type": "code",
   "execution_count": 14,
   "metadata": {},
   "outputs": [],
   "source": [
    "import matplotlib.cm as cm\n",
    "import matplotlib.pyplot as plt\n",
    "import numpy as np\n",
    "import pandas as pd\n",
    "import plotly.graph_objects as go\n",
    "import seaborn as sns\n",
    "from matplotlib import mlab\n",
    "from scipy import signal, stats\n",
    "from sklearn import preprocessing\n",
    "from sklearn.feature_selection import f_regression, mutual_info_regression\n",
    "from sklearn.linear_model import LinearRegression\n",
    "from sklearn import preprocessing\n",
    "from datetime import datetime\n",
    "from datetime import timedelta\n",
    "import jpholiday\n",
    "from plotly.subplots import make_subplots\n",
    "\n",
    "Tokyo_station_mobile_PATH = \"/home/is/shuntaro-o/dev/compare_population_and_tweet_number/data/mobile/numpy_array/Tokyostation.npy\"\n",
    "Tokyo_station_tweets_PATH = \"/home/is/shuntaro-o/dev/compare_population_and_tweet_number/data/twitter/numpy_array/Tokyostaion.npy\"\n",
    "\n",
    "Kyoto_station_mobile_PATH = \"/home/is/shuntaro-o/dev/compare_population_and_tweet_number/data/mobile/numpy_array/Kyotostation.npy\"\n",
    "Kyoto_station_tweets_PATH = \"//home/is/shuntaro-o/dev/compare_population_and_tweet_number/data/twitter/numpy_array/Kyotostation.npy\"\n",
    "\n",
    "Arashi_mobile_PATH = \"/home/is/shuntaro-o/dev/compare_population_and_tweet_number/data/mobile/numpy_array/Arashiyama.npy\"\n",
    "Arashi_tweets_PATH = \"//home/is/shuntaro-o/dev/compare_population_and_tweet_number/data/twitter/numpy_array/Arashiyama.npy\"\n",
    "\n",
    "Karasuma_mobile_PATH = \"/home/is/shuntaro-o/dev/compare_population_and_tweet_number/data/mobile/numpy_array/Karasuma.npy\"\n",
    "Karasuma_tweets_PATH = \"//home/is/shuntaro-o/dev/compare_population_and_tweet_number/data/twitter/numpy_array/Karasuma.npy\"\n",
    "\n",
    "Kinkaku_mobile_PATH = \"/home/is/shuntaro-o/dev/compare_population_and_tweet_number/data/mobile/numpy_array/Kinkaku.npy\"\n",
    "Kinkaku_tweets_PATH = \"//home/is/shuntaro-o/dev/compare_population_and_tweet_number/data/twitter/numpy_array/Kinkaku.npy\"\n",
    "\n",
    "Kiyomizu_mobile_PATH = \"/home/is/shuntaro-o/dev/compare_population_and_tweet_number/data/mobile/numpy_array/Kiyomizu.npy\"\n",
    "Kiyomizu_tweets_PATH = \"//home/is/shuntaro-o/dev/compare_population_and_tweet_number/data/twitter/numpy_array/Kiyomizu.npy\"\n",
    "\n",
    "University_mobile_PATH = \"/home/is/shuntaro-o/dev/compare_population_and_tweet_number/data/mobile/numpy_array/University.npy\"\n",
    "University_tweets_PATH = \"//home/is/shuntaro-o/dev/compare_population_and_tweet_number/data/twitter/numpy_array/University.npy\"\n",
    "\n",
    "Nizyou_mobile_PATH = \"/home/is/shuntaro-o/dev/compare_population_and_tweet_number/data/mobile/numpy_array/Nizyou.npy\"\n",
    "Nizyou_tweets_PATH = \"//home/is/shuntaro-o/dev/compare_population_and_tweet_number/data/twitter/numpy_array/Nizyou.npy\"\n",
    "\n",
    "Touzi_mobile_PATH = \"/home/is/shuntaro-o/dev/compare_population_and_tweet_number/data/mobile/numpy_array/Touzi.npy\"\n",
    "Touzi_tweets_PATH = \"//home/is/shuntaro-o/dev/compare_population_and_tweet_number/data/twitter/numpy_array/Touzi.npy\"\n",
    "\n",
    "list_mobile = [\n",
    "    Tokyo_station_mobile_PATH,\n",
    "    Arashi_mobile_PATH,\n",
    "    Karasuma_mobile_PATH,\n",
    "    Kinkaku_mobile_PATH,\n",
    "    Kiyomizu_mobile_PATH,\n",
    "    University_mobile_PATH,\n",
    "    Nizyou_mobile_PATH,\n",
    "    Touzi_mobile_PATH,\n",
    "    Kyoto_station_mobile_PATH,\n",
    "]\n",
    "list_twitter = [\n",
    "    Tokyo_station_tweets_PATH,\n",
    "    Arashi_tweets_PATH,\n",
    "    Karasuma_tweets_PATH,\n",
    "    Kinkaku_tweets_PATH,\n",
    "    Kiyomizu_tweets_PATH,\n",
    "    University_tweets_PATH,\n",
    "    Nizyou_tweets_PATH,\n",
    "    Touzi_tweets_PATH,\n",
    "    Kyoto_station_tweets_PATH,\n",
    "]\n",
    "list_key = [\n",
    "    \"Tokyo Station\",\n",
    "    \"Arashiyama\",\n",
    "    \"Karasuma\",\n",
    "    \"Kinkaku Temple\",\n",
    "    \"Kiyomizu Temple\",\n",
    "    \"Kyoto University\",\n",
    "    \"Nizyou\",\n",
    "    \"Touzi\",\n",
    "    \"Kyoto Station\",\n",
    "]"
   ]
  },
  {
   "cell_type": "code",
   "execution_count": 15,
   "metadata": {},
   "outputs": [],
   "source": [
    "def isBizDay(DATE):\n",
    "    # DATE = datetime.date(int(DATE[0:4]), int(DATE[4:6]), int(DATE[6:8]))\n",
    "    if DATE.weekday() >= 5 or jpholiday.is_holiday(DATE):\n",
    "        return \"Holiday\"\n",
    "    else:\n",
    "        return \"Workday\""
   ]
  },
  {
   "cell_type": "code",
   "execution_count": 16,
   "metadata": {},
   "outputs": [
    {
     "name": "stderr",
     "output_type": "stream",
     "text": [
      "/home/is/shuntaro-o/dev/compare_population_and_tweet_number/.venv/lib/python3.10/site-packages/scipy/stats/_stats_py.py:4427: ConstantInputWarning:\n",
      "\n",
      "An input array is constant; the correlation coefficient is not defined.\n",
      "\n"
     ]
    },
    {
     "data": {
      "application/vnd.plotly.v1+json": {
       "config": {
        "plotlyServerURL": "https://plot.ly"
       },
       "data": [
        {
         "name": "Tokyo Station",
         "type": "scatter",
         "x": [
          "0時",
          "1時",
          "2時",
          "3時",
          "4時",
          "5時",
          "6時",
          "7時",
          "8時",
          "9時",
          "10時",
          "11時",
          "12時",
          "13時",
          "14時",
          "15時",
          "16時",
          "17時",
          "18時",
          "19時",
          "20時",
          "21時",
          "22時",
          "23時"
         ],
         "y": [
          0.03488036437292213,
          0.06821233605758614,
          -0.06665633022457829,
          -0.012368651359631859,
          -0.04985542827297161,
          0.22279202211397323,
          0.45573139308582583,
          0.28910245428998504,
          0.28842008369914546,
          0.15999893507480095,
          0.21061994193528466,
          0.24098409049047348,
          0.3823719493202536,
          0.31309768849144726,
          0.2835968296397856,
          0.3185460626948038,
          0.3121540273431758,
          0.39499592994658556,
          0.5179291383153933,
          0.49592033965513843,
          0.5339219893835743,
          0.5907285477178796,
          0.5263765056473736,
          0.4702151505899545
         ]
        },
        {
         "name": "Arashiyama",
         "type": "scatter",
         "x": [
          "0時",
          "1時",
          "2時",
          "3時",
          "4時",
          "5時",
          "6時",
          "7時",
          "8時",
          "9時",
          "10時",
          "11時",
          "12時",
          "13時",
          "14時",
          "15時",
          "16時",
          "17時",
          "18時",
          "19時",
          "20時",
          "21時",
          "22時",
          "23時"
         ],
         "y": [
          0.10164394304080834,
          0.03542855356100237,
          -0.05108994494766912,
          0.10735234854407354,
          0.004830863408441732,
          0.07736456801553303,
          -0.01896608919658172,
          0.1597125876470396,
          0.10011572766926541,
          0.2654117264252919,
          0.006723461712807075,
          0.12326060618467567,
          0.37065539625363847,
          0.17601764562356256,
          0.3743188538912091,
          0.29519959228811227,
          0.11360916199930807,
          0.06828588695013707,
          0.15981428297478611,
          0.14557041115576805,
          0.039475275797658374,
          0.06220167641797279,
          0.06372466663865613,
          0.14348251014565558
         ]
        },
        {
         "name": "Karasuma",
         "type": "scatter",
         "x": [
          "0時",
          "1時",
          "2時",
          "3時",
          "4時",
          "5時",
          "6時",
          "7時",
          "8時",
          "9時",
          "10時",
          "11時",
          "12時",
          "13時",
          "14時",
          "15時",
          "16時",
          "17時",
          "18時",
          "19時",
          "20時",
          "21時",
          "22時",
          "23時"
         ],
         "y": [
          -0.04814331349246371,
          -0.02471728569100236,
          -0.0019552656119889585,
          -0.05143786905128104,
          -0.03601477725870379,
          0.02280360066437819,
          -0.04432459844029052,
          0.030280249748167377,
          0.08914397042229552,
          0.03131411160575279,
          -0.03853382560406336,
          0.04537667298831539,
          0.07552065660797098,
          -0.0377360438581257,
          0.0015148867889265391,
          0.026780784497186377,
          -0.03689440736200267,
          0.05279619429861774,
          0.023432363465396632,
          0.04060596961594128,
          0.0700217944130391,
          0.13494332984488458,
          0.07154785114774294,
          0.056409977421022155
         ]
        },
        {
         "name": "Kinkaku Temple",
         "type": "scatter",
         "x": [
          "0時",
          "1時",
          "2時",
          "3時",
          "4時",
          "5時",
          "6時",
          "7時",
          "8時",
          "9時",
          "10時",
          "11時",
          "12時",
          "13時",
          "14時",
          "15時",
          "16時",
          "17時",
          "18時",
          "19時",
          "20時",
          "21時",
          "22時",
          "23時"
         ],
         "y": [
          0.007994352715004881,
          -0.0016934393366425584,
          -0.04661321443797425,
          0.09438328342013856,
          0.037466702804465804,
          -0.006184939467932977,
          0.07979450512082358,
          0.08637864667220002,
          0.0006110099287526066,
          0.0857504939133558,
          0.17575686354424216,
          0.1996337923353741,
          0.021099535530277626,
          0.06658385923529409,
          0.01818916603352229,
          0.10790690000146173,
          0.11024763047822612,
          0.04693717516661565,
          0.059686261569381914,
          -0.12280427515029957,
          0.10394422362771927,
          -0.1411636678210393,
          -0.08862779256938023,
          -0.14443986070805784
         ]
        },
        {
         "name": "Kiyomizu Temple",
         "type": "scatter",
         "x": [
          "0時",
          "1時",
          "2時",
          "3時",
          "4時",
          "5時",
          "6時",
          "7時",
          "8時",
          "9時",
          "10時",
          "11時",
          "12時",
          "13時",
          "14時",
          "15時",
          "16時",
          "17時",
          "18時",
          "19時",
          "20時",
          "21時",
          "22時",
          "23時"
         ],
         "y": [
          0.08477479344660618,
          0.06562677747151122,
          0.018667319107874274,
          0.015341351332380728,
          -0.13470270911740148,
          0.017708713888587895,
          0.0916514949596746,
          0.18206975226286734,
          0.1992404904724876,
          -0.060071365664014484,
          0.22557270415768585,
          0.45289993092249736,
          0.2589632669189117,
          0.28815529878196805,
          0.2509937480736817,
          0.26868988838069774,
          0.2679355930638018,
          0.3185429089531383,
          0.247736665326122,
          0.4509997522347437,
          0.3537238501569314,
          0.33173716397711617,
          0.2180711021953253,
          0.1690906077083457
         ]
        },
        {
         "name": "Kyoto University",
         "type": "scatter",
         "x": [
          "0時",
          "1時",
          "2時",
          "3時",
          "4時",
          "5時",
          "6時",
          "7時",
          "8時",
          "9時",
          "10時",
          "11時",
          "12時",
          "13時",
          "14時",
          "15時",
          "16時",
          "17時",
          "18時",
          "19時",
          "20時",
          "21時",
          "22時",
          "23時"
         ],
         "y": [
          -0.005852953948493763,
          null,
          -0.05390575343138416,
          0.02935876194715837,
          -0.1097972813734215,
          0.15037816257848627,
          -0.04454505848241718,
          0.03667076033372201,
          0.05758541918480379,
          -0.0035583818383071535,
          0.008771237662111202,
          -0.01018308873750988,
          -0.02546933636568532,
          0.04542418795172475,
          0.1230372964850679,
          -0.19215998833482667,
          0.02756538452774032,
          0.007290783133826475,
          0.06097387641217595,
          -0.024947742462099624,
          0.03579143711619037,
          -0.018845639058207624,
          0.002574997570325284,
          -0.0033227420972004565
         ]
        },
        {
         "name": "Nizyou",
         "type": "scatter",
         "x": [
          "0時",
          "1時",
          "2時",
          "3時",
          "4時",
          "5時",
          "6時",
          "7時",
          "8時",
          "9時",
          "10時",
          "11時",
          "12時",
          "13時",
          "14時",
          "15時",
          "16時",
          "17時",
          "18時",
          "19時",
          "20時",
          "21時",
          "22時",
          "23時"
         ],
         "y": [
          0.17077893091157167,
          -0.04815518399348471,
          -0.023800004306922723,
          0.03797754524125358,
          0.04514009431735952,
          -0.027041716903097982,
          0.03797201194680948,
          0.04952004324744739,
          0.04414266460379523,
          0.13724401224550178,
          0.022878407814461148,
          0.13838050692910192,
          0.016003431112575735,
          0.06806637238029165,
          0.09337325035749532,
          0.041668997034392904,
          0.09404221438010145,
          0.11156999390027311,
          0.1797416063414862,
          0.07768759985140311,
          0.18465998247646323,
          0.02352787055362388,
          0.17960834102346737,
          0.19779421024400254
         ]
        },
        {
         "name": "Touzi",
         "type": "scatter",
         "x": [
          "0時",
          "1時",
          "2時",
          "3時",
          "4時",
          "5時",
          "6時",
          "7時",
          "8時",
          "9時",
          "10時",
          "11時",
          "12時",
          "13時",
          "14時",
          "15時",
          "16時",
          "17時",
          "18時",
          "19時",
          "20時",
          "21時",
          "22時",
          "23時"
         ],
         "y": [
          0.08763502104440422,
          0.0535909304108765,
          0.036619234514194896,
          0.043451610940073875,
          -0.0723154410312694,
          -0.06523128541264701,
          0.08399918413153559,
          0.09580032566372357,
          0.15476148623793662,
          0.06150513051526304,
          0.09053082931414116,
          0.037364557296353094,
          0.07888771912695368,
          0.20630940688244728,
          -0.038076533124074864,
          0.042660227280274965,
          0.06575125921627442,
          0.08114116086463695,
          0.12229781837364533,
          0.21062166856666373,
          0.10290018594714569,
          0.049556796728897345,
          -0.0027460857646477185,
          0.10211278468579275
         ]
        },
        {
         "name": "Kyoto Station",
         "type": "scatter",
         "x": [
          "0時",
          "1時",
          "2時",
          "3時",
          "4時",
          "5時",
          "6時",
          "7時",
          "8時",
          "9時",
          "10時",
          "11時",
          "12時",
          "13時",
          "14時",
          "15時",
          "16時",
          "17時",
          "18時",
          "19時",
          "20時",
          "21時",
          "22時",
          "23時"
         ],
         "y": [
          0.3850816844533944,
          0.08204755512100087,
          0.16588460943273098,
          0.175376697468044,
          0.13011141542272825,
          0.08429230638562914,
          0.30288941277594933,
          0.39929152969035264,
          0.43719879951567564,
          0.39714517380217956,
          0.5136327407898262,
          0.5279343423743739,
          0.5029792047119356,
          0.41219243326648014,
          0.43285877484514534,
          0.5002469216421297,
          0.5251825509925747,
          0.5505062054908023,
          0.6072960388596798,
          0.5479154087434893,
          0.6587240279772523,
          0.6415346266951801,
          0.5889354041274814,
          0.5386671075626881
         ]
        }
       ],
       "layout": {
        "template": {
         "data": {
          "bar": [
           {
            "error_x": {
             "color": "#2a3f5f"
            },
            "error_y": {
             "color": "#2a3f5f"
            },
            "marker": {
             "line": {
              "color": "#E5ECF6",
              "width": 0.5
             },
             "pattern": {
              "fillmode": "overlay",
              "size": 10,
              "solidity": 0.2
             }
            },
            "type": "bar"
           }
          ],
          "barpolar": [
           {
            "marker": {
             "line": {
              "color": "#E5ECF6",
              "width": 0.5
             },
             "pattern": {
              "fillmode": "overlay",
              "size": 10,
              "solidity": 0.2
             }
            },
            "type": "barpolar"
           }
          ],
          "carpet": [
           {
            "aaxis": {
             "endlinecolor": "#2a3f5f",
             "gridcolor": "white",
             "linecolor": "white",
             "minorgridcolor": "white",
             "startlinecolor": "#2a3f5f"
            },
            "baxis": {
             "endlinecolor": "#2a3f5f",
             "gridcolor": "white",
             "linecolor": "white",
             "minorgridcolor": "white",
             "startlinecolor": "#2a3f5f"
            },
            "type": "carpet"
           }
          ],
          "choropleth": [
           {
            "colorbar": {
             "outlinewidth": 0,
             "ticks": ""
            },
            "type": "choropleth"
           }
          ],
          "contour": [
           {
            "colorbar": {
             "outlinewidth": 0,
             "ticks": ""
            },
            "colorscale": [
             [
              0,
              "#0d0887"
             ],
             [
              0.1111111111111111,
              "#46039f"
             ],
             [
              0.2222222222222222,
              "#7201a8"
             ],
             [
              0.3333333333333333,
              "#9c179e"
             ],
             [
              0.4444444444444444,
              "#bd3786"
             ],
             [
              0.5555555555555556,
              "#d8576b"
             ],
             [
              0.6666666666666666,
              "#ed7953"
             ],
             [
              0.7777777777777778,
              "#fb9f3a"
             ],
             [
              0.8888888888888888,
              "#fdca26"
             ],
             [
              1,
              "#f0f921"
             ]
            ],
            "type": "contour"
           }
          ],
          "contourcarpet": [
           {
            "colorbar": {
             "outlinewidth": 0,
             "ticks": ""
            },
            "type": "contourcarpet"
           }
          ],
          "heatmap": [
           {
            "colorbar": {
             "outlinewidth": 0,
             "ticks": ""
            },
            "colorscale": [
             [
              0,
              "#0d0887"
             ],
             [
              0.1111111111111111,
              "#46039f"
             ],
             [
              0.2222222222222222,
              "#7201a8"
             ],
             [
              0.3333333333333333,
              "#9c179e"
             ],
             [
              0.4444444444444444,
              "#bd3786"
             ],
             [
              0.5555555555555556,
              "#d8576b"
             ],
             [
              0.6666666666666666,
              "#ed7953"
             ],
             [
              0.7777777777777778,
              "#fb9f3a"
             ],
             [
              0.8888888888888888,
              "#fdca26"
             ],
             [
              1,
              "#f0f921"
             ]
            ],
            "type": "heatmap"
           }
          ],
          "heatmapgl": [
           {
            "colorbar": {
             "outlinewidth": 0,
             "ticks": ""
            },
            "colorscale": [
             [
              0,
              "#0d0887"
             ],
             [
              0.1111111111111111,
              "#46039f"
             ],
             [
              0.2222222222222222,
              "#7201a8"
             ],
             [
              0.3333333333333333,
              "#9c179e"
             ],
             [
              0.4444444444444444,
              "#bd3786"
             ],
             [
              0.5555555555555556,
              "#d8576b"
             ],
             [
              0.6666666666666666,
              "#ed7953"
             ],
             [
              0.7777777777777778,
              "#fb9f3a"
             ],
             [
              0.8888888888888888,
              "#fdca26"
             ],
             [
              1,
              "#f0f921"
             ]
            ],
            "type": "heatmapgl"
           }
          ],
          "histogram": [
           {
            "marker": {
             "pattern": {
              "fillmode": "overlay",
              "size": 10,
              "solidity": 0.2
             }
            },
            "type": "histogram"
           }
          ],
          "histogram2d": [
           {
            "colorbar": {
             "outlinewidth": 0,
             "ticks": ""
            },
            "colorscale": [
             [
              0,
              "#0d0887"
             ],
             [
              0.1111111111111111,
              "#46039f"
             ],
             [
              0.2222222222222222,
              "#7201a8"
             ],
             [
              0.3333333333333333,
              "#9c179e"
             ],
             [
              0.4444444444444444,
              "#bd3786"
             ],
             [
              0.5555555555555556,
              "#d8576b"
             ],
             [
              0.6666666666666666,
              "#ed7953"
             ],
             [
              0.7777777777777778,
              "#fb9f3a"
             ],
             [
              0.8888888888888888,
              "#fdca26"
             ],
             [
              1,
              "#f0f921"
             ]
            ],
            "type": "histogram2d"
           }
          ],
          "histogram2dcontour": [
           {
            "colorbar": {
             "outlinewidth": 0,
             "ticks": ""
            },
            "colorscale": [
             [
              0,
              "#0d0887"
             ],
             [
              0.1111111111111111,
              "#46039f"
             ],
             [
              0.2222222222222222,
              "#7201a8"
             ],
             [
              0.3333333333333333,
              "#9c179e"
             ],
             [
              0.4444444444444444,
              "#bd3786"
             ],
             [
              0.5555555555555556,
              "#d8576b"
             ],
             [
              0.6666666666666666,
              "#ed7953"
             ],
             [
              0.7777777777777778,
              "#fb9f3a"
             ],
             [
              0.8888888888888888,
              "#fdca26"
             ],
             [
              1,
              "#f0f921"
             ]
            ],
            "type": "histogram2dcontour"
           }
          ],
          "mesh3d": [
           {
            "colorbar": {
             "outlinewidth": 0,
             "ticks": ""
            },
            "type": "mesh3d"
           }
          ],
          "parcoords": [
           {
            "line": {
             "colorbar": {
              "outlinewidth": 0,
              "ticks": ""
             }
            },
            "type": "parcoords"
           }
          ],
          "pie": [
           {
            "automargin": true,
            "type": "pie"
           }
          ],
          "scatter": [
           {
            "fillpattern": {
             "fillmode": "overlay",
             "size": 10,
             "solidity": 0.2
            },
            "type": "scatter"
           }
          ],
          "scatter3d": [
           {
            "line": {
             "colorbar": {
              "outlinewidth": 0,
              "ticks": ""
             }
            },
            "marker": {
             "colorbar": {
              "outlinewidth": 0,
              "ticks": ""
             }
            },
            "type": "scatter3d"
           }
          ],
          "scattercarpet": [
           {
            "marker": {
             "colorbar": {
              "outlinewidth": 0,
              "ticks": ""
             }
            },
            "type": "scattercarpet"
           }
          ],
          "scattergeo": [
           {
            "marker": {
             "colorbar": {
              "outlinewidth": 0,
              "ticks": ""
             }
            },
            "type": "scattergeo"
           }
          ],
          "scattergl": [
           {
            "marker": {
             "colorbar": {
              "outlinewidth": 0,
              "ticks": ""
             }
            },
            "type": "scattergl"
           }
          ],
          "scattermapbox": [
           {
            "marker": {
             "colorbar": {
              "outlinewidth": 0,
              "ticks": ""
             }
            },
            "type": "scattermapbox"
           }
          ],
          "scatterpolar": [
           {
            "marker": {
             "colorbar": {
              "outlinewidth": 0,
              "ticks": ""
             }
            },
            "type": "scatterpolar"
           }
          ],
          "scatterpolargl": [
           {
            "marker": {
             "colorbar": {
              "outlinewidth": 0,
              "ticks": ""
             }
            },
            "type": "scatterpolargl"
           }
          ],
          "scatterternary": [
           {
            "marker": {
             "colorbar": {
              "outlinewidth": 0,
              "ticks": ""
             }
            },
            "type": "scatterternary"
           }
          ],
          "surface": [
           {
            "colorbar": {
             "outlinewidth": 0,
             "ticks": ""
            },
            "colorscale": [
             [
              0,
              "#0d0887"
             ],
             [
              0.1111111111111111,
              "#46039f"
             ],
             [
              0.2222222222222222,
              "#7201a8"
             ],
             [
              0.3333333333333333,
              "#9c179e"
             ],
             [
              0.4444444444444444,
              "#bd3786"
             ],
             [
              0.5555555555555556,
              "#d8576b"
             ],
             [
              0.6666666666666666,
              "#ed7953"
             ],
             [
              0.7777777777777778,
              "#fb9f3a"
             ],
             [
              0.8888888888888888,
              "#fdca26"
             ],
             [
              1,
              "#f0f921"
             ]
            ],
            "type": "surface"
           }
          ],
          "table": [
           {
            "cells": {
             "fill": {
              "color": "#EBF0F8"
             },
             "line": {
              "color": "white"
             }
            },
            "header": {
             "fill": {
              "color": "#C8D4E3"
             },
             "line": {
              "color": "white"
             }
            },
            "type": "table"
           }
          ]
         },
         "layout": {
          "annotationdefaults": {
           "arrowcolor": "#2a3f5f",
           "arrowhead": 0,
           "arrowwidth": 1
          },
          "autotypenumbers": "strict",
          "coloraxis": {
           "colorbar": {
            "outlinewidth": 0,
            "ticks": ""
           }
          },
          "colorscale": {
           "diverging": [
            [
             0,
             "#8e0152"
            ],
            [
             0.1,
             "#c51b7d"
            ],
            [
             0.2,
             "#de77ae"
            ],
            [
             0.3,
             "#f1b6da"
            ],
            [
             0.4,
             "#fde0ef"
            ],
            [
             0.5,
             "#f7f7f7"
            ],
            [
             0.6,
             "#e6f5d0"
            ],
            [
             0.7,
             "#b8e186"
            ],
            [
             0.8,
             "#7fbc41"
            ],
            [
             0.9,
             "#4d9221"
            ],
            [
             1,
             "#276419"
            ]
           ],
           "sequential": [
            [
             0,
             "#0d0887"
            ],
            [
             0.1111111111111111,
             "#46039f"
            ],
            [
             0.2222222222222222,
             "#7201a8"
            ],
            [
             0.3333333333333333,
             "#9c179e"
            ],
            [
             0.4444444444444444,
             "#bd3786"
            ],
            [
             0.5555555555555556,
             "#d8576b"
            ],
            [
             0.6666666666666666,
             "#ed7953"
            ],
            [
             0.7777777777777778,
             "#fb9f3a"
            ],
            [
             0.8888888888888888,
             "#fdca26"
            ],
            [
             1,
             "#f0f921"
            ]
           ],
           "sequentialminus": [
            [
             0,
             "#0d0887"
            ],
            [
             0.1111111111111111,
             "#46039f"
            ],
            [
             0.2222222222222222,
             "#7201a8"
            ],
            [
             0.3333333333333333,
             "#9c179e"
            ],
            [
             0.4444444444444444,
             "#bd3786"
            ],
            [
             0.5555555555555556,
             "#d8576b"
            ],
            [
             0.6666666666666666,
             "#ed7953"
            ],
            [
             0.7777777777777778,
             "#fb9f3a"
            ],
            [
             0.8888888888888888,
             "#fdca26"
            ],
            [
             1,
             "#f0f921"
            ]
           ]
          },
          "colorway": [
           "#636efa",
           "#EF553B",
           "#00cc96",
           "#ab63fa",
           "#FFA15A",
           "#19d3f3",
           "#FF6692",
           "#B6E880",
           "#FF97FF",
           "#FECB52"
          ],
          "font": {
           "color": "#2a3f5f"
          },
          "geo": {
           "bgcolor": "white",
           "lakecolor": "white",
           "landcolor": "#E5ECF6",
           "showlakes": true,
           "showland": true,
           "subunitcolor": "white"
          },
          "hoverlabel": {
           "align": "left"
          },
          "hovermode": "closest",
          "mapbox": {
           "style": "light"
          },
          "paper_bgcolor": "white",
          "plot_bgcolor": "#E5ECF6",
          "polar": {
           "angularaxis": {
            "gridcolor": "white",
            "linecolor": "white",
            "ticks": ""
           },
           "bgcolor": "#E5ECF6",
           "radialaxis": {
            "gridcolor": "white",
            "linecolor": "white",
            "ticks": ""
           }
          },
          "scene": {
           "xaxis": {
            "backgroundcolor": "#E5ECF6",
            "gridcolor": "white",
            "gridwidth": 2,
            "linecolor": "white",
            "showbackground": true,
            "ticks": "",
            "zerolinecolor": "white"
           },
           "yaxis": {
            "backgroundcolor": "#E5ECF6",
            "gridcolor": "white",
            "gridwidth": 2,
            "linecolor": "white",
            "showbackground": true,
            "ticks": "",
            "zerolinecolor": "white"
           },
           "zaxis": {
            "backgroundcolor": "#E5ECF6",
            "gridcolor": "white",
            "gridwidth": 2,
            "linecolor": "white",
            "showbackground": true,
            "ticks": "",
            "zerolinecolor": "white"
           }
          },
          "shapedefaults": {
           "line": {
            "color": "#2a3f5f"
           }
          },
          "ternary": {
           "aaxis": {
            "gridcolor": "white",
            "linecolor": "white",
            "ticks": ""
           },
           "baxis": {
            "gridcolor": "white",
            "linecolor": "white",
            "ticks": ""
           },
           "bgcolor": "#E5ECF6",
           "caxis": {
            "gridcolor": "white",
            "linecolor": "white",
            "ticks": ""
           }
          },
          "title": {
           "x": 0.05
          },
          "xaxis": {
           "automargin": true,
           "gridcolor": "white",
           "linecolor": "white",
           "ticks": "",
           "title": {
            "standoff": 15
           },
           "zerolinecolor": "white",
           "zerolinewidth": 2
          },
          "yaxis": {
           "automargin": true,
           "gridcolor": "white",
           "linecolor": "white",
           "ticks": "",
           "title": {
            "standoff": 15
           },
           "zerolinecolor": "white",
           "zerolinewidth": 2
          }
         }
        },
        "title": {
         "text": "1時間ごとのソーシャルセンサ性能 (平日)"
        },
        "xaxis": {
         "title": {
          "text": "時間"
         }
        },
        "yaxis": {
         "range": [
          -1,
          1
         ],
         "title": {
          "text": "ソーシャルセンサ性能"
         }
        }
       }
      },
      "text/html": [
       "<div>                            <div id=\"2ae999e8-5c82-4eeb-ba3c-e884d3a6320a\" class=\"plotly-graph-div\" style=\"height:525px; width:100%;\"></div>            <script type=\"text/javascript\">                require([\"plotly\"], function(Plotly) {                    window.PLOTLYENV=window.PLOTLYENV || {};                                    if (document.getElementById(\"2ae999e8-5c82-4eeb-ba3c-e884d3a6320a\")) {                    Plotly.newPlot(                        \"2ae999e8-5c82-4eeb-ba3c-e884d3a6320a\",                        [{\"name\":\"Tokyo Station\",\"x\":[\"0\\u6642\",\"1\\u6642\",\"2\\u6642\",\"3\\u6642\",\"4\\u6642\",\"5\\u6642\",\"6\\u6642\",\"7\\u6642\",\"8\\u6642\",\"9\\u6642\",\"10\\u6642\",\"11\\u6642\",\"12\\u6642\",\"13\\u6642\",\"14\\u6642\",\"15\\u6642\",\"16\\u6642\",\"17\\u6642\",\"18\\u6642\",\"19\\u6642\",\"20\\u6642\",\"21\\u6642\",\"22\\u6642\",\"23\\u6642\"],\"y\":[0.03488036437292213,0.06821233605758614,-0.06665633022457829,-0.012368651359631859,-0.04985542827297161,0.22279202211397323,0.45573139308582583,0.28910245428998504,0.28842008369914546,0.15999893507480095,0.21061994193528466,0.24098409049047348,0.3823719493202536,0.31309768849144726,0.2835968296397856,0.3185460626948038,0.3121540273431758,0.39499592994658556,0.5179291383153933,0.49592033965513843,0.5339219893835743,0.5907285477178796,0.5263765056473736,0.4702151505899545],\"type\":\"scatter\"},{\"name\":\"Arashiyama\",\"x\":[\"0\\u6642\",\"1\\u6642\",\"2\\u6642\",\"3\\u6642\",\"4\\u6642\",\"5\\u6642\",\"6\\u6642\",\"7\\u6642\",\"8\\u6642\",\"9\\u6642\",\"10\\u6642\",\"11\\u6642\",\"12\\u6642\",\"13\\u6642\",\"14\\u6642\",\"15\\u6642\",\"16\\u6642\",\"17\\u6642\",\"18\\u6642\",\"19\\u6642\",\"20\\u6642\",\"21\\u6642\",\"22\\u6642\",\"23\\u6642\"],\"y\":[0.10164394304080834,0.03542855356100237,-0.05108994494766912,0.10735234854407354,0.004830863408441732,0.07736456801553303,-0.01896608919658172,0.1597125876470396,0.10011572766926541,0.2654117264252919,0.006723461712807075,0.12326060618467567,0.37065539625363847,0.17601764562356256,0.3743188538912091,0.29519959228811227,0.11360916199930807,0.06828588695013707,0.15981428297478611,0.14557041115576805,0.039475275797658374,0.06220167641797279,0.06372466663865613,0.14348251014565558],\"type\":\"scatter\"},{\"name\":\"Karasuma\",\"x\":[\"0\\u6642\",\"1\\u6642\",\"2\\u6642\",\"3\\u6642\",\"4\\u6642\",\"5\\u6642\",\"6\\u6642\",\"7\\u6642\",\"8\\u6642\",\"9\\u6642\",\"10\\u6642\",\"11\\u6642\",\"12\\u6642\",\"13\\u6642\",\"14\\u6642\",\"15\\u6642\",\"16\\u6642\",\"17\\u6642\",\"18\\u6642\",\"19\\u6642\",\"20\\u6642\",\"21\\u6642\",\"22\\u6642\",\"23\\u6642\"],\"y\":[-0.04814331349246371,-0.02471728569100236,-0.0019552656119889585,-0.05143786905128104,-0.03601477725870379,0.02280360066437819,-0.04432459844029052,0.030280249748167377,0.08914397042229552,0.03131411160575279,-0.03853382560406336,0.04537667298831539,0.07552065660797098,-0.0377360438581257,0.0015148867889265391,0.026780784497186377,-0.03689440736200267,0.05279619429861774,0.023432363465396632,0.04060596961594128,0.0700217944130391,0.13494332984488458,0.07154785114774294,0.056409977421022155],\"type\":\"scatter\"},{\"name\":\"Kinkaku Temple\",\"x\":[\"0\\u6642\",\"1\\u6642\",\"2\\u6642\",\"3\\u6642\",\"4\\u6642\",\"5\\u6642\",\"6\\u6642\",\"7\\u6642\",\"8\\u6642\",\"9\\u6642\",\"10\\u6642\",\"11\\u6642\",\"12\\u6642\",\"13\\u6642\",\"14\\u6642\",\"15\\u6642\",\"16\\u6642\",\"17\\u6642\",\"18\\u6642\",\"19\\u6642\",\"20\\u6642\",\"21\\u6642\",\"22\\u6642\",\"23\\u6642\"],\"y\":[0.007994352715004881,-0.0016934393366425584,-0.04661321443797425,0.09438328342013856,0.037466702804465804,-0.006184939467932977,0.07979450512082358,0.08637864667220002,0.0006110099287526066,0.0857504939133558,0.17575686354424216,0.1996337923353741,0.021099535530277626,0.06658385923529409,0.01818916603352229,0.10790690000146173,0.11024763047822612,0.04693717516661565,0.059686261569381914,-0.12280427515029957,0.10394422362771927,-0.1411636678210393,-0.08862779256938023,-0.14443986070805784],\"type\":\"scatter\"},{\"name\":\"Kiyomizu Temple\",\"x\":[\"0\\u6642\",\"1\\u6642\",\"2\\u6642\",\"3\\u6642\",\"4\\u6642\",\"5\\u6642\",\"6\\u6642\",\"7\\u6642\",\"8\\u6642\",\"9\\u6642\",\"10\\u6642\",\"11\\u6642\",\"12\\u6642\",\"13\\u6642\",\"14\\u6642\",\"15\\u6642\",\"16\\u6642\",\"17\\u6642\",\"18\\u6642\",\"19\\u6642\",\"20\\u6642\",\"21\\u6642\",\"22\\u6642\",\"23\\u6642\"],\"y\":[0.08477479344660618,0.06562677747151122,0.018667319107874274,0.015341351332380728,-0.13470270911740148,0.017708713888587895,0.0916514949596746,0.18206975226286734,0.1992404904724876,-0.060071365664014484,0.22557270415768585,0.45289993092249736,0.2589632669189117,0.28815529878196805,0.2509937480736817,0.26868988838069774,0.2679355930638018,0.3185429089531383,0.247736665326122,0.4509997522347437,0.3537238501569314,0.33173716397711617,0.2180711021953253,0.1690906077083457],\"type\":\"scatter\"},{\"name\":\"Kyoto University\",\"x\":[\"0\\u6642\",\"1\\u6642\",\"2\\u6642\",\"3\\u6642\",\"4\\u6642\",\"5\\u6642\",\"6\\u6642\",\"7\\u6642\",\"8\\u6642\",\"9\\u6642\",\"10\\u6642\",\"11\\u6642\",\"12\\u6642\",\"13\\u6642\",\"14\\u6642\",\"15\\u6642\",\"16\\u6642\",\"17\\u6642\",\"18\\u6642\",\"19\\u6642\",\"20\\u6642\",\"21\\u6642\",\"22\\u6642\",\"23\\u6642\"],\"y\":[-0.005852953948493763,null,-0.05390575343138416,0.02935876194715837,-0.1097972813734215,0.15037816257848627,-0.04454505848241718,0.03667076033372201,0.05758541918480379,-0.0035583818383071535,0.008771237662111202,-0.01018308873750988,-0.02546933636568532,0.04542418795172475,0.1230372964850679,-0.19215998833482667,0.02756538452774032,0.007290783133826475,0.06097387641217595,-0.024947742462099624,0.03579143711619037,-0.018845639058207624,0.002574997570325284,-0.0033227420972004565],\"type\":\"scatter\"},{\"name\":\"Nizyou\",\"x\":[\"0\\u6642\",\"1\\u6642\",\"2\\u6642\",\"3\\u6642\",\"4\\u6642\",\"5\\u6642\",\"6\\u6642\",\"7\\u6642\",\"8\\u6642\",\"9\\u6642\",\"10\\u6642\",\"11\\u6642\",\"12\\u6642\",\"13\\u6642\",\"14\\u6642\",\"15\\u6642\",\"16\\u6642\",\"17\\u6642\",\"18\\u6642\",\"19\\u6642\",\"20\\u6642\",\"21\\u6642\",\"22\\u6642\",\"23\\u6642\"],\"y\":[0.17077893091157167,-0.04815518399348471,-0.023800004306922723,0.03797754524125358,0.04514009431735952,-0.027041716903097982,0.03797201194680948,0.04952004324744739,0.04414266460379523,0.13724401224550178,0.022878407814461148,0.13838050692910192,0.016003431112575735,0.06806637238029165,0.09337325035749532,0.041668997034392904,0.09404221438010145,0.11156999390027311,0.1797416063414862,0.07768759985140311,0.18465998247646323,0.02352787055362388,0.17960834102346737,0.19779421024400254],\"type\":\"scatter\"},{\"name\":\"Touzi\",\"x\":[\"0\\u6642\",\"1\\u6642\",\"2\\u6642\",\"3\\u6642\",\"4\\u6642\",\"5\\u6642\",\"6\\u6642\",\"7\\u6642\",\"8\\u6642\",\"9\\u6642\",\"10\\u6642\",\"11\\u6642\",\"12\\u6642\",\"13\\u6642\",\"14\\u6642\",\"15\\u6642\",\"16\\u6642\",\"17\\u6642\",\"18\\u6642\",\"19\\u6642\",\"20\\u6642\",\"21\\u6642\",\"22\\u6642\",\"23\\u6642\"],\"y\":[0.08763502104440422,0.0535909304108765,0.036619234514194896,0.043451610940073875,-0.0723154410312694,-0.06523128541264701,0.08399918413153559,0.09580032566372357,0.15476148623793662,0.06150513051526304,0.09053082931414116,0.037364557296353094,0.07888771912695368,0.20630940688244728,-0.038076533124074864,0.042660227280274965,0.06575125921627442,0.08114116086463695,0.12229781837364533,0.21062166856666373,0.10290018594714569,0.049556796728897345,-0.0027460857646477185,0.10211278468579275],\"type\":\"scatter\"},{\"name\":\"Kyoto Station\",\"x\":[\"0\\u6642\",\"1\\u6642\",\"2\\u6642\",\"3\\u6642\",\"4\\u6642\",\"5\\u6642\",\"6\\u6642\",\"7\\u6642\",\"8\\u6642\",\"9\\u6642\",\"10\\u6642\",\"11\\u6642\",\"12\\u6642\",\"13\\u6642\",\"14\\u6642\",\"15\\u6642\",\"16\\u6642\",\"17\\u6642\",\"18\\u6642\",\"19\\u6642\",\"20\\u6642\",\"21\\u6642\",\"22\\u6642\",\"23\\u6642\"],\"y\":[0.3850816844533944,0.08204755512100087,0.16588460943273098,0.175376697468044,0.13011141542272825,0.08429230638562914,0.30288941277594933,0.39929152969035264,0.43719879951567564,0.39714517380217956,0.5136327407898262,0.5279343423743739,0.5029792047119356,0.41219243326648014,0.43285877484514534,0.5002469216421297,0.5251825509925747,0.5505062054908023,0.6072960388596798,0.5479154087434893,0.6587240279772523,0.6415346266951801,0.5889354041274814,0.5386671075626881],\"type\":\"scatter\"}],                        {\"template\":{\"data\":{\"histogram2dcontour\":[{\"type\":\"histogram2dcontour\",\"colorbar\":{\"outlinewidth\":0,\"ticks\":\"\"},\"colorscale\":[[0.0,\"#0d0887\"],[0.1111111111111111,\"#46039f\"],[0.2222222222222222,\"#7201a8\"],[0.3333333333333333,\"#9c179e\"],[0.4444444444444444,\"#bd3786\"],[0.5555555555555556,\"#d8576b\"],[0.6666666666666666,\"#ed7953\"],[0.7777777777777778,\"#fb9f3a\"],[0.8888888888888888,\"#fdca26\"],[1.0,\"#f0f921\"]]}],\"choropleth\":[{\"type\":\"choropleth\",\"colorbar\":{\"outlinewidth\":0,\"ticks\":\"\"}}],\"histogram2d\":[{\"type\":\"histogram2d\",\"colorbar\":{\"outlinewidth\":0,\"ticks\":\"\"},\"colorscale\":[[0.0,\"#0d0887\"],[0.1111111111111111,\"#46039f\"],[0.2222222222222222,\"#7201a8\"],[0.3333333333333333,\"#9c179e\"],[0.4444444444444444,\"#bd3786\"],[0.5555555555555556,\"#d8576b\"],[0.6666666666666666,\"#ed7953\"],[0.7777777777777778,\"#fb9f3a\"],[0.8888888888888888,\"#fdca26\"],[1.0,\"#f0f921\"]]}],\"heatmap\":[{\"type\":\"heatmap\",\"colorbar\":{\"outlinewidth\":0,\"ticks\":\"\"},\"colorscale\":[[0.0,\"#0d0887\"],[0.1111111111111111,\"#46039f\"],[0.2222222222222222,\"#7201a8\"],[0.3333333333333333,\"#9c179e\"],[0.4444444444444444,\"#bd3786\"],[0.5555555555555556,\"#d8576b\"],[0.6666666666666666,\"#ed7953\"],[0.7777777777777778,\"#fb9f3a\"],[0.8888888888888888,\"#fdca26\"],[1.0,\"#f0f921\"]]}],\"heatmapgl\":[{\"type\":\"heatmapgl\",\"colorbar\":{\"outlinewidth\":0,\"ticks\":\"\"},\"colorscale\":[[0.0,\"#0d0887\"],[0.1111111111111111,\"#46039f\"],[0.2222222222222222,\"#7201a8\"],[0.3333333333333333,\"#9c179e\"],[0.4444444444444444,\"#bd3786\"],[0.5555555555555556,\"#d8576b\"],[0.6666666666666666,\"#ed7953\"],[0.7777777777777778,\"#fb9f3a\"],[0.8888888888888888,\"#fdca26\"],[1.0,\"#f0f921\"]]}],\"contourcarpet\":[{\"type\":\"contourcarpet\",\"colorbar\":{\"outlinewidth\":0,\"ticks\":\"\"}}],\"contour\":[{\"type\":\"contour\",\"colorbar\":{\"outlinewidth\":0,\"ticks\":\"\"},\"colorscale\":[[0.0,\"#0d0887\"],[0.1111111111111111,\"#46039f\"],[0.2222222222222222,\"#7201a8\"],[0.3333333333333333,\"#9c179e\"],[0.4444444444444444,\"#bd3786\"],[0.5555555555555556,\"#d8576b\"],[0.6666666666666666,\"#ed7953\"],[0.7777777777777778,\"#fb9f3a\"],[0.8888888888888888,\"#fdca26\"],[1.0,\"#f0f921\"]]}],\"surface\":[{\"type\":\"surface\",\"colorbar\":{\"outlinewidth\":0,\"ticks\":\"\"},\"colorscale\":[[0.0,\"#0d0887\"],[0.1111111111111111,\"#46039f\"],[0.2222222222222222,\"#7201a8\"],[0.3333333333333333,\"#9c179e\"],[0.4444444444444444,\"#bd3786\"],[0.5555555555555556,\"#d8576b\"],[0.6666666666666666,\"#ed7953\"],[0.7777777777777778,\"#fb9f3a\"],[0.8888888888888888,\"#fdca26\"],[1.0,\"#f0f921\"]]}],\"mesh3d\":[{\"type\":\"mesh3d\",\"colorbar\":{\"outlinewidth\":0,\"ticks\":\"\"}}],\"scatter\":[{\"fillpattern\":{\"fillmode\":\"overlay\",\"size\":10,\"solidity\":0.2},\"type\":\"scatter\"}],\"parcoords\":[{\"type\":\"parcoords\",\"line\":{\"colorbar\":{\"outlinewidth\":0,\"ticks\":\"\"}}}],\"scatterpolargl\":[{\"type\":\"scatterpolargl\",\"marker\":{\"colorbar\":{\"outlinewidth\":0,\"ticks\":\"\"}}}],\"bar\":[{\"error_x\":{\"color\":\"#2a3f5f\"},\"error_y\":{\"color\":\"#2a3f5f\"},\"marker\":{\"line\":{\"color\":\"#E5ECF6\",\"width\":0.5},\"pattern\":{\"fillmode\":\"overlay\",\"size\":10,\"solidity\":0.2}},\"type\":\"bar\"}],\"scattergeo\":[{\"type\":\"scattergeo\",\"marker\":{\"colorbar\":{\"outlinewidth\":0,\"ticks\":\"\"}}}],\"scatterpolar\":[{\"type\":\"scatterpolar\",\"marker\":{\"colorbar\":{\"outlinewidth\":0,\"ticks\":\"\"}}}],\"histogram\":[{\"marker\":{\"pattern\":{\"fillmode\":\"overlay\",\"size\":10,\"solidity\":0.2}},\"type\":\"histogram\"}],\"scattergl\":[{\"type\":\"scattergl\",\"marker\":{\"colorbar\":{\"outlinewidth\":0,\"ticks\":\"\"}}}],\"scatter3d\":[{\"type\":\"scatter3d\",\"line\":{\"colorbar\":{\"outlinewidth\":0,\"ticks\":\"\"}},\"marker\":{\"colorbar\":{\"outlinewidth\":0,\"ticks\":\"\"}}}],\"scattermapbox\":[{\"type\":\"scattermapbox\",\"marker\":{\"colorbar\":{\"outlinewidth\":0,\"ticks\":\"\"}}}],\"scatterternary\":[{\"type\":\"scatterternary\",\"marker\":{\"colorbar\":{\"outlinewidth\":0,\"ticks\":\"\"}}}],\"scattercarpet\":[{\"type\":\"scattercarpet\",\"marker\":{\"colorbar\":{\"outlinewidth\":0,\"ticks\":\"\"}}}],\"carpet\":[{\"aaxis\":{\"endlinecolor\":\"#2a3f5f\",\"gridcolor\":\"white\",\"linecolor\":\"white\",\"minorgridcolor\":\"white\",\"startlinecolor\":\"#2a3f5f\"},\"baxis\":{\"endlinecolor\":\"#2a3f5f\",\"gridcolor\":\"white\",\"linecolor\":\"white\",\"minorgridcolor\":\"white\",\"startlinecolor\":\"#2a3f5f\"},\"type\":\"carpet\"}],\"table\":[{\"cells\":{\"fill\":{\"color\":\"#EBF0F8\"},\"line\":{\"color\":\"white\"}},\"header\":{\"fill\":{\"color\":\"#C8D4E3\"},\"line\":{\"color\":\"white\"}},\"type\":\"table\"}],\"barpolar\":[{\"marker\":{\"line\":{\"color\":\"#E5ECF6\",\"width\":0.5},\"pattern\":{\"fillmode\":\"overlay\",\"size\":10,\"solidity\":0.2}},\"type\":\"barpolar\"}],\"pie\":[{\"automargin\":true,\"type\":\"pie\"}]},\"layout\":{\"autotypenumbers\":\"strict\",\"colorway\":[\"#636efa\",\"#EF553B\",\"#00cc96\",\"#ab63fa\",\"#FFA15A\",\"#19d3f3\",\"#FF6692\",\"#B6E880\",\"#FF97FF\",\"#FECB52\"],\"font\":{\"color\":\"#2a3f5f\"},\"hovermode\":\"closest\",\"hoverlabel\":{\"align\":\"left\"},\"paper_bgcolor\":\"white\",\"plot_bgcolor\":\"#E5ECF6\",\"polar\":{\"bgcolor\":\"#E5ECF6\",\"angularaxis\":{\"gridcolor\":\"white\",\"linecolor\":\"white\",\"ticks\":\"\"},\"radialaxis\":{\"gridcolor\":\"white\",\"linecolor\":\"white\",\"ticks\":\"\"}},\"ternary\":{\"bgcolor\":\"#E5ECF6\",\"aaxis\":{\"gridcolor\":\"white\",\"linecolor\":\"white\",\"ticks\":\"\"},\"baxis\":{\"gridcolor\":\"white\",\"linecolor\":\"white\",\"ticks\":\"\"},\"caxis\":{\"gridcolor\":\"white\",\"linecolor\":\"white\",\"ticks\":\"\"}},\"coloraxis\":{\"colorbar\":{\"outlinewidth\":0,\"ticks\":\"\"}},\"colorscale\":{\"sequential\":[[0.0,\"#0d0887\"],[0.1111111111111111,\"#46039f\"],[0.2222222222222222,\"#7201a8\"],[0.3333333333333333,\"#9c179e\"],[0.4444444444444444,\"#bd3786\"],[0.5555555555555556,\"#d8576b\"],[0.6666666666666666,\"#ed7953\"],[0.7777777777777778,\"#fb9f3a\"],[0.8888888888888888,\"#fdca26\"],[1.0,\"#f0f921\"]],\"sequentialminus\":[[0.0,\"#0d0887\"],[0.1111111111111111,\"#46039f\"],[0.2222222222222222,\"#7201a8\"],[0.3333333333333333,\"#9c179e\"],[0.4444444444444444,\"#bd3786\"],[0.5555555555555556,\"#d8576b\"],[0.6666666666666666,\"#ed7953\"],[0.7777777777777778,\"#fb9f3a\"],[0.8888888888888888,\"#fdca26\"],[1.0,\"#f0f921\"]],\"diverging\":[[0,\"#8e0152\"],[0.1,\"#c51b7d\"],[0.2,\"#de77ae\"],[0.3,\"#f1b6da\"],[0.4,\"#fde0ef\"],[0.5,\"#f7f7f7\"],[0.6,\"#e6f5d0\"],[0.7,\"#b8e186\"],[0.8,\"#7fbc41\"],[0.9,\"#4d9221\"],[1,\"#276419\"]]},\"xaxis\":{\"gridcolor\":\"white\",\"linecolor\":\"white\",\"ticks\":\"\",\"title\":{\"standoff\":15},\"zerolinecolor\":\"white\",\"automargin\":true,\"zerolinewidth\":2},\"yaxis\":{\"gridcolor\":\"white\",\"linecolor\":\"white\",\"ticks\":\"\",\"title\":{\"standoff\":15},\"zerolinecolor\":\"white\",\"automargin\":true,\"zerolinewidth\":2},\"scene\":{\"xaxis\":{\"backgroundcolor\":\"#E5ECF6\",\"gridcolor\":\"white\",\"linecolor\":\"white\",\"showbackground\":true,\"ticks\":\"\",\"zerolinecolor\":\"white\",\"gridwidth\":2},\"yaxis\":{\"backgroundcolor\":\"#E5ECF6\",\"gridcolor\":\"white\",\"linecolor\":\"white\",\"showbackground\":true,\"ticks\":\"\",\"zerolinecolor\":\"white\",\"gridwidth\":2},\"zaxis\":{\"backgroundcolor\":\"#E5ECF6\",\"gridcolor\":\"white\",\"linecolor\":\"white\",\"showbackground\":true,\"ticks\":\"\",\"zerolinecolor\":\"white\",\"gridwidth\":2}},\"shapedefaults\":{\"line\":{\"color\":\"#2a3f5f\"}},\"annotationdefaults\":{\"arrowcolor\":\"#2a3f5f\",\"arrowhead\":0,\"arrowwidth\":1},\"geo\":{\"bgcolor\":\"white\",\"landcolor\":\"#E5ECF6\",\"subunitcolor\":\"white\",\"showland\":true,\"showlakes\":true,\"lakecolor\":\"white\"},\"title\":{\"x\":0.05},\"mapbox\":{\"style\":\"light\"}}},\"title\":{\"text\":\"1\\u6642\\u9593\\u3054\\u3068\\u306e\\u30bd\\u30fc\\u30b7\\u30e3\\u30eb\\u30bb\\u30f3\\u30b5\\u6027\\u80fd (\\u5e73\\u65e5)\"},\"yaxis\":{\"range\":[-1,1],\"title\":{\"text\":\"\\u30bd\\u30fc\\u30b7\\u30e3\\u30eb\\u30bb\\u30f3\\u30b5\\u6027\\u80fd\"}},\"xaxis\":{\"title\":{\"text\":\"\\u6642\\u9593\"}}},                        {\"responsive\": true}                    ).then(function(){\n",
       "                            \n",
       "var gd = document.getElementById('2ae999e8-5c82-4eeb-ba3c-e884d3a6320a');\n",
       "var x = new MutationObserver(function (mutations, observer) {{\n",
       "        var display = window.getComputedStyle(gd).display;\n",
       "        if (!display || display === 'none') {{\n",
       "            console.log([gd, 'removed!']);\n",
       "            Plotly.purge(gd);\n",
       "            observer.disconnect();\n",
       "        }}\n",
       "}});\n",
       "\n",
       "// Listen for the removal of the full notebook cells\n",
       "var notebookContainer = gd.closest('#notebook-container');\n",
       "if (notebookContainer) {{\n",
       "    x.observe(notebookContainer, {childList: true});\n",
       "}}\n",
       "\n",
       "// Listen for the clearing of the current output cell\n",
       "var outputEl = gd.closest('.output');\n",
       "if (outputEl) {{\n",
       "    x.observe(outputEl, {childList: true});\n",
       "}}\n",
       "\n",
       "                        })                };                });            </script>        </div>"
      ]
     },
     "metadata": {},
     "output_type": "display_data"
    }
   ],
   "source": [
    "data = []\n",
    "for place_id in range(0, len(list_mobile)):\n",
    "    mobile = np.load(list_mobile[place_id])\n",
    "    tweets = np.load(list_twitter[place_id])\n",
    "    dlete_list = []\n",
    "    if place_id == 0:\n",
    "        start_date = datetime(2021,1,1)\n",
    "    else:\n",
    "        start_date = datetime(2022,1,1)\n",
    "\n",
    "    for n_date_from_year in range(0,365):\n",
    "        Today = start_date + timedelta(days=n_date_from_year)\n",
    "        work_holi_Flag = isBizDay(Today)\n",
    "        if (\n",
    "            n_date_from_year == 0\n",
    "            or n_date_from_year == 1\n",
    "            or n_date_from_year == 2\n",
    "            or n_date_from_year == 362\n",
    "            or n_date_from_year == 363\n",
    "            or n_date_from_year == 364\n",
    "            or work_holi_Flag == \"Holiday\"\n",
    "            ):\n",
    "            dlete_list.append(n_date_from_year)\n",
    "    mobile = np.delete(mobile,dlete_list,axis=0)\n",
    "    tweets = np.delete(tweets,dlete_list,axis=0)\n",
    "\n",
    "    for i in range(0,24):\n",
    "        mobile_1hour = mobile[:, i:i+1]\n",
    "        mobile_1hour = mobile_1hour.flatten()\n",
    "        tweets_1hour = tweets[:, i:i+1]\n",
    "        tweets_1hour = tweets_1hour.flatten()\n",
    "\n",
    "        correlation, p_value = stats.pearsonr(mobile_1hour, tweets_1hour)\n",
    "        data.append([str(i) + '時', correlation, p_value, list_key[place_id]])\n",
    "\n",
    "\n",
    "columns=['time','r','p','place']\n",
    "\n",
    "\n",
    "df= pd.DataFrame(data,columns=columns)\n",
    "\n",
    "\n",
    "\n",
    "list_place = df['place'].unique()\n",
    "fig = go.Figure(data=[\n",
    "    go.Scatter(x = df[df['place']==list_place[0]]['time'], y = df[df['place']==list_place[0]]['r'], name = list_place[0],),\n",
    "    go.Scatter(x = df[df['place']==list_place[1]]['time'], y = df[df['place']==list_place[1]]['r'], name = list_place[1],),\n",
    "    go.Scatter(x = df[df['place']==list_place[2]]['time'], y = df[df['place']==list_place[2]]['r'], name = list_place[2],),\n",
    "    go.Scatter(x = df[df['place']==list_place[3]]['time'], y = df[df['place']==list_place[3]]['r'], name = list_place[3],),\n",
    "    go.Scatter(x = df[df['place']==list_place[4]]['time'], y = df[df['place']==list_place[4]]['r'], name = list_place[4],),\n",
    "    go.Scatter(x = df[df['place']==list_place[5]]['time'], y = df[df['place']==list_place[5]]['r'], name = list_place[5],),\n",
    "    go.Scatter(x = df[df['place']==list_place[6]]['time'], y = df[df['place']==list_place[6]]['r'], name = list_place[6],),\n",
    "    go.Scatter(x = df[df['place']==list_place[7]]['time'], y = df[df['place']==list_place[7]]['r'], name = list_place[7],),\n",
    "    go.Scatter(x = df[df['place']==list_place[8]]['time'], y = df[df['place']==list_place[8]]['r'], name = list_place[8],),\n",
    "    ])\n",
    "fig.update_layout(title='1時間ごとのソーシャルセンサ性能 (平日)')\n",
    "fig.update_layout(yaxis=dict(range=(-1, 1)))\n",
    "fig.update_layout(xaxis=dict(title='時間'),\n",
    "                 yaxis=dict(title='ソーシャルセンサ性能'))\n",
    "fig.show()"
   ]
  },
  {
   "cell_type": "code",
   "execution_count": 17,
   "metadata": {},
   "outputs": [
    {
     "data": {
      "application/vnd.plotly.v1+json": {
       "config": {
        "plotlyServerURL": "https://plot.ly"
       },
       "data": [
        {
         "name": "Tokyo Station",
         "type": "scatter",
         "x": [
          0,
          1,
          2,
          3,
          4,
          5,
          6,
          7,
          8,
          9,
          10,
          11,
          12,
          13,
          14,
          15,
          16,
          17,
          18,
          19,
          20,
          21,
          22,
          23
         ],
         "y": [
          "",
          "",
          "",
          "",
          "",
          0.22279202211397323,
          0.45573139308582583,
          0.28910245428998504,
          0.28842008369914546,
          0.15999893507480095,
          0.21061994193528466,
          0.24098409049047348,
          0.3823719493202536,
          0.31309768849144726,
          0.2835968296397856,
          0.3185460626948038,
          0.3121540273431758,
          0.39499592994658556,
          0.5179291383153933,
          0.49592033965513843,
          0.5339219893835743,
          0.5907285477178796,
          0.5263765056473736,
          0.4702151505899545
         ]
        },
        {
         "name": "Arashiyama",
         "type": "scatter",
         "x": [
          0,
          1,
          2,
          3,
          4,
          5,
          6,
          7,
          8,
          9,
          10,
          11,
          12,
          13,
          14,
          15,
          16,
          17,
          18,
          19,
          20,
          21,
          22,
          23
         ],
         "y": [
          "",
          "",
          "",
          "",
          "",
          "",
          "",
          0.1597125876470396,
          "",
          0.2654117264252919,
          "",
          "",
          0.37065539625363847,
          0.17601764562356256,
          0.3743188538912091,
          0.29519959228811227,
          "",
          "",
          0.15981428297478611,
          0.14557041115576805,
          "",
          "",
          "",
          0.14348251014565558
         ]
        },
        {
         "name": "Karasuma",
         "type": "scatter",
         "x": [
          0,
          1,
          2,
          3,
          4,
          5,
          6,
          7,
          8,
          9,
          10,
          11,
          12,
          13,
          14,
          15,
          16,
          17,
          18,
          19,
          20,
          21,
          22,
          23
         ],
         "y": [
          "",
          "",
          "",
          "",
          "",
          "",
          "",
          "",
          "",
          "",
          "",
          "",
          "",
          "",
          "",
          "",
          "",
          "",
          "",
          "",
          "",
          0.13494332984488458,
          "",
          ""
         ]
        },
        {
         "name": "Kinkaku Temple",
         "type": "scatter",
         "x": [
          0,
          1,
          2,
          3,
          4,
          5,
          6,
          7,
          8,
          9,
          10,
          11,
          12,
          13,
          14,
          15,
          16,
          17,
          18,
          19,
          20,
          21,
          22,
          23
         ],
         "y": [
          "",
          "",
          "",
          "",
          "",
          "",
          "",
          "",
          "",
          "",
          0.17575686354424216,
          0.1996337923353741,
          "",
          "",
          "",
          "",
          "",
          "",
          "",
          "",
          "",
          -0.1411636678210393,
          "",
          -0.14443986070805784
         ]
        },
        {
         "name": "Kiyomizu Temple",
         "type": "scatter",
         "x": [
          0,
          1,
          2,
          3,
          4,
          5,
          6,
          7,
          8,
          9,
          10,
          11,
          12,
          13,
          14,
          15,
          16,
          17,
          18,
          19,
          20,
          21,
          22,
          23
         ],
         "y": [
          "",
          "",
          "",
          "",
          -0.13470270911740148,
          "",
          "",
          0.18206975226286734,
          0.1992404904724876,
          "",
          0.22557270415768585,
          0.45289993092249736,
          0.2589632669189117,
          0.28815529878196805,
          0.2509937480736817,
          0.26868988838069774,
          0.2679355930638018,
          0.3185429089531383,
          0.247736665326122,
          0.4509997522347437,
          0.3537238501569314,
          0.33173716397711617,
          0.2180711021953253,
          0.1690906077083457
         ]
        },
        {
         "name": "Kyoto University",
         "type": "scatter",
         "x": [
          0,
          1,
          2,
          3,
          4,
          5,
          6,
          7,
          8,
          9,
          10,
          11,
          12,
          13,
          14,
          15,
          16,
          17,
          18,
          19,
          20,
          21,
          22,
          23
         ],
         "y": [
          "",
          null,
          "",
          "",
          "",
          0.15037816257848627,
          "",
          "",
          "",
          "",
          "",
          "",
          "",
          "",
          "",
          -0.19215998833482667,
          "",
          "",
          "",
          "",
          "",
          "",
          "",
          ""
         ]
        },
        {
         "name": "Nizyou",
         "type": "scatter",
         "x": [
          0,
          1,
          2,
          3,
          4,
          5,
          6,
          7,
          8,
          9,
          10,
          11,
          12,
          13,
          14,
          15,
          16,
          17,
          18,
          19,
          20,
          21,
          22,
          23
         ],
         "y": [
          0.17077893091157167,
          "",
          "",
          "",
          "",
          "",
          "",
          "",
          "",
          0.13724401224550178,
          "",
          0.13838050692910192,
          "",
          "",
          "",
          "",
          "",
          "",
          0.1797416063414862,
          "",
          0.18465998247646323,
          "",
          0.17960834102346737,
          0.19779421024400254
         ]
        },
        {
         "name": "Touzi",
         "type": "scatter",
         "x": [
          0,
          1,
          2,
          3,
          4,
          5,
          6,
          7,
          8,
          9,
          10,
          11,
          12,
          13,
          14,
          15,
          16,
          17,
          18,
          19,
          20,
          21,
          22,
          23
         ],
         "y": [
          "",
          "",
          "",
          "",
          "",
          "",
          "",
          "",
          0.15476148623793662,
          "",
          "",
          "",
          "",
          0.20630940688244728,
          "",
          "",
          "",
          "",
          "",
          0.21062166856666373,
          "",
          "",
          "",
          ""
         ]
        },
        {
         "name": "Kyoto Station",
         "type": "scatter",
         "x": [
          0,
          1,
          2,
          3,
          4,
          5,
          6,
          7,
          8,
          9,
          10,
          11,
          12,
          13,
          14,
          15,
          16,
          17,
          18,
          19,
          20,
          21,
          22,
          23
         ],
         "y": [
          0.3850816844533944,
          "",
          0.16588460943273098,
          0.175376697468044,
          0.13011141542272825,
          "",
          0.30288941277594933,
          0.39929152969035264,
          0.43719879951567564,
          0.39714517380217956,
          0.5136327407898262,
          0.5279343423743739,
          0.5029792047119356,
          0.41219243326648014,
          0.43285877484514534,
          0.5002469216421297,
          0.5251825509925747,
          0.5505062054908023,
          0.6072960388596798,
          0.5479154087434893,
          0.6587240279772523,
          0.6415346266951801,
          0.5889354041274814,
          0.5386671075626881
         ]
        }
       ],
       "layout": {
        "height": 500,
        "template": {
         "data": {
          "bar": [
           {
            "error_x": {
             "color": "#2a3f5f"
            },
            "error_y": {
             "color": "#2a3f5f"
            },
            "marker": {
             "line": {
              "color": "#E5ECF6",
              "width": 0.5
             },
             "pattern": {
              "fillmode": "overlay",
              "size": 10,
              "solidity": 0.2
             }
            },
            "type": "bar"
           }
          ],
          "barpolar": [
           {
            "marker": {
             "line": {
              "color": "#E5ECF6",
              "width": 0.5
             },
             "pattern": {
              "fillmode": "overlay",
              "size": 10,
              "solidity": 0.2
             }
            },
            "type": "barpolar"
           }
          ],
          "carpet": [
           {
            "aaxis": {
             "endlinecolor": "#2a3f5f",
             "gridcolor": "white",
             "linecolor": "white",
             "minorgridcolor": "white",
             "startlinecolor": "#2a3f5f"
            },
            "baxis": {
             "endlinecolor": "#2a3f5f",
             "gridcolor": "white",
             "linecolor": "white",
             "minorgridcolor": "white",
             "startlinecolor": "#2a3f5f"
            },
            "type": "carpet"
           }
          ],
          "choropleth": [
           {
            "colorbar": {
             "outlinewidth": 0,
             "ticks": ""
            },
            "type": "choropleth"
           }
          ],
          "contour": [
           {
            "colorbar": {
             "outlinewidth": 0,
             "ticks": ""
            },
            "colorscale": [
             [
              0,
              "#0d0887"
             ],
             [
              0.1111111111111111,
              "#46039f"
             ],
             [
              0.2222222222222222,
              "#7201a8"
             ],
             [
              0.3333333333333333,
              "#9c179e"
             ],
             [
              0.4444444444444444,
              "#bd3786"
             ],
             [
              0.5555555555555556,
              "#d8576b"
             ],
             [
              0.6666666666666666,
              "#ed7953"
             ],
             [
              0.7777777777777778,
              "#fb9f3a"
             ],
             [
              0.8888888888888888,
              "#fdca26"
             ],
             [
              1,
              "#f0f921"
             ]
            ],
            "type": "contour"
           }
          ],
          "contourcarpet": [
           {
            "colorbar": {
             "outlinewidth": 0,
             "ticks": ""
            },
            "type": "contourcarpet"
           }
          ],
          "heatmap": [
           {
            "colorbar": {
             "outlinewidth": 0,
             "ticks": ""
            },
            "colorscale": [
             [
              0,
              "#0d0887"
             ],
             [
              0.1111111111111111,
              "#46039f"
             ],
             [
              0.2222222222222222,
              "#7201a8"
             ],
             [
              0.3333333333333333,
              "#9c179e"
             ],
             [
              0.4444444444444444,
              "#bd3786"
             ],
             [
              0.5555555555555556,
              "#d8576b"
             ],
             [
              0.6666666666666666,
              "#ed7953"
             ],
             [
              0.7777777777777778,
              "#fb9f3a"
             ],
             [
              0.8888888888888888,
              "#fdca26"
             ],
             [
              1,
              "#f0f921"
             ]
            ],
            "type": "heatmap"
           }
          ],
          "heatmapgl": [
           {
            "colorbar": {
             "outlinewidth": 0,
             "ticks": ""
            },
            "colorscale": [
             [
              0,
              "#0d0887"
             ],
             [
              0.1111111111111111,
              "#46039f"
             ],
             [
              0.2222222222222222,
              "#7201a8"
             ],
             [
              0.3333333333333333,
              "#9c179e"
             ],
             [
              0.4444444444444444,
              "#bd3786"
             ],
             [
              0.5555555555555556,
              "#d8576b"
             ],
             [
              0.6666666666666666,
              "#ed7953"
             ],
             [
              0.7777777777777778,
              "#fb9f3a"
             ],
             [
              0.8888888888888888,
              "#fdca26"
             ],
             [
              1,
              "#f0f921"
             ]
            ],
            "type": "heatmapgl"
           }
          ],
          "histogram": [
           {
            "marker": {
             "pattern": {
              "fillmode": "overlay",
              "size": 10,
              "solidity": 0.2
             }
            },
            "type": "histogram"
           }
          ],
          "histogram2d": [
           {
            "colorbar": {
             "outlinewidth": 0,
             "ticks": ""
            },
            "colorscale": [
             [
              0,
              "#0d0887"
             ],
             [
              0.1111111111111111,
              "#46039f"
             ],
             [
              0.2222222222222222,
              "#7201a8"
             ],
             [
              0.3333333333333333,
              "#9c179e"
             ],
             [
              0.4444444444444444,
              "#bd3786"
             ],
             [
              0.5555555555555556,
              "#d8576b"
             ],
             [
              0.6666666666666666,
              "#ed7953"
             ],
             [
              0.7777777777777778,
              "#fb9f3a"
             ],
             [
              0.8888888888888888,
              "#fdca26"
             ],
             [
              1,
              "#f0f921"
             ]
            ],
            "type": "histogram2d"
           }
          ],
          "histogram2dcontour": [
           {
            "colorbar": {
             "outlinewidth": 0,
             "ticks": ""
            },
            "colorscale": [
             [
              0,
              "#0d0887"
             ],
             [
              0.1111111111111111,
              "#46039f"
             ],
             [
              0.2222222222222222,
              "#7201a8"
             ],
             [
              0.3333333333333333,
              "#9c179e"
             ],
             [
              0.4444444444444444,
              "#bd3786"
             ],
             [
              0.5555555555555556,
              "#d8576b"
             ],
             [
              0.6666666666666666,
              "#ed7953"
             ],
             [
              0.7777777777777778,
              "#fb9f3a"
             ],
             [
              0.8888888888888888,
              "#fdca26"
             ],
             [
              1,
              "#f0f921"
             ]
            ],
            "type": "histogram2dcontour"
           }
          ],
          "mesh3d": [
           {
            "colorbar": {
             "outlinewidth": 0,
             "ticks": ""
            },
            "type": "mesh3d"
           }
          ],
          "parcoords": [
           {
            "line": {
             "colorbar": {
              "outlinewidth": 0,
              "ticks": ""
             }
            },
            "type": "parcoords"
           }
          ],
          "pie": [
           {
            "automargin": true,
            "type": "pie"
           }
          ],
          "scatter": [
           {
            "fillpattern": {
             "fillmode": "overlay",
             "size": 10,
             "solidity": 0.2
            },
            "type": "scatter"
           }
          ],
          "scatter3d": [
           {
            "line": {
             "colorbar": {
              "outlinewidth": 0,
              "ticks": ""
             }
            },
            "marker": {
             "colorbar": {
              "outlinewidth": 0,
              "ticks": ""
             }
            },
            "type": "scatter3d"
           }
          ],
          "scattercarpet": [
           {
            "marker": {
             "colorbar": {
              "outlinewidth": 0,
              "ticks": ""
             }
            },
            "type": "scattercarpet"
           }
          ],
          "scattergeo": [
           {
            "marker": {
             "colorbar": {
              "outlinewidth": 0,
              "ticks": ""
             }
            },
            "type": "scattergeo"
           }
          ],
          "scattergl": [
           {
            "marker": {
             "colorbar": {
              "outlinewidth": 0,
              "ticks": ""
             }
            },
            "type": "scattergl"
           }
          ],
          "scattermapbox": [
           {
            "marker": {
             "colorbar": {
              "outlinewidth": 0,
              "ticks": ""
             }
            },
            "type": "scattermapbox"
           }
          ],
          "scatterpolar": [
           {
            "marker": {
             "colorbar": {
              "outlinewidth": 0,
              "ticks": ""
             }
            },
            "type": "scatterpolar"
           }
          ],
          "scatterpolargl": [
           {
            "marker": {
             "colorbar": {
              "outlinewidth": 0,
              "ticks": ""
             }
            },
            "type": "scatterpolargl"
           }
          ],
          "scatterternary": [
           {
            "marker": {
             "colorbar": {
              "outlinewidth": 0,
              "ticks": ""
             }
            },
            "type": "scatterternary"
           }
          ],
          "surface": [
           {
            "colorbar": {
             "outlinewidth": 0,
             "ticks": ""
            },
            "colorscale": [
             [
              0,
              "#0d0887"
             ],
             [
              0.1111111111111111,
              "#46039f"
             ],
             [
              0.2222222222222222,
              "#7201a8"
             ],
             [
              0.3333333333333333,
              "#9c179e"
             ],
             [
              0.4444444444444444,
              "#bd3786"
             ],
             [
              0.5555555555555556,
              "#d8576b"
             ],
             [
              0.6666666666666666,
              "#ed7953"
             ],
             [
              0.7777777777777778,
              "#fb9f3a"
             ],
             [
              0.8888888888888888,
              "#fdca26"
             ],
             [
              1,
              "#f0f921"
             ]
            ],
            "type": "surface"
           }
          ],
          "table": [
           {
            "cells": {
             "fill": {
              "color": "#EBF0F8"
             },
             "line": {
              "color": "white"
             }
            },
            "header": {
             "fill": {
              "color": "#C8D4E3"
             },
             "line": {
              "color": "white"
             }
            },
            "type": "table"
           }
          ]
         },
         "layout": {
          "annotationdefaults": {
           "arrowcolor": "#2a3f5f",
           "arrowhead": 0,
           "arrowwidth": 1
          },
          "autotypenumbers": "strict",
          "coloraxis": {
           "colorbar": {
            "outlinewidth": 0,
            "ticks": ""
           }
          },
          "colorscale": {
           "diverging": [
            [
             0,
             "#8e0152"
            ],
            [
             0.1,
             "#c51b7d"
            ],
            [
             0.2,
             "#de77ae"
            ],
            [
             0.3,
             "#f1b6da"
            ],
            [
             0.4,
             "#fde0ef"
            ],
            [
             0.5,
             "#f7f7f7"
            ],
            [
             0.6,
             "#e6f5d0"
            ],
            [
             0.7,
             "#b8e186"
            ],
            [
             0.8,
             "#7fbc41"
            ],
            [
             0.9,
             "#4d9221"
            ],
            [
             1,
             "#276419"
            ]
           ],
           "sequential": [
            [
             0,
             "#0d0887"
            ],
            [
             0.1111111111111111,
             "#46039f"
            ],
            [
             0.2222222222222222,
             "#7201a8"
            ],
            [
             0.3333333333333333,
             "#9c179e"
            ],
            [
             0.4444444444444444,
             "#bd3786"
            ],
            [
             0.5555555555555556,
             "#d8576b"
            ],
            [
             0.6666666666666666,
             "#ed7953"
            ],
            [
             0.7777777777777778,
             "#fb9f3a"
            ],
            [
             0.8888888888888888,
             "#fdca26"
            ],
            [
             1,
             "#f0f921"
            ]
           ],
           "sequentialminus": [
            [
             0,
             "#0d0887"
            ],
            [
             0.1111111111111111,
             "#46039f"
            ],
            [
             0.2222222222222222,
             "#7201a8"
            ],
            [
             0.3333333333333333,
             "#9c179e"
            ],
            [
             0.4444444444444444,
             "#bd3786"
            ],
            [
             0.5555555555555556,
             "#d8576b"
            ],
            [
             0.6666666666666666,
             "#ed7953"
            ],
            [
             0.7777777777777778,
             "#fb9f3a"
            ],
            [
             0.8888888888888888,
             "#fdca26"
            ],
            [
             1,
             "#f0f921"
            ]
           ]
          },
          "colorway": [
           "#636efa",
           "#EF553B",
           "#00cc96",
           "#ab63fa",
           "#FFA15A",
           "#19d3f3",
           "#FF6692",
           "#B6E880",
           "#FF97FF",
           "#FECB52"
          ],
          "font": {
           "color": "#2a3f5f"
          },
          "geo": {
           "bgcolor": "white",
           "lakecolor": "white",
           "landcolor": "#E5ECF6",
           "showlakes": true,
           "showland": true,
           "subunitcolor": "white"
          },
          "hoverlabel": {
           "align": "left"
          },
          "hovermode": "closest",
          "mapbox": {
           "style": "light"
          },
          "paper_bgcolor": "white",
          "plot_bgcolor": "#E5ECF6",
          "polar": {
           "angularaxis": {
            "gridcolor": "white",
            "linecolor": "white",
            "ticks": ""
           },
           "bgcolor": "#E5ECF6",
           "radialaxis": {
            "gridcolor": "white",
            "linecolor": "white",
            "ticks": ""
           }
          },
          "scene": {
           "xaxis": {
            "backgroundcolor": "#E5ECF6",
            "gridcolor": "white",
            "gridwidth": 2,
            "linecolor": "white",
            "showbackground": true,
            "ticks": "",
            "zerolinecolor": "white"
           },
           "yaxis": {
            "backgroundcolor": "#E5ECF6",
            "gridcolor": "white",
            "gridwidth": 2,
            "linecolor": "white",
            "showbackground": true,
            "ticks": "",
            "zerolinecolor": "white"
           },
           "zaxis": {
            "backgroundcolor": "#E5ECF6",
            "gridcolor": "white",
            "gridwidth": 2,
            "linecolor": "white",
            "showbackground": true,
            "ticks": "",
            "zerolinecolor": "white"
           }
          },
          "shapedefaults": {
           "line": {
            "color": "#2a3f5f"
           }
          },
          "ternary": {
           "aaxis": {
            "gridcolor": "white",
            "linecolor": "white",
            "ticks": ""
           },
           "baxis": {
            "gridcolor": "white",
            "linecolor": "white",
            "ticks": ""
           },
           "bgcolor": "#E5ECF6",
           "caxis": {
            "gridcolor": "white",
            "linecolor": "white",
            "ticks": ""
           }
          },
          "title": {
           "x": 0.05
          },
          "xaxis": {
           "automargin": true,
           "gridcolor": "white",
           "linecolor": "white",
           "ticks": "",
           "title": {
            "standoff": 15
           },
           "zerolinecolor": "white",
           "zerolinewidth": 2
          },
          "yaxis": {
           "automargin": true,
           "gridcolor": "white",
           "linecolor": "white",
           "ticks": "",
           "title": {
            "standoff": 15
           },
           "zerolinecolor": "white",
           "zerolinewidth": 2
          }
         }
        },
        "width": 700,
        "xaxis": {
         "title": {
          "text": "hour"
         }
        },
        "yaxis": {
         "range": [
          -1,
          1
         ],
         "title": {
          "text": "social sensor performance"
         }
        }
       }
      },
      "text/html": [
       "<div>                            <div id=\"b722da9b-5934-4843-a0ca-cde58a05fbd3\" class=\"plotly-graph-div\" style=\"height:500px; width:700px;\"></div>            <script type=\"text/javascript\">                require([\"plotly\"], function(Plotly) {                    window.PLOTLYENV=window.PLOTLYENV || {};                                    if (document.getElementById(\"b722da9b-5934-4843-a0ca-cde58a05fbd3\")) {                    Plotly.newPlot(                        \"b722da9b-5934-4843-a0ca-cde58a05fbd3\",                        [{\"name\":\"Tokyo Station\",\"x\":[0,1,2,3,4,5,6,7,8,9,10,11,12,13,14,15,16,17,18,19,20,21,22,23],\"y\":[\"\",\"\",\"\",\"\",\"\",0.22279202211397323,0.45573139308582583,0.28910245428998504,0.28842008369914546,0.15999893507480095,0.21061994193528466,0.24098409049047348,0.3823719493202536,0.31309768849144726,0.2835968296397856,0.3185460626948038,0.3121540273431758,0.39499592994658556,0.5179291383153933,0.49592033965513843,0.5339219893835743,0.5907285477178796,0.5263765056473736,0.4702151505899545],\"type\":\"scatter\"},{\"name\":\"Arashiyama\",\"x\":[0,1,2,3,4,5,6,7,8,9,10,11,12,13,14,15,16,17,18,19,20,21,22,23],\"y\":[\"\",\"\",\"\",\"\",\"\",\"\",\"\",0.1597125876470396,\"\",0.2654117264252919,\"\",\"\",0.37065539625363847,0.17601764562356256,0.3743188538912091,0.29519959228811227,\"\",\"\",0.15981428297478611,0.14557041115576805,\"\",\"\",\"\",0.14348251014565558],\"type\":\"scatter\"},{\"name\":\"Karasuma\",\"x\":[0,1,2,3,4,5,6,7,8,9,10,11,12,13,14,15,16,17,18,19,20,21,22,23],\"y\":[\"\",\"\",\"\",\"\",\"\",\"\",\"\",\"\",\"\",\"\",\"\",\"\",\"\",\"\",\"\",\"\",\"\",\"\",\"\",\"\",\"\",0.13494332984488458,\"\",\"\"],\"type\":\"scatter\"},{\"name\":\"Kinkaku Temple\",\"x\":[0,1,2,3,4,5,6,7,8,9,10,11,12,13,14,15,16,17,18,19,20,21,22,23],\"y\":[\"\",\"\",\"\",\"\",\"\",\"\",\"\",\"\",\"\",\"\",0.17575686354424216,0.1996337923353741,\"\",\"\",\"\",\"\",\"\",\"\",\"\",\"\",\"\",-0.1411636678210393,\"\",-0.14443986070805784],\"type\":\"scatter\"},{\"name\":\"Kiyomizu Temple\",\"x\":[0,1,2,3,4,5,6,7,8,9,10,11,12,13,14,15,16,17,18,19,20,21,22,23],\"y\":[\"\",\"\",\"\",\"\",-0.13470270911740148,\"\",\"\",0.18206975226286734,0.1992404904724876,\"\",0.22557270415768585,0.45289993092249736,0.2589632669189117,0.28815529878196805,0.2509937480736817,0.26868988838069774,0.2679355930638018,0.3185429089531383,0.247736665326122,0.4509997522347437,0.3537238501569314,0.33173716397711617,0.2180711021953253,0.1690906077083457],\"type\":\"scatter\"},{\"name\":\"Kyoto University\",\"x\":[0,1,2,3,4,5,6,7,8,9,10,11,12,13,14,15,16,17,18,19,20,21,22,23],\"y\":[\"\",null,\"\",\"\",\"\",0.15037816257848627,\"\",\"\",\"\",\"\",\"\",\"\",\"\",\"\",\"\",-0.19215998833482667,\"\",\"\",\"\",\"\",\"\",\"\",\"\",\"\"],\"type\":\"scatter\"},{\"name\":\"Nizyou\",\"x\":[0,1,2,3,4,5,6,7,8,9,10,11,12,13,14,15,16,17,18,19,20,21,22,23],\"y\":[0.17077893091157167,\"\",\"\",\"\",\"\",\"\",\"\",\"\",\"\",0.13724401224550178,\"\",0.13838050692910192,\"\",\"\",\"\",\"\",\"\",\"\",0.1797416063414862,\"\",0.18465998247646323,\"\",0.17960834102346737,0.19779421024400254],\"type\":\"scatter\"},{\"name\":\"Touzi\",\"x\":[0,1,2,3,4,5,6,7,8,9,10,11,12,13,14,15,16,17,18,19,20,21,22,23],\"y\":[\"\",\"\",\"\",\"\",\"\",\"\",\"\",\"\",0.15476148623793662,\"\",\"\",\"\",\"\",0.20630940688244728,\"\",\"\",\"\",\"\",\"\",0.21062166856666373,\"\",\"\",\"\",\"\"],\"type\":\"scatter\"},{\"name\":\"Kyoto Station\",\"x\":[0,1,2,3,4,5,6,7,8,9,10,11,12,13,14,15,16,17,18,19,20,21,22,23],\"y\":[0.3850816844533944,\"\",0.16588460943273098,0.175376697468044,0.13011141542272825,\"\",0.30288941277594933,0.39929152969035264,0.43719879951567564,0.39714517380217956,0.5136327407898262,0.5279343423743739,0.5029792047119356,0.41219243326648014,0.43285877484514534,0.5002469216421297,0.5251825509925747,0.5505062054908023,0.6072960388596798,0.5479154087434893,0.6587240279772523,0.6415346266951801,0.5889354041274814,0.5386671075626881],\"type\":\"scatter\"}],                        {\"template\":{\"data\":{\"histogram2dcontour\":[{\"type\":\"histogram2dcontour\",\"colorbar\":{\"outlinewidth\":0,\"ticks\":\"\"},\"colorscale\":[[0.0,\"#0d0887\"],[0.1111111111111111,\"#46039f\"],[0.2222222222222222,\"#7201a8\"],[0.3333333333333333,\"#9c179e\"],[0.4444444444444444,\"#bd3786\"],[0.5555555555555556,\"#d8576b\"],[0.6666666666666666,\"#ed7953\"],[0.7777777777777778,\"#fb9f3a\"],[0.8888888888888888,\"#fdca26\"],[1.0,\"#f0f921\"]]}],\"choropleth\":[{\"type\":\"choropleth\",\"colorbar\":{\"outlinewidth\":0,\"ticks\":\"\"}}],\"histogram2d\":[{\"type\":\"histogram2d\",\"colorbar\":{\"outlinewidth\":0,\"ticks\":\"\"},\"colorscale\":[[0.0,\"#0d0887\"],[0.1111111111111111,\"#46039f\"],[0.2222222222222222,\"#7201a8\"],[0.3333333333333333,\"#9c179e\"],[0.4444444444444444,\"#bd3786\"],[0.5555555555555556,\"#d8576b\"],[0.6666666666666666,\"#ed7953\"],[0.7777777777777778,\"#fb9f3a\"],[0.8888888888888888,\"#fdca26\"],[1.0,\"#f0f921\"]]}],\"heatmap\":[{\"type\":\"heatmap\",\"colorbar\":{\"outlinewidth\":0,\"ticks\":\"\"},\"colorscale\":[[0.0,\"#0d0887\"],[0.1111111111111111,\"#46039f\"],[0.2222222222222222,\"#7201a8\"],[0.3333333333333333,\"#9c179e\"],[0.4444444444444444,\"#bd3786\"],[0.5555555555555556,\"#d8576b\"],[0.6666666666666666,\"#ed7953\"],[0.7777777777777778,\"#fb9f3a\"],[0.8888888888888888,\"#fdca26\"],[1.0,\"#f0f921\"]]}],\"heatmapgl\":[{\"type\":\"heatmapgl\",\"colorbar\":{\"outlinewidth\":0,\"ticks\":\"\"},\"colorscale\":[[0.0,\"#0d0887\"],[0.1111111111111111,\"#46039f\"],[0.2222222222222222,\"#7201a8\"],[0.3333333333333333,\"#9c179e\"],[0.4444444444444444,\"#bd3786\"],[0.5555555555555556,\"#d8576b\"],[0.6666666666666666,\"#ed7953\"],[0.7777777777777778,\"#fb9f3a\"],[0.8888888888888888,\"#fdca26\"],[1.0,\"#f0f921\"]]}],\"contourcarpet\":[{\"type\":\"contourcarpet\",\"colorbar\":{\"outlinewidth\":0,\"ticks\":\"\"}}],\"contour\":[{\"type\":\"contour\",\"colorbar\":{\"outlinewidth\":0,\"ticks\":\"\"},\"colorscale\":[[0.0,\"#0d0887\"],[0.1111111111111111,\"#46039f\"],[0.2222222222222222,\"#7201a8\"],[0.3333333333333333,\"#9c179e\"],[0.4444444444444444,\"#bd3786\"],[0.5555555555555556,\"#d8576b\"],[0.6666666666666666,\"#ed7953\"],[0.7777777777777778,\"#fb9f3a\"],[0.8888888888888888,\"#fdca26\"],[1.0,\"#f0f921\"]]}],\"surface\":[{\"type\":\"surface\",\"colorbar\":{\"outlinewidth\":0,\"ticks\":\"\"},\"colorscale\":[[0.0,\"#0d0887\"],[0.1111111111111111,\"#46039f\"],[0.2222222222222222,\"#7201a8\"],[0.3333333333333333,\"#9c179e\"],[0.4444444444444444,\"#bd3786\"],[0.5555555555555556,\"#d8576b\"],[0.6666666666666666,\"#ed7953\"],[0.7777777777777778,\"#fb9f3a\"],[0.8888888888888888,\"#fdca26\"],[1.0,\"#f0f921\"]]}],\"mesh3d\":[{\"type\":\"mesh3d\",\"colorbar\":{\"outlinewidth\":0,\"ticks\":\"\"}}],\"scatter\":[{\"fillpattern\":{\"fillmode\":\"overlay\",\"size\":10,\"solidity\":0.2},\"type\":\"scatter\"}],\"parcoords\":[{\"type\":\"parcoords\",\"line\":{\"colorbar\":{\"outlinewidth\":0,\"ticks\":\"\"}}}],\"scatterpolargl\":[{\"type\":\"scatterpolargl\",\"marker\":{\"colorbar\":{\"outlinewidth\":0,\"ticks\":\"\"}}}],\"bar\":[{\"error_x\":{\"color\":\"#2a3f5f\"},\"error_y\":{\"color\":\"#2a3f5f\"},\"marker\":{\"line\":{\"color\":\"#E5ECF6\",\"width\":0.5},\"pattern\":{\"fillmode\":\"overlay\",\"size\":10,\"solidity\":0.2}},\"type\":\"bar\"}],\"scattergeo\":[{\"type\":\"scattergeo\",\"marker\":{\"colorbar\":{\"outlinewidth\":0,\"ticks\":\"\"}}}],\"scatterpolar\":[{\"type\":\"scatterpolar\",\"marker\":{\"colorbar\":{\"outlinewidth\":0,\"ticks\":\"\"}}}],\"histogram\":[{\"marker\":{\"pattern\":{\"fillmode\":\"overlay\",\"size\":10,\"solidity\":0.2}},\"type\":\"histogram\"}],\"scattergl\":[{\"type\":\"scattergl\",\"marker\":{\"colorbar\":{\"outlinewidth\":0,\"ticks\":\"\"}}}],\"scatter3d\":[{\"type\":\"scatter3d\",\"line\":{\"colorbar\":{\"outlinewidth\":0,\"ticks\":\"\"}},\"marker\":{\"colorbar\":{\"outlinewidth\":0,\"ticks\":\"\"}}}],\"scattermapbox\":[{\"type\":\"scattermapbox\",\"marker\":{\"colorbar\":{\"outlinewidth\":0,\"ticks\":\"\"}}}],\"scatterternary\":[{\"type\":\"scatterternary\",\"marker\":{\"colorbar\":{\"outlinewidth\":0,\"ticks\":\"\"}}}],\"scattercarpet\":[{\"type\":\"scattercarpet\",\"marker\":{\"colorbar\":{\"outlinewidth\":0,\"ticks\":\"\"}}}],\"carpet\":[{\"aaxis\":{\"endlinecolor\":\"#2a3f5f\",\"gridcolor\":\"white\",\"linecolor\":\"white\",\"minorgridcolor\":\"white\",\"startlinecolor\":\"#2a3f5f\"},\"baxis\":{\"endlinecolor\":\"#2a3f5f\",\"gridcolor\":\"white\",\"linecolor\":\"white\",\"minorgridcolor\":\"white\",\"startlinecolor\":\"#2a3f5f\"},\"type\":\"carpet\"}],\"table\":[{\"cells\":{\"fill\":{\"color\":\"#EBF0F8\"},\"line\":{\"color\":\"white\"}},\"header\":{\"fill\":{\"color\":\"#C8D4E3\"},\"line\":{\"color\":\"white\"}},\"type\":\"table\"}],\"barpolar\":[{\"marker\":{\"line\":{\"color\":\"#E5ECF6\",\"width\":0.5},\"pattern\":{\"fillmode\":\"overlay\",\"size\":10,\"solidity\":0.2}},\"type\":\"barpolar\"}],\"pie\":[{\"automargin\":true,\"type\":\"pie\"}]},\"layout\":{\"autotypenumbers\":\"strict\",\"colorway\":[\"#636efa\",\"#EF553B\",\"#00cc96\",\"#ab63fa\",\"#FFA15A\",\"#19d3f3\",\"#FF6692\",\"#B6E880\",\"#FF97FF\",\"#FECB52\"],\"font\":{\"color\":\"#2a3f5f\"},\"hovermode\":\"closest\",\"hoverlabel\":{\"align\":\"left\"},\"paper_bgcolor\":\"white\",\"plot_bgcolor\":\"#E5ECF6\",\"polar\":{\"bgcolor\":\"#E5ECF6\",\"angularaxis\":{\"gridcolor\":\"white\",\"linecolor\":\"white\",\"ticks\":\"\"},\"radialaxis\":{\"gridcolor\":\"white\",\"linecolor\":\"white\",\"ticks\":\"\"}},\"ternary\":{\"bgcolor\":\"#E5ECF6\",\"aaxis\":{\"gridcolor\":\"white\",\"linecolor\":\"white\",\"ticks\":\"\"},\"baxis\":{\"gridcolor\":\"white\",\"linecolor\":\"white\",\"ticks\":\"\"},\"caxis\":{\"gridcolor\":\"white\",\"linecolor\":\"white\",\"ticks\":\"\"}},\"coloraxis\":{\"colorbar\":{\"outlinewidth\":0,\"ticks\":\"\"}},\"colorscale\":{\"sequential\":[[0.0,\"#0d0887\"],[0.1111111111111111,\"#46039f\"],[0.2222222222222222,\"#7201a8\"],[0.3333333333333333,\"#9c179e\"],[0.4444444444444444,\"#bd3786\"],[0.5555555555555556,\"#d8576b\"],[0.6666666666666666,\"#ed7953\"],[0.7777777777777778,\"#fb9f3a\"],[0.8888888888888888,\"#fdca26\"],[1.0,\"#f0f921\"]],\"sequentialminus\":[[0.0,\"#0d0887\"],[0.1111111111111111,\"#46039f\"],[0.2222222222222222,\"#7201a8\"],[0.3333333333333333,\"#9c179e\"],[0.4444444444444444,\"#bd3786\"],[0.5555555555555556,\"#d8576b\"],[0.6666666666666666,\"#ed7953\"],[0.7777777777777778,\"#fb9f3a\"],[0.8888888888888888,\"#fdca26\"],[1.0,\"#f0f921\"]],\"diverging\":[[0,\"#8e0152\"],[0.1,\"#c51b7d\"],[0.2,\"#de77ae\"],[0.3,\"#f1b6da\"],[0.4,\"#fde0ef\"],[0.5,\"#f7f7f7\"],[0.6,\"#e6f5d0\"],[0.7,\"#b8e186\"],[0.8,\"#7fbc41\"],[0.9,\"#4d9221\"],[1,\"#276419\"]]},\"xaxis\":{\"gridcolor\":\"white\",\"linecolor\":\"white\",\"ticks\":\"\",\"title\":{\"standoff\":15},\"zerolinecolor\":\"white\",\"automargin\":true,\"zerolinewidth\":2},\"yaxis\":{\"gridcolor\":\"white\",\"linecolor\":\"white\",\"ticks\":\"\",\"title\":{\"standoff\":15},\"zerolinecolor\":\"white\",\"automargin\":true,\"zerolinewidth\":2},\"scene\":{\"xaxis\":{\"backgroundcolor\":\"#E5ECF6\",\"gridcolor\":\"white\",\"linecolor\":\"white\",\"showbackground\":true,\"ticks\":\"\",\"zerolinecolor\":\"white\",\"gridwidth\":2},\"yaxis\":{\"backgroundcolor\":\"#E5ECF6\",\"gridcolor\":\"white\",\"linecolor\":\"white\",\"showbackground\":true,\"ticks\":\"\",\"zerolinecolor\":\"white\",\"gridwidth\":2},\"zaxis\":{\"backgroundcolor\":\"#E5ECF6\",\"gridcolor\":\"white\",\"linecolor\":\"white\",\"showbackground\":true,\"ticks\":\"\",\"zerolinecolor\":\"white\",\"gridwidth\":2}},\"shapedefaults\":{\"line\":{\"color\":\"#2a3f5f\"}},\"annotationdefaults\":{\"arrowcolor\":\"#2a3f5f\",\"arrowhead\":0,\"arrowwidth\":1},\"geo\":{\"bgcolor\":\"white\",\"landcolor\":\"#E5ECF6\",\"subunitcolor\":\"white\",\"showland\":true,\"showlakes\":true,\"lakecolor\":\"white\"},\"title\":{\"x\":0.05},\"mapbox\":{\"style\":\"light\"}}},\"yaxis\":{\"range\":[-1,1],\"title\":{\"text\":\"social sensor performance\"}},\"xaxis\":{\"title\":{\"text\":\"hour\"}},\"width\":700,\"height\":500},                        {\"responsive\": true}                    ).then(function(){\n",
       "                            \n",
       "var gd = document.getElementById('b722da9b-5934-4843-a0ca-cde58a05fbd3');\n",
       "var x = new MutationObserver(function (mutations, observer) {{\n",
       "        var display = window.getComputedStyle(gd).display;\n",
       "        if (!display || display === 'none') {{\n",
       "            console.log([gd, 'removed!']);\n",
       "            Plotly.purge(gd);\n",
       "            observer.disconnect();\n",
       "        }}\n",
       "}});\n",
       "\n",
       "// Listen for the removal of the full notebook cells\n",
       "var notebookContainer = gd.closest('#notebook-container');\n",
       "if (notebookContainer) {{\n",
       "    x.observe(notebookContainer, {childList: true});\n",
       "}}\n",
       "\n",
       "// Listen for the clearing of the current output cell\n",
       "var outputEl = gd.closest('.output');\n",
       "if (outputEl) {{\n",
       "    x.observe(outputEl, {childList: true});\n",
       "}}\n",
       "\n",
       "                        })                };                });            </script>        </div>"
      ]
     },
     "metadata": {},
     "output_type": "display_data"
    }
   ],
   "source": [
    "data = []\n",
    "for place_id in range(0, len(list_mobile)):\n",
    "    mobile = np.load(list_mobile[place_id])\n",
    "    tweets = np.load(list_twitter[place_id])\n",
    "    dlete_list = []\n",
    "    if place_id == 0:\n",
    "        start_date = datetime(2021,1,1)\n",
    "    else:\n",
    "        start_date = datetime(2022,1,1)\n",
    "\n",
    "    for n_date_from_year in range(0,365):\n",
    "        Today = start_date + timedelta(days=n_date_from_year)\n",
    "        work_holi_Flag = isBizDay(Today)\n",
    "        if (\n",
    "            n_date_from_year == 0\n",
    "            or n_date_from_year == 1\n",
    "            or n_date_from_year == 2\n",
    "            or n_date_from_year == 362\n",
    "            or n_date_from_year == 363\n",
    "            or n_date_from_year == 364\n",
    "            or work_holi_Flag == \"Holiday\"\n",
    "            ):\n",
    "            dlete_list.append(n_date_from_year)\n",
    "    mobile = np.delete(mobile,dlete_list,axis=0)\n",
    "    tweets = np.delete(tweets,dlete_list,axis=0)\n",
    "\n",
    "    for i in range(0,24):\n",
    "        mobile_1hour = mobile[:, i:i+1]\n",
    "        mobile_1hour = mobile_1hour.flatten()\n",
    "        tweets_1hour = tweets[:, i:i+1]\n",
    "        tweets_1hour = tweets_1hour.flatten()\n",
    "\n",
    "        correlation, p_value = stats.pearsonr(mobile_1hour, tweets_1hour)\n",
    "        if p_value>0.05:\n",
    "            data.append([i,'', p_value, list_key[place_id]])\n",
    "        else:\n",
    "            data.append([i, correlation, p_value, list_key[place_id]])\n",
    "\n",
    "\n",
    "columns=['time','r','p','place']\n",
    "\n",
    "\n",
    "df= pd.DataFrame(data,columns=columns)\n",
    "\n",
    "\n",
    "\n",
    "list_place = df['place'].unique()\n",
    "fig = go.Figure(data=[\n",
    "    go.Scatter(x = df[df['place']==list_place[0]]['time'], y = df[df['place']==list_place[0]]['r'], name = list_place[0],),\n",
    "    go.Scatter(x = df[df['place']==list_place[1]]['time'], y = df[df['place']==list_place[1]]['r'], name = list_place[1],),\n",
    "    go.Scatter(x = df[df['place']==list_place[2]]['time'], y = df[df['place']==list_place[2]]['r'], name = list_place[2],),\n",
    "    go.Scatter(x = df[df['place']==list_place[3]]['time'], y = df[df['place']==list_place[3]]['r'], name = list_place[3],),\n",
    "    go.Scatter(x = df[df['place']==list_place[4]]['time'], y = df[df['place']==list_place[4]]['r'], name = list_place[4],),\n",
    "    go.Scatter(x = df[df['place']==list_place[5]]['time'], y = df[df['place']==list_place[5]]['r'], name = list_place[5],),\n",
    "    go.Scatter(x = df[df['place']==list_place[6]]['time'], y = df[df['place']==list_place[6]]['r'], name = list_place[6],),\n",
    "    go.Scatter(x = df[df['place']==list_place[7]]['time'], y = df[df['place']==list_place[7]]['r'], name = list_place[7],),\n",
    "    go.Scatter(x = df[df['place']==list_place[8]]['time'], y = df[df['place']==list_place[8]]['r'], name = list_place[8],),\n",
    "    ])\n",
    "#fig.update_layout(title='Hourly social sensor performance (workday)')\n",
    "fig.update_layout(yaxis=dict(range=(-1, 1)))\n",
    "fig.update_layout(xaxis=dict(title='hour'),\n",
    "                 yaxis=dict(title='social sensor performance'))\n",
    "fig.update_layout(width=700,height=500)\n",
    "fig.show()"
   ]
  },
  {
   "cell_type": "code",
   "execution_count": 18,
   "metadata": {},
   "outputs": [
    {
     "data": {
      "application/vnd.plotly.v1+json": {
       "config": {
        "plotlyServerURL": "https://plot.ly"
       },
       "data": [
        {
         "name": "Tokyo Station",
         "type": "scatter",
         "x": [
          "0時",
          "1時",
          "2時",
          "3時",
          "4時",
          "5時",
          "6時",
          "7時",
          "8時",
          "9時",
          "10時",
          "11時",
          "12時",
          "13時",
          "14時",
          "15時",
          "16時",
          "17時",
          "18時",
          "19時",
          "20時",
          "21時",
          "22時",
          "23時"
         ],
         "y": [
          0.20663569668935994,
          -0.033174684560878624,
          -0.11326341401910288,
          -0.18564812903036965,
          -0.05938588846458267,
          0.4036887433988626,
          0.8192002443084673,
          0.786464073591908,
          0.6570787649334748,
          0.673555135669155,
          0.6434491538233333,
          0.6799206285684501,
          0.6439242503716348,
          0.5012908961180539,
          0.5671607468634863,
          0.5702356784554522,
          0.5616910830512377,
          0.5284932527702063,
          0.5266779869442102,
          0.5969208094456189,
          0.5205104969572233,
          0.522978474098175,
          0.4027816346826661,
          0.4956897457165841
         ]
        },
        {
         "name": "Arashiyama",
         "type": "scatter",
         "x": [
          "0時",
          "1時",
          "2時",
          "3時",
          "4時",
          "5時",
          "6時",
          "7時",
          "8時",
          "9時",
          "10時",
          "11時",
          "12時",
          "13時",
          "14時",
          "15時",
          "16時",
          "17時",
          "18時",
          "19時",
          "20時",
          "21時",
          "22時",
          "23時"
         ],
         "y": [
          -0.049682066159158975,
          0.06408468922613894,
          0.16614385925115324,
          null,
          -0.004579778614601937,
          0.0860390954607998,
          0.027884293835102054,
          0.012051399230327803,
          0.31963067305579557,
          0.19572604008619515,
          0.3174893038926116,
          0.40459505241595983,
          0.33745591338302566,
          0.32207702928987675,
          0.5757153472533781,
          0.34330975498380767,
          0.21570821208824587,
          0.014457410461174276,
          0.32062380396200413,
          0.0984608147565989,
          0.09488895763657851,
          0.12543472330312708,
          -0.10862792046641488,
          0.1279285193727444
         ]
        },
        {
         "name": "Karasuma",
         "type": "scatter",
         "x": [
          "0時",
          "1時",
          "2時",
          "3時",
          "4時",
          "5時",
          "6時",
          "7時",
          "8時",
          "9時",
          "10時",
          "11時",
          "12時",
          "13時",
          "14時",
          "15時",
          "16時",
          "17時",
          "18時",
          "19時",
          "20時",
          "21時",
          "22時",
          "23時"
         ],
         "y": [
          0.09976947499517629,
          0.010831592141541793,
          -0.006122184314554397,
          0.20953032527995755,
          0.005439184942649116,
          0.032314489909200966,
          -0.04318456203199353,
          0.12224026010789318,
          0.112818172101596,
          0.04292200380759576,
          0.32335348723658797,
          0.15316763008262135,
          0.29435256556981326,
          0.17698356738233162,
          0.17499258235746684,
          0.07979824277489328,
          -0.017349837888034608,
          0.02471308574746964,
          0.1485687954531439,
          0.13319498136098906,
          0.021085970481760925,
          0.27617468455035404,
          0.04990046976343394,
          0.16777390788823354
         ]
        },
        {
         "name": "Kinkaku Temple",
         "type": "scatter",
         "x": [
          "0時",
          "1時",
          "2時",
          "3時",
          "4時",
          "5時",
          "6時",
          "7時",
          "8時",
          "9時",
          "10時",
          "11時",
          "12時",
          "13時",
          "14時",
          "15時",
          "16時",
          "17時",
          "18時",
          "19時",
          "20時",
          "21時",
          "22時",
          "23時"
         ],
         "y": [
          -0.19156064425131014,
          -0.18248676866375246,
          0.022621391875005035,
          -0.048946630449043405,
          -0.00966459699432007,
          null,
          -0.022020570457252968,
          -0.11298784069838362,
          -0.15503829865311122,
          -0.01742225255519592,
          0.032690702150022684,
          0.20995863327961334,
          0.11322722057524592,
          -0.00735352505008662,
          0.20678562480835624,
          0.24505287737430614,
          0.12437370127988376,
          -0.1157736512578498,
          -0.1694364358033478,
          -0.010991852813881783,
          -0.08689721712598329,
          -0.0515349789084554,
          -0.048509538312292724,
          -0.06764293635563344
         ]
        },
        {
         "name": "Kiyomizu Temple",
         "type": "scatter",
         "x": [
          "0時",
          "1時",
          "2時",
          "3時",
          "4時",
          "5時",
          "6時",
          "7時",
          "8時",
          "9時",
          "10時",
          "11時",
          "12時",
          "13時",
          "14時",
          "15時",
          "16時",
          "17時",
          "18時",
          "19時",
          "20時",
          "21時",
          "22時",
          "23時"
         ],
         "y": [
          -0.04204821929826495,
          0.02678661184603462,
          0.1312290931757491,
          0.008122132387811561,
          0.038283121309925235,
          -0.025565379873301968,
          0.11025147402692224,
          0.2765961106868598,
          0.053292543684354404,
          0.18272601684007023,
          0.23646717544246612,
          0.42936066892415475,
          0.3397278760420464,
          0.4379289856141518,
          0.31248960611674237,
          0.31570536953110045,
          0.4920322858194683,
          0.4813561533217116,
          0.6805876683104873,
          0.4708873883416786,
          0.5349846979690891,
          0.2924948910359921,
          0.30476923932446676,
          0.006811116649760663
         ]
        },
        {
         "name": "Kyoto University",
         "type": "scatter",
         "x": [
          "0時",
          "1時",
          "2時",
          "3時",
          "4時",
          "5時",
          "6時",
          "7時",
          "8時",
          "9時",
          "10時",
          "11時",
          "12時",
          "13時",
          "14時",
          "15時",
          "16時",
          "17時",
          "18時",
          "19時",
          "20時",
          "21時",
          "22時",
          "23時"
         ],
         "y": [
          0.03363129281469291,
          -0.04231707185011214,
          -0.1964800327107352,
          -0.03825103795728353,
          null,
          -0.0812916788839812,
          0.013818507006916673,
          -0.06078596474435302,
          0.000058711899674069734,
          0.09494741288791114,
          0.03060184463376088,
          -0.02071095337968737,
          0.048415441396036756,
          -0.014890531336133743,
          0.04076639091161632,
          0.025476830688549966,
          0.0333219440602194,
          -0.040918497586225,
          -0.10103406592482676,
          0.014552582160825944,
          -0.03221568927041443,
          0.08064397482323395,
          -0.14145060549090852,
          0.009420551351127964
         ]
        },
        {
         "name": "Nizyou",
         "type": "scatter",
         "x": [
          "0時",
          "1時",
          "2時",
          "3時",
          "4時",
          "5時",
          "6時",
          "7時",
          "8時",
          "9時",
          "10時",
          "11時",
          "12時",
          "13時",
          "14時",
          "15時",
          "16時",
          "17時",
          "18時",
          "19時",
          "20時",
          "21時",
          "22時",
          "23時"
         ],
         "y": [
          -0.04126523822408767,
          0.09603459466107621,
          0.054452247505744414,
          0.011891852350126308,
          -0.0045518494828600395,
          -0.0001466655054869522,
          -0.06923969249107347,
          -0.0762809491558324,
          0.03537731122316761,
          0.19166546367289056,
          0.08638653710348539,
          0.2159308489027968,
          0.06710585420703441,
          0.06543585644893078,
          0.09171935751115906,
          0.10033744191100971,
          0.23172208924871998,
          -0.03444278205748847,
          0.16599725801285847,
          0.21019683487449126,
          0.16847285427714093,
          0.07841927973342416,
          0.14347241002083483,
          0.07297962188474269
         ]
        },
        {
         "name": "Touzi",
         "type": "scatter",
         "x": [
          "0時",
          "1時",
          "2時",
          "3時",
          "4時",
          "5時",
          "6時",
          "7時",
          "8時",
          "9時",
          "10時",
          "11時",
          "12時",
          "13時",
          "14時",
          "15時",
          "16時",
          "17時",
          "18時",
          "19時",
          "20時",
          "21時",
          "22時",
          "23時"
         ],
         "y": [
          -0.05633614322173039,
          0.07644025344129876,
          -0.029187266685891826,
          0.039666413153274495,
          0.07512591126115917,
          0.11479743200471727,
          0.17881525722497957,
          0.0791384570081783,
          0.0805473734786992,
          0.2258874277490538,
          0.1578166972672225,
          0.12798777221863522,
          0.18918126128408702,
          0.061016449878723206,
          0.010118300182627972,
          -0.08864984930823339,
          0.0651070649061827,
          0.12783807236354075,
          0.19889403256729038,
          0.355834928572108,
          0.2796444768526954,
          0.041193860272924536,
          -0.08873664120823846,
          0.26263297356803006
         ]
        },
        {
         "name": "Kyoto Station",
         "type": "scatter",
         "x": [
          "0時",
          "1時",
          "2時",
          "3時",
          "4時",
          "5時",
          "6時",
          "7時",
          "8時",
          "9時",
          "10時",
          "11時",
          "12時",
          "13時",
          "14時",
          "15時",
          "16時",
          "17時",
          "18時",
          "19時",
          "20時",
          "21時",
          "22時",
          "23時"
         ],
         "y": [
          0.39312376649453223,
          0.2185949579892,
          0.10474439173060014,
          0.26326345786281213,
          0.12538301910222555,
          0.28558307792624416,
          0.34615893397629316,
          0.42637278434098935,
          0.4973019666620104,
          0.40010343391208486,
          0.6097534861818139,
          0.5369785605050768,
          0.5090544328710066,
          0.408660313233062,
          0.43555291432906135,
          0.37916283172460397,
          0.474430676020543,
          0.41596216469002517,
          0.45372018499535877,
          0.4663613974248932,
          0.4599522042750466,
          0.3981637132027027,
          0.5114209712608387,
          0.4429659549091677
         ]
        }
       ],
       "layout": {
        "template": {
         "data": {
          "bar": [
           {
            "error_x": {
             "color": "#2a3f5f"
            },
            "error_y": {
             "color": "#2a3f5f"
            },
            "marker": {
             "line": {
              "color": "#E5ECF6",
              "width": 0.5
             },
             "pattern": {
              "fillmode": "overlay",
              "size": 10,
              "solidity": 0.2
             }
            },
            "type": "bar"
           }
          ],
          "barpolar": [
           {
            "marker": {
             "line": {
              "color": "#E5ECF6",
              "width": 0.5
             },
             "pattern": {
              "fillmode": "overlay",
              "size": 10,
              "solidity": 0.2
             }
            },
            "type": "barpolar"
           }
          ],
          "carpet": [
           {
            "aaxis": {
             "endlinecolor": "#2a3f5f",
             "gridcolor": "white",
             "linecolor": "white",
             "minorgridcolor": "white",
             "startlinecolor": "#2a3f5f"
            },
            "baxis": {
             "endlinecolor": "#2a3f5f",
             "gridcolor": "white",
             "linecolor": "white",
             "minorgridcolor": "white",
             "startlinecolor": "#2a3f5f"
            },
            "type": "carpet"
           }
          ],
          "choropleth": [
           {
            "colorbar": {
             "outlinewidth": 0,
             "ticks": ""
            },
            "type": "choropleth"
           }
          ],
          "contour": [
           {
            "colorbar": {
             "outlinewidth": 0,
             "ticks": ""
            },
            "colorscale": [
             [
              0,
              "#0d0887"
             ],
             [
              0.1111111111111111,
              "#46039f"
             ],
             [
              0.2222222222222222,
              "#7201a8"
             ],
             [
              0.3333333333333333,
              "#9c179e"
             ],
             [
              0.4444444444444444,
              "#bd3786"
             ],
             [
              0.5555555555555556,
              "#d8576b"
             ],
             [
              0.6666666666666666,
              "#ed7953"
             ],
             [
              0.7777777777777778,
              "#fb9f3a"
             ],
             [
              0.8888888888888888,
              "#fdca26"
             ],
             [
              1,
              "#f0f921"
             ]
            ],
            "type": "contour"
           }
          ],
          "contourcarpet": [
           {
            "colorbar": {
             "outlinewidth": 0,
             "ticks": ""
            },
            "type": "contourcarpet"
           }
          ],
          "heatmap": [
           {
            "colorbar": {
             "outlinewidth": 0,
             "ticks": ""
            },
            "colorscale": [
             [
              0,
              "#0d0887"
             ],
             [
              0.1111111111111111,
              "#46039f"
             ],
             [
              0.2222222222222222,
              "#7201a8"
             ],
             [
              0.3333333333333333,
              "#9c179e"
             ],
             [
              0.4444444444444444,
              "#bd3786"
             ],
             [
              0.5555555555555556,
              "#d8576b"
             ],
             [
              0.6666666666666666,
              "#ed7953"
             ],
             [
              0.7777777777777778,
              "#fb9f3a"
             ],
             [
              0.8888888888888888,
              "#fdca26"
             ],
             [
              1,
              "#f0f921"
             ]
            ],
            "type": "heatmap"
           }
          ],
          "heatmapgl": [
           {
            "colorbar": {
             "outlinewidth": 0,
             "ticks": ""
            },
            "colorscale": [
             [
              0,
              "#0d0887"
             ],
             [
              0.1111111111111111,
              "#46039f"
             ],
             [
              0.2222222222222222,
              "#7201a8"
             ],
             [
              0.3333333333333333,
              "#9c179e"
             ],
             [
              0.4444444444444444,
              "#bd3786"
             ],
             [
              0.5555555555555556,
              "#d8576b"
             ],
             [
              0.6666666666666666,
              "#ed7953"
             ],
             [
              0.7777777777777778,
              "#fb9f3a"
             ],
             [
              0.8888888888888888,
              "#fdca26"
             ],
             [
              1,
              "#f0f921"
             ]
            ],
            "type": "heatmapgl"
           }
          ],
          "histogram": [
           {
            "marker": {
             "pattern": {
              "fillmode": "overlay",
              "size": 10,
              "solidity": 0.2
             }
            },
            "type": "histogram"
           }
          ],
          "histogram2d": [
           {
            "colorbar": {
             "outlinewidth": 0,
             "ticks": ""
            },
            "colorscale": [
             [
              0,
              "#0d0887"
             ],
             [
              0.1111111111111111,
              "#46039f"
             ],
             [
              0.2222222222222222,
              "#7201a8"
             ],
             [
              0.3333333333333333,
              "#9c179e"
             ],
             [
              0.4444444444444444,
              "#bd3786"
             ],
             [
              0.5555555555555556,
              "#d8576b"
             ],
             [
              0.6666666666666666,
              "#ed7953"
             ],
             [
              0.7777777777777778,
              "#fb9f3a"
             ],
             [
              0.8888888888888888,
              "#fdca26"
             ],
             [
              1,
              "#f0f921"
             ]
            ],
            "type": "histogram2d"
           }
          ],
          "histogram2dcontour": [
           {
            "colorbar": {
             "outlinewidth": 0,
             "ticks": ""
            },
            "colorscale": [
             [
              0,
              "#0d0887"
             ],
             [
              0.1111111111111111,
              "#46039f"
             ],
             [
              0.2222222222222222,
              "#7201a8"
             ],
             [
              0.3333333333333333,
              "#9c179e"
             ],
             [
              0.4444444444444444,
              "#bd3786"
             ],
             [
              0.5555555555555556,
              "#d8576b"
             ],
             [
              0.6666666666666666,
              "#ed7953"
             ],
             [
              0.7777777777777778,
              "#fb9f3a"
             ],
             [
              0.8888888888888888,
              "#fdca26"
             ],
             [
              1,
              "#f0f921"
             ]
            ],
            "type": "histogram2dcontour"
           }
          ],
          "mesh3d": [
           {
            "colorbar": {
             "outlinewidth": 0,
             "ticks": ""
            },
            "type": "mesh3d"
           }
          ],
          "parcoords": [
           {
            "line": {
             "colorbar": {
              "outlinewidth": 0,
              "ticks": ""
             }
            },
            "type": "parcoords"
           }
          ],
          "pie": [
           {
            "automargin": true,
            "type": "pie"
           }
          ],
          "scatter": [
           {
            "fillpattern": {
             "fillmode": "overlay",
             "size": 10,
             "solidity": 0.2
            },
            "type": "scatter"
           }
          ],
          "scatter3d": [
           {
            "line": {
             "colorbar": {
              "outlinewidth": 0,
              "ticks": ""
             }
            },
            "marker": {
             "colorbar": {
              "outlinewidth": 0,
              "ticks": ""
             }
            },
            "type": "scatter3d"
           }
          ],
          "scattercarpet": [
           {
            "marker": {
             "colorbar": {
              "outlinewidth": 0,
              "ticks": ""
             }
            },
            "type": "scattercarpet"
           }
          ],
          "scattergeo": [
           {
            "marker": {
             "colorbar": {
              "outlinewidth": 0,
              "ticks": ""
             }
            },
            "type": "scattergeo"
           }
          ],
          "scattergl": [
           {
            "marker": {
             "colorbar": {
              "outlinewidth": 0,
              "ticks": ""
             }
            },
            "type": "scattergl"
           }
          ],
          "scattermapbox": [
           {
            "marker": {
             "colorbar": {
              "outlinewidth": 0,
              "ticks": ""
             }
            },
            "type": "scattermapbox"
           }
          ],
          "scatterpolar": [
           {
            "marker": {
             "colorbar": {
              "outlinewidth": 0,
              "ticks": ""
             }
            },
            "type": "scatterpolar"
           }
          ],
          "scatterpolargl": [
           {
            "marker": {
             "colorbar": {
              "outlinewidth": 0,
              "ticks": ""
             }
            },
            "type": "scatterpolargl"
           }
          ],
          "scatterternary": [
           {
            "marker": {
             "colorbar": {
              "outlinewidth": 0,
              "ticks": ""
             }
            },
            "type": "scatterternary"
           }
          ],
          "surface": [
           {
            "colorbar": {
             "outlinewidth": 0,
             "ticks": ""
            },
            "colorscale": [
             [
              0,
              "#0d0887"
             ],
             [
              0.1111111111111111,
              "#46039f"
             ],
             [
              0.2222222222222222,
              "#7201a8"
             ],
             [
              0.3333333333333333,
              "#9c179e"
             ],
             [
              0.4444444444444444,
              "#bd3786"
             ],
             [
              0.5555555555555556,
              "#d8576b"
             ],
             [
              0.6666666666666666,
              "#ed7953"
             ],
             [
              0.7777777777777778,
              "#fb9f3a"
             ],
             [
              0.8888888888888888,
              "#fdca26"
             ],
             [
              1,
              "#f0f921"
             ]
            ],
            "type": "surface"
           }
          ],
          "table": [
           {
            "cells": {
             "fill": {
              "color": "#EBF0F8"
             },
             "line": {
              "color": "white"
             }
            },
            "header": {
             "fill": {
              "color": "#C8D4E3"
             },
             "line": {
              "color": "white"
             }
            },
            "type": "table"
           }
          ]
         },
         "layout": {
          "annotationdefaults": {
           "arrowcolor": "#2a3f5f",
           "arrowhead": 0,
           "arrowwidth": 1
          },
          "autotypenumbers": "strict",
          "coloraxis": {
           "colorbar": {
            "outlinewidth": 0,
            "ticks": ""
           }
          },
          "colorscale": {
           "diverging": [
            [
             0,
             "#8e0152"
            ],
            [
             0.1,
             "#c51b7d"
            ],
            [
             0.2,
             "#de77ae"
            ],
            [
             0.3,
             "#f1b6da"
            ],
            [
             0.4,
             "#fde0ef"
            ],
            [
             0.5,
             "#f7f7f7"
            ],
            [
             0.6,
             "#e6f5d0"
            ],
            [
             0.7,
             "#b8e186"
            ],
            [
             0.8,
             "#7fbc41"
            ],
            [
             0.9,
             "#4d9221"
            ],
            [
             1,
             "#276419"
            ]
           ],
           "sequential": [
            [
             0,
             "#0d0887"
            ],
            [
             0.1111111111111111,
             "#46039f"
            ],
            [
             0.2222222222222222,
             "#7201a8"
            ],
            [
             0.3333333333333333,
             "#9c179e"
            ],
            [
             0.4444444444444444,
             "#bd3786"
            ],
            [
             0.5555555555555556,
             "#d8576b"
            ],
            [
             0.6666666666666666,
             "#ed7953"
            ],
            [
             0.7777777777777778,
             "#fb9f3a"
            ],
            [
             0.8888888888888888,
             "#fdca26"
            ],
            [
             1,
             "#f0f921"
            ]
           ],
           "sequentialminus": [
            [
             0,
             "#0d0887"
            ],
            [
             0.1111111111111111,
             "#46039f"
            ],
            [
             0.2222222222222222,
             "#7201a8"
            ],
            [
             0.3333333333333333,
             "#9c179e"
            ],
            [
             0.4444444444444444,
             "#bd3786"
            ],
            [
             0.5555555555555556,
             "#d8576b"
            ],
            [
             0.6666666666666666,
             "#ed7953"
            ],
            [
             0.7777777777777778,
             "#fb9f3a"
            ],
            [
             0.8888888888888888,
             "#fdca26"
            ],
            [
             1,
             "#f0f921"
            ]
           ]
          },
          "colorway": [
           "#636efa",
           "#EF553B",
           "#00cc96",
           "#ab63fa",
           "#FFA15A",
           "#19d3f3",
           "#FF6692",
           "#B6E880",
           "#FF97FF",
           "#FECB52"
          ],
          "font": {
           "color": "#2a3f5f"
          },
          "geo": {
           "bgcolor": "white",
           "lakecolor": "white",
           "landcolor": "#E5ECF6",
           "showlakes": true,
           "showland": true,
           "subunitcolor": "white"
          },
          "hoverlabel": {
           "align": "left"
          },
          "hovermode": "closest",
          "mapbox": {
           "style": "light"
          },
          "paper_bgcolor": "white",
          "plot_bgcolor": "#E5ECF6",
          "polar": {
           "angularaxis": {
            "gridcolor": "white",
            "linecolor": "white",
            "ticks": ""
           },
           "bgcolor": "#E5ECF6",
           "radialaxis": {
            "gridcolor": "white",
            "linecolor": "white",
            "ticks": ""
           }
          },
          "scene": {
           "xaxis": {
            "backgroundcolor": "#E5ECF6",
            "gridcolor": "white",
            "gridwidth": 2,
            "linecolor": "white",
            "showbackground": true,
            "ticks": "",
            "zerolinecolor": "white"
           },
           "yaxis": {
            "backgroundcolor": "#E5ECF6",
            "gridcolor": "white",
            "gridwidth": 2,
            "linecolor": "white",
            "showbackground": true,
            "ticks": "",
            "zerolinecolor": "white"
           },
           "zaxis": {
            "backgroundcolor": "#E5ECF6",
            "gridcolor": "white",
            "gridwidth": 2,
            "linecolor": "white",
            "showbackground": true,
            "ticks": "",
            "zerolinecolor": "white"
           }
          },
          "shapedefaults": {
           "line": {
            "color": "#2a3f5f"
           }
          },
          "ternary": {
           "aaxis": {
            "gridcolor": "white",
            "linecolor": "white",
            "ticks": ""
           },
           "baxis": {
            "gridcolor": "white",
            "linecolor": "white",
            "ticks": ""
           },
           "bgcolor": "#E5ECF6",
           "caxis": {
            "gridcolor": "white",
            "linecolor": "white",
            "ticks": ""
           }
          },
          "title": {
           "x": 0.05
          },
          "xaxis": {
           "automargin": true,
           "gridcolor": "white",
           "linecolor": "white",
           "ticks": "",
           "title": {
            "standoff": 15
           },
           "zerolinecolor": "white",
           "zerolinewidth": 2
          },
          "yaxis": {
           "automargin": true,
           "gridcolor": "white",
           "linecolor": "white",
           "ticks": "",
           "title": {
            "standoff": 15
           },
           "zerolinecolor": "white",
           "zerolinewidth": 2
          }
         }
        },
        "title": {
         "text": "1時間ごとのソーシャルセンサ性能 (休日)"
        },
        "xaxis": {
         "title": {
          "text": "時間"
         }
        },
        "yaxis": {
         "range": [
          -1,
          1
         ],
         "title": {
          "text": "ソーシャルセンサ性能"
         }
        }
       }
      },
      "text/html": [
       "<div>                            <div id=\"b8b253d7-fb69-46e2-965d-8954d3d0115f\" class=\"plotly-graph-div\" style=\"height:525px; width:100%;\"></div>            <script type=\"text/javascript\">                require([\"plotly\"], function(Plotly) {                    window.PLOTLYENV=window.PLOTLYENV || {};                                    if (document.getElementById(\"b8b253d7-fb69-46e2-965d-8954d3d0115f\")) {                    Plotly.newPlot(                        \"b8b253d7-fb69-46e2-965d-8954d3d0115f\",                        [{\"name\":\"Tokyo Station\",\"x\":[\"0\\u6642\",\"1\\u6642\",\"2\\u6642\",\"3\\u6642\",\"4\\u6642\",\"5\\u6642\",\"6\\u6642\",\"7\\u6642\",\"8\\u6642\",\"9\\u6642\",\"10\\u6642\",\"11\\u6642\",\"12\\u6642\",\"13\\u6642\",\"14\\u6642\",\"15\\u6642\",\"16\\u6642\",\"17\\u6642\",\"18\\u6642\",\"19\\u6642\",\"20\\u6642\",\"21\\u6642\",\"22\\u6642\",\"23\\u6642\"],\"y\":[0.20663569668935994,-0.033174684560878624,-0.11326341401910288,-0.18564812903036965,-0.05938588846458267,0.4036887433988626,0.8192002443084673,0.786464073591908,0.6570787649334748,0.673555135669155,0.6434491538233333,0.6799206285684501,0.6439242503716348,0.5012908961180539,0.5671607468634863,0.5702356784554522,0.5616910830512377,0.5284932527702063,0.5266779869442102,0.5969208094456189,0.5205104969572233,0.522978474098175,0.4027816346826661,0.4956897457165841],\"type\":\"scatter\"},{\"name\":\"Arashiyama\",\"x\":[\"0\\u6642\",\"1\\u6642\",\"2\\u6642\",\"3\\u6642\",\"4\\u6642\",\"5\\u6642\",\"6\\u6642\",\"7\\u6642\",\"8\\u6642\",\"9\\u6642\",\"10\\u6642\",\"11\\u6642\",\"12\\u6642\",\"13\\u6642\",\"14\\u6642\",\"15\\u6642\",\"16\\u6642\",\"17\\u6642\",\"18\\u6642\",\"19\\u6642\",\"20\\u6642\",\"21\\u6642\",\"22\\u6642\",\"23\\u6642\"],\"y\":[-0.049682066159158975,0.06408468922613894,0.16614385925115324,null,-0.004579778614601937,0.0860390954607998,0.027884293835102054,0.012051399230327803,0.31963067305579557,0.19572604008619515,0.3174893038926116,0.40459505241595983,0.33745591338302566,0.32207702928987675,0.5757153472533781,0.34330975498380767,0.21570821208824587,0.014457410461174276,0.32062380396200413,0.0984608147565989,0.09488895763657851,0.12543472330312708,-0.10862792046641488,0.1279285193727444],\"type\":\"scatter\"},{\"name\":\"Karasuma\",\"x\":[\"0\\u6642\",\"1\\u6642\",\"2\\u6642\",\"3\\u6642\",\"4\\u6642\",\"5\\u6642\",\"6\\u6642\",\"7\\u6642\",\"8\\u6642\",\"9\\u6642\",\"10\\u6642\",\"11\\u6642\",\"12\\u6642\",\"13\\u6642\",\"14\\u6642\",\"15\\u6642\",\"16\\u6642\",\"17\\u6642\",\"18\\u6642\",\"19\\u6642\",\"20\\u6642\",\"21\\u6642\",\"22\\u6642\",\"23\\u6642\"],\"y\":[0.09976947499517629,0.010831592141541793,-0.006122184314554397,0.20953032527995755,0.005439184942649116,0.032314489909200966,-0.04318456203199353,0.12224026010789318,0.112818172101596,0.04292200380759576,0.32335348723658797,0.15316763008262135,0.29435256556981326,0.17698356738233162,0.17499258235746684,0.07979824277489328,-0.017349837888034608,0.02471308574746964,0.1485687954531439,0.13319498136098906,0.021085970481760925,0.27617468455035404,0.04990046976343394,0.16777390788823354],\"type\":\"scatter\"},{\"name\":\"Kinkaku Temple\",\"x\":[\"0\\u6642\",\"1\\u6642\",\"2\\u6642\",\"3\\u6642\",\"4\\u6642\",\"5\\u6642\",\"6\\u6642\",\"7\\u6642\",\"8\\u6642\",\"9\\u6642\",\"10\\u6642\",\"11\\u6642\",\"12\\u6642\",\"13\\u6642\",\"14\\u6642\",\"15\\u6642\",\"16\\u6642\",\"17\\u6642\",\"18\\u6642\",\"19\\u6642\",\"20\\u6642\",\"21\\u6642\",\"22\\u6642\",\"23\\u6642\"],\"y\":[-0.19156064425131014,-0.18248676866375246,0.022621391875005035,-0.048946630449043405,-0.00966459699432007,null,-0.022020570457252968,-0.11298784069838362,-0.15503829865311122,-0.01742225255519592,0.032690702150022684,0.20995863327961334,0.11322722057524592,-0.00735352505008662,0.20678562480835624,0.24505287737430614,0.12437370127988376,-0.1157736512578498,-0.1694364358033478,-0.010991852813881783,-0.08689721712598329,-0.0515349789084554,-0.048509538312292724,-0.06764293635563344],\"type\":\"scatter\"},{\"name\":\"Kiyomizu Temple\",\"x\":[\"0\\u6642\",\"1\\u6642\",\"2\\u6642\",\"3\\u6642\",\"4\\u6642\",\"5\\u6642\",\"6\\u6642\",\"7\\u6642\",\"8\\u6642\",\"9\\u6642\",\"10\\u6642\",\"11\\u6642\",\"12\\u6642\",\"13\\u6642\",\"14\\u6642\",\"15\\u6642\",\"16\\u6642\",\"17\\u6642\",\"18\\u6642\",\"19\\u6642\",\"20\\u6642\",\"21\\u6642\",\"22\\u6642\",\"23\\u6642\"],\"y\":[-0.04204821929826495,0.02678661184603462,0.1312290931757491,0.008122132387811561,0.038283121309925235,-0.025565379873301968,0.11025147402692224,0.2765961106868598,0.053292543684354404,0.18272601684007023,0.23646717544246612,0.42936066892415475,0.3397278760420464,0.4379289856141518,0.31248960611674237,0.31570536953110045,0.4920322858194683,0.4813561533217116,0.6805876683104873,0.4708873883416786,0.5349846979690891,0.2924948910359921,0.30476923932446676,0.006811116649760663],\"type\":\"scatter\"},{\"name\":\"Kyoto University\",\"x\":[\"0\\u6642\",\"1\\u6642\",\"2\\u6642\",\"3\\u6642\",\"4\\u6642\",\"5\\u6642\",\"6\\u6642\",\"7\\u6642\",\"8\\u6642\",\"9\\u6642\",\"10\\u6642\",\"11\\u6642\",\"12\\u6642\",\"13\\u6642\",\"14\\u6642\",\"15\\u6642\",\"16\\u6642\",\"17\\u6642\",\"18\\u6642\",\"19\\u6642\",\"20\\u6642\",\"21\\u6642\",\"22\\u6642\",\"23\\u6642\"],\"y\":[0.03363129281469291,-0.04231707185011214,-0.1964800327107352,-0.03825103795728353,null,-0.0812916788839812,0.013818507006916673,-0.06078596474435302,5.8711899674069734e-05,0.09494741288791114,0.03060184463376088,-0.02071095337968737,0.048415441396036756,-0.014890531336133743,0.04076639091161632,0.025476830688549966,0.0333219440602194,-0.040918497586225,-0.10103406592482676,0.014552582160825944,-0.03221568927041443,0.08064397482323395,-0.14145060549090852,0.009420551351127964],\"type\":\"scatter\"},{\"name\":\"Nizyou\",\"x\":[\"0\\u6642\",\"1\\u6642\",\"2\\u6642\",\"3\\u6642\",\"4\\u6642\",\"5\\u6642\",\"6\\u6642\",\"7\\u6642\",\"8\\u6642\",\"9\\u6642\",\"10\\u6642\",\"11\\u6642\",\"12\\u6642\",\"13\\u6642\",\"14\\u6642\",\"15\\u6642\",\"16\\u6642\",\"17\\u6642\",\"18\\u6642\",\"19\\u6642\",\"20\\u6642\",\"21\\u6642\",\"22\\u6642\",\"23\\u6642\"],\"y\":[-0.04126523822408767,0.09603459466107621,0.054452247505744414,0.011891852350126308,-0.0045518494828600395,-0.0001466655054869522,-0.06923969249107347,-0.0762809491558324,0.03537731122316761,0.19166546367289056,0.08638653710348539,0.2159308489027968,0.06710585420703441,0.06543585644893078,0.09171935751115906,0.10033744191100971,0.23172208924871998,-0.03444278205748847,0.16599725801285847,0.21019683487449126,0.16847285427714093,0.07841927973342416,0.14347241002083483,0.07297962188474269],\"type\":\"scatter\"},{\"name\":\"Touzi\",\"x\":[\"0\\u6642\",\"1\\u6642\",\"2\\u6642\",\"3\\u6642\",\"4\\u6642\",\"5\\u6642\",\"6\\u6642\",\"7\\u6642\",\"8\\u6642\",\"9\\u6642\",\"10\\u6642\",\"11\\u6642\",\"12\\u6642\",\"13\\u6642\",\"14\\u6642\",\"15\\u6642\",\"16\\u6642\",\"17\\u6642\",\"18\\u6642\",\"19\\u6642\",\"20\\u6642\",\"21\\u6642\",\"22\\u6642\",\"23\\u6642\"],\"y\":[-0.05633614322173039,0.07644025344129876,-0.029187266685891826,0.039666413153274495,0.07512591126115917,0.11479743200471727,0.17881525722497957,0.0791384570081783,0.0805473734786992,0.2258874277490538,0.1578166972672225,0.12798777221863522,0.18918126128408702,0.061016449878723206,0.010118300182627972,-0.08864984930823339,0.0651070649061827,0.12783807236354075,0.19889403256729038,0.355834928572108,0.2796444768526954,0.041193860272924536,-0.08873664120823846,0.26263297356803006],\"type\":\"scatter\"},{\"name\":\"Kyoto Station\",\"x\":[\"0\\u6642\",\"1\\u6642\",\"2\\u6642\",\"3\\u6642\",\"4\\u6642\",\"5\\u6642\",\"6\\u6642\",\"7\\u6642\",\"8\\u6642\",\"9\\u6642\",\"10\\u6642\",\"11\\u6642\",\"12\\u6642\",\"13\\u6642\",\"14\\u6642\",\"15\\u6642\",\"16\\u6642\",\"17\\u6642\",\"18\\u6642\",\"19\\u6642\",\"20\\u6642\",\"21\\u6642\",\"22\\u6642\",\"23\\u6642\"],\"y\":[0.39312376649453223,0.2185949579892,0.10474439173060014,0.26326345786281213,0.12538301910222555,0.28558307792624416,0.34615893397629316,0.42637278434098935,0.4973019666620104,0.40010343391208486,0.6097534861818139,0.5369785605050768,0.5090544328710066,0.408660313233062,0.43555291432906135,0.37916283172460397,0.474430676020543,0.41596216469002517,0.45372018499535877,0.4663613974248932,0.4599522042750466,0.3981637132027027,0.5114209712608387,0.4429659549091677],\"type\":\"scatter\"}],                        {\"template\":{\"data\":{\"histogram2dcontour\":[{\"type\":\"histogram2dcontour\",\"colorbar\":{\"outlinewidth\":0,\"ticks\":\"\"},\"colorscale\":[[0.0,\"#0d0887\"],[0.1111111111111111,\"#46039f\"],[0.2222222222222222,\"#7201a8\"],[0.3333333333333333,\"#9c179e\"],[0.4444444444444444,\"#bd3786\"],[0.5555555555555556,\"#d8576b\"],[0.6666666666666666,\"#ed7953\"],[0.7777777777777778,\"#fb9f3a\"],[0.8888888888888888,\"#fdca26\"],[1.0,\"#f0f921\"]]}],\"choropleth\":[{\"type\":\"choropleth\",\"colorbar\":{\"outlinewidth\":0,\"ticks\":\"\"}}],\"histogram2d\":[{\"type\":\"histogram2d\",\"colorbar\":{\"outlinewidth\":0,\"ticks\":\"\"},\"colorscale\":[[0.0,\"#0d0887\"],[0.1111111111111111,\"#46039f\"],[0.2222222222222222,\"#7201a8\"],[0.3333333333333333,\"#9c179e\"],[0.4444444444444444,\"#bd3786\"],[0.5555555555555556,\"#d8576b\"],[0.6666666666666666,\"#ed7953\"],[0.7777777777777778,\"#fb9f3a\"],[0.8888888888888888,\"#fdca26\"],[1.0,\"#f0f921\"]]}],\"heatmap\":[{\"type\":\"heatmap\",\"colorbar\":{\"outlinewidth\":0,\"ticks\":\"\"},\"colorscale\":[[0.0,\"#0d0887\"],[0.1111111111111111,\"#46039f\"],[0.2222222222222222,\"#7201a8\"],[0.3333333333333333,\"#9c179e\"],[0.4444444444444444,\"#bd3786\"],[0.5555555555555556,\"#d8576b\"],[0.6666666666666666,\"#ed7953\"],[0.7777777777777778,\"#fb9f3a\"],[0.8888888888888888,\"#fdca26\"],[1.0,\"#f0f921\"]]}],\"heatmapgl\":[{\"type\":\"heatmapgl\",\"colorbar\":{\"outlinewidth\":0,\"ticks\":\"\"},\"colorscale\":[[0.0,\"#0d0887\"],[0.1111111111111111,\"#46039f\"],[0.2222222222222222,\"#7201a8\"],[0.3333333333333333,\"#9c179e\"],[0.4444444444444444,\"#bd3786\"],[0.5555555555555556,\"#d8576b\"],[0.6666666666666666,\"#ed7953\"],[0.7777777777777778,\"#fb9f3a\"],[0.8888888888888888,\"#fdca26\"],[1.0,\"#f0f921\"]]}],\"contourcarpet\":[{\"type\":\"contourcarpet\",\"colorbar\":{\"outlinewidth\":0,\"ticks\":\"\"}}],\"contour\":[{\"type\":\"contour\",\"colorbar\":{\"outlinewidth\":0,\"ticks\":\"\"},\"colorscale\":[[0.0,\"#0d0887\"],[0.1111111111111111,\"#46039f\"],[0.2222222222222222,\"#7201a8\"],[0.3333333333333333,\"#9c179e\"],[0.4444444444444444,\"#bd3786\"],[0.5555555555555556,\"#d8576b\"],[0.6666666666666666,\"#ed7953\"],[0.7777777777777778,\"#fb9f3a\"],[0.8888888888888888,\"#fdca26\"],[1.0,\"#f0f921\"]]}],\"surface\":[{\"type\":\"surface\",\"colorbar\":{\"outlinewidth\":0,\"ticks\":\"\"},\"colorscale\":[[0.0,\"#0d0887\"],[0.1111111111111111,\"#46039f\"],[0.2222222222222222,\"#7201a8\"],[0.3333333333333333,\"#9c179e\"],[0.4444444444444444,\"#bd3786\"],[0.5555555555555556,\"#d8576b\"],[0.6666666666666666,\"#ed7953\"],[0.7777777777777778,\"#fb9f3a\"],[0.8888888888888888,\"#fdca26\"],[1.0,\"#f0f921\"]]}],\"mesh3d\":[{\"type\":\"mesh3d\",\"colorbar\":{\"outlinewidth\":0,\"ticks\":\"\"}}],\"scatter\":[{\"fillpattern\":{\"fillmode\":\"overlay\",\"size\":10,\"solidity\":0.2},\"type\":\"scatter\"}],\"parcoords\":[{\"type\":\"parcoords\",\"line\":{\"colorbar\":{\"outlinewidth\":0,\"ticks\":\"\"}}}],\"scatterpolargl\":[{\"type\":\"scatterpolargl\",\"marker\":{\"colorbar\":{\"outlinewidth\":0,\"ticks\":\"\"}}}],\"bar\":[{\"error_x\":{\"color\":\"#2a3f5f\"},\"error_y\":{\"color\":\"#2a3f5f\"},\"marker\":{\"line\":{\"color\":\"#E5ECF6\",\"width\":0.5},\"pattern\":{\"fillmode\":\"overlay\",\"size\":10,\"solidity\":0.2}},\"type\":\"bar\"}],\"scattergeo\":[{\"type\":\"scattergeo\",\"marker\":{\"colorbar\":{\"outlinewidth\":0,\"ticks\":\"\"}}}],\"scatterpolar\":[{\"type\":\"scatterpolar\",\"marker\":{\"colorbar\":{\"outlinewidth\":0,\"ticks\":\"\"}}}],\"histogram\":[{\"marker\":{\"pattern\":{\"fillmode\":\"overlay\",\"size\":10,\"solidity\":0.2}},\"type\":\"histogram\"}],\"scattergl\":[{\"type\":\"scattergl\",\"marker\":{\"colorbar\":{\"outlinewidth\":0,\"ticks\":\"\"}}}],\"scatter3d\":[{\"type\":\"scatter3d\",\"line\":{\"colorbar\":{\"outlinewidth\":0,\"ticks\":\"\"}},\"marker\":{\"colorbar\":{\"outlinewidth\":0,\"ticks\":\"\"}}}],\"scattermapbox\":[{\"type\":\"scattermapbox\",\"marker\":{\"colorbar\":{\"outlinewidth\":0,\"ticks\":\"\"}}}],\"scatterternary\":[{\"type\":\"scatterternary\",\"marker\":{\"colorbar\":{\"outlinewidth\":0,\"ticks\":\"\"}}}],\"scattercarpet\":[{\"type\":\"scattercarpet\",\"marker\":{\"colorbar\":{\"outlinewidth\":0,\"ticks\":\"\"}}}],\"carpet\":[{\"aaxis\":{\"endlinecolor\":\"#2a3f5f\",\"gridcolor\":\"white\",\"linecolor\":\"white\",\"minorgridcolor\":\"white\",\"startlinecolor\":\"#2a3f5f\"},\"baxis\":{\"endlinecolor\":\"#2a3f5f\",\"gridcolor\":\"white\",\"linecolor\":\"white\",\"minorgridcolor\":\"white\",\"startlinecolor\":\"#2a3f5f\"},\"type\":\"carpet\"}],\"table\":[{\"cells\":{\"fill\":{\"color\":\"#EBF0F8\"},\"line\":{\"color\":\"white\"}},\"header\":{\"fill\":{\"color\":\"#C8D4E3\"},\"line\":{\"color\":\"white\"}},\"type\":\"table\"}],\"barpolar\":[{\"marker\":{\"line\":{\"color\":\"#E5ECF6\",\"width\":0.5},\"pattern\":{\"fillmode\":\"overlay\",\"size\":10,\"solidity\":0.2}},\"type\":\"barpolar\"}],\"pie\":[{\"automargin\":true,\"type\":\"pie\"}]},\"layout\":{\"autotypenumbers\":\"strict\",\"colorway\":[\"#636efa\",\"#EF553B\",\"#00cc96\",\"#ab63fa\",\"#FFA15A\",\"#19d3f3\",\"#FF6692\",\"#B6E880\",\"#FF97FF\",\"#FECB52\"],\"font\":{\"color\":\"#2a3f5f\"},\"hovermode\":\"closest\",\"hoverlabel\":{\"align\":\"left\"},\"paper_bgcolor\":\"white\",\"plot_bgcolor\":\"#E5ECF6\",\"polar\":{\"bgcolor\":\"#E5ECF6\",\"angularaxis\":{\"gridcolor\":\"white\",\"linecolor\":\"white\",\"ticks\":\"\"},\"radialaxis\":{\"gridcolor\":\"white\",\"linecolor\":\"white\",\"ticks\":\"\"}},\"ternary\":{\"bgcolor\":\"#E5ECF6\",\"aaxis\":{\"gridcolor\":\"white\",\"linecolor\":\"white\",\"ticks\":\"\"},\"baxis\":{\"gridcolor\":\"white\",\"linecolor\":\"white\",\"ticks\":\"\"},\"caxis\":{\"gridcolor\":\"white\",\"linecolor\":\"white\",\"ticks\":\"\"}},\"coloraxis\":{\"colorbar\":{\"outlinewidth\":0,\"ticks\":\"\"}},\"colorscale\":{\"sequential\":[[0.0,\"#0d0887\"],[0.1111111111111111,\"#46039f\"],[0.2222222222222222,\"#7201a8\"],[0.3333333333333333,\"#9c179e\"],[0.4444444444444444,\"#bd3786\"],[0.5555555555555556,\"#d8576b\"],[0.6666666666666666,\"#ed7953\"],[0.7777777777777778,\"#fb9f3a\"],[0.8888888888888888,\"#fdca26\"],[1.0,\"#f0f921\"]],\"sequentialminus\":[[0.0,\"#0d0887\"],[0.1111111111111111,\"#46039f\"],[0.2222222222222222,\"#7201a8\"],[0.3333333333333333,\"#9c179e\"],[0.4444444444444444,\"#bd3786\"],[0.5555555555555556,\"#d8576b\"],[0.6666666666666666,\"#ed7953\"],[0.7777777777777778,\"#fb9f3a\"],[0.8888888888888888,\"#fdca26\"],[1.0,\"#f0f921\"]],\"diverging\":[[0,\"#8e0152\"],[0.1,\"#c51b7d\"],[0.2,\"#de77ae\"],[0.3,\"#f1b6da\"],[0.4,\"#fde0ef\"],[0.5,\"#f7f7f7\"],[0.6,\"#e6f5d0\"],[0.7,\"#b8e186\"],[0.8,\"#7fbc41\"],[0.9,\"#4d9221\"],[1,\"#276419\"]]},\"xaxis\":{\"gridcolor\":\"white\",\"linecolor\":\"white\",\"ticks\":\"\",\"title\":{\"standoff\":15},\"zerolinecolor\":\"white\",\"automargin\":true,\"zerolinewidth\":2},\"yaxis\":{\"gridcolor\":\"white\",\"linecolor\":\"white\",\"ticks\":\"\",\"title\":{\"standoff\":15},\"zerolinecolor\":\"white\",\"automargin\":true,\"zerolinewidth\":2},\"scene\":{\"xaxis\":{\"backgroundcolor\":\"#E5ECF6\",\"gridcolor\":\"white\",\"linecolor\":\"white\",\"showbackground\":true,\"ticks\":\"\",\"zerolinecolor\":\"white\",\"gridwidth\":2},\"yaxis\":{\"backgroundcolor\":\"#E5ECF6\",\"gridcolor\":\"white\",\"linecolor\":\"white\",\"showbackground\":true,\"ticks\":\"\",\"zerolinecolor\":\"white\",\"gridwidth\":2},\"zaxis\":{\"backgroundcolor\":\"#E5ECF6\",\"gridcolor\":\"white\",\"linecolor\":\"white\",\"showbackground\":true,\"ticks\":\"\",\"zerolinecolor\":\"white\",\"gridwidth\":2}},\"shapedefaults\":{\"line\":{\"color\":\"#2a3f5f\"}},\"annotationdefaults\":{\"arrowcolor\":\"#2a3f5f\",\"arrowhead\":0,\"arrowwidth\":1},\"geo\":{\"bgcolor\":\"white\",\"landcolor\":\"#E5ECF6\",\"subunitcolor\":\"white\",\"showland\":true,\"showlakes\":true,\"lakecolor\":\"white\"},\"title\":{\"x\":0.05},\"mapbox\":{\"style\":\"light\"}}},\"title\":{\"text\":\"1\\u6642\\u9593\\u3054\\u3068\\u306e\\u30bd\\u30fc\\u30b7\\u30e3\\u30eb\\u30bb\\u30f3\\u30b5\\u6027\\u80fd (\\u4f11\\u65e5)\"},\"yaxis\":{\"range\":[-1,1],\"title\":{\"text\":\"\\u30bd\\u30fc\\u30b7\\u30e3\\u30eb\\u30bb\\u30f3\\u30b5\\u6027\\u80fd\"}},\"xaxis\":{\"title\":{\"text\":\"\\u6642\\u9593\"}}},                        {\"responsive\": true}                    ).then(function(){\n",
       "                            \n",
       "var gd = document.getElementById('b8b253d7-fb69-46e2-965d-8954d3d0115f');\n",
       "var x = new MutationObserver(function (mutations, observer) {{\n",
       "        var display = window.getComputedStyle(gd).display;\n",
       "        if (!display || display === 'none') {{\n",
       "            console.log([gd, 'removed!']);\n",
       "            Plotly.purge(gd);\n",
       "            observer.disconnect();\n",
       "        }}\n",
       "}});\n",
       "\n",
       "// Listen for the removal of the full notebook cells\n",
       "var notebookContainer = gd.closest('#notebook-container');\n",
       "if (notebookContainer) {{\n",
       "    x.observe(notebookContainer, {childList: true});\n",
       "}}\n",
       "\n",
       "// Listen for the clearing of the current output cell\n",
       "var outputEl = gd.closest('.output');\n",
       "if (outputEl) {{\n",
       "    x.observe(outputEl, {childList: true});\n",
       "}}\n",
       "\n",
       "                        })                };                });            </script>        </div>"
      ]
     },
     "metadata": {},
     "output_type": "display_data"
    }
   ],
   "source": [
    "data = []\n",
    "for place_id in range(0, len(list_mobile)):\n",
    "    mobile = np.load(list_mobile[place_id])\n",
    "    tweets = np.load(list_twitter[place_id])\n",
    "    dlete_list = []\n",
    "    if place_id == 0:\n",
    "        start_date = datetime(2021,1,1)\n",
    "    else:\n",
    "        start_date = datetime(2022,1,1)\n",
    "\n",
    "    for n_date_from_year in range(0,365):\n",
    "        Today = start_date + timedelta(days=n_date_from_year)\n",
    "        work_holi_Flag = isBizDay(Today)\n",
    "        if (\n",
    "            n_date_from_year == 0\n",
    "            or n_date_from_year == 1\n",
    "            or n_date_from_year == 2\n",
    "            or n_date_from_year == 362\n",
    "            or n_date_from_year == 363\n",
    "            or n_date_from_year == 364\n",
    "            or work_holi_Flag == \"Holiday\"\n",
    "            ):\n",
    "            continue\n",
    "        else:\n",
    "            dlete_list.append(n_date_from_year)\n",
    "    mobile = np.delete(mobile,dlete_list,axis=0)\n",
    "    tweets = np.delete(tweets,dlete_list,axis=0)\n",
    "\n",
    "    for i in range(0,24):\n",
    "        mobile_1hour = mobile[:, i:i+1]\n",
    "        mobile_1hour = mobile_1hour.flatten()\n",
    "        tweets_1hour = tweets[:, i:i+1]\n",
    "        tweets_1hour = tweets_1hour.flatten()\n",
    "\n",
    "        correlation, p_value = stats.pearsonr(mobile_1hour, tweets_1hour)\n",
    "        data.append([str(i) + '時', correlation, p_value, list_key[place_id]])\n",
    "\n",
    "\n",
    "columns=['time','r','p','place']\n",
    "\n",
    "\n",
    "df= pd.DataFrame(data,columns=columns)\n",
    "\n",
    "\n",
    "\n",
    "list_place = df['place'].unique()\n",
    "fig = go.Figure(data=[\n",
    "    go.Scatter(x = df[df['place']==list_place[0]]['time'], y = df[df['place']==list_place[0]]['r'], name = list_place[0],),\n",
    "    go.Scatter(x = df[df['place']==list_place[1]]['time'], y = df[df['place']==list_place[1]]['r'], name = list_place[1],),\n",
    "    go.Scatter(x = df[df['place']==list_place[2]]['time'], y = df[df['place']==list_place[2]]['r'], name = list_place[2],),\n",
    "    go.Scatter(x = df[df['place']==list_place[3]]['time'], y = df[df['place']==list_place[3]]['r'], name = list_place[3],),\n",
    "    go.Scatter(x = df[df['place']==list_place[4]]['time'], y = df[df['place']==list_place[4]]['r'], name = list_place[4],),\n",
    "    go.Scatter(x = df[df['place']==list_place[5]]['time'], y = df[df['place']==list_place[5]]['r'], name = list_place[5],),\n",
    "    go.Scatter(x = df[df['place']==list_place[6]]['time'], y = df[df['place']==list_place[6]]['r'], name = list_place[6],),\n",
    "    go.Scatter(x = df[df['place']==list_place[7]]['time'], y = df[df['place']==list_place[7]]['r'], name = list_place[7],),\n",
    "    go.Scatter(x = df[df['place']==list_place[8]]['time'], y = df[df['place']==list_place[8]]['r'], name = list_place[8],),\n",
    "    ])\n",
    "fig.update_layout(title='1時間ごとのソーシャルセンサ性能 (休日)')\n",
    "fig.update_layout(yaxis=dict(range=(-1, 1)))\n",
    "fig.update_layout(xaxis=dict(title='時間'),\n",
    "                 yaxis=dict(title='ソーシャルセンサ性能'))\n",
    "fig.show()"
   ]
  },
  {
   "cell_type": "code",
   "execution_count": 19,
   "metadata": {},
   "outputs": [
    {
     "data": {
      "application/vnd.plotly.v1+json": {
       "config": {
        "plotlyServerURL": "https://plot.ly"
       },
       "data": [
        {
         "name": "Tokyo Station",
         "type": "scatter",
         "x": [
          0,
          1,
          2,
          3,
          4,
          5,
          6,
          7,
          8,
          9,
          10,
          11,
          12,
          13,
          14,
          15,
          16,
          17,
          18,
          19,
          20,
          21,
          22,
          23
         ],
         "y": [
          0.20663569668935994,
          "",
          "",
          -0.18564812903036965,
          "",
          0.4036887433988626,
          0.8192002443084673,
          0.786464073591908,
          0.6570787649334748,
          0.673555135669155,
          0.6434491538233333,
          0.6799206285684501,
          0.6439242503716348,
          0.5012908961180539,
          0.5671607468634863,
          0.5702356784554522,
          0.5616910830512377,
          0.5284932527702063,
          0.5266779869442102,
          0.5969208094456189,
          0.5205104969572233,
          0.522978474098175,
          0.4027816346826661,
          0.4956897457165841
         ]
        },
        {
         "name": "Arashiyama",
         "type": "scatter",
         "x": [
          0,
          1,
          2,
          3,
          4,
          5,
          6,
          7,
          8,
          9,
          10,
          11,
          12,
          13,
          14,
          15,
          16,
          17,
          18,
          19,
          20,
          21,
          22,
          23
         ],
         "y": [
          "",
          "",
          "",
          null,
          "",
          "",
          "",
          "",
          0.31963067305579557,
          0.19572604008619515,
          0.3174893038926116,
          0.40459505241595983,
          0.33745591338302566,
          0.32207702928987675,
          0.5757153472533781,
          0.34330975498380767,
          0.21570821208824587,
          "",
          0.32062380396200413,
          "",
          "",
          "",
          "",
          ""
         ]
        },
        {
         "name": "Karasuma",
         "type": "scatter",
         "x": [
          0,
          1,
          2,
          3,
          4,
          5,
          6,
          7,
          8,
          9,
          10,
          11,
          12,
          13,
          14,
          15,
          16,
          17,
          18,
          19,
          20,
          21,
          22,
          23
         ],
         "y": [
          "",
          "",
          "",
          0.20953032527995755,
          "",
          "",
          "",
          "",
          "",
          "",
          0.32335348723658797,
          "",
          0.29435256556981326,
          "",
          "",
          "",
          "",
          "",
          "",
          "",
          "",
          0.27617468455035404,
          "",
          ""
         ]
        },
        {
         "name": "Kinkaku Temple",
         "type": "scatter",
         "x": [
          0,
          1,
          2,
          3,
          4,
          5,
          6,
          7,
          8,
          9,
          10,
          11,
          12,
          13,
          14,
          15,
          16,
          17,
          18,
          19,
          20,
          21,
          22,
          23
         ],
         "y": [
          -0.19156064425131014,
          -0.18248676866375246,
          "",
          "",
          "",
          null,
          "",
          "",
          "",
          "",
          "",
          0.20995863327961334,
          "",
          "",
          0.20678562480835624,
          0.24505287737430614,
          "",
          "",
          "",
          "",
          "",
          "",
          "",
          ""
         ]
        },
        {
         "name": "Kiyomizu Temple",
         "type": "scatter",
         "x": [
          0,
          1,
          2,
          3,
          4,
          5,
          6,
          7,
          8,
          9,
          10,
          11,
          12,
          13,
          14,
          15,
          16,
          17,
          18,
          19,
          20,
          21,
          22,
          23
         ],
         "y": [
          "",
          "",
          "",
          "",
          "",
          "",
          "",
          0.2765961106868598,
          "",
          0.18272601684007023,
          0.23646717544246612,
          0.42936066892415475,
          0.3397278760420464,
          0.4379289856141518,
          0.31248960611674237,
          0.31570536953110045,
          0.4920322858194683,
          0.4813561533217116,
          0.6805876683104873,
          0.4708873883416786,
          0.5349846979690891,
          0.2924948910359921,
          0.30476923932446676,
          ""
         ]
        },
        {
         "name": "Kyoto University",
         "type": "scatter",
         "x": [
          0,
          1,
          2,
          3,
          4,
          5,
          6,
          7,
          8,
          9,
          10,
          11,
          12,
          13,
          14,
          15,
          16,
          17,
          18,
          19,
          20,
          21,
          22,
          23
         ],
         "y": [
          "",
          "",
          -0.1964800327107352,
          "",
          null,
          "",
          "",
          "",
          "",
          "",
          "",
          "",
          "",
          "",
          "",
          "",
          "",
          "",
          "",
          "",
          "",
          "",
          "",
          ""
         ]
        },
        {
         "name": "Nizyou",
         "type": "scatter",
         "x": [
          0,
          1,
          2,
          3,
          4,
          5,
          6,
          7,
          8,
          9,
          10,
          11,
          12,
          13,
          14,
          15,
          16,
          17,
          18,
          19,
          20,
          21,
          22,
          23
         ],
         "y": [
          "",
          "",
          "",
          "",
          "",
          "",
          "",
          "",
          "",
          0.19166546367289056,
          "",
          0.2159308489027968,
          "",
          "",
          "",
          "",
          0.23172208924871998,
          "",
          "",
          0.21019683487449126,
          "",
          "",
          "",
          ""
         ]
        },
        {
         "name": "Touzi",
         "type": "scatter",
         "x": [
          0,
          1,
          2,
          3,
          4,
          5,
          6,
          7,
          8,
          9,
          10,
          11,
          12,
          13,
          14,
          15,
          16,
          17,
          18,
          19,
          20,
          21,
          22,
          23
         ],
         "y": [
          "",
          "",
          "",
          "",
          "",
          "",
          0.17881525722497957,
          "",
          "",
          0.2258874277490538,
          "",
          "",
          0.18918126128408702,
          "",
          "",
          "",
          "",
          "",
          0.19889403256729038,
          0.355834928572108,
          0.2796444768526954,
          "",
          "",
          0.26263297356803006
         ]
        },
        {
         "name": "Kyoto Station",
         "type": "scatter",
         "x": [
          0,
          1,
          2,
          3,
          4,
          5,
          6,
          7,
          8,
          9,
          10,
          11,
          12,
          13,
          14,
          15,
          16,
          17,
          18,
          19,
          20,
          21,
          22,
          23
         ],
         "y": [
          0.39312376649453223,
          0.2185949579892,
          "",
          0.26326345786281213,
          "",
          0.28558307792624416,
          0.34615893397629316,
          0.42637278434098935,
          0.4973019666620104,
          0.40010343391208486,
          0.6097534861818139,
          0.5369785605050768,
          0.5090544328710066,
          0.408660313233062,
          0.43555291432906135,
          0.37916283172460397,
          0.474430676020543,
          0.41596216469002517,
          0.45372018499535877,
          0.4663613974248932,
          0.4599522042750466,
          0.3981637132027027,
          0.5114209712608387,
          0.4429659549091677
         ]
        }
       ],
       "layout": {
        "height": 500,
        "template": {
         "data": {
          "bar": [
           {
            "error_x": {
             "color": "#2a3f5f"
            },
            "error_y": {
             "color": "#2a3f5f"
            },
            "marker": {
             "line": {
              "color": "#E5ECF6",
              "width": 0.5
             },
             "pattern": {
              "fillmode": "overlay",
              "size": 10,
              "solidity": 0.2
             }
            },
            "type": "bar"
           }
          ],
          "barpolar": [
           {
            "marker": {
             "line": {
              "color": "#E5ECF6",
              "width": 0.5
             },
             "pattern": {
              "fillmode": "overlay",
              "size": 10,
              "solidity": 0.2
             }
            },
            "type": "barpolar"
           }
          ],
          "carpet": [
           {
            "aaxis": {
             "endlinecolor": "#2a3f5f",
             "gridcolor": "white",
             "linecolor": "white",
             "minorgridcolor": "white",
             "startlinecolor": "#2a3f5f"
            },
            "baxis": {
             "endlinecolor": "#2a3f5f",
             "gridcolor": "white",
             "linecolor": "white",
             "minorgridcolor": "white",
             "startlinecolor": "#2a3f5f"
            },
            "type": "carpet"
           }
          ],
          "choropleth": [
           {
            "colorbar": {
             "outlinewidth": 0,
             "ticks": ""
            },
            "type": "choropleth"
           }
          ],
          "contour": [
           {
            "colorbar": {
             "outlinewidth": 0,
             "ticks": ""
            },
            "colorscale": [
             [
              0,
              "#0d0887"
             ],
             [
              0.1111111111111111,
              "#46039f"
             ],
             [
              0.2222222222222222,
              "#7201a8"
             ],
             [
              0.3333333333333333,
              "#9c179e"
             ],
             [
              0.4444444444444444,
              "#bd3786"
             ],
             [
              0.5555555555555556,
              "#d8576b"
             ],
             [
              0.6666666666666666,
              "#ed7953"
             ],
             [
              0.7777777777777778,
              "#fb9f3a"
             ],
             [
              0.8888888888888888,
              "#fdca26"
             ],
             [
              1,
              "#f0f921"
             ]
            ],
            "type": "contour"
           }
          ],
          "contourcarpet": [
           {
            "colorbar": {
             "outlinewidth": 0,
             "ticks": ""
            },
            "type": "contourcarpet"
           }
          ],
          "heatmap": [
           {
            "colorbar": {
             "outlinewidth": 0,
             "ticks": ""
            },
            "colorscale": [
             [
              0,
              "#0d0887"
             ],
             [
              0.1111111111111111,
              "#46039f"
             ],
             [
              0.2222222222222222,
              "#7201a8"
             ],
             [
              0.3333333333333333,
              "#9c179e"
             ],
             [
              0.4444444444444444,
              "#bd3786"
             ],
             [
              0.5555555555555556,
              "#d8576b"
             ],
             [
              0.6666666666666666,
              "#ed7953"
             ],
             [
              0.7777777777777778,
              "#fb9f3a"
             ],
             [
              0.8888888888888888,
              "#fdca26"
             ],
             [
              1,
              "#f0f921"
             ]
            ],
            "type": "heatmap"
           }
          ],
          "heatmapgl": [
           {
            "colorbar": {
             "outlinewidth": 0,
             "ticks": ""
            },
            "colorscale": [
             [
              0,
              "#0d0887"
             ],
             [
              0.1111111111111111,
              "#46039f"
             ],
             [
              0.2222222222222222,
              "#7201a8"
             ],
             [
              0.3333333333333333,
              "#9c179e"
             ],
             [
              0.4444444444444444,
              "#bd3786"
             ],
             [
              0.5555555555555556,
              "#d8576b"
             ],
             [
              0.6666666666666666,
              "#ed7953"
             ],
             [
              0.7777777777777778,
              "#fb9f3a"
             ],
             [
              0.8888888888888888,
              "#fdca26"
             ],
             [
              1,
              "#f0f921"
             ]
            ],
            "type": "heatmapgl"
           }
          ],
          "histogram": [
           {
            "marker": {
             "pattern": {
              "fillmode": "overlay",
              "size": 10,
              "solidity": 0.2
             }
            },
            "type": "histogram"
           }
          ],
          "histogram2d": [
           {
            "colorbar": {
             "outlinewidth": 0,
             "ticks": ""
            },
            "colorscale": [
             [
              0,
              "#0d0887"
             ],
             [
              0.1111111111111111,
              "#46039f"
             ],
             [
              0.2222222222222222,
              "#7201a8"
             ],
             [
              0.3333333333333333,
              "#9c179e"
             ],
             [
              0.4444444444444444,
              "#bd3786"
             ],
             [
              0.5555555555555556,
              "#d8576b"
             ],
             [
              0.6666666666666666,
              "#ed7953"
             ],
             [
              0.7777777777777778,
              "#fb9f3a"
             ],
             [
              0.8888888888888888,
              "#fdca26"
             ],
             [
              1,
              "#f0f921"
             ]
            ],
            "type": "histogram2d"
           }
          ],
          "histogram2dcontour": [
           {
            "colorbar": {
             "outlinewidth": 0,
             "ticks": ""
            },
            "colorscale": [
             [
              0,
              "#0d0887"
             ],
             [
              0.1111111111111111,
              "#46039f"
             ],
             [
              0.2222222222222222,
              "#7201a8"
             ],
             [
              0.3333333333333333,
              "#9c179e"
             ],
             [
              0.4444444444444444,
              "#bd3786"
             ],
             [
              0.5555555555555556,
              "#d8576b"
             ],
             [
              0.6666666666666666,
              "#ed7953"
             ],
             [
              0.7777777777777778,
              "#fb9f3a"
             ],
             [
              0.8888888888888888,
              "#fdca26"
             ],
             [
              1,
              "#f0f921"
             ]
            ],
            "type": "histogram2dcontour"
           }
          ],
          "mesh3d": [
           {
            "colorbar": {
             "outlinewidth": 0,
             "ticks": ""
            },
            "type": "mesh3d"
           }
          ],
          "parcoords": [
           {
            "line": {
             "colorbar": {
              "outlinewidth": 0,
              "ticks": ""
             }
            },
            "type": "parcoords"
           }
          ],
          "pie": [
           {
            "automargin": true,
            "type": "pie"
           }
          ],
          "scatter": [
           {
            "fillpattern": {
             "fillmode": "overlay",
             "size": 10,
             "solidity": 0.2
            },
            "type": "scatter"
           }
          ],
          "scatter3d": [
           {
            "line": {
             "colorbar": {
              "outlinewidth": 0,
              "ticks": ""
             }
            },
            "marker": {
             "colorbar": {
              "outlinewidth": 0,
              "ticks": ""
             }
            },
            "type": "scatter3d"
           }
          ],
          "scattercarpet": [
           {
            "marker": {
             "colorbar": {
              "outlinewidth": 0,
              "ticks": ""
             }
            },
            "type": "scattercarpet"
           }
          ],
          "scattergeo": [
           {
            "marker": {
             "colorbar": {
              "outlinewidth": 0,
              "ticks": ""
             }
            },
            "type": "scattergeo"
           }
          ],
          "scattergl": [
           {
            "marker": {
             "colorbar": {
              "outlinewidth": 0,
              "ticks": ""
             }
            },
            "type": "scattergl"
           }
          ],
          "scattermapbox": [
           {
            "marker": {
             "colorbar": {
              "outlinewidth": 0,
              "ticks": ""
             }
            },
            "type": "scattermapbox"
           }
          ],
          "scatterpolar": [
           {
            "marker": {
             "colorbar": {
              "outlinewidth": 0,
              "ticks": ""
             }
            },
            "type": "scatterpolar"
           }
          ],
          "scatterpolargl": [
           {
            "marker": {
             "colorbar": {
              "outlinewidth": 0,
              "ticks": ""
             }
            },
            "type": "scatterpolargl"
           }
          ],
          "scatterternary": [
           {
            "marker": {
             "colorbar": {
              "outlinewidth": 0,
              "ticks": ""
             }
            },
            "type": "scatterternary"
           }
          ],
          "surface": [
           {
            "colorbar": {
             "outlinewidth": 0,
             "ticks": ""
            },
            "colorscale": [
             [
              0,
              "#0d0887"
             ],
             [
              0.1111111111111111,
              "#46039f"
             ],
             [
              0.2222222222222222,
              "#7201a8"
             ],
             [
              0.3333333333333333,
              "#9c179e"
             ],
             [
              0.4444444444444444,
              "#bd3786"
             ],
             [
              0.5555555555555556,
              "#d8576b"
             ],
             [
              0.6666666666666666,
              "#ed7953"
             ],
             [
              0.7777777777777778,
              "#fb9f3a"
             ],
             [
              0.8888888888888888,
              "#fdca26"
             ],
             [
              1,
              "#f0f921"
             ]
            ],
            "type": "surface"
           }
          ],
          "table": [
           {
            "cells": {
             "fill": {
              "color": "#EBF0F8"
             },
             "line": {
              "color": "white"
             }
            },
            "header": {
             "fill": {
              "color": "#C8D4E3"
             },
             "line": {
              "color": "white"
             }
            },
            "type": "table"
           }
          ]
         },
         "layout": {
          "annotationdefaults": {
           "arrowcolor": "#2a3f5f",
           "arrowhead": 0,
           "arrowwidth": 1
          },
          "autotypenumbers": "strict",
          "coloraxis": {
           "colorbar": {
            "outlinewidth": 0,
            "ticks": ""
           }
          },
          "colorscale": {
           "diverging": [
            [
             0,
             "#8e0152"
            ],
            [
             0.1,
             "#c51b7d"
            ],
            [
             0.2,
             "#de77ae"
            ],
            [
             0.3,
             "#f1b6da"
            ],
            [
             0.4,
             "#fde0ef"
            ],
            [
             0.5,
             "#f7f7f7"
            ],
            [
             0.6,
             "#e6f5d0"
            ],
            [
             0.7,
             "#b8e186"
            ],
            [
             0.8,
             "#7fbc41"
            ],
            [
             0.9,
             "#4d9221"
            ],
            [
             1,
             "#276419"
            ]
           ],
           "sequential": [
            [
             0,
             "#0d0887"
            ],
            [
             0.1111111111111111,
             "#46039f"
            ],
            [
             0.2222222222222222,
             "#7201a8"
            ],
            [
             0.3333333333333333,
             "#9c179e"
            ],
            [
             0.4444444444444444,
             "#bd3786"
            ],
            [
             0.5555555555555556,
             "#d8576b"
            ],
            [
             0.6666666666666666,
             "#ed7953"
            ],
            [
             0.7777777777777778,
             "#fb9f3a"
            ],
            [
             0.8888888888888888,
             "#fdca26"
            ],
            [
             1,
             "#f0f921"
            ]
           ],
           "sequentialminus": [
            [
             0,
             "#0d0887"
            ],
            [
             0.1111111111111111,
             "#46039f"
            ],
            [
             0.2222222222222222,
             "#7201a8"
            ],
            [
             0.3333333333333333,
             "#9c179e"
            ],
            [
             0.4444444444444444,
             "#bd3786"
            ],
            [
             0.5555555555555556,
             "#d8576b"
            ],
            [
             0.6666666666666666,
             "#ed7953"
            ],
            [
             0.7777777777777778,
             "#fb9f3a"
            ],
            [
             0.8888888888888888,
             "#fdca26"
            ],
            [
             1,
             "#f0f921"
            ]
           ]
          },
          "colorway": [
           "#636efa",
           "#EF553B",
           "#00cc96",
           "#ab63fa",
           "#FFA15A",
           "#19d3f3",
           "#FF6692",
           "#B6E880",
           "#FF97FF",
           "#FECB52"
          ],
          "font": {
           "color": "#2a3f5f"
          },
          "geo": {
           "bgcolor": "white",
           "lakecolor": "white",
           "landcolor": "#E5ECF6",
           "showlakes": true,
           "showland": true,
           "subunitcolor": "white"
          },
          "hoverlabel": {
           "align": "left"
          },
          "hovermode": "closest",
          "mapbox": {
           "style": "light"
          },
          "paper_bgcolor": "white",
          "plot_bgcolor": "#E5ECF6",
          "polar": {
           "angularaxis": {
            "gridcolor": "white",
            "linecolor": "white",
            "ticks": ""
           },
           "bgcolor": "#E5ECF6",
           "radialaxis": {
            "gridcolor": "white",
            "linecolor": "white",
            "ticks": ""
           }
          },
          "scene": {
           "xaxis": {
            "backgroundcolor": "#E5ECF6",
            "gridcolor": "white",
            "gridwidth": 2,
            "linecolor": "white",
            "showbackground": true,
            "ticks": "",
            "zerolinecolor": "white"
           },
           "yaxis": {
            "backgroundcolor": "#E5ECF6",
            "gridcolor": "white",
            "gridwidth": 2,
            "linecolor": "white",
            "showbackground": true,
            "ticks": "",
            "zerolinecolor": "white"
           },
           "zaxis": {
            "backgroundcolor": "#E5ECF6",
            "gridcolor": "white",
            "gridwidth": 2,
            "linecolor": "white",
            "showbackground": true,
            "ticks": "",
            "zerolinecolor": "white"
           }
          },
          "shapedefaults": {
           "line": {
            "color": "#2a3f5f"
           }
          },
          "ternary": {
           "aaxis": {
            "gridcolor": "white",
            "linecolor": "white",
            "ticks": ""
           },
           "baxis": {
            "gridcolor": "white",
            "linecolor": "white",
            "ticks": ""
           },
           "bgcolor": "#E5ECF6",
           "caxis": {
            "gridcolor": "white",
            "linecolor": "white",
            "ticks": ""
           }
          },
          "title": {
           "x": 0.05
          },
          "xaxis": {
           "automargin": true,
           "gridcolor": "white",
           "linecolor": "white",
           "ticks": "",
           "title": {
            "standoff": 15
           },
           "zerolinecolor": "white",
           "zerolinewidth": 2
          },
          "yaxis": {
           "automargin": true,
           "gridcolor": "white",
           "linecolor": "white",
           "ticks": "",
           "title": {
            "standoff": 15
           },
           "zerolinecolor": "white",
           "zerolinewidth": 2
          }
         }
        },
        "width": 700,
        "xaxis": {
         "title": {
          "text": "hour"
         }
        },
        "yaxis": {
         "range": [
          -1,
          1
         ],
         "title": {
          "text": "social sensor performance"
         }
        }
       }
      },
      "text/html": [
       "<div>                            <div id=\"a64f8cad-2639-4a8c-8d70-a89fe0566703\" class=\"plotly-graph-div\" style=\"height:500px; width:700px;\"></div>            <script type=\"text/javascript\">                require([\"plotly\"], function(Plotly) {                    window.PLOTLYENV=window.PLOTLYENV || {};                                    if (document.getElementById(\"a64f8cad-2639-4a8c-8d70-a89fe0566703\")) {                    Plotly.newPlot(                        \"a64f8cad-2639-4a8c-8d70-a89fe0566703\",                        [{\"name\":\"Tokyo Station\",\"x\":[0,1,2,3,4,5,6,7,8,9,10,11,12,13,14,15,16,17,18,19,20,21,22,23],\"y\":[0.20663569668935994,\"\",\"\",-0.18564812903036965,\"\",0.4036887433988626,0.8192002443084673,0.786464073591908,0.6570787649334748,0.673555135669155,0.6434491538233333,0.6799206285684501,0.6439242503716348,0.5012908961180539,0.5671607468634863,0.5702356784554522,0.5616910830512377,0.5284932527702063,0.5266779869442102,0.5969208094456189,0.5205104969572233,0.522978474098175,0.4027816346826661,0.4956897457165841],\"type\":\"scatter\"},{\"name\":\"Arashiyama\",\"x\":[0,1,2,3,4,5,6,7,8,9,10,11,12,13,14,15,16,17,18,19,20,21,22,23],\"y\":[\"\",\"\",\"\",null,\"\",\"\",\"\",\"\",0.31963067305579557,0.19572604008619515,0.3174893038926116,0.40459505241595983,0.33745591338302566,0.32207702928987675,0.5757153472533781,0.34330975498380767,0.21570821208824587,\"\",0.32062380396200413,\"\",\"\",\"\",\"\",\"\"],\"type\":\"scatter\"},{\"name\":\"Karasuma\",\"x\":[0,1,2,3,4,5,6,7,8,9,10,11,12,13,14,15,16,17,18,19,20,21,22,23],\"y\":[\"\",\"\",\"\",0.20953032527995755,\"\",\"\",\"\",\"\",\"\",\"\",0.32335348723658797,\"\",0.29435256556981326,\"\",\"\",\"\",\"\",\"\",\"\",\"\",\"\",0.27617468455035404,\"\",\"\"],\"type\":\"scatter\"},{\"name\":\"Kinkaku Temple\",\"x\":[0,1,2,3,4,5,6,7,8,9,10,11,12,13,14,15,16,17,18,19,20,21,22,23],\"y\":[-0.19156064425131014,-0.18248676866375246,\"\",\"\",\"\",null,\"\",\"\",\"\",\"\",\"\",0.20995863327961334,\"\",\"\",0.20678562480835624,0.24505287737430614,\"\",\"\",\"\",\"\",\"\",\"\",\"\",\"\"],\"type\":\"scatter\"},{\"name\":\"Kiyomizu Temple\",\"x\":[0,1,2,3,4,5,6,7,8,9,10,11,12,13,14,15,16,17,18,19,20,21,22,23],\"y\":[\"\",\"\",\"\",\"\",\"\",\"\",\"\",0.2765961106868598,\"\",0.18272601684007023,0.23646717544246612,0.42936066892415475,0.3397278760420464,0.4379289856141518,0.31248960611674237,0.31570536953110045,0.4920322858194683,0.4813561533217116,0.6805876683104873,0.4708873883416786,0.5349846979690891,0.2924948910359921,0.30476923932446676,\"\"],\"type\":\"scatter\"},{\"name\":\"Kyoto University\",\"x\":[0,1,2,3,4,5,6,7,8,9,10,11,12,13,14,15,16,17,18,19,20,21,22,23],\"y\":[\"\",\"\",-0.1964800327107352,\"\",null,\"\",\"\",\"\",\"\",\"\",\"\",\"\",\"\",\"\",\"\",\"\",\"\",\"\",\"\",\"\",\"\",\"\",\"\",\"\"],\"type\":\"scatter\"},{\"name\":\"Nizyou\",\"x\":[0,1,2,3,4,5,6,7,8,9,10,11,12,13,14,15,16,17,18,19,20,21,22,23],\"y\":[\"\",\"\",\"\",\"\",\"\",\"\",\"\",\"\",\"\",0.19166546367289056,\"\",0.2159308489027968,\"\",\"\",\"\",\"\",0.23172208924871998,\"\",\"\",0.21019683487449126,\"\",\"\",\"\",\"\"],\"type\":\"scatter\"},{\"name\":\"Touzi\",\"x\":[0,1,2,3,4,5,6,7,8,9,10,11,12,13,14,15,16,17,18,19,20,21,22,23],\"y\":[\"\",\"\",\"\",\"\",\"\",\"\",0.17881525722497957,\"\",\"\",0.2258874277490538,\"\",\"\",0.18918126128408702,\"\",\"\",\"\",\"\",\"\",0.19889403256729038,0.355834928572108,0.2796444768526954,\"\",\"\",0.26263297356803006],\"type\":\"scatter\"},{\"name\":\"Kyoto Station\",\"x\":[0,1,2,3,4,5,6,7,8,9,10,11,12,13,14,15,16,17,18,19,20,21,22,23],\"y\":[0.39312376649453223,0.2185949579892,\"\",0.26326345786281213,\"\",0.28558307792624416,0.34615893397629316,0.42637278434098935,0.4973019666620104,0.40010343391208486,0.6097534861818139,0.5369785605050768,0.5090544328710066,0.408660313233062,0.43555291432906135,0.37916283172460397,0.474430676020543,0.41596216469002517,0.45372018499535877,0.4663613974248932,0.4599522042750466,0.3981637132027027,0.5114209712608387,0.4429659549091677],\"type\":\"scatter\"}],                        {\"template\":{\"data\":{\"histogram2dcontour\":[{\"type\":\"histogram2dcontour\",\"colorbar\":{\"outlinewidth\":0,\"ticks\":\"\"},\"colorscale\":[[0.0,\"#0d0887\"],[0.1111111111111111,\"#46039f\"],[0.2222222222222222,\"#7201a8\"],[0.3333333333333333,\"#9c179e\"],[0.4444444444444444,\"#bd3786\"],[0.5555555555555556,\"#d8576b\"],[0.6666666666666666,\"#ed7953\"],[0.7777777777777778,\"#fb9f3a\"],[0.8888888888888888,\"#fdca26\"],[1.0,\"#f0f921\"]]}],\"choropleth\":[{\"type\":\"choropleth\",\"colorbar\":{\"outlinewidth\":0,\"ticks\":\"\"}}],\"histogram2d\":[{\"type\":\"histogram2d\",\"colorbar\":{\"outlinewidth\":0,\"ticks\":\"\"},\"colorscale\":[[0.0,\"#0d0887\"],[0.1111111111111111,\"#46039f\"],[0.2222222222222222,\"#7201a8\"],[0.3333333333333333,\"#9c179e\"],[0.4444444444444444,\"#bd3786\"],[0.5555555555555556,\"#d8576b\"],[0.6666666666666666,\"#ed7953\"],[0.7777777777777778,\"#fb9f3a\"],[0.8888888888888888,\"#fdca26\"],[1.0,\"#f0f921\"]]}],\"heatmap\":[{\"type\":\"heatmap\",\"colorbar\":{\"outlinewidth\":0,\"ticks\":\"\"},\"colorscale\":[[0.0,\"#0d0887\"],[0.1111111111111111,\"#46039f\"],[0.2222222222222222,\"#7201a8\"],[0.3333333333333333,\"#9c179e\"],[0.4444444444444444,\"#bd3786\"],[0.5555555555555556,\"#d8576b\"],[0.6666666666666666,\"#ed7953\"],[0.7777777777777778,\"#fb9f3a\"],[0.8888888888888888,\"#fdca26\"],[1.0,\"#f0f921\"]]}],\"heatmapgl\":[{\"type\":\"heatmapgl\",\"colorbar\":{\"outlinewidth\":0,\"ticks\":\"\"},\"colorscale\":[[0.0,\"#0d0887\"],[0.1111111111111111,\"#46039f\"],[0.2222222222222222,\"#7201a8\"],[0.3333333333333333,\"#9c179e\"],[0.4444444444444444,\"#bd3786\"],[0.5555555555555556,\"#d8576b\"],[0.6666666666666666,\"#ed7953\"],[0.7777777777777778,\"#fb9f3a\"],[0.8888888888888888,\"#fdca26\"],[1.0,\"#f0f921\"]]}],\"contourcarpet\":[{\"type\":\"contourcarpet\",\"colorbar\":{\"outlinewidth\":0,\"ticks\":\"\"}}],\"contour\":[{\"type\":\"contour\",\"colorbar\":{\"outlinewidth\":0,\"ticks\":\"\"},\"colorscale\":[[0.0,\"#0d0887\"],[0.1111111111111111,\"#46039f\"],[0.2222222222222222,\"#7201a8\"],[0.3333333333333333,\"#9c179e\"],[0.4444444444444444,\"#bd3786\"],[0.5555555555555556,\"#d8576b\"],[0.6666666666666666,\"#ed7953\"],[0.7777777777777778,\"#fb9f3a\"],[0.8888888888888888,\"#fdca26\"],[1.0,\"#f0f921\"]]}],\"surface\":[{\"type\":\"surface\",\"colorbar\":{\"outlinewidth\":0,\"ticks\":\"\"},\"colorscale\":[[0.0,\"#0d0887\"],[0.1111111111111111,\"#46039f\"],[0.2222222222222222,\"#7201a8\"],[0.3333333333333333,\"#9c179e\"],[0.4444444444444444,\"#bd3786\"],[0.5555555555555556,\"#d8576b\"],[0.6666666666666666,\"#ed7953\"],[0.7777777777777778,\"#fb9f3a\"],[0.8888888888888888,\"#fdca26\"],[1.0,\"#f0f921\"]]}],\"mesh3d\":[{\"type\":\"mesh3d\",\"colorbar\":{\"outlinewidth\":0,\"ticks\":\"\"}}],\"scatter\":[{\"fillpattern\":{\"fillmode\":\"overlay\",\"size\":10,\"solidity\":0.2},\"type\":\"scatter\"}],\"parcoords\":[{\"type\":\"parcoords\",\"line\":{\"colorbar\":{\"outlinewidth\":0,\"ticks\":\"\"}}}],\"scatterpolargl\":[{\"type\":\"scatterpolargl\",\"marker\":{\"colorbar\":{\"outlinewidth\":0,\"ticks\":\"\"}}}],\"bar\":[{\"error_x\":{\"color\":\"#2a3f5f\"},\"error_y\":{\"color\":\"#2a3f5f\"},\"marker\":{\"line\":{\"color\":\"#E5ECF6\",\"width\":0.5},\"pattern\":{\"fillmode\":\"overlay\",\"size\":10,\"solidity\":0.2}},\"type\":\"bar\"}],\"scattergeo\":[{\"type\":\"scattergeo\",\"marker\":{\"colorbar\":{\"outlinewidth\":0,\"ticks\":\"\"}}}],\"scatterpolar\":[{\"type\":\"scatterpolar\",\"marker\":{\"colorbar\":{\"outlinewidth\":0,\"ticks\":\"\"}}}],\"histogram\":[{\"marker\":{\"pattern\":{\"fillmode\":\"overlay\",\"size\":10,\"solidity\":0.2}},\"type\":\"histogram\"}],\"scattergl\":[{\"type\":\"scattergl\",\"marker\":{\"colorbar\":{\"outlinewidth\":0,\"ticks\":\"\"}}}],\"scatter3d\":[{\"type\":\"scatter3d\",\"line\":{\"colorbar\":{\"outlinewidth\":0,\"ticks\":\"\"}},\"marker\":{\"colorbar\":{\"outlinewidth\":0,\"ticks\":\"\"}}}],\"scattermapbox\":[{\"type\":\"scattermapbox\",\"marker\":{\"colorbar\":{\"outlinewidth\":0,\"ticks\":\"\"}}}],\"scatterternary\":[{\"type\":\"scatterternary\",\"marker\":{\"colorbar\":{\"outlinewidth\":0,\"ticks\":\"\"}}}],\"scattercarpet\":[{\"type\":\"scattercarpet\",\"marker\":{\"colorbar\":{\"outlinewidth\":0,\"ticks\":\"\"}}}],\"carpet\":[{\"aaxis\":{\"endlinecolor\":\"#2a3f5f\",\"gridcolor\":\"white\",\"linecolor\":\"white\",\"minorgridcolor\":\"white\",\"startlinecolor\":\"#2a3f5f\"},\"baxis\":{\"endlinecolor\":\"#2a3f5f\",\"gridcolor\":\"white\",\"linecolor\":\"white\",\"minorgridcolor\":\"white\",\"startlinecolor\":\"#2a3f5f\"},\"type\":\"carpet\"}],\"table\":[{\"cells\":{\"fill\":{\"color\":\"#EBF0F8\"},\"line\":{\"color\":\"white\"}},\"header\":{\"fill\":{\"color\":\"#C8D4E3\"},\"line\":{\"color\":\"white\"}},\"type\":\"table\"}],\"barpolar\":[{\"marker\":{\"line\":{\"color\":\"#E5ECF6\",\"width\":0.5},\"pattern\":{\"fillmode\":\"overlay\",\"size\":10,\"solidity\":0.2}},\"type\":\"barpolar\"}],\"pie\":[{\"automargin\":true,\"type\":\"pie\"}]},\"layout\":{\"autotypenumbers\":\"strict\",\"colorway\":[\"#636efa\",\"#EF553B\",\"#00cc96\",\"#ab63fa\",\"#FFA15A\",\"#19d3f3\",\"#FF6692\",\"#B6E880\",\"#FF97FF\",\"#FECB52\"],\"font\":{\"color\":\"#2a3f5f\"},\"hovermode\":\"closest\",\"hoverlabel\":{\"align\":\"left\"},\"paper_bgcolor\":\"white\",\"plot_bgcolor\":\"#E5ECF6\",\"polar\":{\"bgcolor\":\"#E5ECF6\",\"angularaxis\":{\"gridcolor\":\"white\",\"linecolor\":\"white\",\"ticks\":\"\"},\"radialaxis\":{\"gridcolor\":\"white\",\"linecolor\":\"white\",\"ticks\":\"\"}},\"ternary\":{\"bgcolor\":\"#E5ECF6\",\"aaxis\":{\"gridcolor\":\"white\",\"linecolor\":\"white\",\"ticks\":\"\"},\"baxis\":{\"gridcolor\":\"white\",\"linecolor\":\"white\",\"ticks\":\"\"},\"caxis\":{\"gridcolor\":\"white\",\"linecolor\":\"white\",\"ticks\":\"\"}},\"coloraxis\":{\"colorbar\":{\"outlinewidth\":0,\"ticks\":\"\"}},\"colorscale\":{\"sequential\":[[0.0,\"#0d0887\"],[0.1111111111111111,\"#46039f\"],[0.2222222222222222,\"#7201a8\"],[0.3333333333333333,\"#9c179e\"],[0.4444444444444444,\"#bd3786\"],[0.5555555555555556,\"#d8576b\"],[0.6666666666666666,\"#ed7953\"],[0.7777777777777778,\"#fb9f3a\"],[0.8888888888888888,\"#fdca26\"],[1.0,\"#f0f921\"]],\"sequentialminus\":[[0.0,\"#0d0887\"],[0.1111111111111111,\"#46039f\"],[0.2222222222222222,\"#7201a8\"],[0.3333333333333333,\"#9c179e\"],[0.4444444444444444,\"#bd3786\"],[0.5555555555555556,\"#d8576b\"],[0.6666666666666666,\"#ed7953\"],[0.7777777777777778,\"#fb9f3a\"],[0.8888888888888888,\"#fdca26\"],[1.0,\"#f0f921\"]],\"diverging\":[[0,\"#8e0152\"],[0.1,\"#c51b7d\"],[0.2,\"#de77ae\"],[0.3,\"#f1b6da\"],[0.4,\"#fde0ef\"],[0.5,\"#f7f7f7\"],[0.6,\"#e6f5d0\"],[0.7,\"#b8e186\"],[0.8,\"#7fbc41\"],[0.9,\"#4d9221\"],[1,\"#276419\"]]},\"xaxis\":{\"gridcolor\":\"white\",\"linecolor\":\"white\",\"ticks\":\"\",\"title\":{\"standoff\":15},\"zerolinecolor\":\"white\",\"automargin\":true,\"zerolinewidth\":2},\"yaxis\":{\"gridcolor\":\"white\",\"linecolor\":\"white\",\"ticks\":\"\",\"title\":{\"standoff\":15},\"zerolinecolor\":\"white\",\"automargin\":true,\"zerolinewidth\":2},\"scene\":{\"xaxis\":{\"backgroundcolor\":\"#E5ECF6\",\"gridcolor\":\"white\",\"linecolor\":\"white\",\"showbackground\":true,\"ticks\":\"\",\"zerolinecolor\":\"white\",\"gridwidth\":2},\"yaxis\":{\"backgroundcolor\":\"#E5ECF6\",\"gridcolor\":\"white\",\"linecolor\":\"white\",\"showbackground\":true,\"ticks\":\"\",\"zerolinecolor\":\"white\",\"gridwidth\":2},\"zaxis\":{\"backgroundcolor\":\"#E5ECF6\",\"gridcolor\":\"white\",\"linecolor\":\"white\",\"showbackground\":true,\"ticks\":\"\",\"zerolinecolor\":\"white\",\"gridwidth\":2}},\"shapedefaults\":{\"line\":{\"color\":\"#2a3f5f\"}},\"annotationdefaults\":{\"arrowcolor\":\"#2a3f5f\",\"arrowhead\":0,\"arrowwidth\":1},\"geo\":{\"bgcolor\":\"white\",\"landcolor\":\"#E5ECF6\",\"subunitcolor\":\"white\",\"showland\":true,\"showlakes\":true,\"lakecolor\":\"white\"},\"title\":{\"x\":0.05},\"mapbox\":{\"style\":\"light\"}}},\"yaxis\":{\"range\":[-1,1],\"title\":{\"text\":\"social sensor performance\"}},\"xaxis\":{\"title\":{\"text\":\"hour\"}},\"width\":700,\"height\":500},                        {\"responsive\": true}                    ).then(function(){\n",
       "                            \n",
       "var gd = document.getElementById('a64f8cad-2639-4a8c-8d70-a89fe0566703');\n",
       "var x = new MutationObserver(function (mutations, observer) {{\n",
       "        var display = window.getComputedStyle(gd).display;\n",
       "        if (!display || display === 'none') {{\n",
       "            console.log([gd, 'removed!']);\n",
       "            Plotly.purge(gd);\n",
       "            observer.disconnect();\n",
       "        }}\n",
       "}});\n",
       "\n",
       "// Listen for the removal of the full notebook cells\n",
       "var notebookContainer = gd.closest('#notebook-container');\n",
       "if (notebookContainer) {{\n",
       "    x.observe(notebookContainer, {childList: true});\n",
       "}}\n",
       "\n",
       "// Listen for the clearing of the current output cell\n",
       "var outputEl = gd.closest('.output');\n",
       "if (outputEl) {{\n",
       "    x.observe(outputEl, {childList: true});\n",
       "}}\n",
       "\n",
       "                        })                };                });            </script>        </div>"
      ]
     },
     "metadata": {},
     "output_type": "display_data"
    }
   ],
   "source": [
    "data = []\n",
    "for place_id in range(0, len(list_mobile)):\n",
    "    mobile = np.load(list_mobile[place_id])\n",
    "    tweets = np.load(list_twitter[place_id])\n",
    "    dlete_list = []\n",
    "    if place_id == 0:\n",
    "        start_date = datetime(2021,1,1)\n",
    "    else:\n",
    "        start_date = datetime(2022,1,1)\n",
    "\n",
    "    for n_date_from_year in range(0,365):\n",
    "        Today = start_date + timedelta(days=n_date_from_year)\n",
    "        work_holi_Flag = isBizDay(Today)\n",
    "        if (\n",
    "            n_date_from_year == 0\n",
    "            or n_date_from_year == 1\n",
    "            or n_date_from_year == 2\n",
    "            or n_date_from_year == 362\n",
    "            or n_date_from_year == 363\n",
    "            or n_date_from_year == 364\n",
    "            or work_holi_Flag == \"Holiday\"\n",
    "            ):\n",
    "            continue\n",
    "        else:\n",
    "            dlete_list.append(n_date_from_year)\n",
    "    mobile = np.delete(mobile,dlete_list,axis=0)\n",
    "    tweets = np.delete(tweets,dlete_list,axis=0)\n",
    "\n",
    "    for i in range(0,24):\n",
    "        mobile_1hour = mobile[:, i:i+1]\n",
    "        mobile_1hour = mobile_1hour.flatten()\n",
    "        tweets_1hour = tweets[:, i:i+1]\n",
    "        tweets_1hour = tweets_1hour.flatten()\n",
    "\n",
    "        correlation, p_value = stats.pearsonr(mobile_1hour, tweets_1hour)\n",
    "        if p_value>0.05:\n",
    "            data.append([i,'', p_value, list_key[place_id]])\n",
    "        else:\n",
    "            data.append([i, correlation, p_value, list_key[place_id]])\n",
    "\n",
    "\n",
    "columns=['time','r','p','place']\n",
    "\n",
    "\n",
    "df= pd.DataFrame(data,columns=columns)\n",
    "\n",
    "\n",
    "\n",
    "list_place = df['place'].unique()\n",
    "fig = go.Figure(data=[\n",
    "    go.Scatter(x = df[df['place']==list_place[0]]['time'], y = df[df['place']==list_place[0]]['r'], name = list_place[0],),\n",
    "    go.Scatter(x = df[df['place']==list_place[1]]['time'], y = df[df['place']==list_place[1]]['r'], name = list_place[1],),\n",
    "    go.Scatter(x = df[df['place']==list_place[2]]['time'], y = df[df['place']==list_place[2]]['r'], name = list_place[2],),\n",
    "    go.Scatter(x = df[df['place']==list_place[3]]['time'], y = df[df['place']==list_place[3]]['r'], name = list_place[3],),\n",
    "    go.Scatter(x = df[df['place']==list_place[4]]['time'], y = df[df['place']==list_place[4]]['r'], name = list_place[4],),\n",
    "    go.Scatter(x = df[df['place']==list_place[5]]['time'], y = df[df['place']==list_place[5]]['r'], name = list_place[5],),\n",
    "    go.Scatter(x = df[df['place']==list_place[6]]['time'], y = df[df['place']==list_place[6]]['r'], name = list_place[6],),\n",
    "    go.Scatter(x = df[df['place']==list_place[7]]['time'], y = df[df['place']==list_place[7]]['r'], name = list_place[7],),\n",
    "    go.Scatter(x = df[df['place']==list_place[8]]['time'], y = df[df['place']==list_place[8]]['r'], name = list_place[8],),\n",
    "    ])\n",
    "#fig.update_layout(title='Hourly social sensor performance (holiday)')\n",
    "fig.update_layout(yaxis=dict(range=(-1, 1)))\n",
    "fig.update_layout(xaxis=dict(title='hour'),\n",
    "                 yaxis=dict(title='social sensor performance'))\n",
    "fig.update_layout(width=700,height=500)\n",
    "fig.show()"
   ]
  },
  {
   "cell_type": "code",
   "execution_count": 20,
   "metadata": {},
   "outputs": [
    {
     "data": {
      "application/vnd.plotly.v1+json": {
       "config": {
        "plotlyServerURL": "https://plot.ly"
       },
       "data": [
        {
         "line": {
          "color": "red"
         },
         "name": "Tokyo Station",
         "type": "scatter",
         "x": [
          0,
          1,
          2,
          3,
          4,
          5,
          6,
          7,
          8,
          9,
          10,
          11,
          12,
          13,
          14,
          15,
          16,
          17,
          18,
          19,
          20,
          21,
          22,
          23
         ],
         "xaxis": "x",
         "y": [
          "",
          "",
          "",
          "",
          "",
          0.22279202211397323,
          0.45573139308582583,
          0.28910245428998504,
          0.28842008369914546,
          0.15999893507480095,
          0.21061994193528466,
          0.24098409049047348,
          0.3823719493202536,
          0.31309768849144726,
          0.2835968296397856,
          0.3185460626948038,
          0.3121540273431758,
          0.39499592994658556,
          0.5179291383153933,
          0.49592033965513843,
          0.5339219893835743,
          0.5907285477178796,
          0.5263765056473736,
          0.4702151505899545
         ],
         "yaxis": "y"
        },
        {
         "line": {
          "color": "orange"
         },
         "name": "Arashiyama",
         "type": "scatter",
         "x": [
          0,
          1,
          2,
          3,
          4,
          5,
          6,
          7,
          8,
          9,
          10,
          11,
          12,
          13,
          14,
          15,
          16,
          17,
          18,
          19,
          20,
          21,
          22,
          23
         ],
         "xaxis": "x",
         "y": [
          "",
          "",
          "",
          "",
          "",
          "",
          "",
          0.1597125876470396,
          "",
          0.2654117264252919,
          "",
          "",
          0.37065539625363847,
          0.17601764562356256,
          0.3743188538912091,
          0.29519959228811227,
          "",
          "",
          0.15981428297478611,
          0.14557041115576805,
          "",
          "",
          "",
          0.14348251014565558
         ],
         "yaxis": "y"
        },
        {
         "line": {
          "color": "green"
         },
         "name": "Nakagyou",
         "type": "scatter",
         "x": [
          0,
          1,
          2,
          3,
          4,
          5,
          6,
          7,
          8,
          9,
          10,
          11,
          12,
          13,
          14,
          15,
          16,
          17,
          18,
          19,
          20,
          21,
          22,
          23
         ],
         "xaxis": "x",
         "y": [
          "",
          "",
          "",
          "",
          "",
          "",
          "",
          "",
          "",
          "",
          "",
          "",
          "",
          "",
          "",
          "",
          "",
          "",
          "",
          "",
          "",
          0.13494332984488458,
          "",
          ""
         ],
         "yaxis": "y"
        },
        {
         "line": {
          "color": "aquamarine"
         },
         "name": "Kinkaku Temple",
         "type": "scatter",
         "x": [
          0,
          1,
          2,
          3,
          4,
          5,
          6,
          7,
          8,
          9,
          10,
          11,
          12,
          13,
          14,
          15,
          16,
          17,
          18,
          19,
          20,
          21,
          22,
          23
         ],
         "xaxis": "x",
         "y": [
          "",
          "",
          "",
          "",
          "",
          "",
          "",
          "",
          "",
          "",
          0.17575686354424216,
          0.1996337923353741,
          "",
          "",
          "",
          "",
          "",
          "",
          "",
          "",
          "",
          -0.1411636678210393,
          "",
          -0.14443986070805784
         ],
         "yaxis": "y"
        },
        {
         "line": {
          "color": "blue"
         },
         "name": "Kiyomizu Temple",
         "type": "scatter",
         "x": [
          0,
          1,
          2,
          3,
          4,
          5,
          6,
          7,
          8,
          9,
          10,
          11,
          12,
          13,
          14,
          15,
          16,
          17,
          18,
          19,
          20,
          21,
          22,
          23
         ],
         "xaxis": "x",
         "y": [
          "",
          "",
          "",
          "",
          -0.13470270911740148,
          "",
          "",
          0.18206975226286734,
          0.1992404904724876,
          "",
          0.22557270415768585,
          0.45289993092249736,
          0.2589632669189117,
          0.28815529878196805,
          0.2509937480736817,
          0.26868988838069774,
          0.2679355930638018,
          0.3185429089531383,
          0.247736665326122,
          0.4509997522347437,
          0.3537238501569314,
          0.33173716397711617,
          0.2180711021953253,
          0.1690906077083457
         ],
         "yaxis": "y"
        },
        {
         "line": {
          "color": "aqua"
         },
         "name": "Kyoto University",
         "type": "scatter",
         "x": [
          0,
          1,
          2,
          3,
          4,
          5,
          6,
          7,
          8,
          9,
          10,
          11,
          12,
          13,
          14,
          15,
          16,
          17,
          18,
          19,
          20,
          21,
          22,
          23
         ],
         "xaxis": "x",
         "y": [
          "",
          null,
          "",
          "",
          "",
          0.15037816257848627,
          "",
          "",
          "",
          "",
          "",
          "",
          "",
          "",
          "",
          -0.19215998833482667,
          "",
          "",
          "",
          "",
          "",
          "",
          "",
          ""
         ],
         "yaxis": "y"
        },
        {
         "line": {
          "color": "purple"
         },
         "name": "Nizyou Castle ",
         "type": "scatter",
         "x": [
          0,
          1,
          2,
          3,
          4,
          5,
          6,
          7,
          8,
          9,
          10,
          11,
          12,
          13,
          14,
          15,
          16,
          17,
          18,
          19,
          20,
          21,
          22,
          23
         ],
         "xaxis": "x",
         "y": [
          0.17077893091157167,
          "",
          "",
          "",
          "",
          "",
          "",
          "",
          "",
          0.13724401224550178,
          "",
          0.13838050692910192,
          "",
          "",
          "",
          "",
          "",
          "",
          0.1797416063414862,
          "",
          0.18465998247646323,
          "",
          0.17960834102346737,
          0.19779421024400254
         ],
         "yaxis": "y"
        },
        {
         "line": {
          "color": "pink"
         },
         "name": "Touzi Temple",
         "type": "scatter",
         "x": [
          0,
          1,
          2,
          3,
          4,
          5,
          6,
          7,
          8,
          9,
          10,
          11,
          12,
          13,
          14,
          15,
          16,
          17,
          18,
          19,
          20,
          21,
          22,
          23
         ],
         "xaxis": "x",
         "y": [
          "",
          "",
          "",
          "",
          "",
          "",
          "",
          "",
          0.15476148623793662,
          "",
          "",
          "",
          "",
          0.20630940688244728,
          "",
          "",
          "",
          "",
          "",
          0.21062166856666373,
          "",
          "",
          "",
          ""
         ],
         "yaxis": "y"
        },
        {
         "line": {
          "color": "lime"
         },
         "name": "Kyoto Station",
         "type": "scatter",
         "x": [
          0,
          1,
          2,
          3,
          4,
          5,
          6,
          7,
          8,
          9,
          10,
          11,
          12,
          13,
          14,
          15,
          16,
          17,
          18,
          19,
          20,
          21,
          22,
          23
         ],
         "xaxis": "x",
         "y": [
          0.3850816844533944,
          "",
          0.16588460943273098,
          0.175376697468044,
          0.13011141542272825,
          "",
          0.30288941277594933,
          0.39929152969035264,
          0.43719879951567564,
          0.39714517380217956,
          0.5136327407898262,
          0.5279343423743739,
          0.5029792047119356,
          0.41219243326648014,
          0.43285877484514534,
          0.5002469216421297,
          0.5251825509925747,
          0.5505062054908023,
          0.6072960388596798,
          0.5479154087434893,
          0.6587240279772523,
          0.6415346266951801,
          0.5889354041274814,
          0.5386671075626881
         ],
         "yaxis": "y"
        },
        {
         "line": {
          "color": "red"
         },
         "name": "Tokyo Station",
         "showlegend": false,
         "type": "scatter",
         "x": [
          0,
          1,
          2,
          3,
          4,
          5,
          6,
          7,
          8,
          9,
          10,
          11,
          12,
          13,
          14,
          15,
          16,
          17,
          18,
          19,
          20,
          21,
          22,
          23
         ],
         "xaxis": "x2",
         "y": [
          0.20663569668935994,
          "",
          "",
          -0.18564812903036965,
          "",
          0.4036887433988626,
          0.8192002443084673,
          0.786464073591908,
          0.6570787649334748,
          0.673555135669155,
          0.6434491538233333,
          0.6799206285684501,
          0.6439242503716348,
          0.5012908961180539,
          0.5671607468634863,
          0.5702356784554522,
          0.5616910830512377,
          0.5284932527702063,
          0.5266779869442102,
          0.5969208094456189,
          0.5205104969572233,
          0.522978474098175,
          0.4027816346826661,
          0.4956897457165841
         ],
         "yaxis": "y2"
        },
        {
         "line": {
          "color": "orange"
         },
         "name": "Arashiyama",
         "showlegend": false,
         "type": "scatter",
         "x": [
          0,
          1,
          2,
          3,
          4,
          5,
          6,
          7,
          8,
          9,
          10,
          11,
          12,
          13,
          14,
          15,
          16,
          17,
          18,
          19,
          20,
          21,
          22,
          23
         ],
         "xaxis": "x2",
         "y": [
          "",
          "",
          "",
          null,
          "",
          "",
          "",
          "",
          0.31963067305579557,
          0.19572604008619515,
          0.3174893038926116,
          0.40459505241595983,
          0.33745591338302566,
          0.32207702928987675,
          0.5757153472533781,
          0.34330975498380767,
          0.21570821208824587,
          "",
          0.32062380396200413,
          "",
          "",
          "",
          "",
          ""
         ],
         "yaxis": "y2"
        },
        {
         "line": {
          "color": "green"
         },
         "name": "Karasuma",
         "showlegend": false,
         "type": "scatter",
         "x": [
          0,
          1,
          2,
          3,
          4,
          5,
          6,
          7,
          8,
          9,
          10,
          11,
          12,
          13,
          14,
          15,
          16,
          17,
          18,
          19,
          20,
          21,
          22,
          23
         ],
         "xaxis": "x2",
         "y": [
          "",
          "",
          "",
          0.20953032527995755,
          "",
          "",
          "",
          "",
          "",
          "",
          0.32335348723658797,
          "",
          0.29435256556981326,
          "",
          "",
          "",
          "",
          "",
          "",
          "",
          "",
          0.27617468455035404,
          "",
          ""
         ],
         "yaxis": "y2"
        },
        {
         "line": {
          "color": "aquamarine"
         },
         "name": "Kinkaku Temple",
         "showlegend": false,
         "type": "scatter",
         "x": [
          0,
          1,
          2,
          3,
          4,
          5,
          6,
          7,
          8,
          9,
          10,
          11,
          12,
          13,
          14,
          15,
          16,
          17,
          18,
          19,
          20,
          21,
          22,
          23
         ],
         "xaxis": "x2",
         "y": [
          -0.19156064425131014,
          -0.18248676866375246,
          "",
          "",
          "",
          null,
          "",
          "",
          "",
          "",
          "",
          0.20995863327961334,
          "",
          "",
          0.20678562480835624,
          0.24505287737430614,
          "",
          "",
          "",
          "",
          "",
          "",
          "",
          ""
         ],
         "yaxis": "y2"
        },
        {
         "line": {
          "color": "blue"
         },
         "name": "Kiyomizu Temple",
         "showlegend": false,
         "type": "scatter",
         "x": [
          0,
          1,
          2,
          3,
          4,
          5,
          6,
          7,
          8,
          9,
          10,
          11,
          12,
          13,
          14,
          15,
          16,
          17,
          18,
          19,
          20,
          21,
          22,
          23
         ],
         "xaxis": "x2",
         "y": [
          "",
          "",
          "",
          "",
          "",
          "",
          "",
          0.2765961106868598,
          "",
          0.18272601684007023,
          0.23646717544246612,
          0.42936066892415475,
          0.3397278760420464,
          0.4379289856141518,
          0.31248960611674237,
          0.31570536953110045,
          0.4920322858194683,
          0.4813561533217116,
          0.6805876683104873,
          0.4708873883416786,
          0.5349846979690891,
          0.2924948910359921,
          0.30476923932446676,
          ""
         ],
         "yaxis": "y2"
        },
        {
         "line": {
          "color": "aqua"
         },
         "name": "Kyoto University",
         "showlegend": false,
         "type": "scatter",
         "x": [
          0,
          1,
          2,
          3,
          4,
          5,
          6,
          7,
          8,
          9,
          10,
          11,
          12,
          13,
          14,
          15,
          16,
          17,
          18,
          19,
          20,
          21,
          22,
          23
         ],
         "xaxis": "x2",
         "y": [
          "",
          "",
          -0.1964800327107352,
          "",
          null,
          "",
          "",
          "",
          "",
          "",
          "",
          "",
          "",
          "",
          "",
          "",
          "",
          "",
          "",
          "",
          "",
          "",
          "",
          ""
         ],
         "yaxis": "y2"
        },
        {
         "line": {
          "color": "purple"
         },
         "name": "Nizyou",
         "showlegend": false,
         "type": "scatter",
         "x": [
          0,
          1,
          2,
          3,
          4,
          5,
          6,
          7,
          8,
          9,
          10,
          11,
          12,
          13,
          14,
          15,
          16,
          17,
          18,
          19,
          20,
          21,
          22,
          23
         ],
         "xaxis": "x2",
         "y": [
          "",
          "",
          "",
          "",
          "",
          "",
          "",
          "",
          "",
          0.19166546367289056,
          "",
          0.2159308489027968,
          "",
          "",
          "",
          "",
          0.23172208924871998,
          "",
          "",
          0.21019683487449126,
          "",
          "",
          "",
          ""
         ],
         "yaxis": "y2"
        },
        {
         "line": {
          "color": "pink"
         },
         "name": "Touzi",
         "showlegend": false,
         "type": "scatter",
         "x": [
          0,
          1,
          2,
          3,
          4,
          5,
          6,
          7,
          8,
          9,
          10,
          11,
          12,
          13,
          14,
          15,
          16,
          17,
          18,
          19,
          20,
          21,
          22,
          23
         ],
         "xaxis": "x2",
         "y": [
          "",
          "",
          "",
          "",
          "",
          "",
          0.17881525722497957,
          "",
          "",
          0.2258874277490538,
          "",
          "",
          0.18918126128408702,
          "",
          "",
          "",
          "",
          "",
          0.19889403256729038,
          0.355834928572108,
          0.2796444768526954,
          "",
          "",
          0.26263297356803006
         ],
         "yaxis": "y2"
        },
        {
         "line": {
          "color": "lime"
         },
         "name": "Kyoto Station",
         "showlegend": false,
         "type": "scatter",
         "x": [
          0,
          1,
          2,
          3,
          4,
          5,
          6,
          7,
          8,
          9,
          10,
          11,
          12,
          13,
          14,
          15,
          16,
          17,
          18,
          19,
          20,
          21,
          22,
          23
         ],
         "xaxis": "x2",
         "y": [
          0.39312376649453223,
          0.2185949579892,
          "",
          0.26326345786281213,
          "",
          0.28558307792624416,
          0.34615893397629316,
          0.42637278434098935,
          0.4973019666620104,
          0.40010343391208486,
          0.6097534861818139,
          0.5369785605050768,
          0.5090544328710066,
          0.408660313233062,
          0.43555291432906135,
          0.37916283172460397,
          0.474430676020543,
          0.41596216469002517,
          0.45372018499535877,
          0.4663613974248932,
          0.4599522042750466,
          0.3981637132027027,
          0.5114209712608387,
          0.4429659549091677
         ],
         "yaxis": "y2"
        }
       ],
       "layout": {
        "annotations": [
         {
          "font": {
           "size": 16
          },
          "showarrow": false,
          "text": "Workday",
          "x": 0.225,
          "xanchor": "center",
          "xref": "paper",
          "y": 1,
          "yanchor": "bottom",
          "yref": "paper"
         },
         {
          "font": {
           "size": 16
          },
          "showarrow": false,
          "text": "Holiday",
          "x": 0.775,
          "xanchor": "center",
          "xref": "paper",
          "y": 1,
          "yanchor": "bottom",
          "yref": "paper"
         }
        ],
        "height": 500,
        "template": {
         "data": {
          "bar": [
           {
            "error_x": {
             "color": "#2a3f5f"
            },
            "error_y": {
             "color": "#2a3f5f"
            },
            "marker": {
             "line": {
              "color": "#E5ECF6",
              "width": 0.5
             },
             "pattern": {
              "fillmode": "overlay",
              "size": 10,
              "solidity": 0.2
             }
            },
            "type": "bar"
           }
          ],
          "barpolar": [
           {
            "marker": {
             "line": {
              "color": "#E5ECF6",
              "width": 0.5
             },
             "pattern": {
              "fillmode": "overlay",
              "size": 10,
              "solidity": 0.2
             }
            },
            "type": "barpolar"
           }
          ],
          "carpet": [
           {
            "aaxis": {
             "endlinecolor": "#2a3f5f",
             "gridcolor": "white",
             "linecolor": "white",
             "minorgridcolor": "white",
             "startlinecolor": "#2a3f5f"
            },
            "baxis": {
             "endlinecolor": "#2a3f5f",
             "gridcolor": "white",
             "linecolor": "white",
             "minorgridcolor": "white",
             "startlinecolor": "#2a3f5f"
            },
            "type": "carpet"
           }
          ],
          "choropleth": [
           {
            "colorbar": {
             "outlinewidth": 0,
             "ticks": ""
            },
            "type": "choropleth"
           }
          ],
          "contour": [
           {
            "colorbar": {
             "outlinewidth": 0,
             "ticks": ""
            },
            "colorscale": [
             [
              0,
              "#0d0887"
             ],
             [
              0.1111111111111111,
              "#46039f"
             ],
             [
              0.2222222222222222,
              "#7201a8"
             ],
             [
              0.3333333333333333,
              "#9c179e"
             ],
             [
              0.4444444444444444,
              "#bd3786"
             ],
             [
              0.5555555555555556,
              "#d8576b"
             ],
             [
              0.6666666666666666,
              "#ed7953"
             ],
             [
              0.7777777777777778,
              "#fb9f3a"
             ],
             [
              0.8888888888888888,
              "#fdca26"
             ],
             [
              1,
              "#f0f921"
             ]
            ],
            "type": "contour"
           }
          ],
          "contourcarpet": [
           {
            "colorbar": {
             "outlinewidth": 0,
             "ticks": ""
            },
            "type": "contourcarpet"
           }
          ],
          "heatmap": [
           {
            "colorbar": {
             "outlinewidth": 0,
             "ticks": ""
            },
            "colorscale": [
             [
              0,
              "#0d0887"
             ],
             [
              0.1111111111111111,
              "#46039f"
             ],
             [
              0.2222222222222222,
              "#7201a8"
             ],
             [
              0.3333333333333333,
              "#9c179e"
             ],
             [
              0.4444444444444444,
              "#bd3786"
             ],
             [
              0.5555555555555556,
              "#d8576b"
             ],
             [
              0.6666666666666666,
              "#ed7953"
             ],
             [
              0.7777777777777778,
              "#fb9f3a"
             ],
             [
              0.8888888888888888,
              "#fdca26"
             ],
             [
              1,
              "#f0f921"
             ]
            ],
            "type": "heatmap"
           }
          ],
          "heatmapgl": [
           {
            "colorbar": {
             "outlinewidth": 0,
             "ticks": ""
            },
            "colorscale": [
             [
              0,
              "#0d0887"
             ],
             [
              0.1111111111111111,
              "#46039f"
             ],
             [
              0.2222222222222222,
              "#7201a8"
             ],
             [
              0.3333333333333333,
              "#9c179e"
             ],
             [
              0.4444444444444444,
              "#bd3786"
             ],
             [
              0.5555555555555556,
              "#d8576b"
             ],
             [
              0.6666666666666666,
              "#ed7953"
             ],
             [
              0.7777777777777778,
              "#fb9f3a"
             ],
             [
              0.8888888888888888,
              "#fdca26"
             ],
             [
              1,
              "#f0f921"
             ]
            ],
            "type": "heatmapgl"
           }
          ],
          "histogram": [
           {
            "marker": {
             "pattern": {
              "fillmode": "overlay",
              "size": 10,
              "solidity": 0.2
             }
            },
            "type": "histogram"
           }
          ],
          "histogram2d": [
           {
            "colorbar": {
             "outlinewidth": 0,
             "ticks": ""
            },
            "colorscale": [
             [
              0,
              "#0d0887"
             ],
             [
              0.1111111111111111,
              "#46039f"
             ],
             [
              0.2222222222222222,
              "#7201a8"
             ],
             [
              0.3333333333333333,
              "#9c179e"
             ],
             [
              0.4444444444444444,
              "#bd3786"
             ],
             [
              0.5555555555555556,
              "#d8576b"
             ],
             [
              0.6666666666666666,
              "#ed7953"
             ],
             [
              0.7777777777777778,
              "#fb9f3a"
             ],
             [
              0.8888888888888888,
              "#fdca26"
             ],
             [
              1,
              "#f0f921"
             ]
            ],
            "type": "histogram2d"
           }
          ],
          "histogram2dcontour": [
           {
            "colorbar": {
             "outlinewidth": 0,
             "ticks": ""
            },
            "colorscale": [
             [
              0,
              "#0d0887"
             ],
             [
              0.1111111111111111,
              "#46039f"
             ],
             [
              0.2222222222222222,
              "#7201a8"
             ],
             [
              0.3333333333333333,
              "#9c179e"
             ],
             [
              0.4444444444444444,
              "#bd3786"
             ],
             [
              0.5555555555555556,
              "#d8576b"
             ],
             [
              0.6666666666666666,
              "#ed7953"
             ],
             [
              0.7777777777777778,
              "#fb9f3a"
             ],
             [
              0.8888888888888888,
              "#fdca26"
             ],
             [
              1,
              "#f0f921"
             ]
            ],
            "type": "histogram2dcontour"
           }
          ],
          "mesh3d": [
           {
            "colorbar": {
             "outlinewidth": 0,
             "ticks": ""
            },
            "type": "mesh3d"
           }
          ],
          "parcoords": [
           {
            "line": {
             "colorbar": {
              "outlinewidth": 0,
              "ticks": ""
             }
            },
            "type": "parcoords"
           }
          ],
          "pie": [
           {
            "automargin": true,
            "type": "pie"
           }
          ],
          "scatter": [
           {
            "fillpattern": {
             "fillmode": "overlay",
             "size": 10,
             "solidity": 0.2
            },
            "type": "scatter"
           }
          ],
          "scatter3d": [
           {
            "line": {
             "colorbar": {
              "outlinewidth": 0,
              "ticks": ""
             }
            },
            "marker": {
             "colorbar": {
              "outlinewidth": 0,
              "ticks": ""
             }
            },
            "type": "scatter3d"
           }
          ],
          "scattercarpet": [
           {
            "marker": {
             "colorbar": {
              "outlinewidth": 0,
              "ticks": ""
             }
            },
            "type": "scattercarpet"
           }
          ],
          "scattergeo": [
           {
            "marker": {
             "colorbar": {
              "outlinewidth": 0,
              "ticks": ""
             }
            },
            "type": "scattergeo"
           }
          ],
          "scattergl": [
           {
            "marker": {
             "colorbar": {
              "outlinewidth": 0,
              "ticks": ""
             }
            },
            "type": "scattergl"
           }
          ],
          "scattermapbox": [
           {
            "marker": {
             "colorbar": {
              "outlinewidth": 0,
              "ticks": ""
             }
            },
            "type": "scattermapbox"
           }
          ],
          "scatterpolar": [
           {
            "marker": {
             "colorbar": {
              "outlinewidth": 0,
              "ticks": ""
             }
            },
            "type": "scatterpolar"
           }
          ],
          "scatterpolargl": [
           {
            "marker": {
             "colorbar": {
              "outlinewidth": 0,
              "ticks": ""
             }
            },
            "type": "scatterpolargl"
           }
          ],
          "scatterternary": [
           {
            "marker": {
             "colorbar": {
              "outlinewidth": 0,
              "ticks": ""
             }
            },
            "type": "scatterternary"
           }
          ],
          "surface": [
           {
            "colorbar": {
             "outlinewidth": 0,
             "ticks": ""
            },
            "colorscale": [
             [
              0,
              "#0d0887"
             ],
             [
              0.1111111111111111,
              "#46039f"
             ],
             [
              0.2222222222222222,
              "#7201a8"
             ],
             [
              0.3333333333333333,
              "#9c179e"
             ],
             [
              0.4444444444444444,
              "#bd3786"
             ],
             [
              0.5555555555555556,
              "#d8576b"
             ],
             [
              0.6666666666666666,
              "#ed7953"
             ],
             [
              0.7777777777777778,
              "#fb9f3a"
             ],
             [
              0.8888888888888888,
              "#fdca26"
             ],
             [
              1,
              "#f0f921"
             ]
            ],
            "type": "surface"
           }
          ],
          "table": [
           {
            "cells": {
             "fill": {
              "color": "#EBF0F8"
             },
             "line": {
              "color": "white"
             }
            },
            "header": {
             "fill": {
              "color": "#C8D4E3"
             },
             "line": {
              "color": "white"
             }
            },
            "type": "table"
           }
          ]
         },
         "layout": {
          "annotationdefaults": {
           "arrowcolor": "#2a3f5f",
           "arrowhead": 0,
           "arrowwidth": 1
          },
          "autotypenumbers": "strict",
          "coloraxis": {
           "colorbar": {
            "outlinewidth": 0,
            "ticks": ""
           }
          },
          "colorscale": {
           "diverging": [
            [
             0,
             "#8e0152"
            ],
            [
             0.1,
             "#c51b7d"
            ],
            [
             0.2,
             "#de77ae"
            ],
            [
             0.3,
             "#f1b6da"
            ],
            [
             0.4,
             "#fde0ef"
            ],
            [
             0.5,
             "#f7f7f7"
            ],
            [
             0.6,
             "#e6f5d0"
            ],
            [
             0.7,
             "#b8e186"
            ],
            [
             0.8,
             "#7fbc41"
            ],
            [
             0.9,
             "#4d9221"
            ],
            [
             1,
             "#276419"
            ]
           ],
           "sequential": [
            [
             0,
             "#0d0887"
            ],
            [
             0.1111111111111111,
             "#46039f"
            ],
            [
             0.2222222222222222,
             "#7201a8"
            ],
            [
             0.3333333333333333,
             "#9c179e"
            ],
            [
             0.4444444444444444,
             "#bd3786"
            ],
            [
             0.5555555555555556,
             "#d8576b"
            ],
            [
             0.6666666666666666,
             "#ed7953"
            ],
            [
             0.7777777777777778,
             "#fb9f3a"
            ],
            [
             0.8888888888888888,
             "#fdca26"
            ],
            [
             1,
             "#f0f921"
            ]
           ],
           "sequentialminus": [
            [
             0,
             "#0d0887"
            ],
            [
             0.1111111111111111,
             "#46039f"
            ],
            [
             0.2222222222222222,
             "#7201a8"
            ],
            [
             0.3333333333333333,
             "#9c179e"
            ],
            [
             0.4444444444444444,
             "#bd3786"
            ],
            [
             0.5555555555555556,
             "#d8576b"
            ],
            [
             0.6666666666666666,
             "#ed7953"
            ],
            [
             0.7777777777777778,
             "#fb9f3a"
            ],
            [
             0.8888888888888888,
             "#fdca26"
            ],
            [
             1,
             "#f0f921"
            ]
           ]
          },
          "colorway": [
           "#636efa",
           "#EF553B",
           "#00cc96",
           "#ab63fa",
           "#FFA15A",
           "#19d3f3",
           "#FF6692",
           "#B6E880",
           "#FF97FF",
           "#FECB52"
          ],
          "font": {
           "color": "#2a3f5f"
          },
          "geo": {
           "bgcolor": "white",
           "lakecolor": "white",
           "landcolor": "#E5ECF6",
           "showlakes": true,
           "showland": true,
           "subunitcolor": "white"
          },
          "hoverlabel": {
           "align": "left"
          },
          "hovermode": "closest",
          "mapbox": {
           "style": "light"
          },
          "paper_bgcolor": "white",
          "plot_bgcolor": "#E5ECF6",
          "polar": {
           "angularaxis": {
            "gridcolor": "white",
            "linecolor": "white",
            "ticks": ""
           },
           "bgcolor": "#E5ECF6",
           "radialaxis": {
            "gridcolor": "white",
            "linecolor": "white",
            "ticks": ""
           }
          },
          "scene": {
           "xaxis": {
            "backgroundcolor": "#E5ECF6",
            "gridcolor": "white",
            "gridwidth": 2,
            "linecolor": "white",
            "showbackground": true,
            "ticks": "",
            "zerolinecolor": "white"
           },
           "yaxis": {
            "backgroundcolor": "#E5ECF6",
            "gridcolor": "white",
            "gridwidth": 2,
            "linecolor": "white",
            "showbackground": true,
            "ticks": "",
            "zerolinecolor": "white"
           },
           "zaxis": {
            "backgroundcolor": "#E5ECF6",
            "gridcolor": "white",
            "gridwidth": 2,
            "linecolor": "white",
            "showbackground": true,
            "ticks": "",
            "zerolinecolor": "white"
           }
          },
          "shapedefaults": {
           "line": {
            "color": "#2a3f5f"
           }
          },
          "ternary": {
           "aaxis": {
            "gridcolor": "white",
            "linecolor": "white",
            "ticks": ""
           },
           "baxis": {
            "gridcolor": "white",
            "linecolor": "white",
            "ticks": ""
           },
           "bgcolor": "#E5ECF6",
           "caxis": {
            "gridcolor": "white",
            "linecolor": "white",
            "ticks": ""
           }
          },
          "title": {
           "x": 0.05
          },
          "xaxis": {
           "automargin": true,
           "gridcolor": "white",
           "linecolor": "white",
           "ticks": "",
           "title": {
            "standoff": 15
           },
           "zerolinecolor": "white",
           "zerolinewidth": 2
          },
          "yaxis": {
           "automargin": true,
           "gridcolor": "white",
           "linecolor": "white",
           "ticks": "",
           "title": {
            "standoff": 15
           },
           "zerolinecolor": "white",
           "zerolinewidth": 2
          }
         }
        },
        "width": 1400,
        "xaxis": {
         "anchor": "y",
         "domain": [
          0,
          0.45
         ],
         "title": {
          "text": "hour"
         }
        },
        "xaxis2": {
         "anchor": "y2",
         "domain": [
          0.55,
          1
         ],
         "matches": "x",
         "title": {
          "text": "hour"
         }
        },
        "yaxis": {
         "anchor": "x",
         "domain": [
          0,
          1
         ],
         "range": [
          -1,
          1
         ],
         "title": {
          "text": "social sensor performance"
         }
        },
        "yaxis2": {
         "anchor": "x2",
         "domain": [
          0,
          1
         ],
         "matches": "y",
         "showticklabels": false
        }
       }
      },
      "text/html": [
       "<div>                            <div id=\"57a60cf6-b47b-4ea5-9363-ba147bfab3de\" class=\"plotly-graph-div\" style=\"height:500px; width:1400px;\"></div>            <script type=\"text/javascript\">                require([\"plotly\"], function(Plotly) {                    window.PLOTLYENV=window.PLOTLYENV || {};                                    if (document.getElementById(\"57a60cf6-b47b-4ea5-9363-ba147bfab3de\")) {                    Plotly.newPlot(                        \"57a60cf6-b47b-4ea5-9363-ba147bfab3de\",                        [{\"line\":{\"color\":\"red\"},\"name\":\"Tokyo Station\",\"x\":[0,1,2,3,4,5,6,7,8,9,10,11,12,13,14,15,16,17,18,19,20,21,22,23],\"y\":[\"\",\"\",\"\",\"\",\"\",0.22279202211397323,0.45573139308582583,0.28910245428998504,0.28842008369914546,0.15999893507480095,0.21061994193528466,0.24098409049047348,0.3823719493202536,0.31309768849144726,0.2835968296397856,0.3185460626948038,0.3121540273431758,0.39499592994658556,0.5179291383153933,0.49592033965513843,0.5339219893835743,0.5907285477178796,0.5263765056473736,0.4702151505899545],\"type\":\"scatter\",\"xaxis\":\"x\",\"yaxis\":\"y\"},{\"line\":{\"color\":\"orange\"},\"name\":\"Arashiyama\",\"x\":[0,1,2,3,4,5,6,7,8,9,10,11,12,13,14,15,16,17,18,19,20,21,22,23],\"y\":[\"\",\"\",\"\",\"\",\"\",\"\",\"\",0.1597125876470396,\"\",0.2654117264252919,\"\",\"\",0.37065539625363847,0.17601764562356256,0.3743188538912091,0.29519959228811227,\"\",\"\",0.15981428297478611,0.14557041115576805,\"\",\"\",\"\",0.14348251014565558],\"type\":\"scatter\",\"xaxis\":\"x\",\"yaxis\":\"y\"},{\"line\":{\"color\":\"green\"},\"name\":\"Nakagyou\",\"x\":[0,1,2,3,4,5,6,7,8,9,10,11,12,13,14,15,16,17,18,19,20,21,22,23],\"y\":[\"\",\"\",\"\",\"\",\"\",\"\",\"\",\"\",\"\",\"\",\"\",\"\",\"\",\"\",\"\",\"\",\"\",\"\",\"\",\"\",\"\",0.13494332984488458,\"\",\"\"],\"type\":\"scatter\",\"xaxis\":\"x\",\"yaxis\":\"y\"},{\"line\":{\"color\":\"aquamarine\"},\"name\":\"Kinkaku Temple\",\"x\":[0,1,2,3,4,5,6,7,8,9,10,11,12,13,14,15,16,17,18,19,20,21,22,23],\"y\":[\"\",\"\",\"\",\"\",\"\",\"\",\"\",\"\",\"\",\"\",0.17575686354424216,0.1996337923353741,\"\",\"\",\"\",\"\",\"\",\"\",\"\",\"\",\"\",-0.1411636678210393,\"\",-0.14443986070805784],\"type\":\"scatter\",\"xaxis\":\"x\",\"yaxis\":\"y\"},{\"line\":{\"color\":\"blue\"},\"name\":\"Kiyomizu Temple\",\"x\":[0,1,2,3,4,5,6,7,8,9,10,11,12,13,14,15,16,17,18,19,20,21,22,23],\"y\":[\"\",\"\",\"\",\"\",-0.13470270911740148,\"\",\"\",0.18206975226286734,0.1992404904724876,\"\",0.22557270415768585,0.45289993092249736,0.2589632669189117,0.28815529878196805,0.2509937480736817,0.26868988838069774,0.2679355930638018,0.3185429089531383,0.247736665326122,0.4509997522347437,0.3537238501569314,0.33173716397711617,0.2180711021953253,0.1690906077083457],\"type\":\"scatter\",\"xaxis\":\"x\",\"yaxis\":\"y\"},{\"line\":{\"color\":\"aqua\"},\"name\":\"Kyoto University\",\"x\":[0,1,2,3,4,5,6,7,8,9,10,11,12,13,14,15,16,17,18,19,20,21,22,23],\"y\":[\"\",null,\"\",\"\",\"\",0.15037816257848627,\"\",\"\",\"\",\"\",\"\",\"\",\"\",\"\",\"\",-0.19215998833482667,\"\",\"\",\"\",\"\",\"\",\"\",\"\",\"\"],\"type\":\"scatter\",\"xaxis\":\"x\",\"yaxis\":\"y\"},{\"line\":{\"color\":\"purple\"},\"name\":\"Nizyou Castle \",\"x\":[0,1,2,3,4,5,6,7,8,9,10,11,12,13,14,15,16,17,18,19,20,21,22,23],\"y\":[0.17077893091157167,\"\",\"\",\"\",\"\",\"\",\"\",\"\",\"\",0.13724401224550178,\"\",0.13838050692910192,\"\",\"\",\"\",\"\",\"\",\"\",0.1797416063414862,\"\",0.18465998247646323,\"\",0.17960834102346737,0.19779421024400254],\"type\":\"scatter\",\"xaxis\":\"x\",\"yaxis\":\"y\"},{\"line\":{\"color\":\"pink\"},\"name\":\"Touzi Temple\",\"x\":[0,1,2,3,4,5,6,7,8,9,10,11,12,13,14,15,16,17,18,19,20,21,22,23],\"y\":[\"\",\"\",\"\",\"\",\"\",\"\",\"\",\"\",0.15476148623793662,\"\",\"\",\"\",\"\",0.20630940688244728,\"\",\"\",\"\",\"\",\"\",0.21062166856666373,\"\",\"\",\"\",\"\"],\"type\":\"scatter\",\"xaxis\":\"x\",\"yaxis\":\"y\"},{\"line\":{\"color\":\"lime\"},\"name\":\"Kyoto Station\",\"x\":[0,1,2,3,4,5,6,7,8,9,10,11,12,13,14,15,16,17,18,19,20,21,22,23],\"y\":[0.3850816844533944,\"\",0.16588460943273098,0.175376697468044,0.13011141542272825,\"\",0.30288941277594933,0.39929152969035264,0.43719879951567564,0.39714517380217956,0.5136327407898262,0.5279343423743739,0.5029792047119356,0.41219243326648014,0.43285877484514534,0.5002469216421297,0.5251825509925747,0.5505062054908023,0.6072960388596798,0.5479154087434893,0.6587240279772523,0.6415346266951801,0.5889354041274814,0.5386671075626881],\"type\":\"scatter\",\"xaxis\":\"x\",\"yaxis\":\"y\"},{\"line\":{\"color\":\"red\"},\"name\":\"Tokyo Station\",\"showlegend\":false,\"x\":[0,1,2,3,4,5,6,7,8,9,10,11,12,13,14,15,16,17,18,19,20,21,22,23],\"y\":[0.20663569668935994,\"\",\"\",-0.18564812903036965,\"\",0.4036887433988626,0.8192002443084673,0.786464073591908,0.6570787649334748,0.673555135669155,0.6434491538233333,0.6799206285684501,0.6439242503716348,0.5012908961180539,0.5671607468634863,0.5702356784554522,0.5616910830512377,0.5284932527702063,0.5266779869442102,0.5969208094456189,0.5205104969572233,0.522978474098175,0.4027816346826661,0.4956897457165841],\"type\":\"scatter\",\"xaxis\":\"x2\",\"yaxis\":\"y2\"},{\"line\":{\"color\":\"orange\"},\"name\":\"Arashiyama\",\"showlegend\":false,\"x\":[0,1,2,3,4,5,6,7,8,9,10,11,12,13,14,15,16,17,18,19,20,21,22,23],\"y\":[\"\",\"\",\"\",null,\"\",\"\",\"\",\"\",0.31963067305579557,0.19572604008619515,0.3174893038926116,0.40459505241595983,0.33745591338302566,0.32207702928987675,0.5757153472533781,0.34330975498380767,0.21570821208824587,\"\",0.32062380396200413,\"\",\"\",\"\",\"\",\"\"],\"type\":\"scatter\",\"xaxis\":\"x2\",\"yaxis\":\"y2\"},{\"line\":{\"color\":\"green\"},\"name\":\"Karasuma\",\"showlegend\":false,\"x\":[0,1,2,3,4,5,6,7,8,9,10,11,12,13,14,15,16,17,18,19,20,21,22,23],\"y\":[\"\",\"\",\"\",0.20953032527995755,\"\",\"\",\"\",\"\",\"\",\"\",0.32335348723658797,\"\",0.29435256556981326,\"\",\"\",\"\",\"\",\"\",\"\",\"\",\"\",0.27617468455035404,\"\",\"\"],\"type\":\"scatter\",\"xaxis\":\"x2\",\"yaxis\":\"y2\"},{\"line\":{\"color\":\"aquamarine\"},\"name\":\"Kinkaku Temple\",\"showlegend\":false,\"x\":[0,1,2,3,4,5,6,7,8,9,10,11,12,13,14,15,16,17,18,19,20,21,22,23],\"y\":[-0.19156064425131014,-0.18248676866375246,\"\",\"\",\"\",null,\"\",\"\",\"\",\"\",\"\",0.20995863327961334,\"\",\"\",0.20678562480835624,0.24505287737430614,\"\",\"\",\"\",\"\",\"\",\"\",\"\",\"\"],\"type\":\"scatter\",\"xaxis\":\"x2\",\"yaxis\":\"y2\"},{\"line\":{\"color\":\"blue\"},\"name\":\"Kiyomizu Temple\",\"showlegend\":false,\"x\":[0,1,2,3,4,5,6,7,8,9,10,11,12,13,14,15,16,17,18,19,20,21,22,23],\"y\":[\"\",\"\",\"\",\"\",\"\",\"\",\"\",0.2765961106868598,\"\",0.18272601684007023,0.23646717544246612,0.42936066892415475,0.3397278760420464,0.4379289856141518,0.31248960611674237,0.31570536953110045,0.4920322858194683,0.4813561533217116,0.6805876683104873,0.4708873883416786,0.5349846979690891,0.2924948910359921,0.30476923932446676,\"\"],\"type\":\"scatter\",\"xaxis\":\"x2\",\"yaxis\":\"y2\"},{\"line\":{\"color\":\"aqua\"},\"name\":\"Kyoto University\",\"showlegend\":false,\"x\":[0,1,2,3,4,5,6,7,8,9,10,11,12,13,14,15,16,17,18,19,20,21,22,23],\"y\":[\"\",\"\",-0.1964800327107352,\"\",null,\"\",\"\",\"\",\"\",\"\",\"\",\"\",\"\",\"\",\"\",\"\",\"\",\"\",\"\",\"\",\"\",\"\",\"\",\"\"],\"type\":\"scatter\",\"xaxis\":\"x2\",\"yaxis\":\"y2\"},{\"line\":{\"color\":\"purple\"},\"name\":\"Nizyou\",\"showlegend\":false,\"x\":[0,1,2,3,4,5,6,7,8,9,10,11,12,13,14,15,16,17,18,19,20,21,22,23],\"y\":[\"\",\"\",\"\",\"\",\"\",\"\",\"\",\"\",\"\",0.19166546367289056,\"\",0.2159308489027968,\"\",\"\",\"\",\"\",0.23172208924871998,\"\",\"\",0.21019683487449126,\"\",\"\",\"\",\"\"],\"type\":\"scatter\",\"xaxis\":\"x2\",\"yaxis\":\"y2\"},{\"line\":{\"color\":\"pink\"},\"name\":\"Touzi\",\"showlegend\":false,\"x\":[0,1,2,3,4,5,6,7,8,9,10,11,12,13,14,15,16,17,18,19,20,21,22,23],\"y\":[\"\",\"\",\"\",\"\",\"\",\"\",0.17881525722497957,\"\",\"\",0.2258874277490538,\"\",\"\",0.18918126128408702,\"\",\"\",\"\",\"\",\"\",0.19889403256729038,0.355834928572108,0.2796444768526954,\"\",\"\",0.26263297356803006],\"type\":\"scatter\",\"xaxis\":\"x2\",\"yaxis\":\"y2\"},{\"line\":{\"color\":\"lime\"},\"name\":\"Kyoto Station\",\"showlegend\":false,\"x\":[0,1,2,3,4,5,6,7,8,9,10,11,12,13,14,15,16,17,18,19,20,21,22,23],\"y\":[0.39312376649453223,0.2185949579892,\"\",0.26326345786281213,\"\",0.28558307792624416,0.34615893397629316,0.42637278434098935,0.4973019666620104,0.40010343391208486,0.6097534861818139,0.5369785605050768,0.5090544328710066,0.408660313233062,0.43555291432906135,0.37916283172460397,0.474430676020543,0.41596216469002517,0.45372018499535877,0.4663613974248932,0.4599522042750466,0.3981637132027027,0.5114209712608387,0.4429659549091677],\"type\":\"scatter\",\"xaxis\":\"x2\",\"yaxis\":\"y2\"}],                        {\"template\":{\"data\":{\"histogram2dcontour\":[{\"type\":\"histogram2dcontour\",\"colorbar\":{\"outlinewidth\":0,\"ticks\":\"\"},\"colorscale\":[[0.0,\"#0d0887\"],[0.1111111111111111,\"#46039f\"],[0.2222222222222222,\"#7201a8\"],[0.3333333333333333,\"#9c179e\"],[0.4444444444444444,\"#bd3786\"],[0.5555555555555556,\"#d8576b\"],[0.6666666666666666,\"#ed7953\"],[0.7777777777777778,\"#fb9f3a\"],[0.8888888888888888,\"#fdca26\"],[1.0,\"#f0f921\"]]}],\"choropleth\":[{\"type\":\"choropleth\",\"colorbar\":{\"outlinewidth\":0,\"ticks\":\"\"}}],\"histogram2d\":[{\"type\":\"histogram2d\",\"colorbar\":{\"outlinewidth\":0,\"ticks\":\"\"},\"colorscale\":[[0.0,\"#0d0887\"],[0.1111111111111111,\"#46039f\"],[0.2222222222222222,\"#7201a8\"],[0.3333333333333333,\"#9c179e\"],[0.4444444444444444,\"#bd3786\"],[0.5555555555555556,\"#d8576b\"],[0.6666666666666666,\"#ed7953\"],[0.7777777777777778,\"#fb9f3a\"],[0.8888888888888888,\"#fdca26\"],[1.0,\"#f0f921\"]]}],\"heatmap\":[{\"type\":\"heatmap\",\"colorbar\":{\"outlinewidth\":0,\"ticks\":\"\"},\"colorscale\":[[0.0,\"#0d0887\"],[0.1111111111111111,\"#46039f\"],[0.2222222222222222,\"#7201a8\"],[0.3333333333333333,\"#9c179e\"],[0.4444444444444444,\"#bd3786\"],[0.5555555555555556,\"#d8576b\"],[0.6666666666666666,\"#ed7953\"],[0.7777777777777778,\"#fb9f3a\"],[0.8888888888888888,\"#fdca26\"],[1.0,\"#f0f921\"]]}],\"heatmapgl\":[{\"type\":\"heatmapgl\",\"colorbar\":{\"outlinewidth\":0,\"ticks\":\"\"},\"colorscale\":[[0.0,\"#0d0887\"],[0.1111111111111111,\"#46039f\"],[0.2222222222222222,\"#7201a8\"],[0.3333333333333333,\"#9c179e\"],[0.4444444444444444,\"#bd3786\"],[0.5555555555555556,\"#d8576b\"],[0.6666666666666666,\"#ed7953\"],[0.7777777777777778,\"#fb9f3a\"],[0.8888888888888888,\"#fdca26\"],[1.0,\"#f0f921\"]]}],\"contourcarpet\":[{\"type\":\"contourcarpet\",\"colorbar\":{\"outlinewidth\":0,\"ticks\":\"\"}}],\"contour\":[{\"type\":\"contour\",\"colorbar\":{\"outlinewidth\":0,\"ticks\":\"\"},\"colorscale\":[[0.0,\"#0d0887\"],[0.1111111111111111,\"#46039f\"],[0.2222222222222222,\"#7201a8\"],[0.3333333333333333,\"#9c179e\"],[0.4444444444444444,\"#bd3786\"],[0.5555555555555556,\"#d8576b\"],[0.6666666666666666,\"#ed7953\"],[0.7777777777777778,\"#fb9f3a\"],[0.8888888888888888,\"#fdca26\"],[1.0,\"#f0f921\"]]}],\"surface\":[{\"type\":\"surface\",\"colorbar\":{\"outlinewidth\":0,\"ticks\":\"\"},\"colorscale\":[[0.0,\"#0d0887\"],[0.1111111111111111,\"#46039f\"],[0.2222222222222222,\"#7201a8\"],[0.3333333333333333,\"#9c179e\"],[0.4444444444444444,\"#bd3786\"],[0.5555555555555556,\"#d8576b\"],[0.6666666666666666,\"#ed7953\"],[0.7777777777777778,\"#fb9f3a\"],[0.8888888888888888,\"#fdca26\"],[1.0,\"#f0f921\"]]}],\"mesh3d\":[{\"type\":\"mesh3d\",\"colorbar\":{\"outlinewidth\":0,\"ticks\":\"\"}}],\"scatter\":[{\"fillpattern\":{\"fillmode\":\"overlay\",\"size\":10,\"solidity\":0.2},\"type\":\"scatter\"}],\"parcoords\":[{\"type\":\"parcoords\",\"line\":{\"colorbar\":{\"outlinewidth\":0,\"ticks\":\"\"}}}],\"scatterpolargl\":[{\"type\":\"scatterpolargl\",\"marker\":{\"colorbar\":{\"outlinewidth\":0,\"ticks\":\"\"}}}],\"bar\":[{\"error_x\":{\"color\":\"#2a3f5f\"},\"error_y\":{\"color\":\"#2a3f5f\"},\"marker\":{\"line\":{\"color\":\"#E5ECF6\",\"width\":0.5},\"pattern\":{\"fillmode\":\"overlay\",\"size\":10,\"solidity\":0.2}},\"type\":\"bar\"}],\"scattergeo\":[{\"type\":\"scattergeo\",\"marker\":{\"colorbar\":{\"outlinewidth\":0,\"ticks\":\"\"}}}],\"scatterpolar\":[{\"type\":\"scatterpolar\",\"marker\":{\"colorbar\":{\"outlinewidth\":0,\"ticks\":\"\"}}}],\"histogram\":[{\"marker\":{\"pattern\":{\"fillmode\":\"overlay\",\"size\":10,\"solidity\":0.2}},\"type\":\"histogram\"}],\"scattergl\":[{\"type\":\"scattergl\",\"marker\":{\"colorbar\":{\"outlinewidth\":0,\"ticks\":\"\"}}}],\"scatter3d\":[{\"type\":\"scatter3d\",\"line\":{\"colorbar\":{\"outlinewidth\":0,\"ticks\":\"\"}},\"marker\":{\"colorbar\":{\"outlinewidth\":0,\"ticks\":\"\"}}}],\"scattermapbox\":[{\"type\":\"scattermapbox\",\"marker\":{\"colorbar\":{\"outlinewidth\":0,\"ticks\":\"\"}}}],\"scatterternary\":[{\"type\":\"scatterternary\",\"marker\":{\"colorbar\":{\"outlinewidth\":0,\"ticks\":\"\"}}}],\"scattercarpet\":[{\"type\":\"scattercarpet\",\"marker\":{\"colorbar\":{\"outlinewidth\":0,\"ticks\":\"\"}}}],\"carpet\":[{\"aaxis\":{\"endlinecolor\":\"#2a3f5f\",\"gridcolor\":\"white\",\"linecolor\":\"white\",\"minorgridcolor\":\"white\",\"startlinecolor\":\"#2a3f5f\"},\"baxis\":{\"endlinecolor\":\"#2a3f5f\",\"gridcolor\":\"white\",\"linecolor\":\"white\",\"minorgridcolor\":\"white\",\"startlinecolor\":\"#2a3f5f\"},\"type\":\"carpet\"}],\"table\":[{\"cells\":{\"fill\":{\"color\":\"#EBF0F8\"},\"line\":{\"color\":\"white\"}},\"header\":{\"fill\":{\"color\":\"#C8D4E3\"},\"line\":{\"color\":\"white\"}},\"type\":\"table\"}],\"barpolar\":[{\"marker\":{\"line\":{\"color\":\"#E5ECF6\",\"width\":0.5},\"pattern\":{\"fillmode\":\"overlay\",\"size\":10,\"solidity\":0.2}},\"type\":\"barpolar\"}],\"pie\":[{\"automargin\":true,\"type\":\"pie\"}]},\"layout\":{\"autotypenumbers\":\"strict\",\"colorway\":[\"#636efa\",\"#EF553B\",\"#00cc96\",\"#ab63fa\",\"#FFA15A\",\"#19d3f3\",\"#FF6692\",\"#B6E880\",\"#FF97FF\",\"#FECB52\"],\"font\":{\"color\":\"#2a3f5f\"},\"hovermode\":\"closest\",\"hoverlabel\":{\"align\":\"left\"},\"paper_bgcolor\":\"white\",\"plot_bgcolor\":\"#E5ECF6\",\"polar\":{\"bgcolor\":\"#E5ECF6\",\"angularaxis\":{\"gridcolor\":\"white\",\"linecolor\":\"white\",\"ticks\":\"\"},\"radialaxis\":{\"gridcolor\":\"white\",\"linecolor\":\"white\",\"ticks\":\"\"}},\"ternary\":{\"bgcolor\":\"#E5ECF6\",\"aaxis\":{\"gridcolor\":\"white\",\"linecolor\":\"white\",\"ticks\":\"\"},\"baxis\":{\"gridcolor\":\"white\",\"linecolor\":\"white\",\"ticks\":\"\"},\"caxis\":{\"gridcolor\":\"white\",\"linecolor\":\"white\",\"ticks\":\"\"}},\"coloraxis\":{\"colorbar\":{\"outlinewidth\":0,\"ticks\":\"\"}},\"colorscale\":{\"sequential\":[[0.0,\"#0d0887\"],[0.1111111111111111,\"#46039f\"],[0.2222222222222222,\"#7201a8\"],[0.3333333333333333,\"#9c179e\"],[0.4444444444444444,\"#bd3786\"],[0.5555555555555556,\"#d8576b\"],[0.6666666666666666,\"#ed7953\"],[0.7777777777777778,\"#fb9f3a\"],[0.8888888888888888,\"#fdca26\"],[1.0,\"#f0f921\"]],\"sequentialminus\":[[0.0,\"#0d0887\"],[0.1111111111111111,\"#46039f\"],[0.2222222222222222,\"#7201a8\"],[0.3333333333333333,\"#9c179e\"],[0.4444444444444444,\"#bd3786\"],[0.5555555555555556,\"#d8576b\"],[0.6666666666666666,\"#ed7953\"],[0.7777777777777778,\"#fb9f3a\"],[0.8888888888888888,\"#fdca26\"],[1.0,\"#f0f921\"]],\"diverging\":[[0,\"#8e0152\"],[0.1,\"#c51b7d\"],[0.2,\"#de77ae\"],[0.3,\"#f1b6da\"],[0.4,\"#fde0ef\"],[0.5,\"#f7f7f7\"],[0.6,\"#e6f5d0\"],[0.7,\"#b8e186\"],[0.8,\"#7fbc41\"],[0.9,\"#4d9221\"],[1,\"#276419\"]]},\"xaxis\":{\"gridcolor\":\"white\",\"linecolor\":\"white\",\"ticks\":\"\",\"title\":{\"standoff\":15},\"zerolinecolor\":\"white\",\"automargin\":true,\"zerolinewidth\":2},\"yaxis\":{\"gridcolor\":\"white\",\"linecolor\":\"white\",\"ticks\":\"\",\"title\":{\"standoff\":15},\"zerolinecolor\":\"white\",\"automargin\":true,\"zerolinewidth\":2},\"scene\":{\"xaxis\":{\"backgroundcolor\":\"#E5ECF6\",\"gridcolor\":\"white\",\"linecolor\":\"white\",\"showbackground\":true,\"ticks\":\"\",\"zerolinecolor\":\"white\",\"gridwidth\":2},\"yaxis\":{\"backgroundcolor\":\"#E5ECF6\",\"gridcolor\":\"white\",\"linecolor\":\"white\",\"showbackground\":true,\"ticks\":\"\",\"zerolinecolor\":\"white\",\"gridwidth\":2},\"zaxis\":{\"backgroundcolor\":\"#E5ECF6\",\"gridcolor\":\"white\",\"linecolor\":\"white\",\"showbackground\":true,\"ticks\":\"\",\"zerolinecolor\":\"white\",\"gridwidth\":2}},\"shapedefaults\":{\"line\":{\"color\":\"#2a3f5f\"}},\"annotationdefaults\":{\"arrowcolor\":\"#2a3f5f\",\"arrowhead\":0,\"arrowwidth\":1},\"geo\":{\"bgcolor\":\"white\",\"landcolor\":\"#E5ECF6\",\"subunitcolor\":\"white\",\"showland\":true,\"showlakes\":true,\"lakecolor\":\"white\"},\"title\":{\"x\":0.05},\"mapbox\":{\"style\":\"light\"}}},\"xaxis\":{\"anchor\":\"y\",\"domain\":[0.0,0.45],\"title\":{\"text\":\"hour\"}},\"yaxis\":{\"anchor\":\"x\",\"domain\":[0.0,1.0],\"range\":[-1,1],\"title\":{\"text\":\"social sensor performance\"}},\"xaxis2\":{\"anchor\":\"y2\",\"domain\":[0.55,1.0],\"matches\":\"x\",\"title\":{\"text\":\"hour\"}},\"yaxis2\":{\"anchor\":\"x2\",\"domain\":[0.0,1.0],\"matches\":\"y\",\"showticklabels\":false},\"annotations\":[{\"font\":{\"size\":16},\"showarrow\":false,\"text\":\"Workday\",\"x\":0.225,\"xanchor\":\"center\",\"xref\":\"paper\",\"y\":1.0,\"yanchor\":\"bottom\",\"yref\":\"paper\"},{\"font\":{\"size\":16},\"showarrow\":false,\"text\":\"Holiday\",\"x\":0.775,\"xanchor\":\"center\",\"xref\":\"paper\",\"y\":1.0,\"yanchor\":\"bottom\",\"yref\":\"paper\"}],\"width\":1400,\"height\":500},                        {\"responsive\": true}                    ).then(function(){\n",
       "                            \n",
       "var gd = document.getElementById('57a60cf6-b47b-4ea5-9363-ba147bfab3de');\n",
       "var x = new MutationObserver(function (mutations, observer) {{\n",
       "        var display = window.getComputedStyle(gd).display;\n",
       "        if (!display || display === 'none') {{\n",
       "            console.log([gd, 'removed!']);\n",
       "            Plotly.purge(gd);\n",
       "            observer.disconnect();\n",
       "        }}\n",
       "}});\n",
       "\n",
       "// Listen for the removal of the full notebook cells\n",
       "var notebookContainer = gd.closest('#notebook-container');\n",
       "if (notebookContainer) {{\n",
       "    x.observe(notebookContainer, {childList: true});\n",
       "}}\n",
       "\n",
       "// Listen for the clearing of the current output cell\n",
       "var outputEl = gd.closest('.output');\n",
       "if (outputEl) {{\n",
       "    x.observe(outputEl, {childList: true});\n",
       "}}\n",
       "\n",
       "                        })                };                });            </script>        </div>"
      ]
     },
     "metadata": {},
     "output_type": "display_data"
    }
   ],
   "source": [
    "data = []\n",
    "for place_id in range(0, len(list_mobile)):\n",
    "    mobile = np.load(list_mobile[place_id])\n",
    "    tweets = np.load(list_twitter[place_id])\n",
    "    dlete_list = []\n",
    "    if place_id == 0:\n",
    "        start_date = datetime(2021,1,1)\n",
    "    else:\n",
    "        start_date = datetime(2022,1,1)\n",
    "\n",
    "    for n_date_from_year in range(0,365):\n",
    "        Today = start_date + timedelta(days=n_date_from_year)\n",
    "        work_holi_Flag = isBizDay(Today)\n",
    "        if (\n",
    "            n_date_from_year == 0\n",
    "            or n_date_from_year == 1\n",
    "            or n_date_from_year == 2\n",
    "            or n_date_from_year == 362\n",
    "            or n_date_from_year == 363\n",
    "            or n_date_from_year == 364\n",
    "            or work_holi_Flag == \"Holiday\"\n",
    "            ):\n",
    "            dlete_list.append(n_date_from_year)\n",
    "    mobile = np.delete(mobile,dlete_list,axis=0)\n",
    "    tweets = np.delete(tweets,dlete_list,axis=0)\n",
    "\n",
    "    for i in range(0,24):\n",
    "        mobile_1hour = mobile[:, i:i+1]\n",
    "        mobile_1hour = mobile_1hour.flatten()\n",
    "        tweets_1hour = tweets[:, i:i+1]\n",
    "        tweets_1hour = tweets_1hour.flatten()\n",
    "\n",
    "        correlation, p_value = stats.pearsonr(mobile_1hour, tweets_1hour)\n",
    "        if p_value>0.05:\n",
    "            data.append([i,'', p_value, list_key[place_id]])\n",
    "        else:\n",
    "            data.append([i, correlation, p_value, list_key[place_id]])\n",
    "\n",
    "\n",
    "columns=['time','r','p','place']\n",
    "\n",
    "\n",
    "df_work= pd.DataFrame(data,columns=columns)\n",
    "data = []\n",
    "for place_id in range(0, len(list_mobile)):\n",
    "    mobile = np.load(list_mobile[place_id])\n",
    "    tweets = np.load(list_twitter[place_id])\n",
    "    dlete_list = []\n",
    "    if place_id == 0:\n",
    "        start_date = datetime(2021,1,1)\n",
    "    else:\n",
    "        start_date = datetime(2022,1,1)\n",
    "\n",
    "    for n_date_from_year in range(0,365):\n",
    "        Today = start_date + timedelta(days=n_date_from_year)\n",
    "        work_holi_Flag = isBizDay(Today)\n",
    "        if (\n",
    "            n_date_from_year == 0\n",
    "            or n_date_from_year == 1\n",
    "            or n_date_from_year == 2\n",
    "            or n_date_from_year == 362\n",
    "            or n_date_from_year == 363\n",
    "            or n_date_from_year == 364\n",
    "            or work_holi_Flag == \"Holiday\"\n",
    "            ):\n",
    "            continue\n",
    "        else:\n",
    "            dlete_list.append(n_date_from_year)\n",
    "    mobile = np.delete(mobile,dlete_list,axis=0)\n",
    "    tweets = np.delete(tweets,dlete_list,axis=0)\n",
    "\n",
    "    for i in range(0,24):\n",
    "        mobile_1hour = mobile[:, i:i+1]\n",
    "        mobile_1hour = mobile_1hour.flatten()\n",
    "        tweets_1hour = tweets[:, i:i+1]\n",
    "        tweets_1hour = tweets_1hour.flatten()\n",
    "\n",
    "        correlation, p_value = stats.pearsonr(mobile_1hour, tweets_1hour)\n",
    "        if p_value>0.05:\n",
    "            data.append([i,'', p_value, list_key[place_id]])\n",
    "        else:\n",
    "            data.append([i, correlation, p_value, list_key[place_id]])\n",
    "\n",
    "\n",
    "columns=['time','r','p','place']\n",
    "color=['red','orange','green','aquamarine','blue','aqua','purple','pink','lime']\n",
    "\n",
    "df_holi= pd.DataFrame(data,columns=columns)\n",
    "\n",
    "fig = make_subplots(rows=1, cols=2,subplot_titles=['Workday','Holiday'], shared_yaxes='all', shared_xaxes='all')\n",
    "\n",
    "list_place = df_work['place'].unique()\n",
    "fig.add_trace(go.Scatter(x = df_work[df_work['place']==list_place[0]]['time'], y = df_work[df_work['place']==list_place[0]]['r'], name = 'Tokyo Station', line=dict(color=color[0])),row=1,col=1)\n",
    "fig.add_trace(go.Scatter(x = df_work[df_work['place']==list_place[1]]['time'], y = df_work[df_work['place']==list_place[1]]['r'], name = list_place[1],line=dict(color=color[1])),row=1,col=1)\n",
    "fig.add_trace(go.Scatter(x = df_work[df_work['place']==list_place[2]]['time'], y = df_work[df_work['place']==list_place[2]]['r'], name = 'Nakagyou',line=dict(color=color[2])),row=1,col=1)\n",
    "fig.add_trace(go.Scatter(x = df_work[df_work['place']==list_place[3]]['time'], y = df_work[df_work['place']==list_place[3]]['r'], name = 'Kinkaku Temple',line=dict(color=color[3])),row=1,col=1)\n",
    "fig.add_trace(go.Scatter(x = df_work[df_work['place']==list_place[4]]['time'], y = df_work[df_work['place']==list_place[4]]['r'], name = 'Kiyomizu Temple',line=dict(color=color[4])),row=1,col=1)\n",
    "fig.add_trace(go.Scatter(x = df_work[df_work['place']==list_place[5]]['time'], y = df_work[df_work['place']==list_place[5]]['r'], name = 'Kyoto University',line=dict(color=color[5])),row=1,col=1)\n",
    "fig.add_trace(go.Scatter(x = df_work[df_work['place']==list_place[6]]['time'], y = df_work[df_work['place']==list_place[6]]['r'], name = 'Nizyou Castle ',line=dict(color=color[6])),row=1,col=1)\n",
    "fig.add_trace(go.Scatter(x = df_work[df_work['place']==list_place[7]]['time'], y = df_work[df_work['place']==list_place[7]]['r'], name = 'Touzi Temple',line=dict(color=color[7])),row=1,col=1)\n",
    "fig.add_trace(go.Scatter(x = df_work[df_work['place']==list_place[8]]['time'], y = df_work[df_work['place']==list_place[8]]['r'], name = 'Kyoto Station',line=dict(color=color[8])),row=1,col=1)\n",
    "\n",
    "fig.add_trace(go.Scatter(x = df_holi[df_holi['place']==list_place[0]]['time'], y = df_holi[df_holi['place']==list_place[0]]['r'], name = list_place[0],showlegend = False,line=dict(color=color[0])),row=1,col=2)\n",
    "fig.add_trace(go.Scatter(x = df_holi[df_holi['place']==list_place[1]]['time'], y = df_holi[df_holi['place']==list_place[1]]['r'], name = list_place[1],showlegend = False,line=dict(color=color[1])),row=1,col=2)\n",
    "fig.add_trace(go.Scatter(x = df_holi[df_holi['place']==list_place[2]]['time'], y = df_holi[df_holi['place']==list_place[2]]['r'], name = list_place[2],showlegend = False,line=dict(color=color[2])),row=1,col=2)\n",
    "fig.add_trace(go.Scatter(x = df_holi[df_holi['place']==list_place[3]]['time'], y = df_holi[df_holi['place']==list_place[3]]['r'], name = list_place[3],showlegend = False,line=dict(color=color[3])),row=1,col=2)\n",
    "fig.add_trace(go.Scatter(x = df_holi[df_holi['place']==list_place[4]]['time'], y = df_holi[df_holi['place']==list_place[4]]['r'], name = list_place[4],showlegend = False,line=dict(color=color[4])),row=1,col=2)\n",
    "fig.add_trace(go.Scatter(x = df_holi[df_holi['place']==list_place[5]]['time'], y = df_holi[df_holi['place']==list_place[5]]['r'], name = list_place[5],showlegend = False,line=dict(color=color[5])),row=1,col=2)\n",
    "fig.add_trace(go.Scatter(x = df_holi[df_holi['place']==list_place[6]]['time'], y = df_holi[df_holi['place']==list_place[6]]['r'], name = list_place[6],showlegend = False,line=dict(color=color[6])),row=1,col=2)\n",
    "fig.add_trace(go.Scatter(x = df_holi[df_holi['place']==list_place[7]]['time'], y = df_holi[df_holi['place']==list_place[7]]['r'], name = list_place[7],showlegend = False,line=dict(color=color[7])),row=1,col=2)\n",
    "fig.add_trace(go.Scatter(x = df_holi[df_holi['place']==list_place[8]]['time'], y = df_holi[df_holi['place']==list_place[8]]['r'], name = list_place[8],showlegend = False,line=dict(color=color[8])),row=1,col=2)\n",
    "#fig.update_layout(title='Hourly social sensor performance (workday)')\n",
    "fig.update_layout(yaxis=dict(range=(-1, 1)))\n",
    "fig.update_xaxes(title='hour', row=1, col=1)\n",
    "fig.update_xaxes(title='hour', row=1, col=2)\n",
    "fig.update_yaxes(title='social sensor performance', row=1, col=1)\n",
    "\n",
    "\n",
    "fig.update_layout(width=1400,height=500)\n",
    "fig.show()"
   ]
  },
  {
   "cell_type": "code",
   "execution_count": 82,
   "metadata": {},
   "outputs": [
    {
     "name": "stderr",
     "output_type": "stream",
     "text": [
      "/home/is/shuntaro-o/dev/compare_population_and_tweet_number/.venv/lib/python3.10/site-packages/scipy/stats/_stats_py.py:4427: ConstantInputWarning:\n",
      "\n",
      "An input array is constant; the correlation coefficient is not defined.\n",
      "\n",
      "/home/is/shuntaro-o/dev/compare_population_and_tweet_number/.venv/lib/python3.10/site-packages/scipy/stats/_stats_py.py:4427: ConstantInputWarning:\n",
      "\n",
      "An input array is constant; the correlation coefficient is not defined.\n",
      "\n"
     ]
    }
   ],
   "source": [
    "data = []\n",
    "for place_id in range(0, len(list_mobile)):\n",
    "    mobile = np.load(list_mobile[place_id])\n",
    "    tweets = np.load(list_twitter[place_id])\n",
    "    dlete_list = []\n",
    "    if place_id == 0:\n",
    "        start_date = datetime(2021,1,1)\n",
    "    else:\n",
    "        start_date = datetime(2022,1,1)\n",
    "\n",
    "    for n_date_from_year in range(0,365):\n",
    "        Today = start_date + timedelta(days=n_date_from_year)\n",
    "        work_holi_Flag = isBizDay(Today)\n",
    "        if (\n",
    "            n_date_from_year == 0\n",
    "            or n_date_from_year == 1\n",
    "            or n_date_from_year == 2\n",
    "            or n_date_from_year == 362\n",
    "            or n_date_from_year == 363\n",
    "            or n_date_from_year == 364\n",
    "            or work_holi_Flag == \"Holiday\"\n",
    "            ):\n",
    "            dlete_list.append(n_date_from_year)\n",
    "    mobile = np.delete(mobile,dlete_list,axis=0)\n",
    "    tweets = np.delete(tweets,dlete_list,axis=0)\n",
    "    tmp= [] \n",
    "    for i in range(0,24):\n",
    "        mobile_1hour = mobile[:, i:i+1]\n",
    "        mobile_1hour = mobile_1hour.flatten()\n",
    "        tweets_1hour = tweets[:, i:i+1]\n",
    "        tweets_1hour = tweets_1hour.flatten()\n",
    "\n",
    "        correlation, p_value = stats.pearsonr(mobile_1hour, tweets_1hour)\n",
    "        tmp.append('{:.2f} ({:.2f})'.format(correlation,p_value))\n",
    "    data.append(tmp)\n",
    "\n",
    "\n",
    "\n",
    "columns=[0,1,2,3,4,5,6,7,8,9,10,11,12,13,14,15,16,17,18,19,20,21,22,23]\n",
    "\n",
    "data = np.array(data)\n",
    "df_work= pd.DataFrame(data,index=df['place'].unique())\n",
    "\n",
    "data = []\n",
    "tmp = []\n",
    "for place_id in range(0, len(list_mobile)):\n",
    "    mobile = np.load(list_mobile[place_id])\n",
    "    tweets = np.load(list_twitter[place_id])\n",
    "    dlete_list = []\n",
    "    if place_id == 0:\n",
    "        start_date = datetime(2021,1,1)\n",
    "    else:\n",
    "        start_date = datetime(2022,1,1)\n",
    "\n",
    "    for n_date_from_year in range(0,365):\n",
    "        Today = start_date + timedelta(days=n_date_from_year)\n",
    "        work_holi_Flag = isBizDay(Today)\n",
    "        if (\n",
    "            n_date_from_year == 0\n",
    "            or n_date_from_year == 1\n",
    "            or n_date_from_year == 2\n",
    "            or n_date_from_year == 362\n",
    "            or n_date_from_year == 363\n",
    "            or n_date_from_year == 364\n",
    "            or work_holi_Flag == \"Holiday\"\n",
    "            ):\n",
    "            continue\n",
    "        else:\n",
    "            dlete_list.append(n_date_from_year)\n",
    "    mobile = np.delete(mobile,dlete_list,axis=0)\n",
    "    tweets = np.delete(tweets,dlete_list,axis=0)\n",
    "\n",
    "    tmp = []\n",
    "    for i in range(0,24):\n",
    "        mobile_1hour = mobile[:, i:i+1]\n",
    "        mobile_1hour = mobile_1hour.flatten()\n",
    "        tweets_1hour = tweets[:, i:i+1]\n",
    "        tweets_1hour = tweets_1hour.flatten()\n",
    "\n",
    "        correlation, p_value = stats.pearsonr(mobile_1hour, tweets_1hour)\n",
    "        tmp.append('{:.2f} ({:.2f})'.format(correlation,p_value))\n",
    "    data.append(tmp)\n",
    "\n",
    "\n",
    "\n",
    "\n",
    "columns=[0,1,2,3,4,5,6,7,8,9,10,11,12,13,14,15,16,17,18,19,20,21,22,23]\n",
    "\n",
    "data = np.array(data)\n",
    "df_holi= pd.DataFrame(data, index=df['place'].unique())"
   ]
  },
  {
   "cell_type": "code",
   "execution_count": 83,
   "metadata": {},
   "outputs": [
    {
     "data": {
      "text/html": [
       "<div>\n",
       "<style scoped>\n",
       "    .dataframe tbody tr th:only-of-type {\n",
       "        vertical-align: middle;\n",
       "    }\n",
       "\n",
       "    .dataframe tbody tr th {\n",
       "        vertical-align: top;\n",
       "    }\n",
       "\n",
       "    .dataframe thead th {\n",
       "        text-align: right;\n",
       "    }\n",
       "</style>\n",
       "<table border=\"1\" class=\"dataframe\">\n",
       "  <thead>\n",
       "    <tr style=\"text-align: right;\">\n",
       "      <th></th>\n",
       "      <th>0</th>\n",
       "      <th>1</th>\n",
       "      <th>2</th>\n",
       "      <th>3</th>\n",
       "      <th>4</th>\n",
       "      <th>5</th>\n",
       "      <th>6</th>\n",
       "      <th>7</th>\n",
       "      <th>8</th>\n",
       "      <th>9</th>\n",
       "      <th>...</th>\n",
       "      <th>14</th>\n",
       "      <th>15</th>\n",
       "      <th>16</th>\n",
       "      <th>17</th>\n",
       "      <th>18</th>\n",
       "      <th>19</th>\n",
       "      <th>20</th>\n",
       "      <th>21</th>\n",
       "      <th>22</th>\n",
       "      <th>23</th>\n",
       "    </tr>\n",
       "  </thead>\n",
       "  <tbody>\n",
       "    <tr>\n",
       "      <th>Tokyo Station</th>\n",
       "      <td>0.03 (0.59)</td>\n",
       "      <td>0.07 (0.29)</td>\n",
       "      <td>-0.07 (0.30)</td>\n",
       "      <td>-0.01 (0.85)</td>\n",
       "      <td>-0.05 (0.44)</td>\n",
       "      <td>0.22 (0.00)</td>\n",
       "      <td>0.46 (0.00)</td>\n",
       "      <td>0.29 (0.00)</td>\n",
       "      <td>0.29 (0.00)</td>\n",
       "      <td>0.16 (0.01)</td>\n",
       "      <td>...</td>\n",
       "      <td>0.28 (0.00)</td>\n",
       "      <td>0.32 (0.00)</td>\n",
       "      <td>0.31 (0.00)</td>\n",
       "      <td>0.39 (0.00)</td>\n",
       "      <td>0.52 (0.00)</td>\n",
       "      <td>0.50 (0.00)</td>\n",
       "      <td>0.53 (0.00)</td>\n",
       "      <td>0.59 (0.00)</td>\n",
       "      <td>0.53 (0.00)</td>\n",
       "      <td>0.47 (0.00)</td>\n",
       "    </tr>\n",
       "    <tr>\n",
       "      <th>Arashiyama</th>\n",
       "      <td>0.10 (0.11)</td>\n",
       "      <td>0.04 (0.58)</td>\n",
       "      <td>-0.05 (0.43)</td>\n",
       "      <td>0.11 (0.10)</td>\n",
       "      <td>0.00 (0.94)</td>\n",
       "      <td>0.08 (0.23)</td>\n",
       "      <td>-0.02 (0.77)</td>\n",
       "      <td>0.16 (0.01)</td>\n",
       "      <td>0.10 (0.12)</td>\n",
       "      <td>0.27 (0.00)</td>\n",
       "      <td>...</td>\n",
       "      <td>0.37 (0.00)</td>\n",
       "      <td>0.30 (0.00)</td>\n",
       "      <td>0.11 (0.08)</td>\n",
       "      <td>0.07 (0.29)</td>\n",
       "      <td>0.16 (0.01)</td>\n",
       "      <td>0.15 (0.02)</td>\n",
       "      <td>0.04 (0.54)</td>\n",
       "      <td>0.06 (0.34)</td>\n",
       "      <td>0.06 (0.32)</td>\n",
       "      <td>0.14 (0.03)</td>\n",
       "    </tr>\n",
       "    <tr>\n",
       "      <th>Karasuma</th>\n",
       "      <td>-0.05 (0.46)</td>\n",
       "      <td>-0.02 (0.70)</td>\n",
       "      <td>-0.00 (0.98)</td>\n",
       "      <td>-0.05 (0.43)</td>\n",
       "      <td>-0.04 (0.58)</td>\n",
       "      <td>0.02 (0.72)</td>\n",
       "      <td>-0.04 (0.49)</td>\n",
       "      <td>0.03 (0.64)</td>\n",
       "      <td>0.09 (0.17)</td>\n",
       "      <td>0.03 (0.63)</td>\n",
       "      <td>...</td>\n",
       "      <td>0.00 (0.98)</td>\n",
       "      <td>0.03 (0.68)</td>\n",
       "      <td>-0.04 (0.57)</td>\n",
       "      <td>0.05 (0.41)</td>\n",
       "      <td>0.02 (0.72)</td>\n",
       "      <td>0.04 (0.53)</td>\n",
       "      <td>0.07 (0.28)</td>\n",
       "      <td>0.13 (0.04)</td>\n",
       "      <td>0.07 (0.27)</td>\n",
       "      <td>0.06 (0.38)</td>\n",
       "    </tr>\n",
       "    <tr>\n",
       "      <th>Kinkaku Temple</th>\n",
       "      <td>0.01 (0.90)</td>\n",
       "      <td>-0.00 (0.98)</td>\n",
       "      <td>-0.05 (0.47)</td>\n",
       "      <td>0.09 (0.14)</td>\n",
       "      <td>0.04 (0.56)</td>\n",
       "      <td>-0.01 (0.92)</td>\n",
       "      <td>0.08 (0.22)</td>\n",
       "      <td>0.09 (0.18)</td>\n",
       "      <td>0.00 (0.99)</td>\n",
       "      <td>0.09 (0.18)</td>\n",
       "      <td>...</td>\n",
       "      <td>0.02 (0.78)</td>\n",
       "      <td>0.11 (0.09)</td>\n",
       "      <td>0.11 (0.09)</td>\n",
       "      <td>0.05 (0.47)</td>\n",
       "      <td>0.06 (0.36)</td>\n",
       "      <td>-0.12 (0.06)</td>\n",
       "      <td>0.10 (0.11)</td>\n",
       "      <td>-0.14 (0.03)</td>\n",
       "      <td>-0.09 (0.17)</td>\n",
       "      <td>-0.14 (0.02)</td>\n",
       "    </tr>\n",
       "    <tr>\n",
       "      <th>Kiyomizu Temple</th>\n",
       "      <td>0.08 (0.19)</td>\n",
       "      <td>0.07 (0.31)</td>\n",
       "      <td>0.02 (0.77)</td>\n",
       "      <td>0.02 (0.81)</td>\n",
       "      <td>-0.13 (0.04)</td>\n",
       "      <td>0.02 (0.78)</td>\n",
       "      <td>0.09 (0.16)</td>\n",
       "      <td>0.18 (0.00)</td>\n",
       "      <td>0.20 (0.00)</td>\n",
       "      <td>-0.06 (0.35)</td>\n",
       "      <td>...</td>\n",
       "      <td>0.25 (0.00)</td>\n",
       "      <td>0.27 (0.00)</td>\n",
       "      <td>0.27 (0.00)</td>\n",
       "      <td>0.32 (0.00)</td>\n",
       "      <td>0.25 (0.00)</td>\n",
       "      <td>0.45 (0.00)</td>\n",
       "      <td>0.35 (0.00)</td>\n",
       "      <td>0.33 (0.00)</td>\n",
       "      <td>0.22 (0.00)</td>\n",
       "      <td>0.17 (0.01)</td>\n",
       "    </tr>\n",
       "    <tr>\n",
       "      <th>Kyoto University</th>\n",
       "      <td>-0.01 (0.93)</td>\n",
       "      <td>nan (nan)</td>\n",
       "      <td>-0.05 (0.40)</td>\n",
       "      <td>0.03 (0.65)</td>\n",
       "      <td>-0.11 (0.09)</td>\n",
       "      <td>0.15 (0.02)</td>\n",
       "      <td>-0.04 (0.49)</td>\n",
       "      <td>0.04 (0.57)</td>\n",
       "      <td>0.06 (0.37)</td>\n",
       "      <td>-0.00 (0.96)</td>\n",
       "      <td>...</td>\n",
       "      <td>0.12 (0.06)</td>\n",
       "      <td>-0.19 (0.00)</td>\n",
       "      <td>0.03 (0.67)</td>\n",
       "      <td>0.01 (0.91)</td>\n",
       "      <td>0.06 (0.34)</td>\n",
       "      <td>-0.02 (0.70)</td>\n",
       "      <td>0.04 (0.58)</td>\n",
       "      <td>-0.02 (0.77)</td>\n",
       "      <td>0.00 (0.97)</td>\n",
       "      <td>-0.00 (0.96)</td>\n",
       "    </tr>\n",
       "    <tr>\n",
       "      <th>Nizyou</th>\n",
       "      <td>0.17 (0.01)</td>\n",
       "      <td>-0.05 (0.46)</td>\n",
       "      <td>-0.02 (0.71)</td>\n",
       "      <td>0.04 (0.56)</td>\n",
       "      <td>0.05 (0.48)</td>\n",
       "      <td>-0.03 (0.68)</td>\n",
       "      <td>0.04 (0.56)</td>\n",
       "      <td>0.05 (0.44)</td>\n",
       "      <td>0.04 (0.49)</td>\n",
       "      <td>0.14 (0.03)</td>\n",
       "      <td>...</td>\n",
       "      <td>0.09 (0.15)</td>\n",
       "      <td>0.04 (0.52)</td>\n",
       "      <td>0.09 (0.14)</td>\n",
       "      <td>0.11 (0.08)</td>\n",
       "      <td>0.18 (0.01)</td>\n",
       "      <td>0.08 (0.23)</td>\n",
       "      <td>0.18 (0.00)</td>\n",
       "      <td>0.02 (0.72)</td>\n",
       "      <td>0.18 (0.01)</td>\n",
       "      <td>0.20 (0.00)</td>\n",
       "    </tr>\n",
       "    <tr>\n",
       "      <th>Touzi</th>\n",
       "      <td>0.09 (0.17)</td>\n",
       "      <td>0.05 (0.41)</td>\n",
       "      <td>0.04 (0.57)</td>\n",
       "      <td>0.04 (0.50)</td>\n",
       "      <td>-0.07 (0.26)</td>\n",
       "      <td>-0.07 (0.31)</td>\n",
       "      <td>0.08 (0.19)</td>\n",
       "      <td>0.10 (0.14)</td>\n",
       "      <td>0.15 (0.02)</td>\n",
       "      <td>0.06 (0.34)</td>\n",
       "      <td>...</td>\n",
       "      <td>-0.04 (0.56)</td>\n",
       "      <td>0.04 (0.51)</td>\n",
       "      <td>0.07 (0.31)</td>\n",
       "      <td>0.08 (0.21)</td>\n",
       "      <td>0.12 (0.06)</td>\n",
       "      <td>0.21 (0.00)</td>\n",
       "      <td>0.10 (0.11)</td>\n",
       "      <td>0.05 (0.44)</td>\n",
       "      <td>-0.00 (0.97)</td>\n",
       "      <td>0.10 (0.11)</td>\n",
       "    </tr>\n",
       "    <tr>\n",
       "      <th>Kyoto Station</th>\n",
       "      <td>0.39 (0.00)</td>\n",
       "      <td>0.08 (0.20)</td>\n",
       "      <td>0.17 (0.01)</td>\n",
       "      <td>0.18 (0.01)</td>\n",
       "      <td>0.13 (0.04)</td>\n",
       "      <td>0.08 (0.19)</td>\n",
       "      <td>0.30 (0.00)</td>\n",
       "      <td>0.40 (0.00)</td>\n",
       "      <td>0.44 (0.00)</td>\n",
       "      <td>0.40 (0.00)</td>\n",
       "      <td>...</td>\n",
       "      <td>0.43 (0.00)</td>\n",
       "      <td>0.50 (0.00)</td>\n",
       "      <td>0.53 (0.00)</td>\n",
       "      <td>0.55 (0.00)</td>\n",
       "      <td>0.61 (0.00)</td>\n",
       "      <td>0.55 (0.00)</td>\n",
       "      <td>0.66 (0.00)</td>\n",
       "      <td>0.64 (0.00)</td>\n",
       "      <td>0.59 (0.00)</td>\n",
       "      <td>0.54 (0.00)</td>\n",
       "    </tr>\n",
       "  </tbody>\n",
       "</table>\n",
       "<p>9 rows × 24 columns</p>\n",
       "</div>"
      ],
      "text/plain": [
       "                            0             1             2             3   \\\n",
       "Tokyo Station      0.03 (0.59)   0.07 (0.29)  -0.07 (0.30)  -0.01 (0.85)   \n",
       "Arashiyama         0.10 (0.11)   0.04 (0.58)  -0.05 (0.43)   0.11 (0.10)   \n",
       "Karasuma          -0.05 (0.46)  -0.02 (0.70)  -0.00 (0.98)  -0.05 (0.43)   \n",
       "Kinkaku Temple     0.01 (0.90)  -0.00 (0.98)  -0.05 (0.47)   0.09 (0.14)   \n",
       "Kiyomizu Temple    0.08 (0.19)   0.07 (0.31)   0.02 (0.77)   0.02 (0.81)   \n",
       "Kyoto University  -0.01 (0.93)     nan (nan)  -0.05 (0.40)   0.03 (0.65)   \n",
       "Nizyou             0.17 (0.01)  -0.05 (0.46)  -0.02 (0.71)   0.04 (0.56)   \n",
       "Touzi              0.09 (0.17)   0.05 (0.41)   0.04 (0.57)   0.04 (0.50)   \n",
       "Kyoto Station      0.39 (0.00)   0.08 (0.20)   0.17 (0.01)   0.18 (0.01)   \n",
       "\n",
       "                            4             5             6            7   \\\n",
       "Tokyo Station     -0.05 (0.44)   0.22 (0.00)   0.46 (0.00)  0.29 (0.00)   \n",
       "Arashiyama         0.00 (0.94)   0.08 (0.23)  -0.02 (0.77)  0.16 (0.01)   \n",
       "Karasuma          -0.04 (0.58)   0.02 (0.72)  -0.04 (0.49)  0.03 (0.64)   \n",
       "Kinkaku Temple     0.04 (0.56)  -0.01 (0.92)   0.08 (0.22)  0.09 (0.18)   \n",
       "Kiyomizu Temple   -0.13 (0.04)   0.02 (0.78)   0.09 (0.16)  0.18 (0.00)   \n",
       "Kyoto University  -0.11 (0.09)   0.15 (0.02)  -0.04 (0.49)  0.04 (0.57)   \n",
       "Nizyou             0.05 (0.48)  -0.03 (0.68)   0.04 (0.56)  0.05 (0.44)   \n",
       "Touzi             -0.07 (0.26)  -0.07 (0.31)   0.08 (0.19)  0.10 (0.14)   \n",
       "Kyoto Station      0.13 (0.04)   0.08 (0.19)   0.30 (0.00)  0.40 (0.00)   \n",
       "\n",
       "                           8             9   ...            14            15  \\\n",
       "Tokyo Station     0.29 (0.00)   0.16 (0.01)  ...   0.28 (0.00)   0.32 (0.00)   \n",
       "Arashiyama        0.10 (0.12)   0.27 (0.00)  ...   0.37 (0.00)   0.30 (0.00)   \n",
       "Karasuma          0.09 (0.17)   0.03 (0.63)  ...   0.00 (0.98)   0.03 (0.68)   \n",
       "Kinkaku Temple    0.00 (0.99)   0.09 (0.18)  ...   0.02 (0.78)   0.11 (0.09)   \n",
       "Kiyomizu Temple   0.20 (0.00)  -0.06 (0.35)  ...   0.25 (0.00)   0.27 (0.00)   \n",
       "Kyoto University  0.06 (0.37)  -0.00 (0.96)  ...   0.12 (0.06)  -0.19 (0.00)   \n",
       "Nizyou            0.04 (0.49)   0.14 (0.03)  ...   0.09 (0.15)   0.04 (0.52)   \n",
       "Touzi             0.15 (0.02)   0.06 (0.34)  ...  -0.04 (0.56)   0.04 (0.51)   \n",
       "Kyoto Station     0.44 (0.00)   0.40 (0.00)  ...   0.43 (0.00)   0.50 (0.00)   \n",
       "\n",
       "                            16           17           18            19  \\\n",
       "Tokyo Station      0.31 (0.00)  0.39 (0.00)  0.52 (0.00)   0.50 (0.00)   \n",
       "Arashiyama         0.11 (0.08)  0.07 (0.29)  0.16 (0.01)   0.15 (0.02)   \n",
       "Karasuma          -0.04 (0.57)  0.05 (0.41)  0.02 (0.72)   0.04 (0.53)   \n",
       "Kinkaku Temple     0.11 (0.09)  0.05 (0.47)  0.06 (0.36)  -0.12 (0.06)   \n",
       "Kiyomizu Temple    0.27 (0.00)  0.32 (0.00)  0.25 (0.00)   0.45 (0.00)   \n",
       "Kyoto University   0.03 (0.67)  0.01 (0.91)  0.06 (0.34)  -0.02 (0.70)   \n",
       "Nizyou             0.09 (0.14)  0.11 (0.08)  0.18 (0.01)   0.08 (0.23)   \n",
       "Touzi              0.07 (0.31)  0.08 (0.21)  0.12 (0.06)   0.21 (0.00)   \n",
       "Kyoto Station      0.53 (0.00)  0.55 (0.00)  0.61 (0.00)   0.55 (0.00)   \n",
       "\n",
       "                           20            21            22            23  \n",
       "Tokyo Station     0.53 (0.00)   0.59 (0.00)   0.53 (0.00)   0.47 (0.00)  \n",
       "Arashiyama        0.04 (0.54)   0.06 (0.34)   0.06 (0.32)   0.14 (0.03)  \n",
       "Karasuma          0.07 (0.28)   0.13 (0.04)   0.07 (0.27)   0.06 (0.38)  \n",
       "Kinkaku Temple    0.10 (0.11)  -0.14 (0.03)  -0.09 (0.17)  -0.14 (0.02)  \n",
       "Kiyomizu Temple   0.35 (0.00)   0.33 (0.00)   0.22 (0.00)   0.17 (0.01)  \n",
       "Kyoto University  0.04 (0.58)  -0.02 (0.77)   0.00 (0.97)  -0.00 (0.96)  \n",
       "Nizyou            0.18 (0.00)   0.02 (0.72)   0.18 (0.01)   0.20 (0.00)  \n",
       "Touzi             0.10 (0.11)   0.05 (0.44)  -0.00 (0.97)   0.10 (0.11)  \n",
       "Kyoto Station     0.66 (0.00)   0.64 (0.00)   0.59 (0.00)   0.54 (0.00)  \n",
       "\n",
       "[9 rows x 24 columns]"
      ]
     },
     "execution_count": 83,
     "metadata": {},
     "output_type": "execute_result"
    }
   ],
   "source": [
    "df_work"
   ]
  },
  {
   "cell_type": "code",
   "execution_count": 84,
   "metadata": {},
   "outputs": [
    {
     "data": {
      "text/html": [
       "<div>\n",
       "<style scoped>\n",
       "    .dataframe tbody tr th:only-of-type {\n",
       "        vertical-align: middle;\n",
       "    }\n",
       "\n",
       "    .dataframe tbody tr th {\n",
       "        vertical-align: top;\n",
       "    }\n",
       "\n",
       "    .dataframe thead th {\n",
       "        text-align: right;\n",
       "    }\n",
       "</style>\n",
       "<table border=\"1\" class=\"dataframe\">\n",
       "  <thead>\n",
       "    <tr style=\"text-align: right;\">\n",
       "      <th></th>\n",
       "      <th>0</th>\n",
       "      <th>1</th>\n",
       "      <th>2</th>\n",
       "      <th>3</th>\n",
       "      <th>4</th>\n",
       "      <th>5</th>\n",
       "      <th>6</th>\n",
       "      <th>7</th>\n",
       "      <th>8</th>\n",
       "      <th>9</th>\n",
       "      <th>...</th>\n",
       "      <th>14</th>\n",
       "      <th>15</th>\n",
       "      <th>16</th>\n",
       "      <th>17</th>\n",
       "      <th>18</th>\n",
       "      <th>19</th>\n",
       "      <th>20</th>\n",
       "      <th>21</th>\n",
       "      <th>22</th>\n",
       "      <th>23</th>\n",
       "    </tr>\n",
       "  </thead>\n",
       "  <tbody>\n",
       "    <tr>\n",
       "      <th>Tokyo Station</th>\n",
       "      <td>0.21 (0.02)</td>\n",
       "      <td>-0.03 (0.72)</td>\n",
       "      <td>-0.11 (0.21)</td>\n",
       "      <td>-0.19 (0.04)</td>\n",
       "      <td>-0.06 (0.52)</td>\n",
       "      <td>0.40 (0.00)</td>\n",
       "      <td>0.82 (0.00)</td>\n",
       "      <td>0.79 (0.00)</td>\n",
       "      <td>0.66 (0.00)</td>\n",
       "      <td>0.67 (0.00)</td>\n",
       "      <td>...</td>\n",
       "      <td>0.57 (0.00)</td>\n",
       "      <td>0.57 (0.00)</td>\n",
       "      <td>0.56 (0.00)</td>\n",
       "      <td>0.53 (0.00)</td>\n",
       "      <td>0.53 (0.00)</td>\n",
       "      <td>0.60 (0.00)</td>\n",
       "      <td>0.52 (0.00)</td>\n",
       "      <td>0.52 (0.00)</td>\n",
       "      <td>0.40 (0.00)</td>\n",
       "      <td>0.50 (0.00)</td>\n",
       "    </tr>\n",
       "    <tr>\n",
       "      <th>Arashiyama</th>\n",
       "      <td>-0.05 (0.59)</td>\n",
       "      <td>0.06 (0.48)</td>\n",
       "      <td>0.17 (0.07)</td>\n",
       "      <td>nan (nan)</td>\n",
       "      <td>-0.00 (0.96)</td>\n",
       "      <td>0.09 (0.34)</td>\n",
       "      <td>0.03 (0.76)</td>\n",
       "      <td>0.01 (0.89)</td>\n",
       "      <td>0.32 (0.00)</td>\n",
       "      <td>0.20 (0.03)</td>\n",
       "      <td>...</td>\n",
       "      <td>0.58 (0.00)</td>\n",
       "      <td>0.34 (0.00)</td>\n",
       "      <td>0.22 (0.02)</td>\n",
       "      <td>0.01 (0.87)</td>\n",
       "      <td>0.32 (0.00)</td>\n",
       "      <td>0.10 (0.28)</td>\n",
       "      <td>0.09 (0.30)</td>\n",
       "      <td>0.13 (0.17)</td>\n",
       "      <td>-0.11 (0.23)</td>\n",
       "      <td>0.13 (0.16)</td>\n",
       "    </tr>\n",
       "    <tr>\n",
       "      <th>Karasuma</th>\n",
       "      <td>0.10 (0.27)</td>\n",
       "      <td>0.01 (0.91)</td>\n",
       "      <td>-0.01 (0.95)</td>\n",
       "      <td>0.21 (0.02)</td>\n",
       "      <td>0.01 (0.95)</td>\n",
       "      <td>0.03 (0.72)</td>\n",
       "      <td>-0.04 (0.64)</td>\n",
       "      <td>0.12 (0.18)</td>\n",
       "      <td>0.11 (0.21)</td>\n",
       "      <td>0.04 (0.64)</td>\n",
       "      <td>...</td>\n",
       "      <td>0.17 (0.05)</td>\n",
       "      <td>0.08 (0.38)</td>\n",
       "      <td>-0.02 (0.85)</td>\n",
       "      <td>0.02 (0.79)</td>\n",
       "      <td>0.15 (0.10)</td>\n",
       "      <td>0.13 (0.14)</td>\n",
       "      <td>0.02 (0.82)</td>\n",
       "      <td>0.28 (0.00)</td>\n",
       "      <td>0.05 (0.58)</td>\n",
       "      <td>0.17 (0.06)</td>\n",
       "    </tr>\n",
       "    <tr>\n",
       "      <th>Kinkaku Temple</th>\n",
       "      <td>-0.19 (0.03)</td>\n",
       "      <td>-0.18 (0.04)</td>\n",
       "      <td>0.02 (0.80)</td>\n",
       "      <td>-0.05 (0.59)</td>\n",
       "      <td>-0.01 (0.92)</td>\n",
       "      <td>nan (nan)</td>\n",
       "      <td>-0.02 (0.81)</td>\n",
       "      <td>-0.11 (0.21)</td>\n",
       "      <td>-0.16 (0.09)</td>\n",
       "      <td>-0.02 (0.85)</td>\n",
       "      <td>...</td>\n",
       "      <td>0.21 (0.02)</td>\n",
       "      <td>0.25 (0.01)</td>\n",
       "      <td>0.12 (0.17)</td>\n",
       "      <td>-0.12 (0.20)</td>\n",
       "      <td>-0.17 (0.06)</td>\n",
       "      <td>-0.01 (0.90)</td>\n",
       "      <td>-0.09 (0.34)</td>\n",
       "      <td>-0.05 (0.57)</td>\n",
       "      <td>-0.05 (0.59)</td>\n",
       "      <td>-0.07 (0.46)</td>\n",
       "    </tr>\n",
       "    <tr>\n",
       "      <th>Kiyomizu Temple</th>\n",
       "      <td>-0.04 (0.64)</td>\n",
       "      <td>0.03 (0.77)</td>\n",
       "      <td>0.13 (0.15)</td>\n",
       "      <td>0.01 (0.93)</td>\n",
       "      <td>0.04 (0.67)</td>\n",
       "      <td>-0.03 (0.78)</td>\n",
       "      <td>0.11 (0.22)</td>\n",
       "      <td>0.28 (0.00)</td>\n",
       "      <td>0.05 (0.56)</td>\n",
       "      <td>0.18 (0.04)</td>\n",
       "      <td>...</td>\n",
       "      <td>0.31 (0.00)</td>\n",
       "      <td>0.32 (0.00)</td>\n",
       "      <td>0.49 (0.00)</td>\n",
       "      <td>0.48 (0.00)</td>\n",
       "      <td>0.68 (0.00)</td>\n",
       "      <td>0.47 (0.00)</td>\n",
       "      <td>0.53 (0.00)</td>\n",
       "      <td>0.29 (0.00)</td>\n",
       "      <td>0.30 (0.00)</td>\n",
       "      <td>0.01 (0.94)</td>\n",
       "    </tr>\n",
       "    <tr>\n",
       "      <th>Kyoto University</th>\n",
       "      <td>0.03 (0.71)</td>\n",
       "      <td>-0.04 (0.64)</td>\n",
       "      <td>-0.20 (0.03)</td>\n",
       "      <td>-0.04 (0.67)</td>\n",
       "      <td>nan (nan)</td>\n",
       "      <td>-0.08 (0.37)</td>\n",
       "      <td>0.01 (0.88)</td>\n",
       "      <td>-0.06 (0.50)</td>\n",
       "      <td>0.00 (1.00)</td>\n",
       "      <td>0.09 (0.30)</td>\n",
       "      <td>...</td>\n",
       "      <td>0.04 (0.65)</td>\n",
       "      <td>0.03 (0.78)</td>\n",
       "      <td>0.03 (0.71)</td>\n",
       "      <td>-0.04 (0.65)</td>\n",
       "      <td>-0.10 (0.27)</td>\n",
       "      <td>0.01 (0.87)</td>\n",
       "      <td>-0.03 (0.72)</td>\n",
       "      <td>0.08 (0.38)</td>\n",
       "      <td>-0.14 (0.12)</td>\n",
       "      <td>0.01 (0.92)</td>\n",
       "    </tr>\n",
       "    <tr>\n",
       "      <th>Nizyou</th>\n",
       "      <td>-0.04 (0.65)</td>\n",
       "      <td>0.10 (0.29)</td>\n",
       "      <td>0.05 (0.55)</td>\n",
       "      <td>0.01 (0.90)</td>\n",
       "      <td>-0.00 (0.96)</td>\n",
       "      <td>-0.00 (1.00)</td>\n",
       "      <td>-0.07 (0.45)</td>\n",
       "      <td>-0.08 (0.40)</td>\n",
       "      <td>0.04 (0.70)</td>\n",
       "      <td>0.19 (0.03)</td>\n",
       "      <td>...</td>\n",
       "      <td>0.09 (0.31)</td>\n",
       "      <td>0.10 (0.27)</td>\n",
       "      <td>0.23 (0.01)</td>\n",
       "      <td>-0.03 (0.71)</td>\n",
       "      <td>0.17 (0.07)</td>\n",
       "      <td>0.21 (0.02)</td>\n",
       "      <td>0.17 (0.06)</td>\n",
       "      <td>0.08 (0.39)</td>\n",
       "      <td>0.14 (0.11)</td>\n",
       "      <td>0.07 (0.42)</td>\n",
       "    </tr>\n",
       "    <tr>\n",
       "      <th>Touzi</th>\n",
       "      <td>-0.06 (0.54)</td>\n",
       "      <td>0.08 (0.40)</td>\n",
       "      <td>-0.03 (0.75)</td>\n",
       "      <td>0.04 (0.66)</td>\n",
       "      <td>0.08 (0.41)</td>\n",
       "      <td>0.11 (0.21)</td>\n",
       "      <td>0.18 (0.05)</td>\n",
       "      <td>0.08 (0.38)</td>\n",
       "      <td>0.08 (0.38)</td>\n",
       "      <td>0.23 (0.01)</td>\n",
       "      <td>...</td>\n",
       "      <td>0.01 (0.91)</td>\n",
       "      <td>-0.09 (0.33)</td>\n",
       "      <td>0.07 (0.47)</td>\n",
       "      <td>0.13 (0.16)</td>\n",
       "      <td>0.20 (0.03)</td>\n",
       "      <td>0.36 (0.00)</td>\n",
       "      <td>0.28 (0.00)</td>\n",
       "      <td>0.04 (0.65)</td>\n",
       "      <td>-0.09 (0.33)</td>\n",
       "      <td>0.26 (0.00)</td>\n",
       "    </tr>\n",
       "    <tr>\n",
       "      <th>Kyoto Station</th>\n",
       "      <td>0.39 (0.00)</td>\n",
       "      <td>0.22 (0.02)</td>\n",
       "      <td>0.10 (0.25)</td>\n",
       "      <td>0.26 (0.00)</td>\n",
       "      <td>0.13 (0.17)</td>\n",
       "      <td>0.29 (0.00)</td>\n",
       "      <td>0.35 (0.00)</td>\n",
       "      <td>0.43 (0.00)</td>\n",
       "      <td>0.50 (0.00)</td>\n",
       "      <td>0.40 (0.00)</td>\n",
       "      <td>...</td>\n",
       "      <td>0.44 (0.00)</td>\n",
       "      <td>0.38 (0.00)</td>\n",
       "      <td>0.47 (0.00)</td>\n",
       "      <td>0.42 (0.00)</td>\n",
       "      <td>0.45 (0.00)</td>\n",
       "      <td>0.47 (0.00)</td>\n",
       "      <td>0.46 (0.00)</td>\n",
       "      <td>0.40 (0.00)</td>\n",
       "      <td>0.51 (0.00)</td>\n",
       "      <td>0.44 (0.00)</td>\n",
       "    </tr>\n",
       "  </tbody>\n",
       "</table>\n",
       "<p>9 rows × 24 columns</p>\n",
       "</div>"
      ],
      "text/plain": [
       "                            0             1             2             3   \\\n",
       "Tokyo Station      0.21 (0.02)  -0.03 (0.72)  -0.11 (0.21)  -0.19 (0.04)   \n",
       "Arashiyama        -0.05 (0.59)   0.06 (0.48)   0.17 (0.07)     nan (nan)   \n",
       "Karasuma           0.10 (0.27)   0.01 (0.91)  -0.01 (0.95)   0.21 (0.02)   \n",
       "Kinkaku Temple    -0.19 (0.03)  -0.18 (0.04)   0.02 (0.80)  -0.05 (0.59)   \n",
       "Kiyomizu Temple   -0.04 (0.64)   0.03 (0.77)   0.13 (0.15)   0.01 (0.93)   \n",
       "Kyoto University   0.03 (0.71)  -0.04 (0.64)  -0.20 (0.03)  -0.04 (0.67)   \n",
       "Nizyou            -0.04 (0.65)   0.10 (0.29)   0.05 (0.55)   0.01 (0.90)   \n",
       "Touzi             -0.06 (0.54)   0.08 (0.40)  -0.03 (0.75)   0.04 (0.66)   \n",
       "Kyoto Station      0.39 (0.00)   0.22 (0.02)   0.10 (0.25)   0.26 (0.00)   \n",
       "\n",
       "                            4             5             6             7   \\\n",
       "Tokyo Station     -0.06 (0.52)   0.40 (0.00)   0.82 (0.00)   0.79 (0.00)   \n",
       "Arashiyama        -0.00 (0.96)   0.09 (0.34)   0.03 (0.76)   0.01 (0.89)   \n",
       "Karasuma           0.01 (0.95)   0.03 (0.72)  -0.04 (0.64)   0.12 (0.18)   \n",
       "Kinkaku Temple    -0.01 (0.92)     nan (nan)  -0.02 (0.81)  -0.11 (0.21)   \n",
       "Kiyomizu Temple    0.04 (0.67)  -0.03 (0.78)   0.11 (0.22)   0.28 (0.00)   \n",
       "Kyoto University     nan (nan)  -0.08 (0.37)   0.01 (0.88)  -0.06 (0.50)   \n",
       "Nizyou            -0.00 (0.96)  -0.00 (1.00)  -0.07 (0.45)  -0.08 (0.40)   \n",
       "Touzi              0.08 (0.41)   0.11 (0.21)   0.18 (0.05)   0.08 (0.38)   \n",
       "Kyoto Station      0.13 (0.17)   0.29 (0.00)   0.35 (0.00)   0.43 (0.00)   \n",
       "\n",
       "                            8             9   ...           14            15  \\\n",
       "Tokyo Station      0.66 (0.00)   0.67 (0.00)  ...  0.57 (0.00)   0.57 (0.00)   \n",
       "Arashiyama         0.32 (0.00)   0.20 (0.03)  ...  0.58 (0.00)   0.34 (0.00)   \n",
       "Karasuma           0.11 (0.21)   0.04 (0.64)  ...  0.17 (0.05)   0.08 (0.38)   \n",
       "Kinkaku Temple    -0.16 (0.09)  -0.02 (0.85)  ...  0.21 (0.02)   0.25 (0.01)   \n",
       "Kiyomizu Temple    0.05 (0.56)   0.18 (0.04)  ...  0.31 (0.00)   0.32 (0.00)   \n",
       "Kyoto University   0.00 (1.00)   0.09 (0.30)  ...  0.04 (0.65)   0.03 (0.78)   \n",
       "Nizyou             0.04 (0.70)   0.19 (0.03)  ...  0.09 (0.31)   0.10 (0.27)   \n",
       "Touzi              0.08 (0.38)   0.23 (0.01)  ...  0.01 (0.91)  -0.09 (0.33)   \n",
       "Kyoto Station      0.50 (0.00)   0.40 (0.00)  ...  0.44 (0.00)   0.38 (0.00)   \n",
       "\n",
       "                            16            17            18            19  \\\n",
       "Tokyo Station      0.56 (0.00)   0.53 (0.00)   0.53 (0.00)   0.60 (0.00)   \n",
       "Arashiyama         0.22 (0.02)   0.01 (0.87)   0.32 (0.00)   0.10 (0.28)   \n",
       "Karasuma          -0.02 (0.85)   0.02 (0.79)   0.15 (0.10)   0.13 (0.14)   \n",
       "Kinkaku Temple     0.12 (0.17)  -0.12 (0.20)  -0.17 (0.06)  -0.01 (0.90)   \n",
       "Kiyomizu Temple    0.49 (0.00)   0.48 (0.00)   0.68 (0.00)   0.47 (0.00)   \n",
       "Kyoto University   0.03 (0.71)  -0.04 (0.65)  -0.10 (0.27)   0.01 (0.87)   \n",
       "Nizyou             0.23 (0.01)  -0.03 (0.71)   0.17 (0.07)   0.21 (0.02)   \n",
       "Touzi              0.07 (0.47)   0.13 (0.16)   0.20 (0.03)   0.36 (0.00)   \n",
       "Kyoto Station      0.47 (0.00)   0.42 (0.00)   0.45 (0.00)   0.47 (0.00)   \n",
       "\n",
       "                            20            21            22            23  \n",
       "Tokyo Station      0.52 (0.00)   0.52 (0.00)   0.40 (0.00)   0.50 (0.00)  \n",
       "Arashiyama         0.09 (0.30)   0.13 (0.17)  -0.11 (0.23)   0.13 (0.16)  \n",
       "Karasuma           0.02 (0.82)   0.28 (0.00)   0.05 (0.58)   0.17 (0.06)  \n",
       "Kinkaku Temple    -0.09 (0.34)  -0.05 (0.57)  -0.05 (0.59)  -0.07 (0.46)  \n",
       "Kiyomizu Temple    0.53 (0.00)   0.29 (0.00)   0.30 (0.00)   0.01 (0.94)  \n",
       "Kyoto University  -0.03 (0.72)   0.08 (0.38)  -0.14 (0.12)   0.01 (0.92)  \n",
       "Nizyou             0.17 (0.06)   0.08 (0.39)   0.14 (0.11)   0.07 (0.42)  \n",
       "Touzi              0.28 (0.00)   0.04 (0.65)  -0.09 (0.33)   0.26 (0.00)  \n",
       "Kyoto Station      0.46 (0.00)   0.40 (0.00)   0.51 (0.00)   0.44 (0.00)  \n",
       "\n",
       "[9 rows x 24 columns]"
      ]
     },
     "execution_count": 84,
     "metadata": {},
     "output_type": "execute_result"
    }
   ],
   "source": [
    "df_holi"
   ]
  },
  {
   "cell_type": "code",
   "execution_count": 85,
   "metadata": {},
   "outputs": [],
   "source": [
    "#df_work.to_csv('/home/is/shuntaro-o/dev/compare_population_and_tweet_number/outputs/perhour/table_workday.csv')"
   ]
  },
  {
   "cell_type": "code",
   "execution_count": 86,
   "metadata": {},
   "outputs": [],
   "source": [
    "#df_holi.to_csv('/home/is/shuntaro-o/dev/compare_population_and_tweet_number/outputs/perhour/table_holiday.csv')"
   ]
  },
  {
   "cell_type": "code",
   "execution_count": 91,
   "metadata": {},
   "outputs": [],
   "source": [
    "tmp = np.load(University_tweets_PATH)"
   ]
  },
  {
   "cell_type": "code",
   "execution_count": 92,
   "metadata": {},
   "outputs": [
    {
     "data": {
      "text/plain": [
       "array([[0, 0, 0, ..., 0, 0, 0],\n",
       "       [0, 0, 0, ..., 0, 0, 0],\n",
       "       [0, 0, 0, ..., 0, 0, 0],\n",
       "       ...,\n",
       "       [1, 0, 0, ..., 0, 0, 0],\n",
       "       [0, 0, 0, ..., 0, 0, 0],\n",
       "       [0, 0, 0, ..., 0, 0, 0]])"
      ]
     },
     "execution_count": 92,
     "metadata": {},
     "output_type": "execute_result"
    }
   ],
   "source": [
    "tmp"
   ]
  }
 ],
 "metadata": {
  "kernelspec": {
   "display_name": ".venv",
   "language": "python",
   "name": "python3"
  },
  "language_info": {
   "codemirror_mode": {
    "name": "ipython",
    "version": 3
   },
   "file_extension": ".py",
   "mimetype": "text/x-python",
   "name": "python",
   "nbconvert_exporter": "python",
   "pygments_lexer": "ipython3",
   "version": "3.10.12"
  },
  "orig_nbformat": 4
 },
 "nbformat": 4,
 "nbformat_minor": 2
}
