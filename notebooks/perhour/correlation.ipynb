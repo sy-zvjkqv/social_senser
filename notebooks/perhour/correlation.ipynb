{
 "cells": [
  {
   "cell_type": "code",
   "execution_count": 11,
   "metadata": {},
   "outputs": [],
   "source": [
    "import matplotlib.cm as cm\n",
    "import matplotlib.pyplot as plt\n",
    "import numpy as np\n",
    "import pandas as pd\n",
    "import plotly.graph_objects as go\n",
    "import seaborn as sns\n",
    "from matplotlib import mlab\n",
    "from scipy import signal, stats\n",
    "from sklearn import preprocessing\n",
    "from sklearn.feature_selection import f_regression, mutual_info_regression\n",
    "from sklearn.linear_model import LinearRegression\n",
    "from sklearn import preprocessing\n",
    "Tokyo_station_mobile_PATH = \"/home/is/shuntaro-o/dev/compare_population_and_tweet_number/data/mobile/numpy_array/Tokyostation.npy\"\n",
    "Tokyo_station_tweets_PATH = \"/home/is/shuntaro-o/dev/compare_population_and_tweet_number/data/twitter/numpy_array/Tokyostaion.npy\"\n",
    "\n",
    "Kyoto_station_mobile_PATH = \"/home/is/shuntaro-o/dev/compare_population_and_tweet_number/data/mobile/numpy_array/Kyotostation.npy\"\n",
    "Kyoto_station_tweets_PATH = \"//home/is/shuntaro-o/dev/compare_population_and_tweet_number/data/twitter/numpy_array/Kyotostation.npy\"\n",
    "\n",
    "Arashi_mobile_PATH = \"/home/is/shuntaro-o/dev/compare_population_and_tweet_number/data/mobile/numpy_array/Arashiyama.npy\"\n",
    "Arashi_tweets_PATH = \"//home/is/shuntaro-o/dev/compare_population_and_tweet_number/data/twitter/numpy_array/Arashiyama.npy\"\n",
    "\n",
    "Karasuma_mobile_PATH = \"/home/is/shuntaro-o/dev/compare_population_and_tweet_number/data/mobile/numpy_array/Karasuma.npy\"\n",
    "Karasuma_tweets_PATH = \"//home/is/shuntaro-o/dev/compare_population_and_tweet_number/data/twitter/numpy_array/Karasuma.npy\"\n",
    "\n",
    "Kinkaku_mobile_PATH = \"/home/is/shuntaro-o/dev/compare_population_and_tweet_number/data/mobile/numpy_array/Kinkaku.npy\"\n",
    "Kinkaku_tweets_PATH = \"//home/is/shuntaro-o/dev/compare_population_and_tweet_number/data/twitter/numpy_array/Kinkaku.npy\"\n",
    "\n",
    "Kiyomizu_mobile_PATH = \"/home/is/shuntaro-o/dev/compare_population_and_tweet_number/data/mobile/numpy_array/Kiyomizu.npy\"\n",
    "Kiyomizu_tweets_PATH = \"//home/is/shuntaro-o/dev/compare_population_and_tweet_number/data/twitter/numpy_array/Kiyomizu.npy\"\n",
    "\n",
    "University_mobile_PATH = \"/home/is/shuntaro-o/dev/compare_population_and_tweet_number/data/mobile/numpy_array/University.npy\"\n",
    "University_tweets_PATH = \"//home/is/shuntaro-o/dev/compare_population_and_tweet_number/data/twitter/numpy_array/University.npy\"\n",
    "\n",
    "Nizyou_mobile_PATH = \"/home/is/shuntaro-o/dev/compare_population_and_tweet_number/data/mobile/numpy_array/Nizyou.npy\"\n",
    "Nizyou_tweets_PATH = \"//home/is/shuntaro-o/dev/compare_population_and_tweet_number/data/twitter/numpy_array/Nizyou.npy\"\n",
    "\n",
    "Touzi_mobile_PATH = \"/home/is/shuntaro-o/dev/compare_population_and_tweet_number/data/mobile/numpy_array/Touzi.npy\"\n",
    "Touzi_tweets_PATH = \"//home/is/shuntaro-o/dev/compare_population_and_tweet_number/data/twitter/numpy_array/Touzi.npy\"\n",
    "\n",
    "list_mobile = [\n",
    "    Tokyo_station_mobile_PATH,\n",
    "    Arashi_mobile_PATH,\n",
    "    High_mobile_PATH,\n",
    "    Kinkaku_mobile_PATH,\n",
    "    Kiyomizu_mobile_PATH,\n",
    "    Lowclass_mobile_PATH,\n",
    "    Nizyou_mobile_PATH,\n",
    "    Touzi_mobile_PATH,\n",
    "    Kyoto_station_mobile_PATH,\n",
    "]\n",
    "list_twitter = [\n",
    "    Tokyo_station_tweets_PATH,\n",
    "    Arashi_tweets_PATH,\n",
    "    High_tweets_PATH,\n",
    "    Kinkaku_tweets_PATH,\n",
    "    Kiyomizu_tweets_PATH,\n",
    "    Lowclass_tweets_PATH,\n",
    "    Nizyou_tweets_PATH,\n",
    "    Touzi_tweets_PATH,\n",
    "    Kyoto_station_tweets_PATH,\n",
    "]\n",
    "list_key = [\n",
    "    \"東京駅\",\n",
    "    \"嵐山\",\n",
    "    \"中京区\",\n",
    "    \"金閣寺\",\n",
    "    \"清水寺\",\n",
    "    \"学生街\",\n",
    "    \"二条城\",\n",
    "    \"東寺\",\n",
    "    \"京都駅\",\n",
    "]"
   ]
  },
  {
   "cell_type": "code",
   "execution_count": 12,
   "metadata": {},
   "outputs": [
    {
     "ename": "ValueError",
     "evalue": "Length of values (9) does not match length of index (8)",
     "output_type": "error",
     "traceback": [
      "\u001b[0;31m---------------------------------------------------------------------------\u001b[0m",
      "\u001b[0;31mValueError\u001b[0m                                Traceback (most recent call last)",
      "\u001b[1;32m/home/is/shuntaro-o/dev/compare_population_and_tweet_number/notebooks/perhour/correlation.ipynb Cell 2\u001b[0m line \u001b[0;36m1\n\u001b[1;32m     <a href='vscode-notebook-cell://ssh-remote%2Bkogecha/home/is/shuntaro-o/dev/compare_population_and_tweet_number/notebooks/perhour/correlation.ipynb#W1sdnNjb2RlLXJlbW90ZQ%3D%3D?line=12'>13</a>\u001b[0m         tmp\u001b[39m.\u001b[39mappend(correlation)\n\u001b[1;32m     <a href='vscode-notebook-cell://ssh-remote%2Bkogecha/home/is/shuntaro-o/dev/compare_population_and_tweet_number/notebooks/perhour/correlation.ipynb#W1sdnNjb2RlLXJlbW90ZQ%3D%3D?line=13'>14</a>\u001b[0m     data\u001b[39m.\u001b[39mappend(tmp)\n\u001b[0;32m---> <a href='vscode-notebook-cell://ssh-remote%2Bkogecha/home/is/shuntaro-o/dev/compare_population_and_tweet_number/notebooks/perhour/correlation.ipynb#W1sdnNjb2RlLXJlbW90ZQ%3D%3D?line=18'>19</a>\u001b[0m df\u001b[39m=\u001b[39m pd\u001b[39m.\u001b[39;49mDataFrame(data,index\u001b[39m=\u001b[39;49mlist_key)\n",
      "File \u001b[0;32m~/dev/compare_population_and_tweet_number/.venv/lib/python3.10/site-packages/pandas/core/frame.py:817\u001b[0m, in \u001b[0;36mDataFrame.__init__\u001b[0;34m(self, data, index, columns, dtype, copy)\u001b[0m\n\u001b[1;32m    808\u001b[0m         columns \u001b[39m=\u001b[39m ensure_index(columns)\n\u001b[1;32m    809\u001b[0m     arrays, columns, index \u001b[39m=\u001b[39m nested_data_to_arrays(\n\u001b[1;32m    810\u001b[0m         \u001b[39m# error: Argument 3 to \"nested_data_to_arrays\" has incompatible\u001b[39;00m\n\u001b[1;32m    811\u001b[0m         \u001b[39m# type \"Optional[Collection[Any]]\"; expected \"Optional[Index]\"\u001b[39;00m\n\u001b[0;32m   (...)\u001b[0m\n\u001b[1;32m    815\u001b[0m         dtype,\n\u001b[1;32m    816\u001b[0m     )\n\u001b[0;32m--> 817\u001b[0m     mgr \u001b[39m=\u001b[39m arrays_to_mgr(\n\u001b[1;32m    818\u001b[0m         arrays,\n\u001b[1;32m    819\u001b[0m         columns,\n\u001b[1;32m    820\u001b[0m         index,\n\u001b[1;32m    821\u001b[0m         dtype\u001b[39m=\u001b[39;49mdtype,\n\u001b[1;32m    822\u001b[0m         typ\u001b[39m=\u001b[39;49mmanager,\n\u001b[1;32m    823\u001b[0m     )\n\u001b[1;32m    824\u001b[0m \u001b[39melse\u001b[39;00m:\n\u001b[1;32m    825\u001b[0m     mgr \u001b[39m=\u001b[39m ndarray_to_mgr(\n\u001b[1;32m    826\u001b[0m         data,\n\u001b[1;32m    827\u001b[0m         index,\n\u001b[0;32m   (...)\u001b[0m\n\u001b[1;32m    831\u001b[0m         typ\u001b[39m=\u001b[39mmanager,\n\u001b[1;32m    832\u001b[0m     )\n",
      "File \u001b[0;32m~/dev/compare_population_and_tweet_number/.venv/lib/python3.10/site-packages/pandas/core/internals/construction.py:119\u001b[0m, in \u001b[0;36marrays_to_mgr\u001b[0;34m(arrays, columns, index, dtype, verify_integrity, typ, consolidate)\u001b[0m\n\u001b[1;32m    116\u001b[0m         index \u001b[39m=\u001b[39m ensure_index(index)\n\u001b[1;32m    118\u001b[0m     \u001b[39m# don't force copy because getting jammed in an ndarray anyway\u001b[39;00m\n\u001b[0;32m--> 119\u001b[0m     arrays, refs \u001b[39m=\u001b[39m _homogenize(arrays, index, dtype)\n\u001b[1;32m    120\u001b[0m     \u001b[39m# _homogenize ensures\u001b[39;00m\n\u001b[1;32m    121\u001b[0m     \u001b[39m#  - all(len(x) == len(index) for x in arrays)\u001b[39;00m\n\u001b[1;32m    122\u001b[0m     \u001b[39m#  - all(x.ndim == 1 for x in arrays)\u001b[39;00m\n\u001b[0;32m   (...)\u001b[0m\n\u001b[1;32m    125\u001b[0m \n\u001b[1;32m    126\u001b[0m \u001b[39melse\u001b[39;00m:\n\u001b[1;32m    127\u001b[0m     index \u001b[39m=\u001b[39m ensure_index(index)\n",
      "File \u001b[0;32m~/dev/compare_population_and_tweet_number/.venv/lib/python3.10/site-packages/pandas/core/internals/construction.py:630\u001b[0m, in \u001b[0;36m_homogenize\u001b[0;34m(data, index, dtype)\u001b[0m\n\u001b[1;32m    627\u001b[0m         val \u001b[39m=\u001b[39m lib\u001b[39m.\u001b[39mfast_multiget(val, oindex\u001b[39m.\u001b[39m_values, default\u001b[39m=\u001b[39mnp\u001b[39m.\u001b[39mnan)\n\u001b[1;32m    629\u001b[0m     val \u001b[39m=\u001b[39m sanitize_array(val, index, dtype\u001b[39m=\u001b[39mdtype, copy\u001b[39m=\u001b[39m\u001b[39mFalse\u001b[39;00m)\n\u001b[0;32m--> 630\u001b[0m     com\u001b[39m.\u001b[39;49mrequire_length_match(val, index)\n\u001b[1;32m    631\u001b[0m     refs\u001b[39m.\u001b[39mappend(\u001b[39mNone\u001b[39;00m)\n\u001b[1;32m    633\u001b[0m homogenized\u001b[39m.\u001b[39mappend(val)\n",
      "File \u001b[0;32m~/dev/compare_population_and_tweet_number/.venv/lib/python3.10/site-packages/pandas/core/common.py:561\u001b[0m, in \u001b[0;36mrequire_length_match\u001b[0;34m(data, index)\u001b[0m\n\u001b[1;32m    557\u001b[0m \u001b[39m\u001b[39m\u001b[39m\"\"\"\u001b[39;00m\n\u001b[1;32m    558\u001b[0m \u001b[39mCheck the length of data matches the length of the index.\u001b[39;00m\n\u001b[1;32m    559\u001b[0m \u001b[39m\"\"\"\u001b[39;00m\n\u001b[1;32m    560\u001b[0m \u001b[39mif\u001b[39;00m \u001b[39mlen\u001b[39m(data) \u001b[39m!=\u001b[39m \u001b[39mlen\u001b[39m(index):\n\u001b[0;32m--> 561\u001b[0m     \u001b[39mraise\u001b[39;00m \u001b[39mValueError\u001b[39;00m(\n\u001b[1;32m    562\u001b[0m         \u001b[39m\"\u001b[39m\u001b[39mLength of values \u001b[39m\u001b[39m\"\u001b[39m\n\u001b[1;32m    563\u001b[0m         \u001b[39mf\u001b[39m\u001b[39m\"\u001b[39m\u001b[39m(\u001b[39m\u001b[39m{\u001b[39;00m\u001b[39mlen\u001b[39m(data)\u001b[39m}\u001b[39;00m\u001b[39m) \u001b[39m\u001b[39m\"\u001b[39m\n\u001b[1;32m    564\u001b[0m         \u001b[39m\"\u001b[39m\u001b[39mdoes not match length of index \u001b[39m\u001b[39m\"\u001b[39m\n\u001b[1;32m    565\u001b[0m         \u001b[39mf\u001b[39m\u001b[39m\"\u001b[39m\u001b[39m(\u001b[39m\u001b[39m{\u001b[39;00m\u001b[39mlen\u001b[39m(index)\u001b[39m}\u001b[39;00m\u001b[39m)\u001b[39m\u001b[39m\"\u001b[39m\n\u001b[1;32m    566\u001b[0m     )\n",
      "\u001b[0;31mValueError\u001b[0m: Length of values (9) does not match length of index (8)"
     ]
    }
   ],
   "source": [
    "data = []\n",
    "for h in range(0, len(list_mobile)):\n",
    "    mobile = np.load(list_mobile[h])\n",
    "    tweets = np.load(list_twitter[h])\n",
    "    tmp = []\n",
    "    for i in range(0,24):\n",
    "        mobile_1hour = mobile[:, i:i+1]\n",
    "        mobile_1hour = mobile_1hour.flatten()\n",
    "        tweets_1hour = tweets[:, i:i+1]\n",
    "        tweets_1hour = tweets_1hour.flatten()\n",
    "\n",
    "        correlation, p_value = stats.pearsonr(mobile_1hour, tweets_1hour)\n",
    "        tmp.append(correlation)\n",
    "    data.append(tmp)\n",
    "\n",
    "\n",
    "\n",
    "\n",
    "df= pd.DataFrame(data,index=list_key)"
   ]
  },
  {
   "cell_type": "code",
   "execution_count": 3,
   "metadata": {},
   "outputs": [
    {
     "data": {
      "text/html": [
       "<div>\n",
       "<style scoped>\n",
       "    .dataframe tbody tr th:only-of-type {\n",
       "        vertical-align: middle;\n",
       "    }\n",
       "\n",
       "    .dataframe tbody tr th {\n",
       "        vertical-align: top;\n",
       "    }\n",
       "\n",
       "    .dataframe thead th {\n",
       "        text-align: right;\n",
       "    }\n",
       "</style>\n",
       "<table border=\"1\" class=\"dataframe\">\n",
       "  <thead>\n",
       "    <tr style=\"text-align: right;\">\n",
       "      <th></th>\n",
       "      <th>0</th>\n",
       "      <th>1</th>\n",
       "      <th>2</th>\n",
       "      <th>3</th>\n",
       "      <th>4</th>\n",
       "      <th>5</th>\n",
       "      <th>6</th>\n",
       "      <th>7</th>\n",
       "      <th>8</th>\n",
       "      <th>9</th>\n",
       "      <th>...</th>\n",
       "      <th>14</th>\n",
       "      <th>15</th>\n",
       "      <th>16</th>\n",
       "      <th>17</th>\n",
       "      <th>18</th>\n",
       "      <th>19</th>\n",
       "      <th>20</th>\n",
       "      <th>21</th>\n",
       "      <th>22</th>\n",
       "      <th>23</th>\n",
       "    </tr>\n",
       "  </thead>\n",
       "  <tbody>\n",
       "    <tr>\n",
       "      <th>東京駅</th>\n",
       "      <td>0.142165</td>\n",
       "      <td>0.061029</td>\n",
       "      <td>-0.061490</td>\n",
       "      <td>-0.062877</td>\n",
       "      <td>-0.017649</td>\n",
       "      <td>0.271489</td>\n",
       "      <td>0.069745</td>\n",
       "      <td>-0.095908</td>\n",
       "      <td>-0.201403</td>\n",
       "      <td>-0.500904</td>\n",
       "      <td>...</td>\n",
       "      <td>-0.481865</td>\n",
       "      <td>-0.460139</td>\n",
       "      <td>-0.441057</td>\n",
       "      <td>-0.240298</td>\n",
       "      <td>0.124338</td>\n",
       "      <td>0.034747</td>\n",
       "      <td>0.012552</td>\n",
       "      <td>0.185510</td>\n",
       "      <td>0.131753</td>\n",
       "      <td>0.236473</td>\n",
       "    </tr>\n",
       "    <tr>\n",
       "      <th>嵐山</th>\n",
       "      <td>0.038394</td>\n",
       "      <td>0.060915</td>\n",
       "      <td>-0.007477</td>\n",
       "      <td>0.049369</td>\n",
       "      <td>-0.004488</td>\n",
       "      <td>0.049039</td>\n",
       "      <td>0.014853</td>\n",
       "      <td>0.084770</td>\n",
       "      <td>0.191690</td>\n",
       "      <td>0.260511</td>\n",
       "      <td>...</td>\n",
       "      <td>0.509046</td>\n",
       "      <td>0.327082</td>\n",
       "      <td>0.192487</td>\n",
       "      <td>0.115271</td>\n",
       "      <td>0.261755</td>\n",
       "      <td>0.149253</td>\n",
       "      <td>0.075832</td>\n",
       "      <td>0.118990</td>\n",
       "      <td>0.019315</td>\n",
       "      <td>0.125287</td>\n",
       "    </tr>\n",
       "    <tr>\n",
       "      <th>中京区</th>\n",
       "      <td>0.058809</td>\n",
       "      <td>0.021584</td>\n",
       "      <td>0.005317</td>\n",
       "      <td>0.080704</td>\n",
       "      <td>0.017425</td>\n",
       "      <td>0.028599</td>\n",
       "      <td>-0.014676</td>\n",
       "      <td>0.058581</td>\n",
       "      <td>0.074339</td>\n",
       "      <td>-0.188382</td>\n",
       "      <td>...</td>\n",
       "      <td>-0.245539</td>\n",
       "      <td>-0.239296</td>\n",
       "      <td>-0.316723</td>\n",
       "      <td>-0.247284</td>\n",
       "      <td>-0.019009</td>\n",
       "      <td>0.046087</td>\n",
       "      <td>0.037945</td>\n",
       "      <td>0.214306</td>\n",
       "      <td>0.084982</td>\n",
       "      <td>0.123042</td>\n",
       "    </tr>\n",
       "    <tr>\n",
       "      <th>金閣寺</th>\n",
       "      <td>-0.091748</td>\n",
       "      <td>-0.035299</td>\n",
       "      <td>-0.021395</td>\n",
       "      <td>0.025846</td>\n",
       "      <td>0.005807</td>\n",
       "      <td>0.002263</td>\n",
       "      <td>0.047536</td>\n",
       "      <td>0.016826</td>\n",
       "      <td>-0.039278</td>\n",
       "      <td>0.117864</td>\n",
       "      <td>...</td>\n",
       "      <td>0.180098</td>\n",
       "      <td>0.227188</td>\n",
       "      <td>0.116347</td>\n",
       "      <td>-0.012689</td>\n",
       "      <td>-0.015796</td>\n",
       "      <td>-0.082471</td>\n",
       "      <td>-0.001029</td>\n",
       "      <td>-0.109539</td>\n",
       "      <td>-0.085676</td>\n",
       "      <td>-0.112487</td>\n",
       "    </tr>\n",
       "    <tr>\n",
       "      <th>清水寺</th>\n",
       "      <td>0.037070</td>\n",
       "      <td>0.066784</td>\n",
       "      <td>0.092801</td>\n",
       "      <td>0.037231</td>\n",
       "      <td>-0.055372</td>\n",
       "      <td>-0.011637</td>\n",
       "      <td>0.108337</td>\n",
       "      <td>0.232829</td>\n",
       "      <td>0.146948</td>\n",
       "      <td>0.062107</td>\n",
       "      <td>...</td>\n",
       "      <td>0.429888</td>\n",
       "      <td>0.407407</td>\n",
       "      <td>0.484480</td>\n",
       "      <td>0.471195</td>\n",
       "      <td>0.519192</td>\n",
       "      <td>0.480684</td>\n",
       "      <td>0.470839</td>\n",
       "      <td>0.339885</td>\n",
       "      <td>0.287171</td>\n",
       "      <td>0.094927</td>\n",
       "    </tr>\n",
       "    <tr>\n",
       "      <th>学生街</th>\n",
       "      <td>-0.011211</td>\n",
       "      <td>-0.056834</td>\n",
       "      <td>-0.090215</td>\n",
       "      <td>-0.008095</td>\n",
       "      <td>-0.067204</td>\n",
       "      <td>0.246386</td>\n",
       "      <td>-0.006456</td>\n",
       "      <td>-0.011854</td>\n",
       "      <td>0.099153</td>\n",
       "      <td>0.333538</td>\n",
       "      <td>...</td>\n",
       "      <td>0.289118</td>\n",
       "      <td>-0.059449</td>\n",
       "      <td>0.017725</td>\n",
       "      <td>0.115818</td>\n",
       "      <td>-0.176914</td>\n",
       "      <td>-0.087664</td>\n",
       "      <td>0.009201</td>\n",
       "      <td>0.020176</td>\n",
       "      <td>-0.063189</td>\n",
       "      <td>-0.008187</td>\n",
       "    </tr>\n",
       "    <tr>\n",
       "      <th>二条城</th>\n",
       "      <td>0.131827</td>\n",
       "      <td>0.037905</td>\n",
       "      <td>0.032531</td>\n",
       "      <td>0.045457</td>\n",
       "      <td>0.038411</td>\n",
       "      <td>-0.017843</td>\n",
       "      <td>0.009579</td>\n",
       "      <td>0.003997</td>\n",
       "      <td>0.082585</td>\n",
       "      <td>0.171895</td>\n",
       "      <td>...</td>\n",
       "      <td>0.216859</td>\n",
       "      <td>0.215657</td>\n",
       "      <td>0.272487</td>\n",
       "      <td>0.229702</td>\n",
       "      <td>0.266437</td>\n",
       "      <td>0.191532</td>\n",
       "      <td>0.212896</td>\n",
       "      <td>0.087174</td>\n",
       "      <td>0.170691</td>\n",
       "      <td>0.145777</td>\n",
       "    </tr>\n",
       "    <tr>\n",
       "      <th>東寺</th>\n",
       "      <td>0.030122</td>\n",
       "      <td>0.055694</td>\n",
       "      <td>-0.005137</td>\n",
       "      <td>0.040190</td>\n",
       "      <td>-0.013431</td>\n",
       "      <td>-0.012510</td>\n",
       "      <td>0.124608</td>\n",
       "      <td>0.082489</td>\n",
       "      <td>0.119330</td>\n",
       "      <td>0.087279</td>\n",
       "      <td>...</td>\n",
       "      <td>-0.084872</td>\n",
       "      <td>-0.074687</td>\n",
       "      <td>0.048519</td>\n",
       "      <td>0.075538</td>\n",
       "      <td>0.128089</td>\n",
       "      <td>0.264533</td>\n",
       "      <td>0.175159</td>\n",
       "      <td>0.042016</td>\n",
       "      <td>-0.042084</td>\n",
       "      <td>0.164358</td>\n",
       "    </tr>\n",
       "    <tr>\n",
       "      <th>京都駅</th>\n",
       "      <td>0.437089</td>\n",
       "      <td>0.240070</td>\n",
       "      <td>0.158860</td>\n",
       "      <td>0.234243</td>\n",
       "      <td>0.183783</td>\n",
       "      <td>0.289653</td>\n",
       "      <td>0.422937</td>\n",
       "      <td>0.311894</td>\n",
       "      <td>0.081258</td>\n",
       "      <td>-0.034903</td>\n",
       "      <td>...</td>\n",
       "      <td>0.551447</td>\n",
       "      <td>0.540984</td>\n",
       "      <td>0.575265</td>\n",
       "      <td>0.513198</td>\n",
       "      <td>0.508512</td>\n",
       "      <td>0.505712</td>\n",
       "      <td>0.578985</td>\n",
       "      <td>0.548840</td>\n",
       "      <td>0.592390</td>\n",
       "      <td>0.541187</td>\n",
       "    </tr>\n",
       "  </tbody>\n",
       "</table>\n",
       "<p>9 rows × 24 columns</p>\n",
       "</div>"
      ],
      "text/plain": [
       "           0         1         2         3         4         5         6    \n",
       "東京駅  0.142165  0.061029 -0.061490 -0.062877 -0.017649  0.271489  0.069745  \\\n",
       "嵐山   0.038394  0.060915 -0.007477  0.049369 -0.004488  0.049039  0.014853   \n",
       "中京区  0.058809  0.021584  0.005317  0.080704  0.017425  0.028599 -0.014676   \n",
       "金閣寺 -0.091748 -0.035299 -0.021395  0.025846  0.005807  0.002263  0.047536   \n",
       "清水寺  0.037070  0.066784  0.092801  0.037231 -0.055372 -0.011637  0.108337   \n",
       "学生街 -0.011211 -0.056834 -0.090215 -0.008095 -0.067204  0.246386 -0.006456   \n",
       "二条城  0.131827  0.037905  0.032531  0.045457  0.038411 -0.017843  0.009579   \n",
       "東寺   0.030122  0.055694 -0.005137  0.040190 -0.013431 -0.012510  0.124608   \n",
       "京都駅  0.437089  0.240070  0.158860  0.234243  0.183783  0.289653  0.422937   \n",
       "\n",
       "           7         8         9   ...        14        15        16   \n",
       "東京駅 -0.095908 -0.201403 -0.500904  ... -0.481865 -0.460139 -0.441057  \\\n",
       "嵐山   0.084770  0.191690  0.260511  ...  0.509046  0.327082  0.192487   \n",
       "中京区  0.058581  0.074339 -0.188382  ... -0.245539 -0.239296 -0.316723   \n",
       "金閣寺  0.016826 -0.039278  0.117864  ...  0.180098  0.227188  0.116347   \n",
       "清水寺  0.232829  0.146948  0.062107  ...  0.429888  0.407407  0.484480   \n",
       "学生街 -0.011854  0.099153  0.333538  ...  0.289118 -0.059449  0.017725   \n",
       "二条城  0.003997  0.082585  0.171895  ...  0.216859  0.215657  0.272487   \n",
       "東寺   0.082489  0.119330  0.087279  ... -0.084872 -0.074687  0.048519   \n",
       "京都駅  0.311894  0.081258 -0.034903  ...  0.551447  0.540984  0.575265   \n",
       "\n",
       "           17        18        19        20        21        22        23  \n",
       "東京駅 -0.240298  0.124338  0.034747  0.012552  0.185510  0.131753  0.236473  \n",
       "嵐山   0.115271  0.261755  0.149253  0.075832  0.118990  0.019315  0.125287  \n",
       "中京区 -0.247284 -0.019009  0.046087  0.037945  0.214306  0.084982  0.123042  \n",
       "金閣寺 -0.012689 -0.015796 -0.082471 -0.001029 -0.109539 -0.085676 -0.112487  \n",
       "清水寺  0.471195  0.519192  0.480684  0.470839  0.339885  0.287171  0.094927  \n",
       "学生街  0.115818 -0.176914 -0.087664  0.009201  0.020176 -0.063189 -0.008187  \n",
       "二条城  0.229702  0.266437  0.191532  0.212896  0.087174  0.170691  0.145777  \n",
       "東寺   0.075538  0.128089  0.264533  0.175159  0.042016 -0.042084  0.164358  \n",
       "京都駅  0.513198  0.508512  0.505712  0.578985  0.548840  0.592390  0.541187  \n",
       "\n",
       "[9 rows x 24 columns]"
      ]
     },
     "execution_count": 3,
     "metadata": {},
     "output_type": "execute_result"
    }
   ],
   "source": [
    "df"
   ]
  },
  {
   "cell_type": "code",
   "execution_count": 14,
   "metadata": {},
   "outputs": [],
   "source": [
    "data = []\n",
    "for h in range(0, len(list_mobile)):\n",
    "    mobile = np.load(list_mobile[h])\n",
    "    tweets = np.load(list_twitter[h])\n",
    "    tmp = []\n",
    "    for i in range(0,24):\n",
    "        mobile_1hour = mobile[:, i:i+1]\n",
    "        mobile_1hour = mobile_1hour.flatten()\n",
    "        tweets_1hour = tweets[:, i:i+1]\n",
    "        tweets_1hour = tweets_1hour.flatten()\n",
    "\n",
    "        correlation, p_value = stats.pearsonr(mobile_1hour, tweets_1hour)\n",
    "        data.append([str(i) + '時', correlation, p_value, list_key[h]])\n",
    "\n",
    "\n",
    "columns=['time','r','p','place']\n",
    "\n",
    "\n",
    "df= pd.DataFrame(data,columns=columns)"
   ]
  },
  {
   "cell_type": "code",
   "execution_count": 15,
   "metadata": {},
   "outputs": [
    {
     "data": {
      "text/html": [
       "<div>\n",
       "<style scoped>\n",
       "    .dataframe tbody tr th:only-of-type {\n",
       "        vertical-align: middle;\n",
       "    }\n",
       "\n",
       "    .dataframe tbody tr th {\n",
       "        vertical-align: top;\n",
       "    }\n",
       "\n",
       "    .dataframe thead th {\n",
       "        text-align: right;\n",
       "    }\n",
       "</style>\n",
       "<table border=\"1\" class=\"dataframe\">\n",
       "  <thead>\n",
       "    <tr style=\"text-align: right;\">\n",
       "      <th></th>\n",
       "      <th>time</th>\n",
       "      <th>r</th>\n",
       "      <th>p</th>\n",
       "      <th>place</th>\n",
       "    </tr>\n",
       "  </thead>\n",
       "  <tbody>\n",
       "    <tr>\n",
       "      <th>0</th>\n",
       "      <td>0時</td>\n",
       "      <td>0.142165</td>\n",
       "      <td>6.516829e-03</td>\n",
       "      <td>東京駅</td>\n",
       "    </tr>\n",
       "    <tr>\n",
       "      <th>1</th>\n",
       "      <td>1時</td>\n",
       "      <td>0.061029</td>\n",
       "      <td>2.448136e-01</td>\n",
       "      <td>東京駅</td>\n",
       "    </tr>\n",
       "    <tr>\n",
       "      <th>2</th>\n",
       "      <td>2時</td>\n",
       "      <td>-0.061490</td>\n",
       "      <td>2.412610e-01</td>\n",
       "      <td>東京駅</td>\n",
       "    </tr>\n",
       "    <tr>\n",
       "      <th>3</th>\n",
       "      <td>3時</td>\n",
       "      <td>-0.062877</td>\n",
       "      <td>2.307911e-01</td>\n",
       "      <td>東京駅</td>\n",
       "    </tr>\n",
       "    <tr>\n",
       "      <th>4</th>\n",
       "      <td>4時</td>\n",
       "      <td>-0.017649</td>\n",
       "      <td>7.368307e-01</td>\n",
       "      <td>東京駅</td>\n",
       "    </tr>\n",
       "    <tr>\n",
       "      <th>...</th>\n",
       "      <td>...</td>\n",
       "      <td>...</td>\n",
       "      <td>...</td>\n",
       "      <td>...</td>\n",
       "    </tr>\n",
       "    <tr>\n",
       "      <th>211</th>\n",
       "      <td>19時</td>\n",
       "      <td>0.505712</td>\n",
       "      <td>4.284952e-25</td>\n",
       "      <td>京都駅</td>\n",
       "    </tr>\n",
       "    <tr>\n",
       "      <th>212</th>\n",
       "      <td>20時</td>\n",
       "      <td>0.578985</td>\n",
       "      <td>4.702735e-34</td>\n",
       "      <td>京都駅</td>\n",
       "    </tr>\n",
       "    <tr>\n",
       "      <th>213</th>\n",
       "      <td>21時</td>\n",
       "      <td>0.548840</td>\n",
       "      <td>4.233123e-30</td>\n",
       "      <td>京都駅</td>\n",
       "    </tr>\n",
       "    <tr>\n",
       "      <th>214</th>\n",
       "      <td>22時</td>\n",
       "      <td>0.592390</td>\n",
       "      <td>6.001633e-36</td>\n",
       "      <td>京都駅</td>\n",
       "    </tr>\n",
       "    <tr>\n",
       "      <th>215</th>\n",
       "      <td>23時</td>\n",
       "      <td>0.541187</td>\n",
       "      <td>3.699556e-29</td>\n",
       "      <td>京都駅</td>\n",
       "    </tr>\n",
       "  </tbody>\n",
       "</table>\n",
       "<p>216 rows × 4 columns</p>\n",
       "</div>"
      ],
      "text/plain": [
       "    time         r             p place\n",
       "0     0時  0.142165  6.516829e-03   東京駅\n",
       "1     1時  0.061029  2.448136e-01   東京駅\n",
       "2     2時 -0.061490  2.412610e-01   東京駅\n",
       "3     3時 -0.062877  2.307911e-01   東京駅\n",
       "4     4時 -0.017649  7.368307e-01   東京駅\n",
       "..   ...       ...           ...   ...\n",
       "211  19時  0.505712  4.284952e-25   京都駅\n",
       "212  20時  0.578985  4.702735e-34   京都駅\n",
       "213  21時  0.548840  4.233123e-30   京都駅\n",
       "214  22時  0.592390  6.001633e-36   京都駅\n",
       "215  23時  0.541187  3.699556e-29   京都駅\n",
       "\n",
       "[216 rows x 4 columns]"
      ]
     },
     "execution_count": 15,
     "metadata": {},
     "output_type": "execute_result"
    }
   ],
   "source": [
    "df"
   ]
  },
  {
   "cell_type": "code",
   "execution_count": 21,
   "metadata": {},
   "outputs": [
    {
     "data": {
      "application/vnd.plotly.v1+json": {
       "config": {
        "plotlyServerURL": "https://plot.ly"
       },
       "data": [
        {
         "name": "東京駅",
         "type": "scatter",
         "x": [
          "0時",
          "1時",
          "2時",
          "3時",
          "4時",
          "5時",
          "6時",
          "7時",
          "8時",
          "9時",
          "10時",
          "11時",
          "12時",
          "13時",
          "14時",
          "15時",
          "16時",
          "17時",
          "18時",
          "19時",
          "20時",
          "21時",
          "22時",
          "23時"
         ],
         "y": [
          0.14216512150722904,
          0.061028822245068004,
          -0.06148980677789958,
          -0.06287670440421558,
          -0.01764900076934671,
          0.27148929543335987,
          0.06974496748051096,
          -0.09590751370769189,
          -0.20140320099145909,
          -0.5009042368296053,
          -0.5580935360238588,
          -0.46843772027079883,
          -0.32657598781827224,
          -0.4268611911994016,
          -0.4818654899191621,
          -0.46013943838921345,
          -0.4410568721242253,
          -0.2402982206629241,
          0.12433774669376177,
          0.03474704771797274,
          0.012552150993915507,
          0.1855098829961859,
          0.13175333663204047,
          0.23647261457637742
         ]
        },
        {
         "name": "嵐山",
         "type": "scatter",
         "x": [
          "0時",
          "1時",
          "2時",
          "3時",
          "4時",
          "5時",
          "6時",
          "7時",
          "8時",
          "9時",
          "10時",
          "11時",
          "12時",
          "13時",
          "14時",
          "15時",
          "16時",
          "17時",
          "18時",
          "19時",
          "20時",
          "21時",
          "22時",
          "23時"
         ],
         "y": [
          0.03839381801746528,
          0.06091525257786669,
          -0.007477088830165409,
          0.04936875316678284,
          -0.004487972867120843,
          0.049039088106604956,
          0.014853454808470648,
          0.08476958227492233,
          0.1916904215728237,
          0.26051124799266456,
          0.24134360970218338,
          0.31804700247852746,
          0.3943901689309138,
          0.2983540689509602,
          0.5090459207033803,
          0.327081921539665,
          0.19248705893029544,
          0.11527134917922394,
          0.2617545301837441,
          0.14925268541748207,
          0.07583176593654087,
          0.11898968578785069,
          0.019314932009445618,
          0.12528740571601435
         ]
        },
        {
         "name": "中京区",
         "type": "scatter",
         "x": [
          "0時",
          "1時",
          "2時",
          "3時",
          "4時",
          "5時",
          "6時",
          "7時",
          "8時",
          "9時",
          "10時",
          "11時",
          "12時",
          "13時",
          "14時",
          "15時",
          "16時",
          "17時",
          "18時",
          "19時",
          "20時",
          "21時",
          "22時",
          "23時"
         ],
         "y": [
          0.058809238179125936,
          0.02158356503590511,
          0.0053167358363781685,
          0.08070412920894945,
          0.017425350173316104,
          0.028598647010390377,
          -0.0146764636541258,
          0.05858098914481329,
          0.07433881403160017,
          -0.18838219089167282,
          -0.13413757019535685,
          -0.1965927452598631,
          0.14741359530860665,
          -0.20063077418762487,
          -0.24553911686142507,
          -0.2392957111116016,
          -0.31672321796655983,
          -0.2472835876205824,
          -0.01900928269833341,
          0.04608672404849691,
          0.03794469293041591,
          0.21430615528738306,
          0.08498162309997524,
          0.12304247357346795
         ]
        },
        {
         "name": "金閣寺",
         "type": "scatter",
         "x": [
          "0時",
          "1時",
          "2時",
          "3時",
          "4時",
          "5時",
          "6時",
          "7時",
          "8時",
          "9時",
          "10時",
          "11時",
          "12時",
          "13時",
          "14時",
          "15時",
          "16時",
          "17時",
          "18時",
          "19時",
          "20時",
          "21時",
          "22時",
          "23時"
         ],
         "y": [
          -0.09174820539183574,
          -0.03529900134179833,
          -0.021394695019102534,
          0.025846017204942204,
          0.005806735057577226,
          0.0022626481447703822,
          0.04753570203482729,
          0.016826326988681882,
          -0.03927819074987203,
          0.117863695210723,
          0.19752565307271172,
          0.30558555205450294,
          0.14331082176816606,
          0.09002047819812382,
          0.180098324863031,
          0.22718824624169273,
          0.11634729595825045,
          -0.01268900160028846,
          -0.01579584659186138,
          -0.08247065588518011,
          -0.0010289597972012903,
          -0.10953919211678587,
          -0.08567603458454968,
          -0.11248748803781106
         ]
        },
        {
         "name": "清水寺",
         "type": "scatter",
         "x": [
          "0時",
          "1時",
          "2時",
          "3時",
          "4時",
          "5時",
          "6時",
          "7時",
          "8時",
          "9時",
          "10時",
          "11時",
          "12時",
          "13時",
          "14時",
          "15時",
          "16時",
          "17時",
          "18時",
          "19時",
          "20時",
          "21時",
          "22時",
          "23時"
         ],
         "y": [
          0.037069504551334655,
          0.06678421005044,
          0.09280110719895332,
          0.03723118861635322,
          -0.05537214086205603,
          -0.011637299697582934,
          0.10833698282765665,
          0.23282913589938875,
          0.1469484841048148,
          0.06210678580103208,
          0.2968815477200491,
          0.48669145434310274,
          0.3693804700829657,
          0.4831929523449127,
          0.4298877083838889,
          0.4074065922970552,
          0.48448031380414547,
          0.47119469482308735,
          0.5191923103727755,
          0.480684051950186,
          0.47083903356006795,
          0.3398847481662887,
          0.2871712961841556,
          0.09492713257851565
         ]
        },
        {
         "name": "学生街",
         "type": "scatter",
         "x": [
          "0時",
          "1時",
          "2時",
          "3時",
          "4時",
          "5時",
          "6時",
          "7時",
          "8時",
          "9時",
          "10時",
          "11時",
          "12時",
          "13時",
          "14時",
          "15時",
          "16時",
          "17時",
          "18時",
          "19時",
          "20時",
          "21時",
          "22時",
          "23時"
         ],
         "y": [
          -0.011210805028525766,
          -0.05683449925226662,
          -0.09021494832400462,
          -0.008095099772040832,
          -0.0672044798719348,
          0.24638647575989783,
          -0.006455529248248173,
          -0.011853785980826472,
          0.09915341542127562,
          0.33353788441947224,
          0.169789628804939,
          0.22439409824535356,
          0.28667880625606895,
          0.2798238685049834,
          0.2891178793900212,
          -0.05944861328292102,
          0.017724740109860686,
          0.11581806812986657,
          -0.1769138141373593,
          -0.08766378243594862,
          0.009200797829806139,
          0.020175770567222886,
          -0.0631892904436875,
          -0.008187191343485764
         ]
        },
        {
         "name": "二条城",
         "type": "scatter",
         "x": [
          "0時",
          "1時",
          "2時",
          "3時",
          "4時",
          "5時",
          "6時",
          "7時",
          "8時",
          "9時",
          "10時",
          "11時",
          "12時",
          "13時",
          "14時",
          "15時",
          "16時",
          "17時",
          "18時",
          "19時",
          "20時",
          "21時",
          "22時",
          "23時"
         ],
         "y": [
          0.13182727750309126,
          0.037904675145613506,
          0.03253100148106181,
          0.045456798201592395,
          0.03841144474863906,
          -0.017842823314150727,
          0.00957882046756575,
          0.0039967052975968115,
          0.08258540683698097,
          0.17189549888311098,
          0.07885268444484175,
          0.281331253603348,
          0.16083097628034224,
          0.22088801803295163,
          0.2168587242365124,
          0.21565740092622368,
          0.2724874559384793,
          0.22970241538738723,
          0.2664367042694607,
          0.19153218734092567,
          0.21289586899556043,
          0.08717376394733166,
          0.17069098089843343,
          0.1457765488111687
         ]
        },
        {
         "name": "東寺",
         "type": "scatter",
         "x": [
          "0時",
          "1時",
          "2時",
          "3時",
          "4時",
          "5時",
          "6時",
          "7時",
          "8時",
          "9時",
          "10時",
          "11時",
          "12時",
          "13時",
          "14時",
          "15時",
          "16時",
          "17時",
          "18時",
          "19時",
          "20時",
          "21時",
          "22時",
          "23時"
         ],
         "y": [
          0.030121778587993944,
          0.05569430249690797,
          -0.0051368029773169515,
          0.040189698306086846,
          -0.01343095327024854,
          -0.012509684049466945,
          0.12460848481215968,
          0.08248892780552725,
          0.119330061703824,
          0.08727915243406448,
          0.07656366401587546,
          0.05295117902276614,
          0.10032326710503284,
          0.10842876864169829,
          -0.0848716780005775,
          -0.07468702312305102,
          0.048518860796506684,
          0.07553825529993298,
          0.12808932485141503,
          0.26453279246505434,
          0.17515853549048296,
          0.04201626268706683,
          -0.042083722382744264,
          0.16435807381905876
         ]
        },
        {
         "name": "京都駅",
         "type": "scatter",
         "x": [
          "0時",
          "1時",
          "2時",
          "3時",
          "4時",
          "5時",
          "6時",
          "7時",
          "8時",
          "9時",
          "10時",
          "11時",
          "12時",
          "13時",
          "14時",
          "15時",
          "16時",
          "17時",
          "18時",
          "19時",
          "20時",
          "21時",
          "22時",
          "23時"
         ],
         "y": [
          0.4370893900181308,
          0.24007025075845564,
          0.1588600541037974,
          0.23424322019617091,
          0.18378266168952756,
          0.28965284209027986,
          0.42293686479377063,
          0.3118943485928595,
          0.08125831767161028,
          -0.03490321728626047,
          0.2505533474883162,
          0.4499562702008468,
          0.5014378364595511,
          0.4847092571879917,
          0.5514465882009956,
          0.5409844042334966,
          0.5752651901126042,
          0.5131976822196058,
          0.5085115286600574,
          0.5057118240700714,
          0.5789846951979333,
          0.5488404392831486,
          0.5923903259568575,
          0.5411869147979432
         ]
        }
       ],
       "layout": {
        "template": {
         "data": {
          "bar": [
           {
            "error_x": {
             "color": "#2a3f5f"
            },
            "error_y": {
             "color": "#2a3f5f"
            },
            "marker": {
             "line": {
              "color": "#E5ECF6",
              "width": 0.5
             },
             "pattern": {
              "fillmode": "overlay",
              "size": 10,
              "solidity": 0.2
             }
            },
            "type": "bar"
           }
          ],
          "barpolar": [
           {
            "marker": {
             "line": {
              "color": "#E5ECF6",
              "width": 0.5
             },
             "pattern": {
              "fillmode": "overlay",
              "size": 10,
              "solidity": 0.2
             }
            },
            "type": "barpolar"
           }
          ],
          "carpet": [
           {
            "aaxis": {
             "endlinecolor": "#2a3f5f",
             "gridcolor": "white",
             "linecolor": "white",
             "minorgridcolor": "white",
             "startlinecolor": "#2a3f5f"
            },
            "baxis": {
             "endlinecolor": "#2a3f5f",
             "gridcolor": "white",
             "linecolor": "white",
             "minorgridcolor": "white",
             "startlinecolor": "#2a3f5f"
            },
            "type": "carpet"
           }
          ],
          "choropleth": [
           {
            "colorbar": {
             "outlinewidth": 0,
             "ticks": ""
            },
            "type": "choropleth"
           }
          ],
          "contour": [
           {
            "colorbar": {
             "outlinewidth": 0,
             "ticks": ""
            },
            "colorscale": [
             [
              0,
              "#0d0887"
             ],
             [
              0.1111111111111111,
              "#46039f"
             ],
             [
              0.2222222222222222,
              "#7201a8"
             ],
             [
              0.3333333333333333,
              "#9c179e"
             ],
             [
              0.4444444444444444,
              "#bd3786"
             ],
             [
              0.5555555555555556,
              "#d8576b"
             ],
             [
              0.6666666666666666,
              "#ed7953"
             ],
             [
              0.7777777777777778,
              "#fb9f3a"
             ],
             [
              0.8888888888888888,
              "#fdca26"
             ],
             [
              1,
              "#f0f921"
             ]
            ],
            "type": "contour"
           }
          ],
          "contourcarpet": [
           {
            "colorbar": {
             "outlinewidth": 0,
             "ticks": ""
            },
            "type": "contourcarpet"
           }
          ],
          "heatmap": [
           {
            "colorbar": {
             "outlinewidth": 0,
             "ticks": ""
            },
            "colorscale": [
             [
              0,
              "#0d0887"
             ],
             [
              0.1111111111111111,
              "#46039f"
             ],
             [
              0.2222222222222222,
              "#7201a8"
             ],
             [
              0.3333333333333333,
              "#9c179e"
             ],
             [
              0.4444444444444444,
              "#bd3786"
             ],
             [
              0.5555555555555556,
              "#d8576b"
             ],
             [
              0.6666666666666666,
              "#ed7953"
             ],
             [
              0.7777777777777778,
              "#fb9f3a"
             ],
             [
              0.8888888888888888,
              "#fdca26"
             ],
             [
              1,
              "#f0f921"
             ]
            ],
            "type": "heatmap"
           }
          ],
          "heatmapgl": [
           {
            "colorbar": {
             "outlinewidth": 0,
             "ticks": ""
            },
            "colorscale": [
             [
              0,
              "#0d0887"
             ],
             [
              0.1111111111111111,
              "#46039f"
             ],
             [
              0.2222222222222222,
              "#7201a8"
             ],
             [
              0.3333333333333333,
              "#9c179e"
             ],
             [
              0.4444444444444444,
              "#bd3786"
             ],
             [
              0.5555555555555556,
              "#d8576b"
             ],
             [
              0.6666666666666666,
              "#ed7953"
             ],
             [
              0.7777777777777778,
              "#fb9f3a"
             ],
             [
              0.8888888888888888,
              "#fdca26"
             ],
             [
              1,
              "#f0f921"
             ]
            ],
            "type": "heatmapgl"
           }
          ],
          "histogram": [
           {
            "marker": {
             "pattern": {
              "fillmode": "overlay",
              "size": 10,
              "solidity": 0.2
             }
            },
            "type": "histogram"
           }
          ],
          "histogram2d": [
           {
            "colorbar": {
             "outlinewidth": 0,
             "ticks": ""
            },
            "colorscale": [
             [
              0,
              "#0d0887"
             ],
             [
              0.1111111111111111,
              "#46039f"
             ],
             [
              0.2222222222222222,
              "#7201a8"
             ],
             [
              0.3333333333333333,
              "#9c179e"
             ],
             [
              0.4444444444444444,
              "#bd3786"
             ],
             [
              0.5555555555555556,
              "#d8576b"
             ],
             [
              0.6666666666666666,
              "#ed7953"
             ],
             [
              0.7777777777777778,
              "#fb9f3a"
             ],
             [
              0.8888888888888888,
              "#fdca26"
             ],
             [
              1,
              "#f0f921"
             ]
            ],
            "type": "histogram2d"
           }
          ],
          "histogram2dcontour": [
           {
            "colorbar": {
             "outlinewidth": 0,
             "ticks": ""
            },
            "colorscale": [
             [
              0,
              "#0d0887"
             ],
             [
              0.1111111111111111,
              "#46039f"
             ],
             [
              0.2222222222222222,
              "#7201a8"
             ],
             [
              0.3333333333333333,
              "#9c179e"
             ],
             [
              0.4444444444444444,
              "#bd3786"
             ],
             [
              0.5555555555555556,
              "#d8576b"
             ],
             [
              0.6666666666666666,
              "#ed7953"
             ],
             [
              0.7777777777777778,
              "#fb9f3a"
             ],
             [
              0.8888888888888888,
              "#fdca26"
             ],
             [
              1,
              "#f0f921"
             ]
            ],
            "type": "histogram2dcontour"
           }
          ],
          "mesh3d": [
           {
            "colorbar": {
             "outlinewidth": 0,
             "ticks": ""
            },
            "type": "mesh3d"
           }
          ],
          "parcoords": [
           {
            "line": {
             "colorbar": {
              "outlinewidth": 0,
              "ticks": ""
             }
            },
            "type": "parcoords"
           }
          ],
          "pie": [
           {
            "automargin": true,
            "type": "pie"
           }
          ],
          "scatter": [
           {
            "fillpattern": {
             "fillmode": "overlay",
             "size": 10,
             "solidity": 0.2
            },
            "type": "scatter"
           }
          ],
          "scatter3d": [
           {
            "line": {
             "colorbar": {
              "outlinewidth": 0,
              "ticks": ""
             }
            },
            "marker": {
             "colorbar": {
              "outlinewidth": 0,
              "ticks": ""
             }
            },
            "type": "scatter3d"
           }
          ],
          "scattercarpet": [
           {
            "marker": {
             "colorbar": {
              "outlinewidth": 0,
              "ticks": ""
             }
            },
            "type": "scattercarpet"
           }
          ],
          "scattergeo": [
           {
            "marker": {
             "colorbar": {
              "outlinewidth": 0,
              "ticks": ""
             }
            },
            "type": "scattergeo"
           }
          ],
          "scattergl": [
           {
            "marker": {
             "colorbar": {
              "outlinewidth": 0,
              "ticks": ""
             }
            },
            "type": "scattergl"
           }
          ],
          "scattermapbox": [
           {
            "marker": {
             "colorbar": {
              "outlinewidth": 0,
              "ticks": ""
             }
            },
            "type": "scattermapbox"
           }
          ],
          "scatterpolar": [
           {
            "marker": {
             "colorbar": {
              "outlinewidth": 0,
              "ticks": ""
             }
            },
            "type": "scatterpolar"
           }
          ],
          "scatterpolargl": [
           {
            "marker": {
             "colorbar": {
              "outlinewidth": 0,
              "ticks": ""
             }
            },
            "type": "scatterpolargl"
           }
          ],
          "scatterternary": [
           {
            "marker": {
             "colorbar": {
              "outlinewidth": 0,
              "ticks": ""
             }
            },
            "type": "scatterternary"
           }
          ],
          "surface": [
           {
            "colorbar": {
             "outlinewidth": 0,
             "ticks": ""
            },
            "colorscale": [
             [
              0,
              "#0d0887"
             ],
             [
              0.1111111111111111,
              "#46039f"
             ],
             [
              0.2222222222222222,
              "#7201a8"
             ],
             [
              0.3333333333333333,
              "#9c179e"
             ],
             [
              0.4444444444444444,
              "#bd3786"
             ],
             [
              0.5555555555555556,
              "#d8576b"
             ],
             [
              0.6666666666666666,
              "#ed7953"
             ],
             [
              0.7777777777777778,
              "#fb9f3a"
             ],
             [
              0.8888888888888888,
              "#fdca26"
             ],
             [
              1,
              "#f0f921"
             ]
            ],
            "type": "surface"
           }
          ],
          "table": [
           {
            "cells": {
             "fill": {
              "color": "#EBF0F8"
             },
             "line": {
              "color": "white"
             }
            },
            "header": {
             "fill": {
              "color": "#C8D4E3"
             },
             "line": {
              "color": "white"
             }
            },
            "type": "table"
           }
          ]
         },
         "layout": {
          "annotationdefaults": {
           "arrowcolor": "#2a3f5f",
           "arrowhead": 0,
           "arrowwidth": 1
          },
          "autotypenumbers": "strict",
          "coloraxis": {
           "colorbar": {
            "outlinewidth": 0,
            "ticks": ""
           }
          },
          "colorscale": {
           "diverging": [
            [
             0,
             "#8e0152"
            ],
            [
             0.1,
             "#c51b7d"
            ],
            [
             0.2,
             "#de77ae"
            ],
            [
             0.3,
             "#f1b6da"
            ],
            [
             0.4,
             "#fde0ef"
            ],
            [
             0.5,
             "#f7f7f7"
            ],
            [
             0.6,
             "#e6f5d0"
            ],
            [
             0.7,
             "#b8e186"
            ],
            [
             0.8,
             "#7fbc41"
            ],
            [
             0.9,
             "#4d9221"
            ],
            [
             1,
             "#276419"
            ]
           ],
           "sequential": [
            [
             0,
             "#0d0887"
            ],
            [
             0.1111111111111111,
             "#46039f"
            ],
            [
             0.2222222222222222,
             "#7201a8"
            ],
            [
             0.3333333333333333,
             "#9c179e"
            ],
            [
             0.4444444444444444,
             "#bd3786"
            ],
            [
             0.5555555555555556,
             "#d8576b"
            ],
            [
             0.6666666666666666,
             "#ed7953"
            ],
            [
             0.7777777777777778,
             "#fb9f3a"
            ],
            [
             0.8888888888888888,
             "#fdca26"
            ],
            [
             1,
             "#f0f921"
            ]
           ],
           "sequentialminus": [
            [
             0,
             "#0d0887"
            ],
            [
             0.1111111111111111,
             "#46039f"
            ],
            [
             0.2222222222222222,
             "#7201a8"
            ],
            [
             0.3333333333333333,
             "#9c179e"
            ],
            [
             0.4444444444444444,
             "#bd3786"
            ],
            [
             0.5555555555555556,
             "#d8576b"
            ],
            [
             0.6666666666666666,
             "#ed7953"
            ],
            [
             0.7777777777777778,
             "#fb9f3a"
            ],
            [
             0.8888888888888888,
             "#fdca26"
            ],
            [
             1,
             "#f0f921"
            ]
           ]
          },
          "colorway": [
           "#636efa",
           "#EF553B",
           "#00cc96",
           "#ab63fa",
           "#FFA15A",
           "#19d3f3",
           "#FF6692",
           "#B6E880",
           "#FF97FF",
           "#FECB52"
          ],
          "font": {
           "color": "#2a3f5f"
          },
          "geo": {
           "bgcolor": "white",
           "lakecolor": "white",
           "landcolor": "#E5ECF6",
           "showlakes": true,
           "showland": true,
           "subunitcolor": "white"
          },
          "hoverlabel": {
           "align": "left"
          },
          "hovermode": "closest",
          "mapbox": {
           "style": "light"
          },
          "paper_bgcolor": "white",
          "plot_bgcolor": "#E5ECF6",
          "polar": {
           "angularaxis": {
            "gridcolor": "white",
            "linecolor": "white",
            "ticks": ""
           },
           "bgcolor": "#E5ECF6",
           "radialaxis": {
            "gridcolor": "white",
            "linecolor": "white",
            "ticks": ""
           }
          },
          "scene": {
           "xaxis": {
            "backgroundcolor": "#E5ECF6",
            "gridcolor": "white",
            "gridwidth": 2,
            "linecolor": "white",
            "showbackground": true,
            "ticks": "",
            "zerolinecolor": "white"
           },
           "yaxis": {
            "backgroundcolor": "#E5ECF6",
            "gridcolor": "white",
            "gridwidth": 2,
            "linecolor": "white",
            "showbackground": true,
            "ticks": "",
            "zerolinecolor": "white"
           },
           "zaxis": {
            "backgroundcolor": "#E5ECF6",
            "gridcolor": "white",
            "gridwidth": 2,
            "linecolor": "white",
            "showbackground": true,
            "ticks": "",
            "zerolinecolor": "white"
           }
          },
          "shapedefaults": {
           "line": {
            "color": "#2a3f5f"
           }
          },
          "ternary": {
           "aaxis": {
            "gridcolor": "white",
            "linecolor": "white",
            "ticks": ""
           },
           "baxis": {
            "gridcolor": "white",
            "linecolor": "white",
            "ticks": ""
           },
           "bgcolor": "#E5ECF6",
           "caxis": {
            "gridcolor": "white",
            "linecolor": "white",
            "ticks": ""
           }
          },
          "title": {
           "x": 0.05
          },
          "xaxis": {
           "automargin": true,
           "gridcolor": "white",
           "linecolor": "white",
           "ticks": "",
           "title": {
            "standoff": 15
           },
           "zerolinecolor": "white",
           "zerolinewidth": 2
          },
          "yaxis": {
           "automargin": true,
           "gridcolor": "white",
           "linecolor": "white",
           "ticks": "",
           "title": {
            "standoff": 15
           },
           "zerolinecolor": "white",
           "zerolinewidth": 2
          }
         }
        },
        "title": {
         "text": "1時間ごとのソーシャルセンサ性能"
        },
        "xaxis": {
         "title": {
          "text": "時間"
         }
        },
        "yaxis": {
         "title": {
          "text": "ソーシャルセンサ性能"
         }
        }
       }
      },
      "text/html": [
       "<div>                            <div id=\"002859e1-50d6-4565-a3a2-bdb46260d631\" class=\"plotly-graph-div\" style=\"height:525px; width:100%;\"></div>            <script type=\"text/javascript\">                require([\"plotly\"], function(Plotly) {                    window.PLOTLYENV=window.PLOTLYENV || {};                                    if (document.getElementById(\"002859e1-50d6-4565-a3a2-bdb46260d631\")) {                    Plotly.newPlot(                        \"002859e1-50d6-4565-a3a2-bdb46260d631\",                        [{\"name\":\"\\u6771\\u4eac\\u99c5\",\"x\":[\"0\\u6642\",\"1\\u6642\",\"2\\u6642\",\"3\\u6642\",\"4\\u6642\",\"5\\u6642\",\"6\\u6642\",\"7\\u6642\",\"8\\u6642\",\"9\\u6642\",\"10\\u6642\",\"11\\u6642\",\"12\\u6642\",\"13\\u6642\",\"14\\u6642\",\"15\\u6642\",\"16\\u6642\",\"17\\u6642\",\"18\\u6642\",\"19\\u6642\",\"20\\u6642\",\"21\\u6642\",\"22\\u6642\",\"23\\u6642\"],\"y\":[0.14216512150722904,0.061028822245068004,-0.06148980677789958,-0.06287670440421558,-0.01764900076934671,0.27148929543335987,0.06974496748051096,-0.09590751370769189,-0.20140320099145909,-0.5009042368296053,-0.5580935360238588,-0.46843772027079883,-0.32657598781827224,-0.4268611911994016,-0.4818654899191621,-0.46013943838921345,-0.4410568721242253,-0.2402982206629241,0.12433774669376177,0.03474704771797274,0.012552150993915507,0.1855098829961859,0.13175333663204047,0.23647261457637742],\"type\":\"scatter\"},{\"name\":\"\\u5d50\\u5c71\",\"x\":[\"0\\u6642\",\"1\\u6642\",\"2\\u6642\",\"3\\u6642\",\"4\\u6642\",\"5\\u6642\",\"6\\u6642\",\"7\\u6642\",\"8\\u6642\",\"9\\u6642\",\"10\\u6642\",\"11\\u6642\",\"12\\u6642\",\"13\\u6642\",\"14\\u6642\",\"15\\u6642\",\"16\\u6642\",\"17\\u6642\",\"18\\u6642\",\"19\\u6642\",\"20\\u6642\",\"21\\u6642\",\"22\\u6642\",\"23\\u6642\"],\"y\":[0.03839381801746528,0.06091525257786669,-0.007477088830165409,0.04936875316678284,-0.004487972867120843,0.049039088106604956,0.014853454808470648,0.08476958227492233,0.1916904215728237,0.26051124799266456,0.24134360970218338,0.31804700247852746,0.3943901689309138,0.2983540689509602,0.5090459207033803,0.327081921539665,0.19248705893029544,0.11527134917922394,0.2617545301837441,0.14925268541748207,0.07583176593654087,0.11898968578785069,0.019314932009445618,0.12528740571601435],\"type\":\"scatter\"},{\"name\":\"\\u4e2d\\u4eac\\u533a\",\"x\":[\"0\\u6642\",\"1\\u6642\",\"2\\u6642\",\"3\\u6642\",\"4\\u6642\",\"5\\u6642\",\"6\\u6642\",\"7\\u6642\",\"8\\u6642\",\"9\\u6642\",\"10\\u6642\",\"11\\u6642\",\"12\\u6642\",\"13\\u6642\",\"14\\u6642\",\"15\\u6642\",\"16\\u6642\",\"17\\u6642\",\"18\\u6642\",\"19\\u6642\",\"20\\u6642\",\"21\\u6642\",\"22\\u6642\",\"23\\u6642\"],\"y\":[0.058809238179125936,0.02158356503590511,0.0053167358363781685,0.08070412920894945,0.017425350173316104,0.028598647010390377,-0.0146764636541258,0.05858098914481329,0.07433881403160017,-0.18838219089167282,-0.13413757019535685,-0.1965927452598631,0.14741359530860665,-0.20063077418762487,-0.24553911686142507,-0.2392957111116016,-0.31672321796655983,-0.2472835876205824,-0.01900928269833341,0.04608672404849691,0.03794469293041591,0.21430615528738306,0.08498162309997524,0.12304247357346795],\"type\":\"scatter\"},{\"name\":\"\\u91d1\\u95a3\\u5bfa\",\"x\":[\"0\\u6642\",\"1\\u6642\",\"2\\u6642\",\"3\\u6642\",\"4\\u6642\",\"5\\u6642\",\"6\\u6642\",\"7\\u6642\",\"8\\u6642\",\"9\\u6642\",\"10\\u6642\",\"11\\u6642\",\"12\\u6642\",\"13\\u6642\",\"14\\u6642\",\"15\\u6642\",\"16\\u6642\",\"17\\u6642\",\"18\\u6642\",\"19\\u6642\",\"20\\u6642\",\"21\\u6642\",\"22\\u6642\",\"23\\u6642\"],\"y\":[-0.09174820539183574,-0.03529900134179833,-0.021394695019102534,0.025846017204942204,0.005806735057577226,0.0022626481447703822,0.04753570203482729,0.016826326988681882,-0.03927819074987203,0.117863695210723,0.19752565307271172,0.30558555205450294,0.14331082176816606,0.09002047819812382,0.180098324863031,0.22718824624169273,0.11634729595825045,-0.01268900160028846,-0.01579584659186138,-0.08247065588518011,-0.0010289597972012903,-0.10953919211678587,-0.08567603458454968,-0.11248748803781106],\"type\":\"scatter\"},{\"name\":\"\\u6e05\\u6c34\\u5bfa\",\"x\":[\"0\\u6642\",\"1\\u6642\",\"2\\u6642\",\"3\\u6642\",\"4\\u6642\",\"5\\u6642\",\"6\\u6642\",\"7\\u6642\",\"8\\u6642\",\"9\\u6642\",\"10\\u6642\",\"11\\u6642\",\"12\\u6642\",\"13\\u6642\",\"14\\u6642\",\"15\\u6642\",\"16\\u6642\",\"17\\u6642\",\"18\\u6642\",\"19\\u6642\",\"20\\u6642\",\"21\\u6642\",\"22\\u6642\",\"23\\u6642\"],\"y\":[0.037069504551334655,0.06678421005044,0.09280110719895332,0.03723118861635322,-0.05537214086205603,-0.011637299697582934,0.10833698282765665,0.23282913589938875,0.1469484841048148,0.06210678580103208,0.2968815477200491,0.48669145434310274,0.3693804700829657,0.4831929523449127,0.4298877083838889,0.4074065922970552,0.48448031380414547,0.47119469482308735,0.5191923103727755,0.480684051950186,0.47083903356006795,0.3398847481662887,0.2871712961841556,0.09492713257851565],\"type\":\"scatter\"},{\"name\":\"\\u5b66\\u751f\\u8857\",\"x\":[\"0\\u6642\",\"1\\u6642\",\"2\\u6642\",\"3\\u6642\",\"4\\u6642\",\"5\\u6642\",\"6\\u6642\",\"7\\u6642\",\"8\\u6642\",\"9\\u6642\",\"10\\u6642\",\"11\\u6642\",\"12\\u6642\",\"13\\u6642\",\"14\\u6642\",\"15\\u6642\",\"16\\u6642\",\"17\\u6642\",\"18\\u6642\",\"19\\u6642\",\"20\\u6642\",\"21\\u6642\",\"22\\u6642\",\"23\\u6642\"],\"y\":[-0.011210805028525766,-0.05683449925226662,-0.09021494832400462,-0.008095099772040832,-0.0672044798719348,0.24638647575989783,-0.006455529248248173,-0.011853785980826472,0.09915341542127562,0.33353788441947224,0.169789628804939,0.22439409824535356,0.28667880625606895,0.2798238685049834,0.2891178793900212,-0.05944861328292102,0.017724740109860686,0.11581806812986657,-0.1769138141373593,-0.08766378243594862,0.009200797829806139,0.020175770567222886,-0.0631892904436875,-0.008187191343485764],\"type\":\"scatter\"},{\"name\":\"\\u4e8c\\u6761\\u57ce\",\"x\":[\"0\\u6642\",\"1\\u6642\",\"2\\u6642\",\"3\\u6642\",\"4\\u6642\",\"5\\u6642\",\"6\\u6642\",\"7\\u6642\",\"8\\u6642\",\"9\\u6642\",\"10\\u6642\",\"11\\u6642\",\"12\\u6642\",\"13\\u6642\",\"14\\u6642\",\"15\\u6642\",\"16\\u6642\",\"17\\u6642\",\"18\\u6642\",\"19\\u6642\",\"20\\u6642\",\"21\\u6642\",\"22\\u6642\",\"23\\u6642\"],\"y\":[0.13182727750309126,0.037904675145613506,0.03253100148106181,0.045456798201592395,0.03841144474863906,-0.017842823314150727,0.00957882046756575,0.0039967052975968115,0.08258540683698097,0.17189549888311098,0.07885268444484175,0.281331253603348,0.16083097628034224,0.22088801803295163,0.2168587242365124,0.21565740092622368,0.2724874559384793,0.22970241538738723,0.2664367042694607,0.19153218734092567,0.21289586899556043,0.08717376394733166,0.17069098089843343,0.1457765488111687],\"type\":\"scatter\"},{\"name\":\"\\u6771\\u5bfa\",\"x\":[\"0\\u6642\",\"1\\u6642\",\"2\\u6642\",\"3\\u6642\",\"4\\u6642\",\"5\\u6642\",\"6\\u6642\",\"7\\u6642\",\"8\\u6642\",\"9\\u6642\",\"10\\u6642\",\"11\\u6642\",\"12\\u6642\",\"13\\u6642\",\"14\\u6642\",\"15\\u6642\",\"16\\u6642\",\"17\\u6642\",\"18\\u6642\",\"19\\u6642\",\"20\\u6642\",\"21\\u6642\",\"22\\u6642\",\"23\\u6642\"],\"y\":[0.030121778587993944,0.05569430249690797,-0.0051368029773169515,0.040189698306086846,-0.01343095327024854,-0.012509684049466945,0.12460848481215968,0.08248892780552725,0.119330061703824,0.08727915243406448,0.07656366401587546,0.05295117902276614,0.10032326710503284,0.10842876864169829,-0.0848716780005775,-0.07468702312305102,0.048518860796506684,0.07553825529993298,0.12808932485141503,0.26453279246505434,0.17515853549048296,0.04201626268706683,-0.042083722382744264,0.16435807381905876],\"type\":\"scatter\"},{\"name\":\"\\u4eac\\u90fd\\u99c5\",\"x\":[\"0\\u6642\",\"1\\u6642\",\"2\\u6642\",\"3\\u6642\",\"4\\u6642\",\"5\\u6642\",\"6\\u6642\",\"7\\u6642\",\"8\\u6642\",\"9\\u6642\",\"10\\u6642\",\"11\\u6642\",\"12\\u6642\",\"13\\u6642\",\"14\\u6642\",\"15\\u6642\",\"16\\u6642\",\"17\\u6642\",\"18\\u6642\",\"19\\u6642\",\"20\\u6642\",\"21\\u6642\",\"22\\u6642\",\"23\\u6642\"],\"y\":[0.4370893900181308,0.24007025075845564,0.1588600541037974,0.23424322019617091,0.18378266168952756,0.28965284209027986,0.42293686479377063,0.3118943485928595,0.08125831767161028,-0.03490321728626047,0.2505533474883162,0.4499562702008468,0.5014378364595511,0.4847092571879917,0.5514465882009956,0.5409844042334966,0.5752651901126042,0.5131976822196058,0.5085115286600574,0.5057118240700714,0.5789846951979333,0.5488404392831486,0.5923903259568575,0.5411869147979432],\"type\":\"scatter\"}],                        {\"template\":{\"data\":{\"histogram2dcontour\":[{\"type\":\"histogram2dcontour\",\"colorbar\":{\"outlinewidth\":0,\"ticks\":\"\"},\"colorscale\":[[0.0,\"#0d0887\"],[0.1111111111111111,\"#46039f\"],[0.2222222222222222,\"#7201a8\"],[0.3333333333333333,\"#9c179e\"],[0.4444444444444444,\"#bd3786\"],[0.5555555555555556,\"#d8576b\"],[0.6666666666666666,\"#ed7953\"],[0.7777777777777778,\"#fb9f3a\"],[0.8888888888888888,\"#fdca26\"],[1.0,\"#f0f921\"]]}],\"choropleth\":[{\"type\":\"choropleth\",\"colorbar\":{\"outlinewidth\":0,\"ticks\":\"\"}}],\"histogram2d\":[{\"type\":\"histogram2d\",\"colorbar\":{\"outlinewidth\":0,\"ticks\":\"\"},\"colorscale\":[[0.0,\"#0d0887\"],[0.1111111111111111,\"#46039f\"],[0.2222222222222222,\"#7201a8\"],[0.3333333333333333,\"#9c179e\"],[0.4444444444444444,\"#bd3786\"],[0.5555555555555556,\"#d8576b\"],[0.6666666666666666,\"#ed7953\"],[0.7777777777777778,\"#fb9f3a\"],[0.8888888888888888,\"#fdca26\"],[1.0,\"#f0f921\"]]}],\"heatmap\":[{\"type\":\"heatmap\",\"colorbar\":{\"outlinewidth\":0,\"ticks\":\"\"},\"colorscale\":[[0.0,\"#0d0887\"],[0.1111111111111111,\"#46039f\"],[0.2222222222222222,\"#7201a8\"],[0.3333333333333333,\"#9c179e\"],[0.4444444444444444,\"#bd3786\"],[0.5555555555555556,\"#d8576b\"],[0.6666666666666666,\"#ed7953\"],[0.7777777777777778,\"#fb9f3a\"],[0.8888888888888888,\"#fdca26\"],[1.0,\"#f0f921\"]]}],\"heatmapgl\":[{\"type\":\"heatmapgl\",\"colorbar\":{\"outlinewidth\":0,\"ticks\":\"\"},\"colorscale\":[[0.0,\"#0d0887\"],[0.1111111111111111,\"#46039f\"],[0.2222222222222222,\"#7201a8\"],[0.3333333333333333,\"#9c179e\"],[0.4444444444444444,\"#bd3786\"],[0.5555555555555556,\"#d8576b\"],[0.6666666666666666,\"#ed7953\"],[0.7777777777777778,\"#fb9f3a\"],[0.8888888888888888,\"#fdca26\"],[1.0,\"#f0f921\"]]}],\"contourcarpet\":[{\"type\":\"contourcarpet\",\"colorbar\":{\"outlinewidth\":0,\"ticks\":\"\"}}],\"contour\":[{\"type\":\"contour\",\"colorbar\":{\"outlinewidth\":0,\"ticks\":\"\"},\"colorscale\":[[0.0,\"#0d0887\"],[0.1111111111111111,\"#46039f\"],[0.2222222222222222,\"#7201a8\"],[0.3333333333333333,\"#9c179e\"],[0.4444444444444444,\"#bd3786\"],[0.5555555555555556,\"#d8576b\"],[0.6666666666666666,\"#ed7953\"],[0.7777777777777778,\"#fb9f3a\"],[0.8888888888888888,\"#fdca26\"],[1.0,\"#f0f921\"]]}],\"surface\":[{\"type\":\"surface\",\"colorbar\":{\"outlinewidth\":0,\"ticks\":\"\"},\"colorscale\":[[0.0,\"#0d0887\"],[0.1111111111111111,\"#46039f\"],[0.2222222222222222,\"#7201a8\"],[0.3333333333333333,\"#9c179e\"],[0.4444444444444444,\"#bd3786\"],[0.5555555555555556,\"#d8576b\"],[0.6666666666666666,\"#ed7953\"],[0.7777777777777778,\"#fb9f3a\"],[0.8888888888888888,\"#fdca26\"],[1.0,\"#f0f921\"]]}],\"mesh3d\":[{\"type\":\"mesh3d\",\"colorbar\":{\"outlinewidth\":0,\"ticks\":\"\"}}],\"scatter\":[{\"fillpattern\":{\"fillmode\":\"overlay\",\"size\":10,\"solidity\":0.2},\"type\":\"scatter\"}],\"parcoords\":[{\"type\":\"parcoords\",\"line\":{\"colorbar\":{\"outlinewidth\":0,\"ticks\":\"\"}}}],\"scatterpolargl\":[{\"type\":\"scatterpolargl\",\"marker\":{\"colorbar\":{\"outlinewidth\":0,\"ticks\":\"\"}}}],\"bar\":[{\"error_x\":{\"color\":\"#2a3f5f\"},\"error_y\":{\"color\":\"#2a3f5f\"},\"marker\":{\"line\":{\"color\":\"#E5ECF6\",\"width\":0.5},\"pattern\":{\"fillmode\":\"overlay\",\"size\":10,\"solidity\":0.2}},\"type\":\"bar\"}],\"scattergeo\":[{\"type\":\"scattergeo\",\"marker\":{\"colorbar\":{\"outlinewidth\":0,\"ticks\":\"\"}}}],\"scatterpolar\":[{\"type\":\"scatterpolar\",\"marker\":{\"colorbar\":{\"outlinewidth\":0,\"ticks\":\"\"}}}],\"histogram\":[{\"marker\":{\"pattern\":{\"fillmode\":\"overlay\",\"size\":10,\"solidity\":0.2}},\"type\":\"histogram\"}],\"scattergl\":[{\"type\":\"scattergl\",\"marker\":{\"colorbar\":{\"outlinewidth\":0,\"ticks\":\"\"}}}],\"scatter3d\":[{\"type\":\"scatter3d\",\"line\":{\"colorbar\":{\"outlinewidth\":0,\"ticks\":\"\"}},\"marker\":{\"colorbar\":{\"outlinewidth\":0,\"ticks\":\"\"}}}],\"scattermapbox\":[{\"type\":\"scattermapbox\",\"marker\":{\"colorbar\":{\"outlinewidth\":0,\"ticks\":\"\"}}}],\"scatterternary\":[{\"type\":\"scatterternary\",\"marker\":{\"colorbar\":{\"outlinewidth\":0,\"ticks\":\"\"}}}],\"scattercarpet\":[{\"type\":\"scattercarpet\",\"marker\":{\"colorbar\":{\"outlinewidth\":0,\"ticks\":\"\"}}}],\"carpet\":[{\"aaxis\":{\"endlinecolor\":\"#2a3f5f\",\"gridcolor\":\"white\",\"linecolor\":\"white\",\"minorgridcolor\":\"white\",\"startlinecolor\":\"#2a3f5f\"},\"baxis\":{\"endlinecolor\":\"#2a3f5f\",\"gridcolor\":\"white\",\"linecolor\":\"white\",\"minorgridcolor\":\"white\",\"startlinecolor\":\"#2a3f5f\"},\"type\":\"carpet\"}],\"table\":[{\"cells\":{\"fill\":{\"color\":\"#EBF0F8\"},\"line\":{\"color\":\"white\"}},\"header\":{\"fill\":{\"color\":\"#C8D4E3\"},\"line\":{\"color\":\"white\"}},\"type\":\"table\"}],\"barpolar\":[{\"marker\":{\"line\":{\"color\":\"#E5ECF6\",\"width\":0.5},\"pattern\":{\"fillmode\":\"overlay\",\"size\":10,\"solidity\":0.2}},\"type\":\"barpolar\"}],\"pie\":[{\"automargin\":true,\"type\":\"pie\"}]},\"layout\":{\"autotypenumbers\":\"strict\",\"colorway\":[\"#636efa\",\"#EF553B\",\"#00cc96\",\"#ab63fa\",\"#FFA15A\",\"#19d3f3\",\"#FF6692\",\"#B6E880\",\"#FF97FF\",\"#FECB52\"],\"font\":{\"color\":\"#2a3f5f\"},\"hovermode\":\"closest\",\"hoverlabel\":{\"align\":\"left\"},\"paper_bgcolor\":\"white\",\"plot_bgcolor\":\"#E5ECF6\",\"polar\":{\"bgcolor\":\"#E5ECF6\",\"angularaxis\":{\"gridcolor\":\"white\",\"linecolor\":\"white\",\"ticks\":\"\"},\"radialaxis\":{\"gridcolor\":\"white\",\"linecolor\":\"white\",\"ticks\":\"\"}},\"ternary\":{\"bgcolor\":\"#E5ECF6\",\"aaxis\":{\"gridcolor\":\"white\",\"linecolor\":\"white\",\"ticks\":\"\"},\"baxis\":{\"gridcolor\":\"white\",\"linecolor\":\"white\",\"ticks\":\"\"},\"caxis\":{\"gridcolor\":\"white\",\"linecolor\":\"white\",\"ticks\":\"\"}},\"coloraxis\":{\"colorbar\":{\"outlinewidth\":0,\"ticks\":\"\"}},\"colorscale\":{\"sequential\":[[0.0,\"#0d0887\"],[0.1111111111111111,\"#46039f\"],[0.2222222222222222,\"#7201a8\"],[0.3333333333333333,\"#9c179e\"],[0.4444444444444444,\"#bd3786\"],[0.5555555555555556,\"#d8576b\"],[0.6666666666666666,\"#ed7953\"],[0.7777777777777778,\"#fb9f3a\"],[0.8888888888888888,\"#fdca26\"],[1.0,\"#f0f921\"]],\"sequentialminus\":[[0.0,\"#0d0887\"],[0.1111111111111111,\"#46039f\"],[0.2222222222222222,\"#7201a8\"],[0.3333333333333333,\"#9c179e\"],[0.4444444444444444,\"#bd3786\"],[0.5555555555555556,\"#d8576b\"],[0.6666666666666666,\"#ed7953\"],[0.7777777777777778,\"#fb9f3a\"],[0.8888888888888888,\"#fdca26\"],[1.0,\"#f0f921\"]],\"diverging\":[[0,\"#8e0152\"],[0.1,\"#c51b7d\"],[0.2,\"#de77ae\"],[0.3,\"#f1b6da\"],[0.4,\"#fde0ef\"],[0.5,\"#f7f7f7\"],[0.6,\"#e6f5d0\"],[0.7,\"#b8e186\"],[0.8,\"#7fbc41\"],[0.9,\"#4d9221\"],[1,\"#276419\"]]},\"xaxis\":{\"gridcolor\":\"white\",\"linecolor\":\"white\",\"ticks\":\"\",\"title\":{\"standoff\":15},\"zerolinecolor\":\"white\",\"automargin\":true,\"zerolinewidth\":2},\"yaxis\":{\"gridcolor\":\"white\",\"linecolor\":\"white\",\"ticks\":\"\",\"title\":{\"standoff\":15},\"zerolinecolor\":\"white\",\"automargin\":true,\"zerolinewidth\":2},\"scene\":{\"xaxis\":{\"backgroundcolor\":\"#E5ECF6\",\"gridcolor\":\"white\",\"linecolor\":\"white\",\"showbackground\":true,\"ticks\":\"\",\"zerolinecolor\":\"white\",\"gridwidth\":2},\"yaxis\":{\"backgroundcolor\":\"#E5ECF6\",\"gridcolor\":\"white\",\"linecolor\":\"white\",\"showbackground\":true,\"ticks\":\"\",\"zerolinecolor\":\"white\",\"gridwidth\":2},\"zaxis\":{\"backgroundcolor\":\"#E5ECF6\",\"gridcolor\":\"white\",\"linecolor\":\"white\",\"showbackground\":true,\"ticks\":\"\",\"zerolinecolor\":\"white\",\"gridwidth\":2}},\"shapedefaults\":{\"line\":{\"color\":\"#2a3f5f\"}},\"annotationdefaults\":{\"arrowcolor\":\"#2a3f5f\",\"arrowhead\":0,\"arrowwidth\":1},\"geo\":{\"bgcolor\":\"white\",\"landcolor\":\"#E5ECF6\",\"subunitcolor\":\"white\",\"showland\":true,\"showlakes\":true,\"lakecolor\":\"white\"},\"title\":{\"x\":0.05},\"mapbox\":{\"style\":\"light\"}}},\"title\":{\"text\":\"1\\u6642\\u9593\\u3054\\u3068\\u306e\\u30bd\\u30fc\\u30b7\\u30e3\\u30eb\\u30bb\\u30f3\\u30b5\\u6027\\u80fd\"},\"xaxis\":{\"title\":{\"text\":\"\\u6642\\u9593\"}},\"yaxis\":{\"title\":{\"text\":\"\\u30bd\\u30fc\\u30b7\\u30e3\\u30eb\\u30bb\\u30f3\\u30b5\\u6027\\u80fd\"}}},                        {\"responsive\": true}                    ).then(function(){\n",
       "                            \n",
       "var gd = document.getElementById('002859e1-50d6-4565-a3a2-bdb46260d631');\n",
       "var x = new MutationObserver(function (mutations, observer) {{\n",
       "        var display = window.getComputedStyle(gd).display;\n",
       "        if (!display || display === 'none') {{\n",
       "            console.log([gd, 'removed!']);\n",
       "            Plotly.purge(gd);\n",
       "            observer.disconnect();\n",
       "        }}\n",
       "}});\n",
       "\n",
       "// Listen for the removal of the full notebook cells\n",
       "var notebookContainer = gd.closest('#notebook-container');\n",
       "if (notebookContainer) {{\n",
       "    x.observe(notebookContainer, {childList: true});\n",
       "}}\n",
       "\n",
       "// Listen for the clearing of the current output cell\n",
       "var outputEl = gd.closest('.output');\n",
       "if (outputEl) {{\n",
       "    x.observe(outputEl, {childList: true});\n",
       "}}\n",
       "\n",
       "                        })                };                });            </script>        </div>"
      ]
     },
     "metadata": {},
     "output_type": "display_data"
    }
   ],
   "source": [
    "list_place = df['place'].unique()\n",
    "fig = go.Figure(data=[\n",
    "    go.Scatter(x = df[df['place']==list_place[0]]['time'], y = df[df['place']==list_place[0]]['r'], name = list_place[0],),\n",
    "    go.Scatter(x = df[df['place']==list_place[1]]['time'], y = df[df['place']==list_place[1]]['r'], name = list_place[1],),\n",
    "    go.Scatter(x = df[df['place']==list_place[2]]['time'], y = df[df['place']==list_place[2]]['r'], name = list_place[2],),\n",
    "    go.Scatter(x = df[df['place']==list_place[3]]['time'], y = df[df['place']==list_place[3]]['r'], name = list_place[3],),\n",
    "    go.Scatter(x = df[df['place']==list_place[4]]['time'], y = df[df['place']==list_place[4]]['r'], name = list_place[4],),\n",
    "    go.Scatter(x = df[df['place']==list_place[5]]['time'], y = df[df['place']==list_place[5]]['r'], name = list_place[5],),\n",
    "    go.Scatter(x = df[df['place']==list_place[6]]['time'], y = df[df['place']==list_place[6]]['r'], name = list_place[6],),\n",
    "    go.Scatter(x = df[df['place']==list_place[7]]['time'], y = df[df['place']==list_place[7]]['r'], name = list_place[7],),\n",
    "    go.Scatter(x = df[df['place']==list_place[8]]['time'], y = df[df['place']==list_place[8]]['r'], name = list_place[8],),\n",
    "    ])\n",
    "fig.update_layout(title='1時間ごとのソーシャルセンサ性能')\n",
    "fig.update_layout(xaxis=dict(title='時間'),\n",
    "                 yaxis=dict(title='ソーシャルセンサ性能'))\n",
    "fig.show()"
   ]
  },
  {
   "cell_type": "code",
   "execution_count": 23,
   "metadata": {},
   "outputs": [],
   "source": [
    "data = []\n",
    "for h in range(0, len(list_mobile)):\n",
    "    mobile = np.load(list_mobile[h])\n",
    "    tweets = np.load(list_twitter[h])\n",
    "    tmp = []\n",
    "    for i in range(0,24):\n",
    "        mobile_1hour = mobile[:, i:i+1]\n",
    "        mobile_1hour = mobile_1hour.flatten()\n",
    "        tweets_1hour = tweets[:, i:i+1]\n",
    "        tweets_1hour = tweets_1hour.flatten()\n",
    "\n",
    "        correlation, p_value = stats.pearsonr(mobile_1hour, tweets_1hour)\n",
    "        if p_value>0.05:\n",
    "            data.append([i,'', p_value, list_key[h]])\n",
    "        else:\n",
    "            data.append([i, correlation, p_value, list_key[h]])\n",
    "\n",
    "\n",
    "columns=['time','r','p','place']\n",
    "\n",
    "\n",
    "df= pd.DataFrame(data,columns=columns)"
   ]
  },
  {
   "cell_type": "code",
   "execution_count": 24,
   "metadata": {},
   "outputs": [
    {
     "data": {
      "text/html": [
       "<div>\n",
       "<style scoped>\n",
       "    .dataframe tbody tr th:only-of-type {\n",
       "        vertical-align: middle;\n",
       "    }\n",
       "\n",
       "    .dataframe tbody tr th {\n",
       "        vertical-align: top;\n",
       "    }\n",
       "\n",
       "    .dataframe thead th {\n",
       "        text-align: right;\n",
       "    }\n",
       "</style>\n",
       "<table border=\"1\" class=\"dataframe\">\n",
       "  <thead>\n",
       "    <tr style=\"text-align: right;\">\n",
       "      <th></th>\n",
       "      <th>time</th>\n",
       "      <th>r</th>\n",
       "      <th>p</th>\n",
       "      <th>place</th>\n",
       "    </tr>\n",
       "  </thead>\n",
       "  <tbody>\n",
       "    <tr>\n",
       "      <th>0</th>\n",
       "      <td>0</td>\n",
       "      <td>0.142165</td>\n",
       "      <td>6.516829e-03</td>\n",
       "      <td>東京駅</td>\n",
       "    </tr>\n",
       "    <tr>\n",
       "      <th>1</th>\n",
       "      <td>1</td>\n",
       "      <td></td>\n",
       "      <td>2.448136e-01</td>\n",
       "      <td>東京駅</td>\n",
       "    </tr>\n",
       "    <tr>\n",
       "      <th>2</th>\n",
       "      <td>2</td>\n",
       "      <td></td>\n",
       "      <td>2.412610e-01</td>\n",
       "      <td>東京駅</td>\n",
       "    </tr>\n",
       "    <tr>\n",
       "      <th>3</th>\n",
       "      <td>3</td>\n",
       "      <td></td>\n",
       "      <td>2.307911e-01</td>\n",
       "      <td>東京駅</td>\n",
       "    </tr>\n",
       "    <tr>\n",
       "      <th>4</th>\n",
       "      <td>4</td>\n",
       "      <td></td>\n",
       "      <td>7.368307e-01</td>\n",
       "      <td>東京駅</td>\n",
       "    </tr>\n",
       "    <tr>\n",
       "      <th>...</th>\n",
       "      <td>...</td>\n",
       "      <td>...</td>\n",
       "      <td>...</td>\n",
       "      <td>...</td>\n",
       "    </tr>\n",
       "    <tr>\n",
       "      <th>211</th>\n",
       "      <td>19</td>\n",
       "      <td>0.505712</td>\n",
       "      <td>4.284952e-25</td>\n",
       "      <td>京都駅</td>\n",
       "    </tr>\n",
       "    <tr>\n",
       "      <th>212</th>\n",
       "      <td>20</td>\n",
       "      <td>0.578985</td>\n",
       "      <td>4.702735e-34</td>\n",
       "      <td>京都駅</td>\n",
       "    </tr>\n",
       "    <tr>\n",
       "      <th>213</th>\n",
       "      <td>21</td>\n",
       "      <td>0.54884</td>\n",
       "      <td>4.233123e-30</td>\n",
       "      <td>京都駅</td>\n",
       "    </tr>\n",
       "    <tr>\n",
       "      <th>214</th>\n",
       "      <td>22</td>\n",
       "      <td>0.59239</td>\n",
       "      <td>6.001633e-36</td>\n",
       "      <td>京都駅</td>\n",
       "    </tr>\n",
       "    <tr>\n",
       "      <th>215</th>\n",
       "      <td>23</td>\n",
       "      <td>0.541187</td>\n",
       "      <td>3.699556e-29</td>\n",
       "      <td>京都駅</td>\n",
       "    </tr>\n",
       "  </tbody>\n",
       "</table>\n",
       "<p>216 rows × 4 columns</p>\n",
       "</div>"
      ],
      "text/plain": [
       "     time         r             p place\n",
       "0       0  0.142165  6.516829e-03   東京駅\n",
       "1       1            2.448136e-01   東京駅\n",
       "2       2            2.412610e-01   東京駅\n",
       "3       3            2.307911e-01   東京駅\n",
       "4       4            7.368307e-01   東京駅\n",
       "..    ...       ...           ...   ...\n",
       "211    19  0.505712  4.284952e-25   京都駅\n",
       "212    20  0.578985  4.702735e-34   京都駅\n",
       "213    21   0.54884  4.233123e-30   京都駅\n",
       "214    22   0.59239  6.001633e-36   京都駅\n",
       "215    23  0.541187  3.699556e-29   京都駅\n",
       "\n",
       "[216 rows x 4 columns]"
      ]
     },
     "execution_count": 24,
     "metadata": {},
     "output_type": "execute_result"
    }
   ],
   "source": [
    "df"
   ]
  },
  {
   "cell_type": "code",
   "execution_count": 25,
   "metadata": {},
   "outputs": [
    {
     "data": {
      "application/vnd.plotly.v1+json": {
       "config": {
        "plotlyServerURL": "https://plot.ly"
       },
       "data": [
        {
         "name": "東京駅",
         "type": "scatter",
         "x": [
          0,
          1,
          2,
          3,
          4,
          5,
          6,
          7,
          8,
          9,
          10,
          11,
          12,
          13,
          14,
          15,
          16,
          17,
          18,
          19,
          20,
          21,
          22,
          23
         ],
         "y": [
          0.14216512150722904,
          "",
          "",
          "",
          "",
          0.27148929543335987,
          "",
          "",
          -0.20140320099145909,
          -0.5009042368296053,
          -0.5580935360238588,
          -0.46843772027079883,
          -0.32657598781827224,
          -0.4268611911994016,
          -0.4818654899191621,
          -0.46013943838921345,
          -0.4410568721242253,
          -0.2402982206629241,
          0.12433774669376177,
          "",
          "",
          0.1855098829961859,
          0.13175333663204047,
          0.23647261457637742
         ]
        },
        {
         "name": "嵐山",
         "type": "scatter",
         "x": [
          0,
          1,
          2,
          3,
          4,
          5,
          6,
          7,
          8,
          9,
          10,
          11,
          12,
          13,
          14,
          15,
          16,
          17,
          18,
          19,
          20,
          21,
          22,
          23
         ],
         "y": [
          "",
          "",
          "",
          "",
          "",
          "",
          "",
          "",
          0.1916904215728237,
          0.26051124799266456,
          0.24134360970218338,
          0.31804700247852746,
          0.3943901689309138,
          0.2983540689509602,
          0.5090459207033803,
          0.327081921539665,
          0.19248705893029544,
          0.11527134917922394,
          0.2617545301837441,
          0.14925268541748207,
          "",
          0.11898968578785069,
          "",
          0.12528740571601435
         ]
        },
        {
         "name": "中京区",
         "type": "scatter",
         "x": [
          0,
          1,
          2,
          3,
          4,
          5,
          6,
          7,
          8,
          9,
          10,
          11,
          12,
          13,
          14,
          15,
          16,
          17,
          18,
          19,
          20,
          21,
          22,
          23
         ],
         "y": [
          "",
          "",
          "",
          "",
          "",
          "",
          "",
          "",
          "",
          -0.18838219089167282,
          -0.13413757019535685,
          -0.1965927452598631,
          0.14741359530860665,
          -0.20063077418762487,
          -0.24553911686142507,
          -0.2392957111116016,
          -0.31672321796655983,
          -0.2472835876205824,
          "",
          "",
          "",
          0.21430615528738306,
          "",
          0.12304247357346795
         ]
        },
        {
         "name": "金閣寺",
         "type": "scatter",
         "x": [
          0,
          1,
          2,
          3,
          4,
          5,
          6,
          7,
          8,
          9,
          10,
          11,
          12,
          13,
          14,
          15,
          16,
          17,
          18,
          19,
          20,
          21,
          22,
          23
         ],
         "y": [
          "",
          "",
          "",
          "",
          "",
          "",
          "",
          "",
          "",
          0.117863695210723,
          0.19752565307271172,
          0.30558555205450294,
          0.14331082176816606,
          "",
          0.180098324863031,
          0.22718824624169273,
          0.11634729595825045,
          "",
          "",
          "",
          "",
          -0.10953919211678587,
          "",
          -0.11248748803781106
         ]
        },
        {
         "name": "清水寺",
         "type": "scatter",
         "x": [
          0,
          1,
          2,
          3,
          4,
          5,
          6,
          7,
          8,
          9,
          10,
          11,
          12,
          13,
          14,
          15,
          16,
          17,
          18,
          19,
          20,
          21,
          22,
          23
         ],
         "y": [
          "",
          "",
          "",
          "",
          "",
          "",
          0.10833698282765665,
          0.23282913589938875,
          0.1469484841048148,
          "",
          0.2968815477200491,
          0.48669145434310274,
          0.3693804700829657,
          0.4831929523449127,
          0.4298877083838889,
          0.4074065922970552,
          0.48448031380414547,
          0.47119469482308735,
          0.5191923103727755,
          0.480684051950186,
          0.47083903356006795,
          0.3398847481662887,
          0.2871712961841556,
          ""
         ]
        },
        {
         "name": "学生街",
         "type": "scatter",
         "x": [
          0,
          1,
          2,
          3,
          4,
          5,
          6,
          7,
          8,
          9,
          10,
          11,
          12,
          13,
          14,
          15,
          16,
          17,
          18,
          19,
          20,
          21,
          22,
          23
         ],
         "y": [
          "",
          "",
          "",
          "",
          "",
          0.24638647575989783,
          "",
          "",
          "",
          0.33353788441947224,
          0.169789628804939,
          0.22439409824535356,
          0.28667880625606895,
          0.2798238685049834,
          0.2891178793900212,
          "",
          "",
          0.11581806812986657,
          -0.1769138141373593,
          "",
          "",
          "",
          "",
          ""
         ]
        },
        {
         "name": "二条城",
         "type": "scatter",
         "x": [
          0,
          1,
          2,
          3,
          4,
          5,
          6,
          7,
          8,
          9,
          10,
          11,
          12,
          13,
          14,
          15,
          16,
          17,
          18,
          19,
          20,
          21,
          22,
          23
         ],
         "y": [
          0.13182727750309126,
          "",
          "",
          "",
          "",
          "",
          "",
          "",
          "",
          0.17189549888311098,
          "",
          0.281331253603348,
          0.16083097628034224,
          0.22088801803295163,
          0.2168587242365124,
          0.21565740092622368,
          0.2724874559384793,
          0.22970241538738723,
          0.2664367042694607,
          0.19153218734092567,
          0.21289586899556043,
          "",
          0.17069098089843343,
          0.1457765488111687
         ]
        },
        {
         "name": "東寺",
         "type": "scatter",
         "x": [
          0,
          1,
          2,
          3,
          4,
          5,
          6,
          7,
          8,
          9,
          10,
          11,
          12,
          13,
          14,
          15,
          16,
          17,
          18,
          19,
          20,
          21,
          22,
          23
         ],
         "y": [
          "",
          "",
          "",
          "",
          "",
          "",
          0.12460848481215968,
          "",
          0.119330061703824,
          "",
          "",
          "",
          "",
          0.10842876864169829,
          "",
          "",
          "",
          "",
          0.12808932485141503,
          0.26453279246505434,
          0.17515853549048296,
          "",
          "",
          0.16435807381905876
         ]
        },
        {
         "name": "京都駅",
         "type": "scatter",
         "x": [
          0,
          1,
          2,
          3,
          4,
          5,
          6,
          7,
          8,
          9,
          10,
          11,
          12,
          13,
          14,
          15,
          16,
          17,
          18,
          19,
          20,
          21,
          22,
          23
         ],
         "y": [
          0.4370893900181308,
          0.24007025075845564,
          0.1588600541037974,
          0.23424322019617091,
          0.18378266168952756,
          0.28965284209027986,
          0.42293686479377063,
          0.3118943485928595,
          "",
          "",
          0.2505533474883162,
          0.4499562702008468,
          0.5014378364595511,
          0.4847092571879917,
          0.5514465882009956,
          0.5409844042334966,
          0.5752651901126042,
          0.5131976822196058,
          0.5085115286600574,
          0.5057118240700714,
          0.5789846951979333,
          0.5488404392831486,
          0.5923903259568575,
          0.5411869147979432
         ]
        }
       ],
       "layout": {
        "template": {
         "data": {
          "bar": [
           {
            "error_x": {
             "color": "#2a3f5f"
            },
            "error_y": {
             "color": "#2a3f5f"
            },
            "marker": {
             "line": {
              "color": "#E5ECF6",
              "width": 0.5
             },
             "pattern": {
              "fillmode": "overlay",
              "size": 10,
              "solidity": 0.2
             }
            },
            "type": "bar"
           }
          ],
          "barpolar": [
           {
            "marker": {
             "line": {
              "color": "#E5ECF6",
              "width": 0.5
             },
             "pattern": {
              "fillmode": "overlay",
              "size": 10,
              "solidity": 0.2
             }
            },
            "type": "barpolar"
           }
          ],
          "carpet": [
           {
            "aaxis": {
             "endlinecolor": "#2a3f5f",
             "gridcolor": "white",
             "linecolor": "white",
             "minorgridcolor": "white",
             "startlinecolor": "#2a3f5f"
            },
            "baxis": {
             "endlinecolor": "#2a3f5f",
             "gridcolor": "white",
             "linecolor": "white",
             "minorgridcolor": "white",
             "startlinecolor": "#2a3f5f"
            },
            "type": "carpet"
           }
          ],
          "choropleth": [
           {
            "colorbar": {
             "outlinewidth": 0,
             "ticks": ""
            },
            "type": "choropleth"
           }
          ],
          "contour": [
           {
            "colorbar": {
             "outlinewidth": 0,
             "ticks": ""
            },
            "colorscale": [
             [
              0,
              "#0d0887"
             ],
             [
              0.1111111111111111,
              "#46039f"
             ],
             [
              0.2222222222222222,
              "#7201a8"
             ],
             [
              0.3333333333333333,
              "#9c179e"
             ],
             [
              0.4444444444444444,
              "#bd3786"
             ],
             [
              0.5555555555555556,
              "#d8576b"
             ],
             [
              0.6666666666666666,
              "#ed7953"
             ],
             [
              0.7777777777777778,
              "#fb9f3a"
             ],
             [
              0.8888888888888888,
              "#fdca26"
             ],
             [
              1,
              "#f0f921"
             ]
            ],
            "type": "contour"
           }
          ],
          "contourcarpet": [
           {
            "colorbar": {
             "outlinewidth": 0,
             "ticks": ""
            },
            "type": "contourcarpet"
           }
          ],
          "heatmap": [
           {
            "colorbar": {
             "outlinewidth": 0,
             "ticks": ""
            },
            "colorscale": [
             [
              0,
              "#0d0887"
             ],
             [
              0.1111111111111111,
              "#46039f"
             ],
             [
              0.2222222222222222,
              "#7201a8"
             ],
             [
              0.3333333333333333,
              "#9c179e"
             ],
             [
              0.4444444444444444,
              "#bd3786"
             ],
             [
              0.5555555555555556,
              "#d8576b"
             ],
             [
              0.6666666666666666,
              "#ed7953"
             ],
             [
              0.7777777777777778,
              "#fb9f3a"
             ],
             [
              0.8888888888888888,
              "#fdca26"
             ],
             [
              1,
              "#f0f921"
             ]
            ],
            "type": "heatmap"
           }
          ],
          "heatmapgl": [
           {
            "colorbar": {
             "outlinewidth": 0,
             "ticks": ""
            },
            "colorscale": [
             [
              0,
              "#0d0887"
             ],
             [
              0.1111111111111111,
              "#46039f"
             ],
             [
              0.2222222222222222,
              "#7201a8"
             ],
             [
              0.3333333333333333,
              "#9c179e"
             ],
             [
              0.4444444444444444,
              "#bd3786"
             ],
             [
              0.5555555555555556,
              "#d8576b"
             ],
             [
              0.6666666666666666,
              "#ed7953"
             ],
             [
              0.7777777777777778,
              "#fb9f3a"
             ],
             [
              0.8888888888888888,
              "#fdca26"
             ],
             [
              1,
              "#f0f921"
             ]
            ],
            "type": "heatmapgl"
           }
          ],
          "histogram": [
           {
            "marker": {
             "pattern": {
              "fillmode": "overlay",
              "size": 10,
              "solidity": 0.2
             }
            },
            "type": "histogram"
           }
          ],
          "histogram2d": [
           {
            "colorbar": {
             "outlinewidth": 0,
             "ticks": ""
            },
            "colorscale": [
             [
              0,
              "#0d0887"
             ],
             [
              0.1111111111111111,
              "#46039f"
             ],
             [
              0.2222222222222222,
              "#7201a8"
             ],
             [
              0.3333333333333333,
              "#9c179e"
             ],
             [
              0.4444444444444444,
              "#bd3786"
             ],
             [
              0.5555555555555556,
              "#d8576b"
             ],
             [
              0.6666666666666666,
              "#ed7953"
             ],
             [
              0.7777777777777778,
              "#fb9f3a"
             ],
             [
              0.8888888888888888,
              "#fdca26"
             ],
             [
              1,
              "#f0f921"
             ]
            ],
            "type": "histogram2d"
           }
          ],
          "histogram2dcontour": [
           {
            "colorbar": {
             "outlinewidth": 0,
             "ticks": ""
            },
            "colorscale": [
             [
              0,
              "#0d0887"
             ],
             [
              0.1111111111111111,
              "#46039f"
             ],
             [
              0.2222222222222222,
              "#7201a8"
             ],
             [
              0.3333333333333333,
              "#9c179e"
             ],
             [
              0.4444444444444444,
              "#bd3786"
             ],
             [
              0.5555555555555556,
              "#d8576b"
             ],
             [
              0.6666666666666666,
              "#ed7953"
             ],
             [
              0.7777777777777778,
              "#fb9f3a"
             ],
             [
              0.8888888888888888,
              "#fdca26"
             ],
             [
              1,
              "#f0f921"
             ]
            ],
            "type": "histogram2dcontour"
           }
          ],
          "mesh3d": [
           {
            "colorbar": {
             "outlinewidth": 0,
             "ticks": ""
            },
            "type": "mesh3d"
           }
          ],
          "parcoords": [
           {
            "line": {
             "colorbar": {
              "outlinewidth": 0,
              "ticks": ""
             }
            },
            "type": "parcoords"
           }
          ],
          "pie": [
           {
            "automargin": true,
            "type": "pie"
           }
          ],
          "scatter": [
           {
            "fillpattern": {
             "fillmode": "overlay",
             "size": 10,
             "solidity": 0.2
            },
            "type": "scatter"
           }
          ],
          "scatter3d": [
           {
            "line": {
             "colorbar": {
              "outlinewidth": 0,
              "ticks": ""
             }
            },
            "marker": {
             "colorbar": {
              "outlinewidth": 0,
              "ticks": ""
             }
            },
            "type": "scatter3d"
           }
          ],
          "scattercarpet": [
           {
            "marker": {
             "colorbar": {
              "outlinewidth": 0,
              "ticks": ""
             }
            },
            "type": "scattercarpet"
           }
          ],
          "scattergeo": [
           {
            "marker": {
             "colorbar": {
              "outlinewidth": 0,
              "ticks": ""
             }
            },
            "type": "scattergeo"
           }
          ],
          "scattergl": [
           {
            "marker": {
             "colorbar": {
              "outlinewidth": 0,
              "ticks": ""
             }
            },
            "type": "scattergl"
           }
          ],
          "scattermapbox": [
           {
            "marker": {
             "colorbar": {
              "outlinewidth": 0,
              "ticks": ""
             }
            },
            "type": "scattermapbox"
           }
          ],
          "scatterpolar": [
           {
            "marker": {
             "colorbar": {
              "outlinewidth": 0,
              "ticks": ""
             }
            },
            "type": "scatterpolar"
           }
          ],
          "scatterpolargl": [
           {
            "marker": {
             "colorbar": {
              "outlinewidth": 0,
              "ticks": ""
             }
            },
            "type": "scatterpolargl"
           }
          ],
          "scatterternary": [
           {
            "marker": {
             "colorbar": {
              "outlinewidth": 0,
              "ticks": ""
             }
            },
            "type": "scatterternary"
           }
          ],
          "surface": [
           {
            "colorbar": {
             "outlinewidth": 0,
             "ticks": ""
            },
            "colorscale": [
             [
              0,
              "#0d0887"
             ],
             [
              0.1111111111111111,
              "#46039f"
             ],
             [
              0.2222222222222222,
              "#7201a8"
             ],
             [
              0.3333333333333333,
              "#9c179e"
             ],
             [
              0.4444444444444444,
              "#bd3786"
             ],
             [
              0.5555555555555556,
              "#d8576b"
             ],
             [
              0.6666666666666666,
              "#ed7953"
             ],
             [
              0.7777777777777778,
              "#fb9f3a"
             ],
             [
              0.8888888888888888,
              "#fdca26"
             ],
             [
              1,
              "#f0f921"
             ]
            ],
            "type": "surface"
           }
          ],
          "table": [
           {
            "cells": {
             "fill": {
              "color": "#EBF0F8"
             },
             "line": {
              "color": "white"
             }
            },
            "header": {
             "fill": {
              "color": "#C8D4E3"
             },
             "line": {
              "color": "white"
             }
            },
            "type": "table"
           }
          ]
         },
         "layout": {
          "annotationdefaults": {
           "arrowcolor": "#2a3f5f",
           "arrowhead": 0,
           "arrowwidth": 1
          },
          "autotypenumbers": "strict",
          "coloraxis": {
           "colorbar": {
            "outlinewidth": 0,
            "ticks": ""
           }
          },
          "colorscale": {
           "diverging": [
            [
             0,
             "#8e0152"
            ],
            [
             0.1,
             "#c51b7d"
            ],
            [
             0.2,
             "#de77ae"
            ],
            [
             0.3,
             "#f1b6da"
            ],
            [
             0.4,
             "#fde0ef"
            ],
            [
             0.5,
             "#f7f7f7"
            ],
            [
             0.6,
             "#e6f5d0"
            ],
            [
             0.7,
             "#b8e186"
            ],
            [
             0.8,
             "#7fbc41"
            ],
            [
             0.9,
             "#4d9221"
            ],
            [
             1,
             "#276419"
            ]
           ],
           "sequential": [
            [
             0,
             "#0d0887"
            ],
            [
             0.1111111111111111,
             "#46039f"
            ],
            [
             0.2222222222222222,
             "#7201a8"
            ],
            [
             0.3333333333333333,
             "#9c179e"
            ],
            [
             0.4444444444444444,
             "#bd3786"
            ],
            [
             0.5555555555555556,
             "#d8576b"
            ],
            [
             0.6666666666666666,
             "#ed7953"
            ],
            [
             0.7777777777777778,
             "#fb9f3a"
            ],
            [
             0.8888888888888888,
             "#fdca26"
            ],
            [
             1,
             "#f0f921"
            ]
           ],
           "sequentialminus": [
            [
             0,
             "#0d0887"
            ],
            [
             0.1111111111111111,
             "#46039f"
            ],
            [
             0.2222222222222222,
             "#7201a8"
            ],
            [
             0.3333333333333333,
             "#9c179e"
            ],
            [
             0.4444444444444444,
             "#bd3786"
            ],
            [
             0.5555555555555556,
             "#d8576b"
            ],
            [
             0.6666666666666666,
             "#ed7953"
            ],
            [
             0.7777777777777778,
             "#fb9f3a"
            ],
            [
             0.8888888888888888,
             "#fdca26"
            ],
            [
             1,
             "#f0f921"
            ]
           ]
          },
          "colorway": [
           "#636efa",
           "#EF553B",
           "#00cc96",
           "#ab63fa",
           "#FFA15A",
           "#19d3f3",
           "#FF6692",
           "#B6E880",
           "#FF97FF",
           "#FECB52"
          ],
          "font": {
           "color": "#2a3f5f"
          },
          "geo": {
           "bgcolor": "white",
           "lakecolor": "white",
           "landcolor": "#E5ECF6",
           "showlakes": true,
           "showland": true,
           "subunitcolor": "white"
          },
          "hoverlabel": {
           "align": "left"
          },
          "hovermode": "closest",
          "mapbox": {
           "style": "light"
          },
          "paper_bgcolor": "white",
          "plot_bgcolor": "#E5ECF6",
          "polar": {
           "angularaxis": {
            "gridcolor": "white",
            "linecolor": "white",
            "ticks": ""
           },
           "bgcolor": "#E5ECF6",
           "radialaxis": {
            "gridcolor": "white",
            "linecolor": "white",
            "ticks": ""
           }
          },
          "scene": {
           "xaxis": {
            "backgroundcolor": "#E5ECF6",
            "gridcolor": "white",
            "gridwidth": 2,
            "linecolor": "white",
            "showbackground": true,
            "ticks": "",
            "zerolinecolor": "white"
           },
           "yaxis": {
            "backgroundcolor": "#E5ECF6",
            "gridcolor": "white",
            "gridwidth": 2,
            "linecolor": "white",
            "showbackground": true,
            "ticks": "",
            "zerolinecolor": "white"
           },
           "zaxis": {
            "backgroundcolor": "#E5ECF6",
            "gridcolor": "white",
            "gridwidth": 2,
            "linecolor": "white",
            "showbackground": true,
            "ticks": "",
            "zerolinecolor": "white"
           }
          },
          "shapedefaults": {
           "line": {
            "color": "#2a3f5f"
           }
          },
          "ternary": {
           "aaxis": {
            "gridcolor": "white",
            "linecolor": "white",
            "ticks": ""
           },
           "baxis": {
            "gridcolor": "white",
            "linecolor": "white",
            "ticks": ""
           },
           "bgcolor": "#E5ECF6",
           "caxis": {
            "gridcolor": "white",
            "linecolor": "white",
            "ticks": ""
           }
          },
          "title": {
           "x": 0.05
          },
          "xaxis": {
           "automargin": true,
           "gridcolor": "white",
           "linecolor": "white",
           "ticks": "",
           "title": {
            "standoff": 15
           },
           "zerolinecolor": "white",
           "zerolinewidth": 2
          },
          "yaxis": {
           "automargin": true,
           "gridcolor": "white",
           "linecolor": "white",
           "ticks": "",
           "title": {
            "standoff": 15
           },
           "zerolinecolor": "white",
           "zerolinewidth": 2
          }
         }
        },
        "title": {
         "text": "1時間ごとのソーシャルセンサ性能 (p値>0.05を削除)"
        },
        "xaxis": {
         "title": {
          "text": "時間"
         }
        },
        "yaxis": {
         "title": {
          "text": "ソーシャルセンサ性能"
         }
        }
       }
      },
      "text/html": [
       "<div>                            <div id=\"cd09cb65-febf-42c6-8854-d9543ba01e27\" class=\"plotly-graph-div\" style=\"height:525px; width:100%;\"></div>            <script type=\"text/javascript\">                require([\"plotly\"], function(Plotly) {                    window.PLOTLYENV=window.PLOTLYENV || {};                                    if (document.getElementById(\"cd09cb65-febf-42c6-8854-d9543ba01e27\")) {                    Plotly.newPlot(                        \"cd09cb65-febf-42c6-8854-d9543ba01e27\",                        [{\"name\":\"\\u6771\\u4eac\\u99c5\",\"x\":[0,1,2,3,4,5,6,7,8,9,10,11,12,13,14,15,16,17,18,19,20,21,22,23],\"y\":[0.14216512150722904,\"\",\"\",\"\",\"\",0.27148929543335987,\"\",\"\",-0.20140320099145909,-0.5009042368296053,-0.5580935360238588,-0.46843772027079883,-0.32657598781827224,-0.4268611911994016,-0.4818654899191621,-0.46013943838921345,-0.4410568721242253,-0.2402982206629241,0.12433774669376177,\"\",\"\",0.1855098829961859,0.13175333663204047,0.23647261457637742],\"type\":\"scatter\"},{\"name\":\"\\u5d50\\u5c71\",\"x\":[0,1,2,3,4,5,6,7,8,9,10,11,12,13,14,15,16,17,18,19,20,21,22,23],\"y\":[\"\",\"\",\"\",\"\",\"\",\"\",\"\",\"\",0.1916904215728237,0.26051124799266456,0.24134360970218338,0.31804700247852746,0.3943901689309138,0.2983540689509602,0.5090459207033803,0.327081921539665,0.19248705893029544,0.11527134917922394,0.2617545301837441,0.14925268541748207,\"\",0.11898968578785069,\"\",0.12528740571601435],\"type\":\"scatter\"},{\"name\":\"\\u4e2d\\u4eac\\u533a\",\"x\":[0,1,2,3,4,5,6,7,8,9,10,11,12,13,14,15,16,17,18,19,20,21,22,23],\"y\":[\"\",\"\",\"\",\"\",\"\",\"\",\"\",\"\",\"\",-0.18838219089167282,-0.13413757019535685,-0.1965927452598631,0.14741359530860665,-0.20063077418762487,-0.24553911686142507,-0.2392957111116016,-0.31672321796655983,-0.2472835876205824,\"\",\"\",\"\",0.21430615528738306,\"\",0.12304247357346795],\"type\":\"scatter\"},{\"name\":\"\\u91d1\\u95a3\\u5bfa\",\"x\":[0,1,2,3,4,5,6,7,8,9,10,11,12,13,14,15,16,17,18,19,20,21,22,23],\"y\":[\"\",\"\",\"\",\"\",\"\",\"\",\"\",\"\",\"\",0.117863695210723,0.19752565307271172,0.30558555205450294,0.14331082176816606,\"\",0.180098324863031,0.22718824624169273,0.11634729595825045,\"\",\"\",\"\",\"\",-0.10953919211678587,\"\",-0.11248748803781106],\"type\":\"scatter\"},{\"name\":\"\\u6e05\\u6c34\\u5bfa\",\"x\":[0,1,2,3,4,5,6,7,8,9,10,11,12,13,14,15,16,17,18,19,20,21,22,23],\"y\":[\"\",\"\",\"\",\"\",\"\",\"\",0.10833698282765665,0.23282913589938875,0.1469484841048148,\"\",0.2968815477200491,0.48669145434310274,0.3693804700829657,0.4831929523449127,0.4298877083838889,0.4074065922970552,0.48448031380414547,0.47119469482308735,0.5191923103727755,0.480684051950186,0.47083903356006795,0.3398847481662887,0.2871712961841556,\"\"],\"type\":\"scatter\"},{\"name\":\"\\u5b66\\u751f\\u8857\",\"x\":[0,1,2,3,4,5,6,7,8,9,10,11,12,13,14,15,16,17,18,19,20,21,22,23],\"y\":[\"\",\"\",\"\",\"\",\"\",0.24638647575989783,\"\",\"\",\"\",0.33353788441947224,0.169789628804939,0.22439409824535356,0.28667880625606895,0.2798238685049834,0.2891178793900212,\"\",\"\",0.11581806812986657,-0.1769138141373593,\"\",\"\",\"\",\"\",\"\"],\"type\":\"scatter\"},{\"name\":\"\\u4e8c\\u6761\\u57ce\",\"x\":[0,1,2,3,4,5,6,7,8,9,10,11,12,13,14,15,16,17,18,19,20,21,22,23],\"y\":[0.13182727750309126,\"\",\"\",\"\",\"\",\"\",\"\",\"\",\"\",0.17189549888311098,\"\",0.281331253603348,0.16083097628034224,0.22088801803295163,0.2168587242365124,0.21565740092622368,0.2724874559384793,0.22970241538738723,0.2664367042694607,0.19153218734092567,0.21289586899556043,\"\",0.17069098089843343,0.1457765488111687],\"type\":\"scatter\"},{\"name\":\"\\u6771\\u5bfa\",\"x\":[0,1,2,3,4,5,6,7,8,9,10,11,12,13,14,15,16,17,18,19,20,21,22,23],\"y\":[\"\",\"\",\"\",\"\",\"\",\"\",0.12460848481215968,\"\",0.119330061703824,\"\",\"\",\"\",\"\",0.10842876864169829,\"\",\"\",\"\",\"\",0.12808932485141503,0.26453279246505434,0.17515853549048296,\"\",\"\",0.16435807381905876],\"type\":\"scatter\"},{\"name\":\"\\u4eac\\u90fd\\u99c5\",\"x\":[0,1,2,3,4,5,6,7,8,9,10,11,12,13,14,15,16,17,18,19,20,21,22,23],\"y\":[0.4370893900181308,0.24007025075845564,0.1588600541037974,0.23424322019617091,0.18378266168952756,0.28965284209027986,0.42293686479377063,0.3118943485928595,\"\",\"\",0.2505533474883162,0.4499562702008468,0.5014378364595511,0.4847092571879917,0.5514465882009956,0.5409844042334966,0.5752651901126042,0.5131976822196058,0.5085115286600574,0.5057118240700714,0.5789846951979333,0.5488404392831486,0.5923903259568575,0.5411869147979432],\"type\":\"scatter\"}],                        {\"template\":{\"data\":{\"histogram2dcontour\":[{\"type\":\"histogram2dcontour\",\"colorbar\":{\"outlinewidth\":0,\"ticks\":\"\"},\"colorscale\":[[0.0,\"#0d0887\"],[0.1111111111111111,\"#46039f\"],[0.2222222222222222,\"#7201a8\"],[0.3333333333333333,\"#9c179e\"],[0.4444444444444444,\"#bd3786\"],[0.5555555555555556,\"#d8576b\"],[0.6666666666666666,\"#ed7953\"],[0.7777777777777778,\"#fb9f3a\"],[0.8888888888888888,\"#fdca26\"],[1.0,\"#f0f921\"]]}],\"choropleth\":[{\"type\":\"choropleth\",\"colorbar\":{\"outlinewidth\":0,\"ticks\":\"\"}}],\"histogram2d\":[{\"type\":\"histogram2d\",\"colorbar\":{\"outlinewidth\":0,\"ticks\":\"\"},\"colorscale\":[[0.0,\"#0d0887\"],[0.1111111111111111,\"#46039f\"],[0.2222222222222222,\"#7201a8\"],[0.3333333333333333,\"#9c179e\"],[0.4444444444444444,\"#bd3786\"],[0.5555555555555556,\"#d8576b\"],[0.6666666666666666,\"#ed7953\"],[0.7777777777777778,\"#fb9f3a\"],[0.8888888888888888,\"#fdca26\"],[1.0,\"#f0f921\"]]}],\"heatmap\":[{\"type\":\"heatmap\",\"colorbar\":{\"outlinewidth\":0,\"ticks\":\"\"},\"colorscale\":[[0.0,\"#0d0887\"],[0.1111111111111111,\"#46039f\"],[0.2222222222222222,\"#7201a8\"],[0.3333333333333333,\"#9c179e\"],[0.4444444444444444,\"#bd3786\"],[0.5555555555555556,\"#d8576b\"],[0.6666666666666666,\"#ed7953\"],[0.7777777777777778,\"#fb9f3a\"],[0.8888888888888888,\"#fdca26\"],[1.0,\"#f0f921\"]]}],\"heatmapgl\":[{\"type\":\"heatmapgl\",\"colorbar\":{\"outlinewidth\":0,\"ticks\":\"\"},\"colorscale\":[[0.0,\"#0d0887\"],[0.1111111111111111,\"#46039f\"],[0.2222222222222222,\"#7201a8\"],[0.3333333333333333,\"#9c179e\"],[0.4444444444444444,\"#bd3786\"],[0.5555555555555556,\"#d8576b\"],[0.6666666666666666,\"#ed7953\"],[0.7777777777777778,\"#fb9f3a\"],[0.8888888888888888,\"#fdca26\"],[1.0,\"#f0f921\"]]}],\"contourcarpet\":[{\"type\":\"contourcarpet\",\"colorbar\":{\"outlinewidth\":0,\"ticks\":\"\"}}],\"contour\":[{\"type\":\"contour\",\"colorbar\":{\"outlinewidth\":0,\"ticks\":\"\"},\"colorscale\":[[0.0,\"#0d0887\"],[0.1111111111111111,\"#46039f\"],[0.2222222222222222,\"#7201a8\"],[0.3333333333333333,\"#9c179e\"],[0.4444444444444444,\"#bd3786\"],[0.5555555555555556,\"#d8576b\"],[0.6666666666666666,\"#ed7953\"],[0.7777777777777778,\"#fb9f3a\"],[0.8888888888888888,\"#fdca26\"],[1.0,\"#f0f921\"]]}],\"surface\":[{\"type\":\"surface\",\"colorbar\":{\"outlinewidth\":0,\"ticks\":\"\"},\"colorscale\":[[0.0,\"#0d0887\"],[0.1111111111111111,\"#46039f\"],[0.2222222222222222,\"#7201a8\"],[0.3333333333333333,\"#9c179e\"],[0.4444444444444444,\"#bd3786\"],[0.5555555555555556,\"#d8576b\"],[0.6666666666666666,\"#ed7953\"],[0.7777777777777778,\"#fb9f3a\"],[0.8888888888888888,\"#fdca26\"],[1.0,\"#f0f921\"]]}],\"mesh3d\":[{\"type\":\"mesh3d\",\"colorbar\":{\"outlinewidth\":0,\"ticks\":\"\"}}],\"scatter\":[{\"fillpattern\":{\"fillmode\":\"overlay\",\"size\":10,\"solidity\":0.2},\"type\":\"scatter\"}],\"parcoords\":[{\"type\":\"parcoords\",\"line\":{\"colorbar\":{\"outlinewidth\":0,\"ticks\":\"\"}}}],\"scatterpolargl\":[{\"type\":\"scatterpolargl\",\"marker\":{\"colorbar\":{\"outlinewidth\":0,\"ticks\":\"\"}}}],\"bar\":[{\"error_x\":{\"color\":\"#2a3f5f\"},\"error_y\":{\"color\":\"#2a3f5f\"},\"marker\":{\"line\":{\"color\":\"#E5ECF6\",\"width\":0.5},\"pattern\":{\"fillmode\":\"overlay\",\"size\":10,\"solidity\":0.2}},\"type\":\"bar\"}],\"scattergeo\":[{\"type\":\"scattergeo\",\"marker\":{\"colorbar\":{\"outlinewidth\":0,\"ticks\":\"\"}}}],\"scatterpolar\":[{\"type\":\"scatterpolar\",\"marker\":{\"colorbar\":{\"outlinewidth\":0,\"ticks\":\"\"}}}],\"histogram\":[{\"marker\":{\"pattern\":{\"fillmode\":\"overlay\",\"size\":10,\"solidity\":0.2}},\"type\":\"histogram\"}],\"scattergl\":[{\"type\":\"scattergl\",\"marker\":{\"colorbar\":{\"outlinewidth\":0,\"ticks\":\"\"}}}],\"scatter3d\":[{\"type\":\"scatter3d\",\"line\":{\"colorbar\":{\"outlinewidth\":0,\"ticks\":\"\"}},\"marker\":{\"colorbar\":{\"outlinewidth\":0,\"ticks\":\"\"}}}],\"scattermapbox\":[{\"type\":\"scattermapbox\",\"marker\":{\"colorbar\":{\"outlinewidth\":0,\"ticks\":\"\"}}}],\"scatterternary\":[{\"type\":\"scatterternary\",\"marker\":{\"colorbar\":{\"outlinewidth\":0,\"ticks\":\"\"}}}],\"scattercarpet\":[{\"type\":\"scattercarpet\",\"marker\":{\"colorbar\":{\"outlinewidth\":0,\"ticks\":\"\"}}}],\"carpet\":[{\"aaxis\":{\"endlinecolor\":\"#2a3f5f\",\"gridcolor\":\"white\",\"linecolor\":\"white\",\"minorgridcolor\":\"white\",\"startlinecolor\":\"#2a3f5f\"},\"baxis\":{\"endlinecolor\":\"#2a3f5f\",\"gridcolor\":\"white\",\"linecolor\":\"white\",\"minorgridcolor\":\"white\",\"startlinecolor\":\"#2a3f5f\"},\"type\":\"carpet\"}],\"table\":[{\"cells\":{\"fill\":{\"color\":\"#EBF0F8\"},\"line\":{\"color\":\"white\"}},\"header\":{\"fill\":{\"color\":\"#C8D4E3\"},\"line\":{\"color\":\"white\"}},\"type\":\"table\"}],\"barpolar\":[{\"marker\":{\"line\":{\"color\":\"#E5ECF6\",\"width\":0.5},\"pattern\":{\"fillmode\":\"overlay\",\"size\":10,\"solidity\":0.2}},\"type\":\"barpolar\"}],\"pie\":[{\"automargin\":true,\"type\":\"pie\"}]},\"layout\":{\"autotypenumbers\":\"strict\",\"colorway\":[\"#636efa\",\"#EF553B\",\"#00cc96\",\"#ab63fa\",\"#FFA15A\",\"#19d3f3\",\"#FF6692\",\"#B6E880\",\"#FF97FF\",\"#FECB52\"],\"font\":{\"color\":\"#2a3f5f\"},\"hovermode\":\"closest\",\"hoverlabel\":{\"align\":\"left\"},\"paper_bgcolor\":\"white\",\"plot_bgcolor\":\"#E5ECF6\",\"polar\":{\"bgcolor\":\"#E5ECF6\",\"angularaxis\":{\"gridcolor\":\"white\",\"linecolor\":\"white\",\"ticks\":\"\"},\"radialaxis\":{\"gridcolor\":\"white\",\"linecolor\":\"white\",\"ticks\":\"\"}},\"ternary\":{\"bgcolor\":\"#E5ECF6\",\"aaxis\":{\"gridcolor\":\"white\",\"linecolor\":\"white\",\"ticks\":\"\"},\"baxis\":{\"gridcolor\":\"white\",\"linecolor\":\"white\",\"ticks\":\"\"},\"caxis\":{\"gridcolor\":\"white\",\"linecolor\":\"white\",\"ticks\":\"\"}},\"coloraxis\":{\"colorbar\":{\"outlinewidth\":0,\"ticks\":\"\"}},\"colorscale\":{\"sequential\":[[0.0,\"#0d0887\"],[0.1111111111111111,\"#46039f\"],[0.2222222222222222,\"#7201a8\"],[0.3333333333333333,\"#9c179e\"],[0.4444444444444444,\"#bd3786\"],[0.5555555555555556,\"#d8576b\"],[0.6666666666666666,\"#ed7953\"],[0.7777777777777778,\"#fb9f3a\"],[0.8888888888888888,\"#fdca26\"],[1.0,\"#f0f921\"]],\"sequentialminus\":[[0.0,\"#0d0887\"],[0.1111111111111111,\"#46039f\"],[0.2222222222222222,\"#7201a8\"],[0.3333333333333333,\"#9c179e\"],[0.4444444444444444,\"#bd3786\"],[0.5555555555555556,\"#d8576b\"],[0.6666666666666666,\"#ed7953\"],[0.7777777777777778,\"#fb9f3a\"],[0.8888888888888888,\"#fdca26\"],[1.0,\"#f0f921\"]],\"diverging\":[[0,\"#8e0152\"],[0.1,\"#c51b7d\"],[0.2,\"#de77ae\"],[0.3,\"#f1b6da\"],[0.4,\"#fde0ef\"],[0.5,\"#f7f7f7\"],[0.6,\"#e6f5d0\"],[0.7,\"#b8e186\"],[0.8,\"#7fbc41\"],[0.9,\"#4d9221\"],[1,\"#276419\"]]},\"xaxis\":{\"gridcolor\":\"white\",\"linecolor\":\"white\",\"ticks\":\"\",\"title\":{\"standoff\":15},\"zerolinecolor\":\"white\",\"automargin\":true,\"zerolinewidth\":2},\"yaxis\":{\"gridcolor\":\"white\",\"linecolor\":\"white\",\"ticks\":\"\",\"title\":{\"standoff\":15},\"zerolinecolor\":\"white\",\"automargin\":true,\"zerolinewidth\":2},\"scene\":{\"xaxis\":{\"backgroundcolor\":\"#E5ECF6\",\"gridcolor\":\"white\",\"linecolor\":\"white\",\"showbackground\":true,\"ticks\":\"\",\"zerolinecolor\":\"white\",\"gridwidth\":2},\"yaxis\":{\"backgroundcolor\":\"#E5ECF6\",\"gridcolor\":\"white\",\"linecolor\":\"white\",\"showbackground\":true,\"ticks\":\"\",\"zerolinecolor\":\"white\",\"gridwidth\":2},\"zaxis\":{\"backgroundcolor\":\"#E5ECF6\",\"gridcolor\":\"white\",\"linecolor\":\"white\",\"showbackground\":true,\"ticks\":\"\",\"zerolinecolor\":\"white\",\"gridwidth\":2}},\"shapedefaults\":{\"line\":{\"color\":\"#2a3f5f\"}},\"annotationdefaults\":{\"arrowcolor\":\"#2a3f5f\",\"arrowhead\":0,\"arrowwidth\":1},\"geo\":{\"bgcolor\":\"white\",\"landcolor\":\"#E5ECF6\",\"subunitcolor\":\"white\",\"showland\":true,\"showlakes\":true,\"lakecolor\":\"white\"},\"title\":{\"x\":0.05},\"mapbox\":{\"style\":\"light\"}}},\"title\":{\"text\":\"1\\u6642\\u9593\\u3054\\u3068\\u306e\\u30bd\\u30fc\\u30b7\\u30e3\\u30eb\\u30bb\\u30f3\\u30b5\\u6027\\u80fd (p\\u5024>0.05\\u3092\\u524a\\u9664)\"},\"xaxis\":{\"title\":{\"text\":\"\\u6642\\u9593\"}},\"yaxis\":{\"title\":{\"text\":\"\\u30bd\\u30fc\\u30b7\\u30e3\\u30eb\\u30bb\\u30f3\\u30b5\\u6027\\u80fd\"}}},                        {\"responsive\": true}                    ).then(function(){\n",
       "                            \n",
       "var gd = document.getElementById('cd09cb65-febf-42c6-8854-d9543ba01e27');\n",
       "var x = new MutationObserver(function (mutations, observer) {{\n",
       "        var display = window.getComputedStyle(gd).display;\n",
       "        if (!display || display === 'none') {{\n",
       "            console.log([gd, 'removed!']);\n",
       "            Plotly.purge(gd);\n",
       "            observer.disconnect();\n",
       "        }}\n",
       "}});\n",
       "\n",
       "// Listen for the removal of the full notebook cells\n",
       "var notebookContainer = gd.closest('#notebook-container');\n",
       "if (notebookContainer) {{\n",
       "    x.observe(notebookContainer, {childList: true});\n",
       "}}\n",
       "\n",
       "// Listen for the clearing of the current output cell\n",
       "var outputEl = gd.closest('.output');\n",
       "if (outputEl) {{\n",
       "    x.observe(outputEl, {childList: true});\n",
       "}}\n",
       "\n",
       "                        })                };                });            </script>        </div>"
      ]
     },
     "metadata": {},
     "output_type": "display_data"
    }
   ],
   "source": [
    "list_place = df['place'].unique()\n",
    "fig = go.Figure(data=[\n",
    "    go.Scatter(x = df[df['place']==list_place[0]]['time'], y = df[df['place']==list_place[0]]['r'], name = list_place[0],),\n",
    "    go.Scatter(x = df[df['place']==list_place[1]]['time'], y = df[df['place']==list_place[1]]['r'], name = list_place[1],),\n",
    "    go.Scatter(x = df[df['place']==list_place[2]]['time'], y = df[df['place']==list_place[2]]['r'], name = list_place[2],),\n",
    "    go.Scatter(x = df[df['place']==list_place[3]]['time'], y = df[df['place']==list_place[3]]['r'], name = list_place[3],),\n",
    "    go.Scatter(x = df[df['place']==list_place[4]]['time'], y = df[df['place']==list_place[4]]['r'], name = list_place[4],),\n",
    "    go.Scatter(x = df[df['place']==list_place[5]]['time'], y = df[df['place']==list_place[5]]['r'], name = list_place[5],),\n",
    "    go.Scatter(x = df[df['place']==list_place[6]]['time'], y = df[df['place']==list_place[6]]['r'], name = list_place[6],),\n",
    "    go.Scatter(x = df[df['place']==list_place[7]]['time'], y = df[df['place']==list_place[7]]['r'], name = list_place[7],),\n",
    "    go.Scatter(x = df[df['place']==list_place[8]]['time'], y = df[df['place']==list_place[8]]['r'], name = list_place[8],),\n",
    "    ])\n",
    "fig.update_layout(title='1時間ごとのソーシャルセンサ性能 (p値>0.05を削除)')\n",
    "fig.update_layout(xaxis=dict(title='時間'),\n",
    "                 yaxis=dict(title='ソーシャルセンサ性能'))\n",
    "fig.show()"
   ]
  },
  {
   "cell_type": "code",
   "execution_count": 10,
   "metadata": {},
   "outputs": [
    {
     "ename": "ValueError",
     "evalue": "\n    Invalid value of type 'pandas.core.series.Series' received for the 'name' property of scatter\n        Received value: 0      東京駅\n1      東京駅\n2      東京駅\n3      東京駅\n4      東京駅\n      ... \n211    京都駅\n212    京都駅\n213    京都駅\n214    京都駅\n215    京都駅\nName: place, Length: 216, dtype: object\n\n    The 'name' property is a string and must be specified as:\n      - A string\n      - A number that will be converted to a string",
     "output_type": "error",
     "traceback": [
      "\u001b[0;31m---------------------------------------------------------------------------\u001b[0m",
      "\u001b[0;31mValueError\u001b[0m                                Traceback (most recent call last)",
      "Cell \u001b[0;32mIn[10], line 2\u001b[0m\n\u001b[1;32m      1\u001b[0m fig \u001b[39m=\u001b[39m go\u001b[39m.\u001b[39mFigure(data\u001b[39m=\u001b[39m[\n\u001b[0;32m----> 2\u001b[0m     go\u001b[39m.\u001b[39;49mScatter(x \u001b[39m=\u001b[39;49m df[\u001b[39m'\u001b[39;49m\u001b[39mtime\u001b[39;49m\u001b[39m'\u001b[39;49m], y \u001b[39m=\u001b[39;49mdf[\u001b[39m'\u001b[39;49m\u001b[39mr\u001b[39;49m\u001b[39m'\u001b[39;49m], name\u001b[39m=\u001b[39;49mdf[\u001b[39m'\u001b[39;49m\u001b[39mplace\u001b[39;49m\u001b[39m'\u001b[39;49m]),\n\u001b[1;32m      3\u001b[0m ])\n\u001b[1;32m      4\u001b[0m fig\u001b[39m.\u001b[39mshow()\n",
      "File \u001b[0;32m~/dev/compare_population_and_tweet_number/.venv/lib/python3.10/site-packages/plotly/graph_objs/_scatter.py:3351\u001b[0m, in \u001b[0;36mScatter.__init__\u001b[0;34m(self, arg, alignmentgroup, cliponaxis, connectgaps, customdata, customdatasrc, dx, dy, error_x, error_y, fill, fillcolor, fillpattern, groupnorm, hoverinfo, hoverinfosrc, hoverlabel, hoveron, hovertemplate, hovertemplatesrc, hovertext, hovertextsrc, ids, idssrc, legendgroup, legendgrouptitle, legendrank, legendwidth, line, marker, meta, metasrc, mode, name, offsetgroup, opacity, orientation, selected, selectedpoints, showlegend, stackgaps, stackgroup, stream, text, textfont, textposition, textpositionsrc, textsrc, texttemplate, texttemplatesrc, uid, uirevision, unselected, visible, x, x0, xaxis, xcalendar, xhoverformat, xperiod, xperiod0, xperiodalignment, xsrc, y, y0, yaxis, ycalendar, yhoverformat, yperiod, yperiod0, yperiodalignment, ysrc, **kwargs)\u001b[0m\n\u001b[1;32m   3349\u001b[0m _v \u001b[39m=\u001b[39m name \u001b[39mif\u001b[39;00m name \u001b[39mis\u001b[39;00m \u001b[39mnot\u001b[39;00m \u001b[39mNone\u001b[39;00m \u001b[39melse\u001b[39;00m _v\n\u001b[1;32m   3350\u001b[0m \u001b[39mif\u001b[39;00m _v \u001b[39mis\u001b[39;00m \u001b[39mnot\u001b[39;00m \u001b[39mNone\u001b[39;00m:\n\u001b[0;32m-> 3351\u001b[0m     \u001b[39mself\u001b[39;49m[\u001b[39m\"\u001b[39;49m\u001b[39mname\u001b[39;49m\u001b[39m\"\u001b[39;49m] \u001b[39m=\u001b[39m _v\n\u001b[1;32m   3352\u001b[0m _v \u001b[39m=\u001b[39m arg\u001b[39m.\u001b[39mpop(\u001b[39m\"\u001b[39m\u001b[39moffsetgroup\u001b[39m\u001b[39m\"\u001b[39m, \u001b[39mNone\u001b[39;00m)\n\u001b[1;32m   3353\u001b[0m _v \u001b[39m=\u001b[39m offsetgroup \u001b[39mif\u001b[39;00m offsetgroup \u001b[39mis\u001b[39;00m \u001b[39mnot\u001b[39;00m \u001b[39mNone\u001b[39;00m \u001b[39melse\u001b[39;00m _v\n",
      "File \u001b[0;32m~/dev/compare_population_and_tweet_number/.venv/lib/python3.10/site-packages/plotly/basedatatypes.py:4850\u001b[0m, in \u001b[0;36mBasePlotlyType.__setitem__\u001b[0;34m(self, prop, value)\u001b[0m\n\u001b[1;32m   4846\u001b[0m         \u001b[39mself\u001b[39m\u001b[39m.\u001b[39m_set_array_prop(prop, value)\n\u001b[1;32m   4848\u001b[0m     \u001b[39m# ### Handle simple property ###\u001b[39;00m\n\u001b[1;32m   4849\u001b[0m     \u001b[39melse\u001b[39;00m:\n\u001b[0;32m-> 4850\u001b[0m         \u001b[39mself\u001b[39;49m\u001b[39m.\u001b[39;49m_set_prop(prop, value)\n\u001b[1;32m   4851\u001b[0m \u001b[39melse\u001b[39;00m:\n\u001b[1;32m   4852\u001b[0m     \u001b[39m# Make sure properties dict is initialized\u001b[39;00m\n\u001b[1;32m   4853\u001b[0m     \u001b[39mself\u001b[39m\u001b[39m.\u001b[39m_init_props()\n",
      "File \u001b[0;32m~/dev/compare_population_and_tweet_number/.venv/lib/python3.10/site-packages/plotly/basedatatypes.py:5194\u001b[0m, in \u001b[0;36mBasePlotlyType._set_prop\u001b[0;34m(self, prop, val)\u001b[0m\n\u001b[1;32m   5192\u001b[0m         \u001b[39mreturn\u001b[39;00m\n\u001b[1;32m   5193\u001b[0m     \u001b[39melse\u001b[39;00m:\n\u001b[0;32m-> 5194\u001b[0m         \u001b[39mraise\u001b[39;00m err\n\u001b[1;32m   5196\u001b[0m \u001b[39m# val is None\u001b[39;00m\n\u001b[1;32m   5197\u001b[0m \u001b[39m# -----------\u001b[39;00m\n\u001b[1;32m   5198\u001b[0m \u001b[39mif\u001b[39;00m val \u001b[39mis\u001b[39;00m \u001b[39mNone\u001b[39;00m:\n\u001b[1;32m   5199\u001b[0m     \u001b[39m# Check if we should send null update\u001b[39;00m\n",
      "File \u001b[0;32m~/dev/compare_population_and_tweet_number/.venv/lib/python3.10/site-packages/plotly/basedatatypes.py:5189\u001b[0m, in \u001b[0;36mBasePlotlyType._set_prop\u001b[0;34m(self, prop, val)\u001b[0m\n\u001b[1;32m   5186\u001b[0m validator \u001b[39m=\u001b[39m \u001b[39mself\u001b[39m\u001b[39m.\u001b[39m_get_validator(prop)\n\u001b[1;32m   5188\u001b[0m \u001b[39mtry\u001b[39;00m:\n\u001b[0;32m-> 5189\u001b[0m     val \u001b[39m=\u001b[39m validator\u001b[39m.\u001b[39;49mvalidate_coerce(val)\n\u001b[1;32m   5190\u001b[0m \u001b[39mexcept\u001b[39;00m \u001b[39mValueError\u001b[39;00m \u001b[39mas\u001b[39;00m err:\n\u001b[1;32m   5191\u001b[0m     \u001b[39mif\u001b[39;00m \u001b[39mself\u001b[39m\u001b[39m.\u001b[39m_skip_invalid:\n",
      "File \u001b[0;32m~/dev/compare_population_and_tweet_number/.venv/lib/python3.10/site-packages/_plotly_utils/basevalidators.py:1096\u001b[0m, in \u001b[0;36mStringValidator.validate_coerce\u001b[0;34m(self, v)\u001b[0m\n\u001b[1;32m   1094\u001b[0m         v \u001b[39m=\u001b[39m \u001b[39mstr\u001b[39m(v)\n\u001b[1;32m   1095\u001b[0m     \u001b[39melse\u001b[39;00m:\n\u001b[0;32m-> 1096\u001b[0m         \u001b[39mself\u001b[39;49m\u001b[39m.\u001b[39;49mraise_invalid_val(v)\n\u001b[1;32m   1098\u001b[0m \u001b[39mif\u001b[39;00m \u001b[39mself\u001b[39m\u001b[39m.\u001b[39mno_blank \u001b[39mand\u001b[39;00m \u001b[39mlen\u001b[39m(v) \u001b[39m==\u001b[39m \u001b[39m0\u001b[39m:\n\u001b[1;32m   1099\u001b[0m     \u001b[39mself\u001b[39m\u001b[39m.\u001b[39mraise_invalid_val(v)\n",
      "File \u001b[0;32m~/dev/compare_population_and_tweet_number/.venv/lib/python3.10/site-packages/_plotly_utils/basevalidators.py:288\u001b[0m, in \u001b[0;36mBaseValidator.raise_invalid_val\u001b[0;34m(self, v, inds)\u001b[0m\n\u001b[1;32m    285\u001b[0m             \u001b[39mfor\u001b[39;00m i \u001b[39min\u001b[39;00m inds:\n\u001b[1;32m    286\u001b[0m                 name \u001b[39m+\u001b[39m\u001b[39m=\u001b[39m \u001b[39m\"\u001b[39m\u001b[39m[\u001b[39m\u001b[39m\"\u001b[39m \u001b[39m+\u001b[39m \u001b[39mstr\u001b[39m(i) \u001b[39m+\u001b[39m \u001b[39m\"\u001b[39m\u001b[39m]\u001b[39m\u001b[39m\"\u001b[39m\n\u001b[0;32m--> 288\u001b[0m         \u001b[39mraise\u001b[39;00m \u001b[39mValueError\u001b[39;00m(\n\u001b[1;32m    289\u001b[0m \u001b[39m            \u001b[39m\u001b[39m\"\"\"\u001b[39;00m\n\u001b[1;32m    290\u001b[0m \u001b[39m    Invalid value of type {typ} received for the '{name}' property of {pname}\u001b[39;00m\n\u001b[1;32m    291\u001b[0m \u001b[39m        Received value: {v}\u001b[39;00m\n\u001b[1;32m    292\u001b[0m \n\u001b[1;32m    293\u001b[0m \u001b[39m{valid_clr_desc}\"\"\"\u001b[39;00m\u001b[39m.\u001b[39mformat(\n\u001b[1;32m    294\u001b[0m                 name\u001b[39m=\u001b[39mname,\n\u001b[1;32m    295\u001b[0m                 pname\u001b[39m=\u001b[39m\u001b[39mself\u001b[39m\u001b[39m.\u001b[39mparent_name,\n\u001b[1;32m    296\u001b[0m                 typ\u001b[39m=\u001b[39mtype_str(v),\n\u001b[1;32m    297\u001b[0m                 v\u001b[39m=\u001b[39m\u001b[39mrepr\u001b[39m(v),\n\u001b[1;32m    298\u001b[0m                 valid_clr_desc\u001b[39m=\u001b[39m\u001b[39mself\u001b[39m\u001b[39m.\u001b[39mdescription(),\n\u001b[1;32m    299\u001b[0m             )\n\u001b[1;32m    300\u001b[0m         )\n",
      "\u001b[0;31mValueError\u001b[0m: \n    Invalid value of type 'pandas.core.series.Series' received for the 'name' property of scatter\n        Received value: 0      東京駅\n1      東京駅\n2      東京駅\n3      東京駅\n4      東京駅\n      ... \n211    京都駅\n212    京都駅\n213    京都駅\n214    京都駅\n215    京都駅\nName: place, Length: 216, dtype: object\n\n    The 'name' property is a string and must be specified as:\n      - A string\n      - A number that will be converted to a string"
     ]
    }
   ],
   "source": [
    "fig = go.Figure(data=[\n",
    "    go.Scatter(x = df['time'], y =df['r'], name=df['place']),\n",
    "])\n",
    "fig.show()"
   ]
  },
  {
   "cell_type": "code",
   "execution_count": null,
   "metadata": {},
   "outputs": [
    {
     "data": {
      "text/html": [
       "<div>\n",
       "<style scoped>\n",
       "    .dataframe tbody tr th:only-of-type {\n",
       "        vertical-align: middle;\n",
       "    }\n",
       "\n",
       "    .dataframe tbody tr th {\n",
       "        vertical-align: top;\n",
       "    }\n",
       "\n",
       "    .dataframe thead th {\n",
       "        text-align: right;\n",
       "    }\n",
       "</style>\n",
       "<table border=\"1\" class=\"dataframe\">\n",
       "  <thead>\n",
       "    <tr style=\"text-align: right;\">\n",
       "      <th></th>\n",
       "      <th>相関係数</th>\n",
       "      <th>p値</th>\n",
       "    </tr>\n",
       "  </thead>\n",
       "  <tbody>\n",
       "    <tr>\n",
       "      <th>東京駅</th>\n",
       "      <td>0.345549</td>\n",
       "      <td>3.701722e-244</td>\n",
       "    </tr>\n",
       "    <tr>\n",
       "      <th>嵐山</th>\n",
       "      <td>0.344577</td>\n",
       "      <td>1.041720e-242</td>\n",
       "    </tr>\n",
       "    <tr>\n",
       "      <th>中京区</th>\n",
       "      <td>0.294071</td>\n",
       "      <td>2.822826e-174</td>\n",
       "    </tr>\n",
       "    <tr>\n",
       "      <th>金閣寺</th>\n",
       "      <td>-0.023672</td>\n",
       "      <td>2.671789e-02</td>\n",
       "    </tr>\n",
       "    <tr>\n",
       "      <th>清水寺</th>\n",
       "      <td>0.570306</td>\n",
       "      <td>0.000000e+00</td>\n",
       "    </tr>\n",
       "    <tr>\n",
       "      <th>学生街</th>\n",
       "      <td>-0.110231</td>\n",
       "      <td>4.310159e-25</td>\n",
       "    </tr>\n",
       "    <tr>\n",
       "      <th>二条城</th>\n",
       "      <td>0.353460</td>\n",
       "      <td>3.794335e-256</td>\n",
       "    </tr>\n",
       "    <tr>\n",
       "      <th>東寺</th>\n",
       "      <td>0.054871</td>\n",
       "      <td>2.765159e-07</td>\n",
       "    </tr>\n",
       "    <tr>\n",
       "      <th>京都駅</th>\n",
       "      <td>0.644375</td>\n",
       "      <td>0.000000e+00</td>\n",
       "    </tr>\n",
       "  </tbody>\n",
       "</table>\n",
       "</div>"
      ],
      "text/plain": [
       "         相関係数             p値\n",
       "東京駅  0.345549  3.701722e-244\n",
       "嵐山   0.344577  1.041720e-242\n",
       "中京区  0.294071  2.822826e-174\n",
       "金閣寺 -0.023672   2.671789e-02\n",
       "清水寺  0.570306   0.000000e+00\n",
       "学生街 -0.110231   4.310159e-25\n",
       "二条城  0.353460  3.794335e-256\n",
       "東寺   0.054871   2.765159e-07\n",
       "京都駅  0.644375   0.000000e+00"
      ]
     },
     "execution_count": 9,
     "metadata": {},
     "output_type": "execute_result"
    }
   ],
   "source": [
    "df"
   ]
  },
  {
   "cell_type": "code",
   "execution_count": null,
   "metadata": {},
   "outputs": [],
   "source": [
    "data = []\n",
    "for i in range(0, len(list_mobile)):\n",
    "    mobile = np.load(list_mobile[i])\n",
    "    tweets = np.load(list_twitter[i])\n",
    "    correlation, p_value = stats.pearsonr(mobile, tweets)\n",
    "    tmp = ([correlation, p_value])\n",
    "    data.append(tmp)\n",
    "columns=['相関係数','p値']\n",
    "\n",
    "df= pd.DataFrame(data,index=list_key,columns=columns)"
   ]
  },
  {
   "cell_type": "code",
   "execution_count": null,
   "metadata": {},
   "outputs": [
    {
     "ename": "ValueError",
     "evalue": "\n    Invalid value of type 'builtins.str' received for the 'y' property of scatter\n        Received value: '相関係数'\n\n    The 'y' property is an array that may be specified as a tuple,\n    list, numpy array, or pandas Series",
     "output_type": "error",
     "traceback": [
      "\u001b[0;31m---------------------------------------------------------------------------\u001b[0m",
      "\u001b[0;31mValueError\u001b[0m                                Traceback (most recent call last)",
      "Cell \u001b[0;32mIn[7], line 2\u001b[0m\n\u001b[1;32m      1\u001b[0m fig \u001b[39m=\u001b[39m go\u001b[39m.\u001b[39mFigure(data\u001b[39m=\u001b[39m[\n\u001b[0;32m----> 2\u001b[0m     go\u001b[39m.\u001b[39;49mScatter(y\u001b[39m=\u001b[39;49m\u001b[39m'\u001b[39;49m\u001b[39m相関係数\u001b[39;49m\u001b[39m'\u001b[39;49m,data\u001b[39m=\u001b[39;49mdf),\n\u001b[1;32m      3\u001b[0m ])\n\u001b[1;32m      4\u001b[0m fig\u001b[39m.\u001b[39mshow()\n",
      "File \u001b[0;32m~/dev/compare_population_and_tweet_number/.venv/lib/python3.10/site-packages/plotly/graph_objs/_scatter.py:3471\u001b[0m, in \u001b[0;36mScatter.__init__\u001b[0;34m(self, arg, alignmentgroup, cliponaxis, connectgaps, customdata, customdatasrc, dx, dy, error_x, error_y, fill, fillcolor, fillpattern, groupnorm, hoverinfo, hoverinfosrc, hoverlabel, hoveron, hovertemplate, hovertemplatesrc, hovertext, hovertextsrc, ids, idssrc, legendgroup, legendgrouptitle, legendrank, legendwidth, line, marker, meta, metasrc, mode, name, offsetgroup, opacity, orientation, selected, selectedpoints, showlegend, stackgaps, stackgroup, stream, text, textfont, textposition, textpositionsrc, textsrc, texttemplate, texttemplatesrc, uid, uirevision, unselected, visible, x, x0, xaxis, xcalendar, xhoverformat, xperiod, xperiod0, xperiodalignment, xsrc, y, y0, yaxis, ycalendar, yhoverformat, yperiod, yperiod0, yperiodalignment, ysrc, **kwargs)\u001b[0m\n\u001b[1;32m   3469\u001b[0m _v \u001b[39m=\u001b[39m y \u001b[39mif\u001b[39;00m y \u001b[39mis\u001b[39;00m \u001b[39mnot\u001b[39;00m \u001b[39mNone\u001b[39;00m \u001b[39melse\u001b[39;00m _v\n\u001b[1;32m   3470\u001b[0m \u001b[39mif\u001b[39;00m _v \u001b[39mis\u001b[39;00m \u001b[39mnot\u001b[39;00m \u001b[39mNone\u001b[39;00m:\n\u001b[0;32m-> 3471\u001b[0m     \u001b[39mself\u001b[39;49m[\u001b[39m\"\u001b[39;49m\u001b[39my\u001b[39;49m\u001b[39m\"\u001b[39;49m] \u001b[39m=\u001b[39m _v\n\u001b[1;32m   3472\u001b[0m _v \u001b[39m=\u001b[39m arg\u001b[39m.\u001b[39mpop(\u001b[39m\"\u001b[39m\u001b[39my0\u001b[39m\u001b[39m\"\u001b[39m, \u001b[39mNone\u001b[39;00m)\n\u001b[1;32m   3473\u001b[0m _v \u001b[39m=\u001b[39m y0 \u001b[39mif\u001b[39;00m y0 \u001b[39mis\u001b[39;00m \u001b[39mnot\u001b[39;00m \u001b[39mNone\u001b[39;00m \u001b[39melse\u001b[39;00m _v\n",
      "File \u001b[0;32m~/dev/compare_population_and_tweet_number/.venv/lib/python3.10/site-packages/plotly/basedatatypes.py:4850\u001b[0m, in \u001b[0;36mBasePlotlyType.__setitem__\u001b[0;34m(self, prop, value)\u001b[0m\n\u001b[1;32m   4846\u001b[0m         \u001b[39mself\u001b[39m\u001b[39m.\u001b[39m_set_array_prop(prop, value)\n\u001b[1;32m   4848\u001b[0m     \u001b[39m# ### Handle simple property ###\u001b[39;00m\n\u001b[1;32m   4849\u001b[0m     \u001b[39melse\u001b[39;00m:\n\u001b[0;32m-> 4850\u001b[0m         \u001b[39mself\u001b[39;49m\u001b[39m.\u001b[39;49m_set_prop(prop, value)\n\u001b[1;32m   4851\u001b[0m \u001b[39melse\u001b[39;00m:\n\u001b[1;32m   4852\u001b[0m     \u001b[39m# Make sure properties dict is initialized\u001b[39;00m\n\u001b[1;32m   4853\u001b[0m     \u001b[39mself\u001b[39m\u001b[39m.\u001b[39m_init_props()\n",
      "File \u001b[0;32m~/dev/compare_population_and_tweet_number/.venv/lib/python3.10/site-packages/plotly/basedatatypes.py:5194\u001b[0m, in \u001b[0;36mBasePlotlyType._set_prop\u001b[0;34m(self, prop, val)\u001b[0m\n\u001b[1;32m   5192\u001b[0m         \u001b[39mreturn\u001b[39;00m\n\u001b[1;32m   5193\u001b[0m     \u001b[39melse\u001b[39;00m:\n\u001b[0;32m-> 5194\u001b[0m         \u001b[39mraise\u001b[39;00m err\n\u001b[1;32m   5196\u001b[0m \u001b[39m# val is None\u001b[39;00m\n\u001b[1;32m   5197\u001b[0m \u001b[39m# -----------\u001b[39;00m\n\u001b[1;32m   5198\u001b[0m \u001b[39mif\u001b[39;00m val \u001b[39mis\u001b[39;00m \u001b[39mNone\u001b[39;00m:\n\u001b[1;32m   5199\u001b[0m     \u001b[39m# Check if we should send null update\u001b[39;00m\n",
      "File \u001b[0;32m~/dev/compare_population_and_tweet_number/.venv/lib/python3.10/site-packages/plotly/basedatatypes.py:5189\u001b[0m, in \u001b[0;36mBasePlotlyType._set_prop\u001b[0;34m(self, prop, val)\u001b[0m\n\u001b[1;32m   5186\u001b[0m validator \u001b[39m=\u001b[39m \u001b[39mself\u001b[39m\u001b[39m.\u001b[39m_get_validator(prop)\n\u001b[1;32m   5188\u001b[0m \u001b[39mtry\u001b[39;00m:\n\u001b[0;32m-> 5189\u001b[0m     val \u001b[39m=\u001b[39m validator\u001b[39m.\u001b[39;49mvalidate_coerce(val)\n\u001b[1;32m   5190\u001b[0m \u001b[39mexcept\u001b[39;00m \u001b[39mValueError\u001b[39;00m \u001b[39mas\u001b[39;00m err:\n\u001b[1;32m   5191\u001b[0m     \u001b[39mif\u001b[39;00m \u001b[39mself\u001b[39m\u001b[39m.\u001b[39m_skip_invalid:\n",
      "File \u001b[0;32m~/dev/compare_population_and_tweet_number/.venv/lib/python3.10/site-packages/_plotly_utils/basevalidators.py:404\u001b[0m, in \u001b[0;36mDataArrayValidator.validate_coerce\u001b[0;34m(self, v)\u001b[0m\n\u001b[1;32m    402\u001b[0m     v \u001b[39m=\u001b[39m to_scalar_or_list(v)\n\u001b[1;32m    403\u001b[0m \u001b[39melse\u001b[39;00m:\n\u001b[0;32m--> 404\u001b[0m     \u001b[39mself\u001b[39;49m\u001b[39m.\u001b[39;49mraise_invalid_val(v)\n\u001b[1;32m    405\u001b[0m \u001b[39mreturn\u001b[39;00m v\n",
      "File \u001b[0;32m~/dev/compare_population_and_tweet_number/.venv/lib/python3.10/site-packages/_plotly_utils/basevalidators.py:288\u001b[0m, in \u001b[0;36mBaseValidator.raise_invalid_val\u001b[0;34m(self, v, inds)\u001b[0m\n\u001b[1;32m    285\u001b[0m             \u001b[39mfor\u001b[39;00m i \u001b[39min\u001b[39;00m inds:\n\u001b[1;32m    286\u001b[0m                 name \u001b[39m+\u001b[39m\u001b[39m=\u001b[39m \u001b[39m\"\u001b[39m\u001b[39m[\u001b[39m\u001b[39m\"\u001b[39m \u001b[39m+\u001b[39m \u001b[39mstr\u001b[39m(i) \u001b[39m+\u001b[39m \u001b[39m\"\u001b[39m\u001b[39m]\u001b[39m\u001b[39m\"\u001b[39m\n\u001b[0;32m--> 288\u001b[0m         \u001b[39mraise\u001b[39;00m \u001b[39mValueError\u001b[39;00m(\n\u001b[1;32m    289\u001b[0m \u001b[39m            \u001b[39m\u001b[39m\"\"\"\u001b[39;00m\n\u001b[1;32m    290\u001b[0m \u001b[39m    Invalid value of type {typ} received for the '{name}' property of {pname}\u001b[39;00m\n\u001b[1;32m    291\u001b[0m \u001b[39m        Received value: {v}\u001b[39;00m\n\u001b[1;32m    292\u001b[0m \n\u001b[1;32m    293\u001b[0m \u001b[39m{valid_clr_desc}\"\"\"\u001b[39;00m\u001b[39m.\u001b[39mformat(\n\u001b[1;32m    294\u001b[0m                 name\u001b[39m=\u001b[39mname,\n\u001b[1;32m    295\u001b[0m                 pname\u001b[39m=\u001b[39m\u001b[39mself\u001b[39m\u001b[39m.\u001b[39mparent_name,\n\u001b[1;32m    296\u001b[0m                 typ\u001b[39m=\u001b[39mtype_str(v),\n\u001b[1;32m    297\u001b[0m                 v\u001b[39m=\u001b[39m\u001b[39mrepr\u001b[39m(v),\n\u001b[1;32m    298\u001b[0m                 valid_clr_desc\u001b[39m=\u001b[39m\u001b[39mself\u001b[39m\u001b[39m.\u001b[39mdescription(),\n\u001b[1;32m    299\u001b[0m             )\n\u001b[1;32m    300\u001b[0m         )\n",
      "\u001b[0;31mValueError\u001b[0m: \n    Invalid value of type 'builtins.str' received for the 'y' property of scatter\n        Received value: '相関係数'\n\n    The 'y' property is an array that may be specified as a tuple,\n    list, numpy array, or pandas Series"
     ]
    }
   ],
   "source": [
    "fig = go.Figure(data=[\n",
    "    go.Scatter(y='相関係数',data=df),\n",
    "])\n",
    "fig.show()"
   ]
  }
 ],
 "metadata": {
  "kernelspec": {
   "display_name": ".venv",
   "language": "python",
   "name": "python3"
  },
  "language_info": {
   "codemirror_mode": {
    "name": "ipython",
    "version": 3
   },
   "file_extension": ".py",
   "mimetype": "text/x-python",
   "name": "python",
   "nbconvert_exporter": "python",
   "pygments_lexer": "ipython3",
   "version": "3.10.12"
  },
  "orig_nbformat": 4
 },
 "nbformat": 4,
 "nbformat_minor": 2
}
