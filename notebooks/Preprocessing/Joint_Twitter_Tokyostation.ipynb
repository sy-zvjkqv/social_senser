{
 "cells": [
  {
   "cell_type": "code",
   "execution_count": 1,
   "metadata": {},
   "outputs": [],
   "source": [
    "import pandas as pd\n",
    "import glob"
   ]
  },
  {
   "cell_type": "code",
   "execution_count": 6,
   "metadata": {},
   "outputs": [],
   "source": [
    "csv_files = glob.glob('/home/is/shuntaro-o/dev/compare_population_and_tweet_number/data/twitter/Tokyo/*.csv')"
   ]
  },
  {
   "cell_type": "code",
   "execution_count": 13,
   "metadata": {},
   "outputs": [
    {
     "name": "stdout",
     "output_type": "stream",
     "text": [
      "/home/is/shuntaro-o/dev/compare_population_and_tweet_number/data/twitter/Tokyo/Tokyostation_3zi_2021_01.csv\n",
      "/home/is/shuntaro-o/dev/compare_population_and_tweet_number/data/twitter/Tokyo/Tokyostation_3zi_2021_02.csv\n",
      "/home/is/shuntaro-o/dev/compare_population_and_tweet_number/data/twitter/Tokyo/Tokyostation_3zi_2021_03.csv\n",
      "/home/is/shuntaro-o/dev/compare_population_and_tweet_number/data/twitter/Tokyo/Tokyostation_3zi_2021_04.csv\n",
      "/home/is/shuntaro-o/dev/compare_population_and_tweet_number/data/twitter/Tokyo/Tokyostation_3zi_2021_05.csv\n",
      "/home/is/shuntaro-o/dev/compare_population_and_tweet_number/data/twitter/Tokyo/Tokyostation_3zi_2021_06.csv\n",
      "/home/is/shuntaro-o/dev/compare_population_and_tweet_number/data/twitter/Tokyo/Tokyostation_3zi_2021_07.csv\n",
      "/home/is/shuntaro-o/dev/compare_population_and_tweet_number/data/twitter/Tokyo/Tokyostation_3zi_2021_08.csv\n",
      "/home/is/shuntaro-o/dev/compare_population_and_tweet_number/data/twitter/Tokyo/Tokyostation_3zi_2021_09.csv\n",
      "/home/is/shuntaro-o/dev/compare_population_and_tweet_number/data/twitter/Tokyo/Tokyostation_3zi_2021_10.csv\n",
      "/home/is/shuntaro-o/dev/compare_population_and_tweet_number/data/twitter/Tokyo/Tokyostation_3zi_2021_11.csv\n",
      "/home/is/shuntaro-o/dev/compare_population_and_tweet_number/data/twitter/Tokyo/Tokyostation_3zi_2021_12.csv\n"
     ]
    }
   ],
   "source": [
    "# パスで指定したファイルの一覧をリスト形式で取得. （ここでは一階層下のtestファイル以下）\n",
    "csv_files = glob.glob('/home/is/shuntaro-o/dev/compare_population_and_tweet_number/data/twitter/Tokyo/*.csv')\n",
    "csv_files.sort()\n",
    "#読み込むファイルのリストを表示\n",
    "for a in csv_files:\n",
    "    print(a)\n",
    "\n",
    "#csvファイルの中身を追加していくリストを用意\n",
    "data_list = []\n",
    "\n",
    "#読み込むファイルのリストを走査\n",
    "for file in csv_files:\n",
    "    data_list.append(pd.read_csv(file,engine='python'))\n",
    "\n",
    "#リストを全て行方向に結合\n",
    "#axis=0:行方向に結合, sort\n",
    "df = pd.concat(data_list, axis=0, sort=True)\n",
    "\n",
    "df.to_csv(\"/home/is/shuntaro-o/dev/compare_population_and_tweet_number/data/twitter/Tokyo/Tokyostation.csv\",index=False)"
   ]
  }
 ],
 "metadata": {
  "kernelspec": {
   "display_name": ".venv",
   "language": "python",
   "name": "python3"
  },
  "language_info": {
   "codemirror_mode": {
    "name": "ipython",
    "version": 3
   },
   "file_extension": ".py",
   "mimetype": "text/x-python",
   "name": "python",
   "nbconvert_exporter": "python",
   "pygments_lexer": "ipython3",
   "version": "3.10.12"
  },
  "orig_nbformat": 4
 },
 "nbformat": 4,
 "nbformat_minor": 2
}
