{
 "cells": [
  {
   "cell_type": "code",
   "execution_count": 1,
   "metadata": {},
   "outputs": [],
   "source": [
    "import pandas as pd\n",
    "import seaborn as sns\n",
    "import matplotlib.pyplot as plt\n",
    "import numpy as np"
   ]
  },
  {
   "cell_type": "code",
   "execution_count": 2,
   "metadata": {},
   "outputs": [],
   "source": [
    "df = pd.read_csv('/home/is/shuntaro-o/dev/compare_population_and_tweet_number/data/mobile/Tokyo.csv')"
   ]
  },
  {
   "cell_type": "code",
   "execution_count": 3,
   "metadata": {},
   "outputs": [],
   "source": [
    "df = df[df['date']<20220101]"
   ]
  },
  {
   "cell_type": "code",
   "execution_count": 4,
   "metadata": {},
   "outputs": [],
   "source": [
    "df = df[(df['area']==533946111) | (df['area']==533946112)| (df['area']==533946113)| (df['area']==533946114)]"
   ]
  },
  {
   "cell_type": "code",
   "execution_count": 5,
   "metadata": {},
   "outputs": [],
   "source": [
    "day_list_long = ['01','02','03','04','05','06','07','08','09','10','11','12','13','14','15','16','17','18','19','20','21','22','23','24','25','26','27','28','29','30','31']\n",
    "day_list_short = ['01','02','03','04','05','06','07','08','09','10','11','12','13','14','15','16','17','18','19','20','21','22','23','24','25','26','27','28','29','30']\n",
    "day_list_Feb = ['01','02','03','04','05','06','07','08','09','10','11','12','13','14','15','16','17','18','19','20','21','22','23','24','25','26','27','28']\n",
    "hour_list = ['00','01','02','03','04','05','06','07','08','09','10','11','12','13','14','15','16','17','18','19','20','21','22','23']"
   ]
  },
  {
   "cell_type": "code",
   "execution_count": 6,
   "metadata": {},
   "outputs": [
    {
     "data": {
      "text/html": [
       "<div>\n",
       "<style scoped>\n",
       "    .dataframe tbody tr th:only-of-type {\n",
       "        vertical-align: middle;\n",
       "    }\n",
       "\n",
       "    .dataframe tbody tr th {\n",
       "        vertical-align: top;\n",
       "    }\n",
       "\n",
       "    .dataframe thead th {\n",
       "        text-align: right;\n",
       "    }\n",
       "</style>\n",
       "<table border=\"1\" class=\"dataframe\">\n",
       "  <thead>\n",
       "    <tr style=\"text-align: right;\">\n",
       "      <th></th>\n",
       "      <th>date</th>\n",
       "      <th>day_of_week</th>\n",
       "      <th>time</th>\n",
       "      <th>area</th>\n",
       "      <th>residence</th>\n",
       "      <th>age</th>\n",
       "      <th>gender</th>\n",
       "      <th>population</th>\n",
       "    </tr>\n",
       "  </thead>\n",
       "  <tbody>\n",
       "    <tr>\n",
       "      <th>16</th>\n",
       "      <td>20210101</td>\n",
       "      <td>15</td>\n",
       "      <td>0</td>\n",
       "      <td>533946111</td>\n",
       "      <td>-1</td>\n",
       "      <td>-1</td>\n",
       "      <td>-1</td>\n",
       "      <td>1000</td>\n",
       "    </tr>\n",
       "    <tr>\n",
       "      <th>17</th>\n",
       "      <td>20210101</td>\n",
       "      <td>15</td>\n",
       "      <td>0</td>\n",
       "      <td>533946112</td>\n",
       "      <td>-1</td>\n",
       "      <td>-1</td>\n",
       "      <td>-1</td>\n",
       "      <td>1978</td>\n",
       "    </tr>\n",
       "    <tr>\n",
       "      <th>18</th>\n",
       "      <td>20210101</td>\n",
       "      <td>15</td>\n",
       "      <td>0</td>\n",
       "      <td>533946113</td>\n",
       "      <td>-1</td>\n",
       "      <td>-1</td>\n",
       "      <td>-1</td>\n",
       "      <td>1171</td>\n",
       "    </tr>\n",
       "    <tr>\n",
       "      <th>19</th>\n",
       "      <td>20210101</td>\n",
       "      <td>15</td>\n",
       "      <td>0</td>\n",
       "      <td>533946114</td>\n",
       "      <td>-1</td>\n",
       "      <td>-1</td>\n",
       "      <td>-1</td>\n",
       "      <td>1360</td>\n",
       "    </tr>\n",
       "    <tr>\n",
       "      <th>52</th>\n",
       "      <td>20210101</td>\n",
       "      <td>15</td>\n",
       "      <td>100</td>\n",
       "      <td>533946111</td>\n",
       "      <td>-1</td>\n",
       "      <td>-1</td>\n",
       "      <td>-1</td>\n",
       "      <td>857</td>\n",
       "    </tr>\n",
       "    <tr>\n",
       "      <th>...</th>\n",
       "      <td>...</td>\n",
       "      <td>...</td>\n",
       "      <td>...</td>\n",
       "      <td>...</td>\n",
       "      <td>...</td>\n",
       "      <td>...</td>\n",
       "      <td>...</td>\n",
       "      <td>...</td>\n",
       "    </tr>\n",
       "    <tr>\n",
       "      <th>315307</th>\n",
       "      <td>20211231</td>\n",
       "      <td>15</td>\n",
       "      <td>2200</td>\n",
       "      <td>533946114</td>\n",
       "      <td>-1</td>\n",
       "      <td>-1</td>\n",
       "      <td>-1</td>\n",
       "      <td>2007</td>\n",
       "    </tr>\n",
       "    <tr>\n",
       "      <th>315340</th>\n",
       "      <td>20211231</td>\n",
       "      <td>15</td>\n",
       "      <td>2300</td>\n",
       "      <td>533946111</td>\n",
       "      <td>-1</td>\n",
       "      <td>-1</td>\n",
       "      <td>-1</td>\n",
       "      <td>3106</td>\n",
       "    </tr>\n",
       "    <tr>\n",
       "      <th>315341</th>\n",
       "      <td>20211231</td>\n",
       "      <td>15</td>\n",
       "      <td>2300</td>\n",
       "      <td>533946112</td>\n",
       "      <td>-1</td>\n",
       "      <td>-1</td>\n",
       "      <td>-1</td>\n",
       "      <td>2235</td>\n",
       "    </tr>\n",
       "    <tr>\n",
       "      <th>315342</th>\n",
       "      <td>20211231</td>\n",
       "      <td>15</td>\n",
       "      <td>2300</td>\n",
       "      <td>533946113</td>\n",
       "      <td>-1</td>\n",
       "      <td>-1</td>\n",
       "      <td>-1</td>\n",
       "      <td>2189</td>\n",
       "    </tr>\n",
       "    <tr>\n",
       "      <th>315343</th>\n",
       "      <td>20211231</td>\n",
       "      <td>15</td>\n",
       "      <td>2300</td>\n",
       "      <td>533946114</td>\n",
       "      <td>-1</td>\n",
       "      <td>-1</td>\n",
       "      <td>-1</td>\n",
       "      <td>1780</td>\n",
       "    </tr>\n",
       "  </tbody>\n",
       "</table>\n",
       "<p>35040 rows × 8 columns</p>\n",
       "</div>"
      ],
      "text/plain": [
       "            date  day_of_week  time       area  residence  age  gender  \\\n",
       "16      20210101           15     0  533946111         -1   -1      -1   \n",
       "17      20210101           15     0  533946112         -1   -1      -1   \n",
       "18      20210101           15     0  533946113         -1   -1      -1   \n",
       "19      20210101           15     0  533946114         -1   -1      -1   \n",
       "52      20210101           15   100  533946111         -1   -1      -1   \n",
       "...          ...          ...   ...        ...        ...  ...     ...   \n",
       "315307  20211231           15  2200  533946114         -1   -1      -1   \n",
       "315340  20211231           15  2300  533946111         -1   -1      -1   \n",
       "315341  20211231           15  2300  533946112         -1   -1      -1   \n",
       "315342  20211231           15  2300  533946113         -1   -1      -1   \n",
       "315343  20211231           15  2300  533946114         -1   -1      -1   \n",
       "\n",
       "        population  \n",
       "16            1000  \n",
       "17            1978  \n",
       "18            1171  \n",
       "19            1360  \n",
       "52             857  \n",
       "...            ...  \n",
       "315307        2007  \n",
       "315340        3106  \n",
       "315341        2235  \n",
       "315342        2189  \n",
       "315343        1780  \n",
       "\n",
       "[35040 rows x 8 columns]"
      ]
     },
     "execution_count": 6,
     "metadata": {},
     "output_type": "execute_result"
    }
   ],
   "source": [
    "df"
   ]
  },
  {
   "cell_type": "code",
   "execution_count": 7,
   "metadata": {},
   "outputs": [],
   "source": [
    "estimate_from_mobile_data = []\n",
    "for month in ['01','02','03','04','05','06','07','08','09','10','11','12']:\n",
    "    if month in ['01', '03', '05', '07', '08','10', '12']:\n",
    "        day_list = day_list_long\n",
    "    elif month == '02':\n",
    "        day_list = day_list_Feb\n",
    "    else:\n",
    "        day_list = day_list_short\n",
    "    for day in day_list:\n",
    "        estimate_perday = []\n",
    "        key_day = int('2021' + month+ day)\n",
    "        df_oneday = df[df['date']==key_day]\n",
    "        for hour in range(0,24):\n",
    "            key_hour = hour*100\n",
    "            df_onehour =df_oneday[df_oneday['time']==key_hour]\n",
    "            estimate_perday.append(df_onehour['population'].sum())\n",
    "        estimate_from_mobile_data.append(estimate_perday)"
   ]
  },
  {
   "cell_type": "code",
   "execution_count": 8,
   "metadata": {},
   "outputs": [
    {
     "name": "stdout",
     "output_type": "stream",
     "text": [
      "[24, 24, 24, 24, 24, 24, 24, 24, 24, 24, 24, 24, 24, 24, 24, 24, 24, 24, 24, 24, 24, 24, 24, 24, 24, 24, 24, 24, 24, 24, 24, 24, 24, 24, 24, 24, 24, 24, 24, 24, 24, 24, 24, 24, 24, 24, 24, 24, 24, 24, 24, 24, 24, 24, 24, 24, 24, 24, 24, 24, 24, 24, 24, 24, 24, 24, 24, 24, 24, 24, 24, 24, 24, 24, 24, 24, 24, 24, 24, 24, 24, 24, 24, 24, 24, 24, 24, 24, 24, 24, 24, 24, 24, 24, 24, 24, 24, 24, 24, 24, 24, 24, 24, 24, 24, 24, 24, 24, 24, 24, 24, 24, 24, 24, 24, 24, 24, 24, 24, 24, 24, 24, 24, 24, 24, 24, 24, 24, 24, 24, 24, 24, 24, 24, 24, 24, 24, 24, 24, 24, 24, 24, 24, 24, 24, 24, 24, 24, 24, 24, 24, 24, 24, 24, 24, 24, 24, 24, 24, 24, 24, 24, 24, 24, 24, 24, 24, 24, 24, 24, 24, 24, 24, 24, 24, 24, 24, 24, 24, 24, 24, 24, 24, 24, 24, 24, 24, 24, 24, 24, 24, 24, 24, 24, 24, 24, 24, 24, 24, 24, 24, 24, 24, 24, 24, 24, 24, 24, 24, 24, 24, 24, 24, 24, 24, 24, 24, 24, 24, 24, 24, 24, 24, 24, 24, 24, 24, 24, 24, 24, 24, 24, 24, 24, 24, 24, 24, 24, 24, 24, 24, 24, 24, 24, 24, 24, 24, 24, 24, 24, 24, 24, 24, 24, 24, 24, 24, 24, 24, 24, 24, 24, 24, 24, 24, 24, 24, 24, 24, 24, 24, 24, 24, 24, 24, 24, 24, 24, 24, 24, 24, 24, 24, 24, 24, 24, 24, 24, 24, 24, 24, 24, 24, 24, 24, 24, 24, 24, 24, 24, 24, 24, 24, 24, 24, 24, 24, 24, 24, 24, 24, 24, 24, 24, 24, 24, 24, 24, 24, 24, 24, 24, 24, 24, 24, 24, 24, 24, 24, 24, 24, 24, 24, 24, 24, 24, 24, 24, 24, 24, 24, 24, 24, 24, 24, 24, 24, 24, 24, 24, 24, 24, 24, 24, 24, 24, 24, 24, 24, 24, 24, 24, 24, 24, 24]\n"
     ]
    }
   ],
   "source": [
    "print([len(v) for v in estimate_from_mobile_data])"
   ]
  },
  {
   "cell_type": "code",
   "execution_count": 9,
   "metadata": {},
   "outputs": [
    {
     "data": {
      "text/plain": [
       "365"
      ]
     },
     "execution_count": 9,
     "metadata": {},
     "output_type": "execute_result"
    }
   ],
   "source": [
    "len(estimate_from_mobile_data)"
   ]
  },
  {
   "cell_type": "code",
   "execution_count": 10,
   "metadata": {},
   "outputs": [],
   "source": [
    "estimate_from_mobile_data =  np.array(estimate_from_mobile_data)"
   ]
  },
  {
   "cell_type": "code",
   "execution_count": 12,
   "metadata": {},
   "outputs": [
    {
     "data": {
      "text/plain": [
       "array([[ 5509,  5315,  5261, ...,  6695,  5879,  5036],\n",
       "       [ 4530,  4303,  4350, ..., 10158,  7453,  5759],\n",
       "       [ 4701,  4344,  4376, ..., 11352,  8175,  6031],\n",
       "       ...,\n",
       "       [ 8829,  7404,  7160, ..., 33197, 23298, 15172],\n",
       "       [ 8735,  7681,  7508, ..., 26360, 18579, 12231],\n",
       "       [ 7888,  7146,  7023, ..., 14185, 11374,  9310]])"
      ]
     },
     "execution_count": 12,
     "metadata": {},
     "output_type": "execute_result"
    }
   ],
   "source": [
    "estimate_from_mobile_data "
   ]
  },
  {
   "cell_type": "code",
   "execution_count": 11,
   "metadata": {},
   "outputs": [],
   "source": [
    "np.save('/home/is/shuntaro-o/dev/compare_population_and_tweet_number/data/mobile/numpy_array/Tokyostation.npy',estimate_from_mobile_data )"
   ]
  },
  {
   "attachments": {},
   "cell_type": "markdown",
   "metadata": {},
   "source": [
    "## 可視化"
   ]
  },
  {
   "cell_type": "code",
   "execution_count": null,
   "metadata": {},
   "outputs": [],
   "source": [
    "plt.subplots(facecolor=\"white\",figsize=(10,8))\n",
    "heatmap = sns.heatmap(estimate_from_mobile_data.T, cmap=\"Reds\")\n",
    "heatmap.set_title('2022/7 Estimated number of tweets(ALL)')\n",
    "heatmap.set_xlabel('day',fontsize=20)\n",
    "heatmap.set_ylabel('hour',fontsize=20)"
   ]
  },
  {
   "cell_type": "code",
   "execution_count": null,
   "metadata": {},
   "outputs": [],
   "source": [
    "estimate_from_mobile_data"
   ]
  },
  {
   "cell_type": "code",
   "execution_count": null,
   "metadata": {},
   "outputs": [],
   "source": [
    "estimate_from_mobile_data_flatten = estimate_from_mobile_data.flatten()"
   ]
  },
  {
   "cell_type": "code",
   "execution_count": null,
   "metadata": {},
   "outputs": [],
   "source": [
    "estimate_from_mobile_data_flatten"
   ]
  },
  {
   "cell_type": "code",
   "execution_count": null,
   "metadata": {},
   "outputs": [],
   "source": [
    "x_label = []\n",
    "for month in ['01','02','03','04','05','06','07','08','09','10','11','12']:\n",
    "    if month in ['01', '03', '05', '07', '08','10', '12']:\n",
    "        day_list = day_list_long\n",
    "    elif month == '02':\n",
    "        day_list = day_list_Feb\n",
    "    else:\n",
    "        day_list = day_list_short\n",
    "    for day in day_list:\n",
    "        for hour in range(0,24):\n",
    "            hour = str(hour)\n",
    "            key = int('21'+ month + day + hour)\n",
    "            key = str(key)\n",
    "            x_label.append(key)\n",
    "\n"
   ]
  },
  {
   "cell_type": "code",
   "execution_count": null,
   "metadata": {},
   "outputs": [],
   "source": [
    "xs = np.array(range(8760))"
   ]
  },
  {
   "cell_type": "code",
   "execution_count": null,
   "metadata": {},
   "outputs": [],
   "source": [
    "xlabel"
   ]
  },
  {
   "cell_type": "code",
   "execution_count": null,
   "metadata": {},
   "outputs": [],
   "source": [
    "import plotly.graph_objects as go\n",
    "fig = go.Figure(data=[\n",
    "    go.Scatter(x=x_label, y=estimate_from_mobile_data_flatten),\n",
    "    #go.Scatter(x=xs, y=randoms, name=\"random\"),\n",
    "])\n",
    "fig.show()"
   ]
  }
 ],
 "metadata": {
  "kernelspec": {
   "display_name": "Python 3",
   "language": "python",
   "name": "python3"
  },
  "language_info": {
   "codemirror_mode": {
    "name": "ipython",
    "version": 3
   },
   "file_extension": ".py",
   "mimetype": "text/x-python",
   "name": "python",
   "nbconvert_exporter": "python",
   "pygments_lexer": "ipython3",
   "version": "3.10.12"
  },
  "orig_nbformat": 4
 },
 "nbformat": 4,
 "nbformat_minor": 2
}
