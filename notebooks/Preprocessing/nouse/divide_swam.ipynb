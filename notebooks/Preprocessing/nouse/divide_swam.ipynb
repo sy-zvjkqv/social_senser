{
 "cells": [
  {
   "cell_type": "code",
   "execution_count": 3,
   "metadata": {},
   "outputs": [],
   "source": [
    "import pandas as pd\n",
    "import numpy as np\n",
    "import matplotlib.pyplot as plt\n",
    "from sklearn import preprocessing\n",
    "from scipy.optimize import curve_fit\n",
    "import re"
   ]
  },
  {
   "cell_type": "code",
   "execution_count": 4,
   "metadata": {},
   "outputs": [],
   "source": [
    "Tokyo_npy_divide_PATH = '/home/is/shuntaro-o/dev/compare_population_and_tweet_number/data/twitter/Tokyostation_2021/Tokyostation_swarm_3zi_2021.npy'"
   ]
  },
  {
   "cell_type": "code",
   "execution_count": 16,
   "metadata": {},
   "outputs": [],
   "source": [
    "df = pd.read_csv('/home/is/shuntaro-o/dev/compare_population_and_tweet_number/data/twitter/Tokyostation_2021/processed_Tokyostation_3zi_2021.csv')"
   ]
  },
  {
   "cell_type": "code",
   "execution_count": 33,
   "metadata": {},
   "outputs": [],
   "source": [
    "df = df[(df['text'].str.contains('I\\'m at')) | (df['text'].str.contains('@') & df['text'].str.contains('in'))]"
   ]
  },
  {
   "cell_type": "code",
   "execution_count": 39,
   "metadata": {},
   "outputs": [],
   "source": [
    "day_list_long = [1,2,3,4,5,6,7,8,9,10,11,12,13,14,15,16,17,18,19,20,21,22,23,24,25,26,27,28,29,30,31]\n",
    "day_list_short = [1,2,3,4,5,6,7,8,9,10,11,12,13,14,15,16,17,18,19,20,21,22,23,24,25,26,27,28,29,30]\n",
    "day_list_Feb = [1,2,3,4,5,6,7,8,9,10,11,12,13,14,15,16,17,18,19,20,21,22,23,24,25,26,27,28]\n",
    "hour_list = [0,1,2,3,4,5,6,7,8,9,10,11,12,13,14,15,16,17,18,19,20,21,22,23]"
   ]
  },
  {
   "cell_type": "code",
   "execution_count": 42,
   "metadata": {},
   "outputs": [],
   "source": [
    "list_num_day = []\n",
    "estimate_from_mobile_data = []\n",
    "for month in [1,2,3,4,5,6,7,8,9,10,11,12]:\n",
    "    df_onemonth =  df[df['creatid_at_month']==month]\n",
    "    if month in [1, 3, 5, 7, 8,10, 12]:\n",
    "        day_list = day_list_long\n",
    "    elif month == 2:\n",
    "        day_list = day_list_Feb\n",
    "    else:\n",
    "        day_list = day_list_short\n",
    "    for day in day_list:\n",
    "        list_num_hour = []\n",
    "        for hour in hour_list:\n",
    "            df_oneday = df_onemonth[df_onemonth['creatid_at_day']==day]\n",
    "            num = len(df_oneday[df_oneday['creatid_at_hour']==hour])\n",
    "            list_num_hour.append(num)\n",
    "        list_num_day.append(list_num_hour)"
   ]
  },
  {
   "cell_type": "code",
   "execution_count": 43,
   "metadata": {},
   "outputs": [],
   "source": [
    "list_num_day = np.array(list_num_day)"
   ]
  },
  {
   "cell_type": "code",
   "execution_count": 44,
   "metadata": {},
   "outputs": [
    {
     "data": {
      "text/plain": [
       "array([[ 0,  0,  0, ...,  5,  1,  6],\n",
       "       [ 1,  0,  0, ...,  3,  5,  0],\n",
       "       [ 0,  0,  0, ...,  7,  6,  4],\n",
       "       ...,\n",
       "       [ 0,  0,  0, ..., 22,  8, 19],\n",
       "       [ 2,  0,  0, ..., 21,  4, 10],\n",
       "       [ 1,  0,  0, ...,  9,  8,  3]])"
      ]
     },
     "execution_count": 44,
     "metadata": {},
     "output_type": "execute_result"
    }
   ],
   "source": [
    "list_num_day"
   ]
  },
  {
   "cell_type": "code",
   "execution_count": 45,
   "metadata": {},
   "outputs": [],
   "source": [
    "np.save(Tokyo_npy_divide_PATH, list_num_day)"
   ]
  }
 ],
 "metadata": {
  "kernelspec": {
   "display_name": ".venv",
   "language": "python",
   "name": "python3"
  },
  "language_info": {
   "codemirror_mode": {
    "name": "ipython",
    "version": 3
   },
   "file_extension": ".py",
   "mimetype": "text/x-python",
   "name": "python",
   "nbconvert_exporter": "python",
   "pygments_lexer": "ipython3",
   "version": "3.10.10"
  },
  "orig_nbformat": 4
 },
 "nbformat": 4,
 "nbformat_minor": 2
}
